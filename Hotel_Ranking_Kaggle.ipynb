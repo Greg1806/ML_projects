{
 "cells": [
  {
   "cell_type": "markdown",
   "id": "ac68923e",
   "metadata": {},
   "source": [
    "# Expedia Hotel Ranking exercise - Kaggle\n",
    "Link: https://www.kaggle.com/c/expedia-hotel-ranking-exercise/overview\n",
    "\n",
    "### Objectives\n",
    "1.\tUsing the data in the case study, please perform an analysis on the data to make recommendations for improving performance at Expedia. \n",
    "2.\tA clear explanation/presentation of your results, code, your approach and reasoning for taking your approach. You should be able to present this as part of your interview\n",
    "\n",
    "### Plan\n",
    "* EDA, Data cleaning and Data preparation => to allow better data preparation and potential feature selection for building basic ML models\n",
    "* Analysis on most correlated input features and correlation of input features with each others\n",
    "* Get prediction probabilities from Classifiers (probably try LogReg and RF) for each row if hotel booked or not. Based on prediciton label with '1' highest prediction within search (to be confirmed if each searches get a booking or if sometime there is no bookings) OR just sort with highest probabilities first.\n",
    "* Pull out top X important features from Model\n",
    "\n",
    "## (A) Import data and EDA "
   ]
  },
  {
   "cell_type": "markdown",
   "id": "4a80c20c",
   "metadata": {},
   "source": [
    "### Import packages"
   ]
  },
  {
   "cell_type": "code",
   "execution_count": 3,
   "id": "0130053e",
   "metadata": {},
   "outputs": [],
   "source": [
    "import pandas as pd\n",
    "import numpy as np\n",
    "import seaborn as sns\n",
    "import matplotlib.pyplot as plt\n",
    "import datetime\n",
    "\n",
    "from sklearn.model_selection import train_test_split\n",
    "from sklearn.model_selection import GridSearchCV\n",
    "from sklearn.preprocessing import StandardScaler, RobustScaler\n",
    "from sklearn.pipeline import Pipeline\n",
    "\n",
    "from sklearn.linear_model import LogisticRegression\n",
    "from sklearn.ensemble import RandomForestClassifier\n",
    "\n",
    "from sklearn.metrics import f1_score, accuracy_score, precision_score, recall_score\n",
    "from sklearn.metrics import confusion_matrix, classification_report\n",
    "from sklearn.metrics import roc_curve, roc_auc_score, precision_recall_curve, auc"
   ]
  },
  {
   "cell_type": "markdown",
   "id": "b79567d5",
   "metadata": {},
   "source": [
    "### Import train and test sets"
   ]
  },
  {
   "cell_type": "code",
   "execution_count": 4,
   "id": "0a36d667",
   "metadata": {},
   "outputs": [
    {
     "name": "stdout",
     "output_type": "stream",
     "text": [
      "Shape train set: (841115, 47)\n",
      "Shape test set: (351544, 46)\n"
     ]
    }
   ],
   "source": [
    "df_train = pd.read_csv(r'EPS Case study - kaggle\\train.csv')\n",
    "df_test = pd.read_csv(r'EPS Case study - kaggle\\test.csv')\n",
    "print('Shape train set:',df_train.shape)\n",
    "print('Shape test set:',df_test.shape)"
   ]
  },
  {
   "cell_type": "code",
   "execution_count": 5,
   "id": "0b3aa27a",
   "metadata": {},
   "outputs": [
    {
     "data": {
      "text/html": [
       "<div>\n",
       "<style scoped>\n",
       "    .dataframe tbody tr th:only-of-type {\n",
       "        vertical-align: middle;\n",
       "    }\n",
       "\n",
       "    .dataframe tbody tr th {\n",
       "        vertical-align: top;\n",
       "    }\n",
       "\n",
       "    .dataframe thead th {\n",
       "        text-align: right;\n",
       "    }\n",
       "</style>\n",
       "<table border=\"1\" class=\"dataframe\">\n",
       "  <thead>\n",
       "    <tr style=\"text-align: right;\">\n",
       "      <th></th>\n",
       "      <th>srch_id</th>\n",
       "      <th>prop_key</th>\n",
       "      <th>srch_date_time</th>\n",
       "      <th>srch_visitor_id</th>\n",
       "      <th>srch_visitor_visit_nbr</th>\n",
       "      <th>srch_visitor_loc_country</th>\n",
       "      <th>srch_visitor_loc_region</th>\n",
       "      <th>srch_visitor_loc_city</th>\n",
       "      <th>srch_visitor_wr_member</th>\n",
       "      <th>srch_posa_continent</th>\n",
       "      <th>srch_posa_country</th>\n",
       "      <th>srch_hcom_destination_id</th>\n",
       "      <th>srch_dest_longitude</th>\n",
       "      <th>srch_dest_latitude</th>\n",
       "      <th>srch_ci</th>\n",
       "      <th>srch_co</th>\n",
       "      <th>srch_ci_day</th>\n",
       "      <th>srch_co_day</th>\n",
       "      <th>srch_los</th>\n",
       "      <th>srch_bw</th>\n",
       "      <th>srch_adults_cnt</th>\n",
       "      <th>srch_children_cnt</th>\n",
       "      <th>srch_rm_cnt</th>\n",
       "      <th>srch_mobile_bool</th>\n",
       "      <th>srch_mobile_app</th>\n",
       "      <th>srch_device</th>\n",
       "      <th>srch_currency</th>\n",
       "      <th>prop_travelad_bool</th>\n",
       "      <th>prop_dotd_bool</th>\n",
       "      <th>prop_price_without_discount_local</th>\n",
       "      <th>prop_price_without_discount_usd</th>\n",
       "      <th>prop_price_with_discount_local</th>\n",
       "      <th>prop_price_with_discount_usd</th>\n",
       "      <th>prop_imp_drr</th>\n",
       "      <th>prop_booking_bool</th>\n",
       "      <th>prop_brand_bool</th>\n",
       "      <th>prop_starrating</th>\n",
       "      <th>prop_super_region</th>\n",
       "      <th>prop_continent</th>\n",
       "      <th>prop_country</th>\n",
       "      <th>prop_market_id</th>\n",
       "      <th>prop_submarket_id</th>\n",
       "      <th>prop_room_capacity</th>\n",
       "      <th>prop_review_score</th>\n",
       "      <th>prop_review_count</th>\n",
       "      <th>prop_hostel_bool</th>\n",
       "      <th>srch_local_date</th>\n",
       "    </tr>\n",
       "  </thead>\n",
       "  <tbody>\n",
       "    <tr>\n",
       "      <th>0</th>\n",
       "      <td>-1046322713</td>\n",
       "      <td>257690</td>\n",
       "      <td>2014-09-13 18:37:32</td>\n",
       "      <td>9373b009-4e10-495a-afae-204dd1fe4b7c</td>\n",
       "      <td>5</td>\n",
       "      <td>TWN</td>\n",
       "      <td>TPE</td>\n",
       "      <td>TAIPEI</td>\n",
       "      <td>Signed in - Persistent|WR Member|Remembered FC...</td>\n",
       "      <td>ASIA</td>\n",
       "      <td>TAIWAN, REPUBLIC OF CHINA</td>\n",
       "      <td>728660</td>\n",
       "      <td>135.498154</td>\n",
       "      <td>34.701897</td>\n",
       "      <td>2015-02-25</td>\n",
       "      <td>2015-02-28</td>\n",
       "      <td>4</td>\n",
       "      <td>7</td>\n",
       "      <td>3</td>\n",
       "      <td>164</td>\n",
       "      <td>2.0</td>\n",
       "      <td>0.0</td>\n",
       "      <td>1</td>\n",
       "      <td>0</td>\n",
       "      <td>0</td>\n",
       "      <td>DESKTOP</td>\n",
       "      <td>TWD</td>\n",
       "      <td>0</td>\n",
       "      <td>0</td>\n",
       "      <td>5605.0</td>\n",
       "      <td>186.72</td>\n",
       "      <td>3356.0</td>\n",
       "      <td>111.80</td>\n",
       "      <td>0</td>\n",
       "      <td>0</td>\n",
       "      <td>1</td>\n",
       "      <td>3.5</td>\n",
       "      <td>APAC</td>\n",
       "      <td>ASIA</td>\n",
       "      <td>JAPAN</td>\n",
       "      <td>60041</td>\n",
       "      <td>109140</td>\n",
       "      <td>575</td>\n",
       "      <td>4.1</td>\n",
       "      <td>403.0</td>\n",
       "      <td>0</td>\n",
       "      <td>2014-09-13</td>\n",
       "    </tr>\n",
       "    <tr>\n",
       "      <th>1</th>\n",
       "      <td>-1046322713</td>\n",
       "      <td>3066218</td>\n",
       "      <td>2014-09-13 18:37:32</td>\n",
       "      <td>9373b009-4e10-495a-afae-204dd1fe4b7c</td>\n",
       "      <td>5</td>\n",
       "      <td>TWN</td>\n",
       "      <td>TPE</td>\n",
       "      <td>TAIPEI</td>\n",
       "      <td>Signed in - Persistent|WR Member|Remembered FC...</td>\n",
       "      <td>ASIA</td>\n",
       "      <td>TAIWAN, REPUBLIC OF CHINA</td>\n",
       "      <td>728660</td>\n",
       "      <td>135.498154</td>\n",
       "      <td>34.701897</td>\n",
       "      <td>2015-02-25</td>\n",
       "      <td>2015-02-28</td>\n",
       "      <td>4</td>\n",
       "      <td>7</td>\n",
       "      <td>3</td>\n",
       "      <td>164</td>\n",
       "      <td>2.0</td>\n",
       "      <td>0.0</td>\n",
       "      <td>1</td>\n",
       "      <td>0</td>\n",
       "      <td>0</td>\n",
       "      <td>DESKTOP</td>\n",
       "      <td>TWD</td>\n",
       "      <td>0</td>\n",
       "      <td>0</td>\n",
       "      <td>4614.0</td>\n",
       "      <td>153.71</td>\n",
       "      <td>2769.0</td>\n",
       "      <td>92.24</td>\n",
       "      <td>1</td>\n",
       "      <td>0</td>\n",
       "      <td>0</td>\n",
       "      <td>3.0</td>\n",
       "      <td>APAC</td>\n",
       "      <td>ASIA</td>\n",
       "      <td>JAPAN</td>\n",
       "      <td>60041</td>\n",
       "      <td>109140</td>\n",
       "      <td>339</td>\n",
       "      <td>3.6</td>\n",
       "      <td>101.0</td>\n",
       "      <td>0</td>\n",
       "      <td>2014-09-13</td>\n",
       "    </tr>\n",
       "    <tr>\n",
       "      <th>2</th>\n",
       "      <td>-1046322713</td>\n",
       "      <td>2271987</td>\n",
       "      <td>2014-09-13 18:37:32</td>\n",
       "      <td>9373b009-4e10-495a-afae-204dd1fe4b7c</td>\n",
       "      <td>5</td>\n",
       "      <td>TWN</td>\n",
       "      <td>TPE</td>\n",
       "      <td>TAIPEI</td>\n",
       "      <td>Signed in - Persistent|WR Member|Remembered FC...</td>\n",
       "      <td>ASIA</td>\n",
       "      <td>TAIWAN, REPUBLIC OF CHINA</td>\n",
       "      <td>728660</td>\n",
       "      <td>135.498154</td>\n",
       "      <td>34.701897</td>\n",
       "      <td>2015-02-25</td>\n",
       "      <td>2015-02-28</td>\n",
       "      <td>4</td>\n",
       "      <td>7</td>\n",
       "      <td>3</td>\n",
       "      <td>164</td>\n",
       "      <td>2.0</td>\n",
       "      <td>0.0</td>\n",
       "      <td>1</td>\n",
       "      <td>0</td>\n",
       "      <td>0</td>\n",
       "      <td>DESKTOP</td>\n",
       "      <td>TWD</td>\n",
       "      <td>0</td>\n",
       "      <td>0</td>\n",
       "      <td>14026.0</td>\n",
       "      <td>467.25</td>\n",
       "      <td>2821.0</td>\n",
       "      <td>93.98</td>\n",
       "      <td>0</td>\n",
       "      <td>0</td>\n",
       "      <td>1</td>\n",
       "      <td>3.5</td>\n",
       "      <td>APAC</td>\n",
       "      <td>ASIA</td>\n",
       "      <td>JAPAN</td>\n",
       "      <td>60041</td>\n",
       "      <td>109140</td>\n",
       "      <td>179</td>\n",
       "      <td>4.1</td>\n",
       "      <td>1189.0</td>\n",
       "      <td>0</td>\n",
       "      <td>2014-09-13</td>\n",
       "    </tr>\n",
       "    <tr>\n",
       "      <th>3</th>\n",
       "      <td>-1046322713</td>\n",
       "      <td>3308025</td>\n",
       "      <td>2014-09-13 18:37:32</td>\n",
       "      <td>9373b009-4e10-495a-afae-204dd1fe4b7c</td>\n",
       "      <td>5</td>\n",
       "      <td>TWN</td>\n",
       "      <td>TPE</td>\n",
       "      <td>TAIPEI</td>\n",
       "      <td>Signed in - Persistent|WR Member|Remembered FC...</td>\n",
       "      <td>ASIA</td>\n",
       "      <td>TAIWAN, REPUBLIC OF CHINA</td>\n",
       "      <td>728660</td>\n",
       "      <td>135.498154</td>\n",
       "      <td>34.701897</td>\n",
       "      <td>2015-02-25</td>\n",
       "      <td>2015-02-28</td>\n",
       "      <td>4</td>\n",
       "      <td>7</td>\n",
       "      <td>3</td>\n",
       "      <td>164</td>\n",
       "      <td>2.0</td>\n",
       "      <td>0.0</td>\n",
       "      <td>1</td>\n",
       "      <td>0</td>\n",
       "      <td>0</td>\n",
       "      <td>DESKTOP</td>\n",
       "      <td>TWD</td>\n",
       "      <td>0</td>\n",
       "      <td>0</td>\n",
       "      <td>14308.0</td>\n",
       "      <td>476.65</td>\n",
       "      <td>5202.0</td>\n",
       "      <td>173.30</td>\n",
       "      <td>0</td>\n",
       "      <td>0</td>\n",
       "      <td>1</td>\n",
       "      <td>5.0</td>\n",
       "      <td>APAC</td>\n",
       "      <td>ASIA</td>\n",
       "      <td>JAPAN</td>\n",
       "      <td>60041</td>\n",
       "      <td>98278</td>\n",
       "      <td>272</td>\n",
       "      <td>4.8</td>\n",
       "      <td>221.0</td>\n",
       "      <td>0</td>\n",
       "      <td>2014-09-13</td>\n",
       "    </tr>\n",
       "    <tr>\n",
       "      <th>4</th>\n",
       "      <td>-1046322713</td>\n",
       "      <td>3222046</td>\n",
       "      <td>2014-09-13 18:37:32</td>\n",
       "      <td>9373b009-4e10-495a-afae-204dd1fe4b7c</td>\n",
       "      <td>5</td>\n",
       "      <td>TWN</td>\n",
       "      <td>TPE</td>\n",
       "      <td>TAIPEI</td>\n",
       "      <td>Signed in - Persistent|WR Member|Remembered FC...</td>\n",
       "      <td>ASIA</td>\n",
       "      <td>TAIWAN, REPUBLIC OF CHINA</td>\n",
       "      <td>728660</td>\n",
       "      <td>135.498154</td>\n",
       "      <td>34.701897</td>\n",
       "      <td>2015-02-25</td>\n",
       "      <td>2015-02-28</td>\n",
       "      <td>4</td>\n",
       "      <td>7</td>\n",
       "      <td>3</td>\n",
       "      <td>164</td>\n",
       "      <td>2.0</td>\n",
       "      <td>0.0</td>\n",
       "      <td>1</td>\n",
       "      <td>0</td>\n",
       "      <td>0</td>\n",
       "      <td>DESKTOP</td>\n",
       "      <td>TWD</td>\n",
       "      <td>0</td>\n",
       "      <td>0</td>\n",
       "      <td>5445.0</td>\n",
       "      <td>181.39</td>\n",
       "      <td>2589.0</td>\n",
       "      <td>86.25</td>\n",
       "      <td>0</td>\n",
       "      <td>0</td>\n",
       "      <td>0</td>\n",
       "      <td>3.0</td>\n",
       "      <td>APAC</td>\n",
       "      <td>ASIA</td>\n",
       "      <td>JAPAN</td>\n",
       "      <td>60041</td>\n",
       "      <td>109140</td>\n",
       "      <td>198</td>\n",
       "      <td>3.9</td>\n",
       "      <td>702.0</td>\n",
       "      <td>0</td>\n",
       "      <td>2014-09-13</td>\n",
       "    </tr>\n",
       "  </tbody>\n",
       "</table>\n",
       "</div>"
      ],
      "text/plain": [
       "      srch_id  prop_key       srch_date_time  \\\n",
       "0 -1046322713    257690  2014-09-13 18:37:32   \n",
       "1 -1046322713   3066218  2014-09-13 18:37:32   \n",
       "2 -1046322713   2271987  2014-09-13 18:37:32   \n",
       "3 -1046322713   3308025  2014-09-13 18:37:32   \n",
       "4 -1046322713   3222046  2014-09-13 18:37:32   \n",
       "\n",
       "                        srch_visitor_id  srch_visitor_visit_nbr  \\\n",
       "0  9373b009-4e10-495a-afae-204dd1fe4b7c                       5   \n",
       "1  9373b009-4e10-495a-afae-204dd1fe4b7c                       5   \n",
       "2  9373b009-4e10-495a-afae-204dd1fe4b7c                       5   \n",
       "3  9373b009-4e10-495a-afae-204dd1fe4b7c                       5   \n",
       "4  9373b009-4e10-495a-afae-204dd1fe4b7c                       5   \n",
       "\n",
       "  srch_visitor_loc_country srch_visitor_loc_region srch_visitor_loc_city  \\\n",
       "0                      TWN                     TPE                TAIPEI   \n",
       "1                      TWN                     TPE                TAIPEI   \n",
       "2                      TWN                     TPE                TAIPEI   \n",
       "3                      TWN                     TPE                TAIPEI   \n",
       "4                      TWN                     TPE                TAIPEI   \n",
       "\n",
       "                              srch_visitor_wr_member srch_posa_continent  \\\n",
       "0  Signed in - Persistent|WR Member|Remembered FC...                ASIA   \n",
       "1  Signed in - Persistent|WR Member|Remembered FC...                ASIA   \n",
       "2  Signed in - Persistent|WR Member|Remembered FC...                ASIA   \n",
       "3  Signed in - Persistent|WR Member|Remembered FC...                ASIA   \n",
       "4  Signed in - Persistent|WR Member|Remembered FC...                ASIA   \n",
       "\n",
       "           srch_posa_country  srch_hcom_destination_id  srch_dest_longitude  \\\n",
       "0  TAIWAN, REPUBLIC OF CHINA                    728660           135.498154   \n",
       "1  TAIWAN, REPUBLIC OF CHINA                    728660           135.498154   \n",
       "2  TAIWAN, REPUBLIC OF CHINA                    728660           135.498154   \n",
       "3  TAIWAN, REPUBLIC OF CHINA                    728660           135.498154   \n",
       "4  TAIWAN, REPUBLIC OF CHINA                    728660           135.498154   \n",
       "\n",
       "   srch_dest_latitude     srch_ci     srch_co  srch_ci_day  srch_co_day  \\\n",
       "0           34.701897  2015-02-25  2015-02-28            4            7   \n",
       "1           34.701897  2015-02-25  2015-02-28            4            7   \n",
       "2           34.701897  2015-02-25  2015-02-28            4            7   \n",
       "3           34.701897  2015-02-25  2015-02-28            4            7   \n",
       "4           34.701897  2015-02-25  2015-02-28            4            7   \n",
       "\n",
       "   srch_los  srch_bw  srch_adults_cnt  srch_children_cnt  srch_rm_cnt  \\\n",
       "0         3      164              2.0                0.0            1   \n",
       "1         3      164              2.0                0.0            1   \n",
       "2         3      164              2.0                0.0            1   \n",
       "3         3      164              2.0                0.0            1   \n",
       "4         3      164              2.0                0.0            1   \n",
       "\n",
       "   srch_mobile_bool  srch_mobile_app srch_device srch_currency  \\\n",
       "0                 0                0     DESKTOP           TWD   \n",
       "1                 0                0     DESKTOP           TWD   \n",
       "2                 0                0     DESKTOP           TWD   \n",
       "3                 0                0     DESKTOP           TWD   \n",
       "4                 0                0     DESKTOP           TWD   \n",
       "\n",
       "   prop_travelad_bool  prop_dotd_bool  prop_price_without_discount_local  \\\n",
       "0                   0               0                             5605.0   \n",
       "1                   0               0                             4614.0   \n",
       "2                   0               0                            14026.0   \n",
       "3                   0               0                            14308.0   \n",
       "4                   0               0                             5445.0   \n",
       "\n",
       "   prop_price_without_discount_usd  prop_price_with_discount_local  \\\n",
       "0                           186.72                          3356.0   \n",
       "1                           153.71                          2769.0   \n",
       "2                           467.25                          2821.0   \n",
       "3                           476.65                          5202.0   \n",
       "4                           181.39                          2589.0   \n",
       "\n",
       "   prop_price_with_discount_usd  prop_imp_drr  prop_booking_bool  \\\n",
       "0                        111.80             0                  0   \n",
       "1                         92.24             1                  0   \n",
       "2                         93.98             0                  0   \n",
       "3                        173.30             0                  0   \n",
       "4                         86.25             0                  0   \n",
       "\n",
       "   prop_brand_bool  prop_starrating prop_super_region prop_continent  \\\n",
       "0                1              3.5              APAC           ASIA   \n",
       "1                0              3.0              APAC           ASIA   \n",
       "2                1              3.5              APAC           ASIA   \n",
       "3                1              5.0              APAC           ASIA   \n",
       "4                0              3.0              APAC           ASIA   \n",
       "\n",
       "  prop_country  prop_market_id  prop_submarket_id  prop_room_capacity  \\\n",
       "0        JAPAN           60041             109140                 575   \n",
       "1        JAPAN           60041             109140                 339   \n",
       "2        JAPAN           60041             109140                 179   \n",
       "3        JAPAN           60041              98278                 272   \n",
       "4        JAPAN           60041             109140                 198   \n",
       "\n",
       "   prop_review_score  prop_review_count  prop_hostel_bool srch_local_date  \n",
       "0                4.1              403.0                 0      2014-09-13  \n",
       "1                3.6              101.0                 0      2014-09-13  \n",
       "2                4.1             1189.0                 0      2014-09-13  \n",
       "3                4.8              221.0                 0      2014-09-13  \n",
       "4                3.9              702.0                 0      2014-09-13  "
      ]
     },
     "execution_count": 5,
     "metadata": {},
     "output_type": "execute_result"
    }
   ],
   "source": [
    "# high level idea of the columns\n",
    "pd.options.display.max_columns = None\n",
    "df_train.head()"
   ]
  },
  {
   "cell_type": "code",
   "execution_count": 6,
   "id": "62d00efc",
   "metadata": {},
   "outputs": [],
   "source": [
    "# create copy of raw data if needed\n",
    "df_train_copy = df_train\n",
    "df_test_copy = df_test"
   ]
  },
  {
   "cell_type": "markdown",
   "id": "887c93bd",
   "metadata": {},
   "source": [
    "***\n",
    "### EDA"
   ]
  },
  {
   "cell_type": "markdown",
   "id": "2a805a47",
   "metadata": {},
   "source": [
    "#### Handle NULLS - 12 features with NULLs\n",
    "* fill NULLS with values where logic can be found relatively quickly\n",
    "* fill NULLs with 'missing info' or '-1' where not logic found"
   ]
  },
  {
   "cell_type": "code",
   "execution_count": 7,
   "id": "1b99248b",
   "metadata": {},
   "outputs": [
    {
     "data": {
      "text/plain": [
       "srch_posa_continent                  485248\n",
       "srch_visitor_wr_member               444878\n",
       "srch_currency                        134104\n",
       "srch_visitor_loc_region                 123\n",
       "prop_price_without_discount_usd          51\n",
       "prop_price_with_discount_local           51\n",
       "prop_price_with_discount_usd             51\n",
       "prop_price_without_discount_local        51\n",
       "srch_children_cnt                        18\n",
       "srch_adults_cnt                          18\n",
       "prop_review_score                         8\n",
       "prop_review_count                         8\n",
       "srch_co                                   0\n",
       "srch_ci                                   0\n",
       "srch_hcom_destination_id                  0\n",
       "dtype: int64"
      ]
     },
     "execution_count": 7,
     "metadata": {},
     "output_type": "execute_result"
    }
   ],
   "source": [
    "df_train.isnull().sum().sort_values(ascending=False).head(15)"
   ]
  },
  {
   "cell_type": "code",
   "execution_count": 8,
   "id": "bddaf355",
   "metadata": {},
   "outputs": [],
   "source": [
    "# df_test.isnull().sum().sort_values(ascending=False).head(15)"
   ]
  },
  {
   "cell_type": "markdown",
   "id": "5ab445fd",
   "metadata": {},
   "source": [
    "##### srch_posa_continent"
   ]
  },
  {
   "cell_type": "code",
   "execution_count": 9,
   "id": "4898eda4",
   "metadata": {},
   "outputs": [
    {
     "data": {
      "text/plain": [
       "EUROPE     207181\n",
       "ASIA       110575\n",
       "LATAM       32440\n",
       "OCEANIA      5671\n",
       "Name: srch_posa_continent, dtype: int64"
      ]
     },
     "execution_count": 9,
     "metadata": {},
     "output_type": "execute_result"
    }
   ],
   "source": [
    "df_train['srch_posa_continent'].value_counts()"
   ]
  },
  {
   "cell_type": "code",
   "execution_count": 10,
   "id": "6b4e9fdc",
   "metadata": {},
   "outputs": [
    {
     "data": {
      "text/plain": [
       "US        463532\n",
       "CANADA     21716\n",
       "Name: srch_posa_country, dtype: int64"
      ]
     },
     "execution_count": 10,
     "metadata": {},
     "output_type": "execute_result"
    }
   ],
   "source": [
    "df_train[df_train['srch_posa_continent'].isnull()]['srch_posa_country'].value_counts()"
   ]
  },
  {
   "cell_type": "code",
   "execution_count": 11,
   "id": "1c78d4b7",
   "metadata": {},
   "outputs": [],
   "source": [
    "df_train['srch_posa_continent'].fillna(value='NORAM', inplace=True)\n",
    "df_test['srch_posa_continent'].fillna(value='NORAM', inplace=True) # same for test set"
   ]
  },
  {
   "cell_type": "markdown",
   "id": "dc442c9a",
   "metadata": {},
   "source": [
    "##### srch_visitor_wr_member"
   ]
  },
  {
   "cell_type": "code",
   "execution_count": 12,
   "id": "1bbd52ca",
   "metadata": {},
   "outputs": [
    {
     "data": {
      "text/plain": [
       "Not Signed In|Returning Visitor|Not FC Member                186401\n",
       "Not Signed In|New Visitor|Not FC Member                       90491\n",
       "Signed In|WR Member|Not FC Member                             64361\n",
       "Signed in - Persistent|WR Member|Not FC Member                49429\n",
       "Signed in - Persistent|WR Member|Remembered FC Member          3411\n",
       "Signed In|WR Member|FC Member                                  1077\n",
       "Signed In|Not WR Member|Not FC Member                           540\n",
       "Signed in - Persistent|Not WR Member|Not FC Member              379\n",
       "Signed in - Persistent|Not WR Member|Remembered FC Member       148\n",
       "Name: srch_visitor_wr_member, dtype: int64"
      ]
     },
     "execution_count": 12,
     "metadata": {},
     "output_type": "execute_result"
    }
   ],
   "source": [
    "df_train['srch_visitor_wr_member'].value_counts()"
   ]
  },
  {
   "cell_type": "code",
   "execution_count": 13,
   "id": "17cb4d4d",
   "metadata": {},
   "outputs": [
    {
     "data": {
      "text/html": [
       "<div>\n",
       "<style scoped>\n",
       "    .dataframe tbody tr th:only-of-type {\n",
       "        vertical-align: middle;\n",
       "    }\n",
       "\n",
       "    .dataframe tbody tr th {\n",
       "        vertical-align: top;\n",
       "    }\n",
       "\n",
       "    .dataframe thead th {\n",
       "        text-align: right;\n",
       "    }\n",
       "</style>\n",
       "<table border=\"1\" class=\"dataframe\">\n",
       "  <thead>\n",
       "    <tr style=\"text-align: right;\">\n",
       "      <th></th>\n",
       "      <th>srch_id</th>\n",
       "      <th>prop_key</th>\n",
       "      <th>srch_date_time</th>\n",
       "      <th>srch_visitor_id</th>\n",
       "      <th>srch_visitor_visit_nbr</th>\n",
       "      <th>srch_visitor_loc_country</th>\n",
       "      <th>srch_visitor_loc_region</th>\n",
       "      <th>srch_visitor_loc_city</th>\n",
       "      <th>srch_visitor_wr_member</th>\n",
       "      <th>srch_posa_continent</th>\n",
       "      <th>srch_posa_country</th>\n",
       "      <th>srch_hcom_destination_id</th>\n",
       "      <th>srch_dest_longitude</th>\n",
       "      <th>srch_dest_latitude</th>\n",
       "      <th>srch_ci</th>\n",
       "      <th>srch_co</th>\n",
       "      <th>srch_ci_day</th>\n",
       "      <th>srch_co_day</th>\n",
       "      <th>srch_los</th>\n",
       "      <th>srch_bw</th>\n",
       "      <th>srch_adults_cnt</th>\n",
       "      <th>srch_children_cnt</th>\n",
       "      <th>srch_rm_cnt</th>\n",
       "      <th>srch_mobile_bool</th>\n",
       "      <th>srch_mobile_app</th>\n",
       "      <th>srch_device</th>\n",
       "      <th>srch_currency</th>\n",
       "      <th>prop_travelad_bool</th>\n",
       "      <th>prop_dotd_bool</th>\n",
       "      <th>prop_price_without_discount_local</th>\n",
       "      <th>prop_price_without_discount_usd</th>\n",
       "      <th>prop_price_with_discount_local</th>\n",
       "      <th>prop_price_with_discount_usd</th>\n",
       "      <th>prop_imp_drr</th>\n",
       "      <th>prop_booking_bool</th>\n",
       "      <th>prop_brand_bool</th>\n",
       "      <th>prop_starrating</th>\n",
       "      <th>prop_super_region</th>\n",
       "      <th>prop_continent</th>\n",
       "      <th>prop_country</th>\n",
       "      <th>prop_market_id</th>\n",
       "      <th>prop_submarket_id</th>\n",
       "      <th>prop_room_capacity</th>\n",
       "      <th>prop_review_score</th>\n",
       "      <th>prop_review_count</th>\n",
       "      <th>prop_hostel_bool</th>\n",
       "      <th>srch_local_date</th>\n",
       "    </tr>\n",
       "  </thead>\n",
       "  <tbody>\n",
       "    <tr>\n",
       "      <th>49</th>\n",
       "      <td>-1072606084</td>\n",
       "      <td>267645</td>\n",
       "      <td>2014-09-12 15:33:08</td>\n",
       "      <td>9bbed0d8-eb2d-42c3-ada4-8f7f3ebe697d</td>\n",
       "      <td>7</td>\n",
       "      <td>UNITED KINGDOM</td>\n",
       "      <td>LDS</td>\n",
       "      <td>LEEDS</td>\n",
       "      <td>NaN</td>\n",
       "      <td>EUROPE</td>\n",
       "      <td>UNITED KINGDOM</td>\n",
       "      <td>549499</td>\n",
       "      <td>-0.127804</td>\n",
       "      <td>51.507538</td>\n",
       "      <td>2014-09-15</td>\n",
       "      <td>2014-09-16</td>\n",
       "      <td>2</td>\n",
       "      <td>3</td>\n",
       "      <td>1</td>\n",
       "      <td>3</td>\n",
       "      <td>1.0</td>\n",
       "      <td>0.0</td>\n",
       "      <td>1</td>\n",
       "      <td>0</td>\n",
       "      <td>0</td>\n",
       "      <td>DESKTOP</td>\n",
       "      <td>NaN</td>\n",
       "      <td>0</td>\n",
       "      <td>0</td>\n",
       "      <td>428.0</td>\n",
       "      <td>695.71</td>\n",
       "      <td>149.0</td>\n",
       "      <td>242.20</td>\n",
       "      <td>0</td>\n",
       "      <td>1</td>\n",
       "      <td>0</td>\n",
       "      <td>4.0</td>\n",
       "      <td>EMEA</td>\n",
       "      <td>EUROPE</td>\n",
       "      <td>UNITED KINGDOM</td>\n",
       "      <td>369</td>\n",
       "      <td>108046</td>\n",
       "      <td>65</td>\n",
       "      <td>4.5</td>\n",
       "      <td>277.0</td>\n",
       "      <td>0</td>\n",
       "      <td>2014-09-12</td>\n",
       "    </tr>\n",
       "    <tr>\n",
       "      <th>50</th>\n",
       "      <td>-1072606084</td>\n",
       "      <td>282010</td>\n",
       "      <td>2014-09-12 15:33:08</td>\n",
       "      <td>9bbed0d8-eb2d-42c3-ada4-8f7f3ebe697d</td>\n",
       "      <td>7</td>\n",
       "      <td>UNITED KINGDOM</td>\n",
       "      <td>LDS</td>\n",
       "      <td>LEEDS</td>\n",
       "      <td>NaN</td>\n",
       "      <td>EUROPE</td>\n",
       "      <td>UNITED KINGDOM</td>\n",
       "      <td>549499</td>\n",
       "      <td>-0.127804</td>\n",
       "      <td>51.507538</td>\n",
       "      <td>2014-09-15</td>\n",
       "      <td>2014-09-16</td>\n",
       "      <td>2</td>\n",
       "      <td>3</td>\n",
       "      <td>1</td>\n",
       "      <td>3</td>\n",
       "      <td>1.0</td>\n",
       "      <td>0.0</td>\n",
       "      <td>1</td>\n",
       "      <td>0</td>\n",
       "      <td>0</td>\n",
       "      <td>DESKTOP</td>\n",
       "      <td>NaN</td>\n",
       "      <td>0</td>\n",
       "      <td>0</td>\n",
       "      <td>499.0</td>\n",
       "      <td>811.12</td>\n",
       "      <td>110.0</td>\n",
       "      <td>178.80</td>\n",
       "      <td>0</td>\n",
       "      <td>0</td>\n",
       "      <td>0</td>\n",
       "      <td>3.0</td>\n",
       "      <td>EMEA</td>\n",
       "      <td>EUROPE</td>\n",
       "      <td>UNITED KINGDOM</td>\n",
       "      <td>369</td>\n",
       "      <td>110959</td>\n",
       "      <td>39</td>\n",
       "      <td>3.2</td>\n",
       "      <td>605.0</td>\n",
       "      <td>0</td>\n",
       "      <td>2014-09-12</td>\n",
       "    </tr>\n",
       "    <tr>\n",
       "      <th>51</th>\n",
       "      <td>-1072606084</td>\n",
       "      <td>252554</td>\n",
       "      <td>2014-09-12 15:33:08</td>\n",
       "      <td>9bbed0d8-eb2d-42c3-ada4-8f7f3ebe697d</td>\n",
       "      <td>7</td>\n",
       "      <td>UNITED KINGDOM</td>\n",
       "      <td>LDS</td>\n",
       "      <td>LEEDS</td>\n",
       "      <td>NaN</td>\n",
       "      <td>EUROPE</td>\n",
       "      <td>UNITED KINGDOM</td>\n",
       "      <td>549499</td>\n",
       "      <td>-0.127804</td>\n",
       "      <td>51.507538</td>\n",
       "      <td>2014-09-15</td>\n",
       "      <td>2014-09-16</td>\n",
       "      <td>2</td>\n",
       "      <td>3</td>\n",
       "      <td>1</td>\n",
       "      <td>3</td>\n",
       "      <td>1.0</td>\n",
       "      <td>0.0</td>\n",
       "      <td>1</td>\n",
       "      <td>0</td>\n",
       "      <td>0</td>\n",
       "      <td>DESKTOP</td>\n",
       "      <td>NaN</td>\n",
       "      <td>0</td>\n",
       "      <td>0</td>\n",
       "      <td>142.0</td>\n",
       "      <td>230.82</td>\n",
       "      <td>142.0</td>\n",
       "      <td>230.82</td>\n",
       "      <td>0</td>\n",
       "      <td>0</td>\n",
       "      <td>1</td>\n",
       "      <td>3.0</td>\n",
       "      <td>EMEA</td>\n",
       "      <td>EUROPE</td>\n",
       "      <td>UNITED KINGDOM</td>\n",
       "      <td>369</td>\n",
       "      <td>108034</td>\n",
       "      <td>82</td>\n",
       "      <td>4.0</td>\n",
       "      <td>326.0</td>\n",
       "      <td>0</td>\n",
       "      <td>2014-09-12</td>\n",
       "    </tr>\n",
       "    <tr>\n",
       "      <th>52</th>\n",
       "      <td>-1072606084</td>\n",
       "      <td>258165</td>\n",
       "      <td>2014-09-12 15:33:08</td>\n",
       "      <td>9bbed0d8-eb2d-42c3-ada4-8f7f3ebe697d</td>\n",
       "      <td>7</td>\n",
       "      <td>UNITED KINGDOM</td>\n",
       "      <td>LDS</td>\n",
       "      <td>LEEDS</td>\n",
       "      <td>NaN</td>\n",
       "      <td>EUROPE</td>\n",
       "      <td>UNITED KINGDOM</td>\n",
       "      <td>549499</td>\n",
       "      <td>-0.127804</td>\n",
       "      <td>51.507538</td>\n",
       "      <td>2014-09-15</td>\n",
       "      <td>2014-09-16</td>\n",
       "      <td>2</td>\n",
       "      <td>3</td>\n",
       "      <td>1</td>\n",
       "      <td>3</td>\n",
       "      <td>1.0</td>\n",
       "      <td>0.0</td>\n",
       "      <td>1</td>\n",
       "      <td>0</td>\n",
       "      <td>0</td>\n",
       "      <td>DESKTOP</td>\n",
       "      <td>NaN</td>\n",
       "      <td>0</td>\n",
       "      <td>0</td>\n",
       "      <td>508.0</td>\n",
       "      <td>825.75</td>\n",
       "      <td>371.0</td>\n",
       "      <td>603.06</td>\n",
       "      <td>0</td>\n",
       "      <td>0</td>\n",
       "      <td>0</td>\n",
       "      <td>5.0</td>\n",
       "      <td>EMEA</td>\n",
       "      <td>EUROPE</td>\n",
       "      <td>UNITED KINGDOM</td>\n",
       "      <td>369</td>\n",
       "      <td>108046</td>\n",
       "      <td>67</td>\n",
       "      <td>4.6</td>\n",
       "      <td>25.0</td>\n",
       "      <td>0</td>\n",
       "      <td>2014-09-12</td>\n",
       "    </tr>\n",
       "    <tr>\n",
       "      <th>53</th>\n",
       "      <td>-1072606084</td>\n",
       "      <td>254667</td>\n",
       "      <td>2014-09-12 15:33:08</td>\n",
       "      <td>9bbed0d8-eb2d-42c3-ada4-8f7f3ebe697d</td>\n",
       "      <td>7</td>\n",
       "      <td>UNITED KINGDOM</td>\n",
       "      <td>LDS</td>\n",
       "      <td>LEEDS</td>\n",
       "      <td>NaN</td>\n",
       "      <td>EUROPE</td>\n",
       "      <td>UNITED KINGDOM</td>\n",
       "      <td>549499</td>\n",
       "      <td>-0.127804</td>\n",
       "      <td>51.507538</td>\n",
       "      <td>2014-09-15</td>\n",
       "      <td>2014-09-16</td>\n",
       "      <td>2</td>\n",
       "      <td>3</td>\n",
       "      <td>1</td>\n",
       "      <td>3</td>\n",
       "      <td>1.0</td>\n",
       "      <td>0.0</td>\n",
       "      <td>1</td>\n",
       "      <td>0</td>\n",
       "      <td>0</td>\n",
       "      <td>DESKTOP</td>\n",
       "      <td>NaN</td>\n",
       "      <td>0</td>\n",
       "      <td>0</td>\n",
       "      <td>310.0</td>\n",
       "      <td>503.90</td>\n",
       "      <td>295.0</td>\n",
       "      <td>479.52</td>\n",
       "      <td>0</td>\n",
       "      <td>0</td>\n",
       "      <td>1</td>\n",
       "      <td>4.0</td>\n",
       "      <td>EMEA</td>\n",
       "      <td>EUROPE</td>\n",
       "      <td>UNITED KINGDOM</td>\n",
       "      <td>369</td>\n",
       "      <td>108046</td>\n",
       "      <td>216</td>\n",
       "      <td>4.2</td>\n",
       "      <td>188.0</td>\n",
       "      <td>0</td>\n",
       "      <td>2014-09-12</td>\n",
       "    </tr>\n",
       "  </tbody>\n",
       "</table>\n",
       "</div>"
      ],
      "text/plain": [
       "       srch_id  prop_key       srch_date_time  \\\n",
       "49 -1072606084    267645  2014-09-12 15:33:08   \n",
       "50 -1072606084    282010  2014-09-12 15:33:08   \n",
       "51 -1072606084    252554  2014-09-12 15:33:08   \n",
       "52 -1072606084    258165  2014-09-12 15:33:08   \n",
       "53 -1072606084    254667  2014-09-12 15:33:08   \n",
       "\n",
       "                         srch_visitor_id  srch_visitor_visit_nbr  \\\n",
       "49  9bbed0d8-eb2d-42c3-ada4-8f7f3ebe697d                       7   \n",
       "50  9bbed0d8-eb2d-42c3-ada4-8f7f3ebe697d                       7   \n",
       "51  9bbed0d8-eb2d-42c3-ada4-8f7f3ebe697d                       7   \n",
       "52  9bbed0d8-eb2d-42c3-ada4-8f7f3ebe697d                       7   \n",
       "53  9bbed0d8-eb2d-42c3-ada4-8f7f3ebe697d                       7   \n",
       "\n",
       "   srch_visitor_loc_country srch_visitor_loc_region srch_visitor_loc_city  \\\n",
       "49           UNITED KINGDOM                     LDS                 LEEDS   \n",
       "50           UNITED KINGDOM                     LDS                 LEEDS   \n",
       "51           UNITED KINGDOM                     LDS                 LEEDS   \n",
       "52           UNITED KINGDOM                     LDS                 LEEDS   \n",
       "53           UNITED KINGDOM                     LDS                 LEEDS   \n",
       "\n",
       "   srch_visitor_wr_member srch_posa_continent srch_posa_country  \\\n",
       "49                    NaN              EUROPE    UNITED KINGDOM   \n",
       "50                    NaN              EUROPE    UNITED KINGDOM   \n",
       "51                    NaN              EUROPE    UNITED KINGDOM   \n",
       "52                    NaN              EUROPE    UNITED KINGDOM   \n",
       "53                    NaN              EUROPE    UNITED KINGDOM   \n",
       "\n",
       "    srch_hcom_destination_id  srch_dest_longitude  srch_dest_latitude  \\\n",
       "49                    549499            -0.127804           51.507538   \n",
       "50                    549499            -0.127804           51.507538   \n",
       "51                    549499            -0.127804           51.507538   \n",
       "52                    549499            -0.127804           51.507538   \n",
       "53                    549499            -0.127804           51.507538   \n",
       "\n",
       "       srch_ci     srch_co  srch_ci_day  srch_co_day  srch_los  srch_bw  \\\n",
       "49  2014-09-15  2014-09-16            2            3         1        3   \n",
       "50  2014-09-15  2014-09-16            2            3         1        3   \n",
       "51  2014-09-15  2014-09-16            2            3         1        3   \n",
       "52  2014-09-15  2014-09-16            2            3         1        3   \n",
       "53  2014-09-15  2014-09-16            2            3         1        3   \n",
       "\n",
       "    srch_adults_cnt  srch_children_cnt  srch_rm_cnt  srch_mobile_bool  \\\n",
       "49              1.0                0.0            1                 0   \n",
       "50              1.0                0.0            1                 0   \n",
       "51              1.0                0.0            1                 0   \n",
       "52              1.0                0.0            1                 0   \n",
       "53              1.0                0.0            1                 0   \n",
       "\n",
       "    srch_mobile_app srch_device srch_currency  prop_travelad_bool  \\\n",
       "49                0     DESKTOP           NaN                   0   \n",
       "50                0     DESKTOP           NaN                   0   \n",
       "51                0     DESKTOP           NaN                   0   \n",
       "52                0     DESKTOP           NaN                   0   \n",
       "53                0     DESKTOP           NaN                   0   \n",
       "\n",
       "    prop_dotd_bool  prop_price_without_discount_local  \\\n",
       "49               0                              428.0   \n",
       "50               0                              499.0   \n",
       "51               0                              142.0   \n",
       "52               0                              508.0   \n",
       "53               0                              310.0   \n",
       "\n",
       "    prop_price_without_discount_usd  prop_price_with_discount_local  \\\n",
       "49                           695.71                           149.0   \n",
       "50                           811.12                           110.0   \n",
       "51                           230.82                           142.0   \n",
       "52                           825.75                           371.0   \n",
       "53                           503.90                           295.0   \n",
       "\n",
       "    prop_price_with_discount_usd  prop_imp_drr  prop_booking_bool  \\\n",
       "49                        242.20             0                  1   \n",
       "50                        178.80             0                  0   \n",
       "51                        230.82             0                  0   \n",
       "52                        603.06             0                  0   \n",
       "53                        479.52             0                  0   \n",
       "\n",
       "    prop_brand_bool  prop_starrating prop_super_region prop_continent  \\\n",
       "49                0              4.0              EMEA         EUROPE   \n",
       "50                0              3.0              EMEA         EUROPE   \n",
       "51                1              3.0              EMEA         EUROPE   \n",
       "52                0              5.0              EMEA         EUROPE   \n",
       "53                1              4.0              EMEA         EUROPE   \n",
       "\n",
       "      prop_country  prop_market_id  prop_submarket_id  prop_room_capacity  \\\n",
       "49  UNITED KINGDOM             369             108046                  65   \n",
       "50  UNITED KINGDOM             369             110959                  39   \n",
       "51  UNITED KINGDOM             369             108034                  82   \n",
       "52  UNITED KINGDOM             369             108046                  67   \n",
       "53  UNITED KINGDOM             369             108046                 216   \n",
       "\n",
       "    prop_review_score  prop_review_count  prop_hostel_bool srch_local_date  \n",
       "49                4.5              277.0                 0      2014-09-12  \n",
       "50                3.2              605.0                 0      2014-09-12  \n",
       "51                4.0              326.0                 0      2014-09-12  \n",
       "52                4.6               25.0                 0      2014-09-12  \n",
       "53                4.2              188.0                 0      2014-09-12  "
      ]
     },
     "execution_count": 13,
     "metadata": {},
     "output_type": "execute_result"
    }
   ],
   "source": [
    "df_train[df_train['srch_visitor_wr_member'].isnull()].head()"
   ]
  },
  {
   "cell_type": "code",
   "execution_count": 14,
   "id": "f1fde05e",
   "metadata": {},
   "outputs": [],
   "source": [
    "df_train['srch_visitor_wr_member'].fillna(value='Missing info', inplace=True)\n",
    "df_test['srch_visitor_wr_member'].fillna(value='Missing info', inplace=True) # same for test set"
   ]
  },
  {
   "cell_type": "markdown",
   "id": "ac66a4a2",
   "metadata": {},
   "source": [
    "##### srch_currency"
   ]
  },
  {
   "cell_type": "code",
   "execution_count": 15,
   "id": "fb98a5c9",
   "metadata": {},
   "outputs": [
    {
     "data": {
      "text/plain": [
       "USD    412926\n",
       "EUR     53654\n",
       "GBP     43749\n",
       "SEK     28876\n",
       "NOK     20436\n",
       "Name: srch_currency, dtype: int64"
      ]
     },
     "execution_count": 15,
     "metadata": {},
     "output_type": "execute_result"
    }
   ],
   "source": [
    "df_train['srch_currency'].value_counts().head()"
   ]
  },
  {
   "cell_type": "code",
   "execution_count": 16,
   "id": "d92e51b3",
   "metadata": {},
   "outputs": [
    {
     "data": {
      "text/plain": [
       "UNITED STATES OF AMERICA    77853\n",
       "UNITED KINGDOM               8149\n",
       "JAPAN                        4352\n",
       "FRANCE                       4146\n",
       "SOUTH KOREA                  3862\n",
       "Name: srch_visitor_loc_country, dtype: int64"
      ]
     },
     "execution_count": 16,
     "metadata": {},
     "output_type": "execute_result"
    }
   ],
   "source": [
    "df_train[df_train['srch_currency'].isnull()]['srch_visitor_loc_country'].value_counts().head()"
   ]
  },
  {
   "cell_type": "code",
   "execution_count": 17,
   "id": "1b9e965f",
   "metadata": {},
   "outputs": [
    {
     "data": {
      "text/plain": [
       "srch_visitor_loc_country  srch_currency\n",
       "AFGHANISTAN               GBP                52\n",
       "                          USD                13\n",
       "ALAND                     SEK                50\n",
       "ALBANIA                   EUR                46\n",
       "ALGERIA                   EUR              5547\n",
       "                          USD               117\n",
       "ANGOLA                    EUR                53\n",
       "                          USD                48\n",
       "ANTIGUA AND BARBUDA       USD                53\n",
       "ARGENTINA                 ARS              1210\n",
       "                          EUR                47\n",
       "                          USD               610\n",
       "AUSTRALIA                 AUD              3104\n",
       "                          GBP                50\n",
       "                          HKD               152\n",
       "                          KRW                59\n",
       "                          TWD                60\n",
       "                          USD               307\n",
       "AUSTRIA                   AUD                10\n",
       "                          EUR               500\n",
       "Name: srch_id, dtype: int64"
      ]
     },
     "execution_count": 17,
     "metadata": {},
     "output_type": "execute_result"
    }
   ],
   "source": [
    "df_train.groupby(['srch_visitor_loc_country','srch_currency'])['srch_id'].count().head(20)"
   ]
  },
  {
   "cell_type": "code",
   "execution_count": 18,
   "id": "592d8ee7",
   "metadata": {},
   "outputs": [],
   "source": [
    "df_train['srch_currency'].fillna('Missing info', inplace=True) # decide to fill with 'Missing info' instead of most represented value in the country as believe country field will already bring this information\n",
    "df_test['srch_currency'].fillna('Missing info', inplace=True) # same for test"
   ]
  },
  {
   "cell_type": "markdown",
   "id": "49a96bb6",
   "metadata": {},
   "source": [
    "##### src_visitor_loc_region"
   ]
  },
  {
   "cell_type": "code",
   "execution_count": 19,
   "id": "faa13057",
   "metadata": {},
   "outputs": [
    {
     "data": {
      "text/plain": [
       "CA           115310\n",
       "NY            45051\n",
       "FL            34241\n",
       "IL            29272\n",
       "11            24518\n",
       "TX            22965\n",
       "NO REGION     21151\n",
       "AB            17923\n",
       "MA            17496\n",
       "AZ            16596\n",
       "Name: srch_visitor_loc_region, dtype: int64"
      ]
     },
     "execution_count": 19,
     "metadata": {},
     "output_type": "execute_result"
    }
   ],
   "source": [
    "df_train['srch_visitor_loc_region'].value_counts().head(10)"
   ]
  },
  {
   "cell_type": "code",
   "execution_count": 20,
   "id": "4387dcf4",
   "metadata": {},
   "outputs": [
    {
     "data": {
      "text/html": [
       "<div>\n",
       "<style scoped>\n",
       "    .dataframe tbody tr th:only-of-type {\n",
       "        vertical-align: middle;\n",
       "    }\n",
       "\n",
       "    .dataframe tbody tr th {\n",
       "        vertical-align: top;\n",
       "    }\n",
       "\n",
       "    .dataframe thead th {\n",
       "        text-align: right;\n",
       "    }\n",
       "</style>\n",
       "<table border=\"1\" class=\"dataframe\">\n",
       "  <thead>\n",
       "    <tr style=\"text-align: right;\">\n",
       "      <th></th>\n",
       "      <th>srch_id</th>\n",
       "      <th>prop_key</th>\n",
       "      <th>srch_date_time</th>\n",
       "      <th>srch_visitor_id</th>\n",
       "      <th>srch_visitor_visit_nbr</th>\n",
       "      <th>srch_visitor_loc_country</th>\n",
       "      <th>srch_visitor_loc_region</th>\n",
       "      <th>srch_visitor_loc_city</th>\n",
       "      <th>srch_visitor_wr_member</th>\n",
       "      <th>srch_posa_continent</th>\n",
       "      <th>srch_posa_country</th>\n",
       "      <th>srch_hcom_destination_id</th>\n",
       "      <th>srch_dest_longitude</th>\n",
       "      <th>srch_dest_latitude</th>\n",
       "      <th>srch_ci</th>\n",
       "      <th>srch_co</th>\n",
       "      <th>srch_ci_day</th>\n",
       "      <th>srch_co_day</th>\n",
       "      <th>srch_los</th>\n",
       "      <th>srch_bw</th>\n",
       "      <th>srch_adults_cnt</th>\n",
       "      <th>srch_children_cnt</th>\n",
       "      <th>srch_rm_cnt</th>\n",
       "      <th>srch_mobile_bool</th>\n",
       "      <th>srch_mobile_app</th>\n",
       "      <th>srch_device</th>\n",
       "      <th>srch_currency</th>\n",
       "      <th>prop_travelad_bool</th>\n",
       "      <th>prop_dotd_bool</th>\n",
       "      <th>prop_price_without_discount_local</th>\n",
       "      <th>prop_price_without_discount_usd</th>\n",
       "      <th>prop_price_with_discount_local</th>\n",
       "      <th>prop_price_with_discount_usd</th>\n",
       "      <th>prop_imp_drr</th>\n",
       "      <th>prop_booking_bool</th>\n",
       "      <th>prop_brand_bool</th>\n",
       "      <th>prop_starrating</th>\n",
       "      <th>prop_super_region</th>\n",
       "      <th>prop_continent</th>\n",
       "      <th>prop_country</th>\n",
       "      <th>prop_market_id</th>\n",
       "      <th>prop_submarket_id</th>\n",
       "      <th>prop_room_capacity</th>\n",
       "      <th>prop_review_score</th>\n",
       "      <th>prop_review_count</th>\n",
       "      <th>prop_hostel_bool</th>\n",
       "      <th>srch_local_date</th>\n",
       "    </tr>\n",
       "  </thead>\n",
       "  <tbody>\n",
       "    <tr>\n",
       "      <th>910</th>\n",
       "      <td>-239756831</td>\n",
       "      <td>252249</td>\n",
       "      <td>2014-09-02 10:27:25</td>\n",
       "      <td>65ebfebc-bb52-41b6-98a3-eb0eca554d06</td>\n",
       "      <td>1</td>\n",
       "      <td>CHINA</td>\n",
       "      <td>11</td>\n",
       "      <td>BEIJING</td>\n",
       "      <td>Not Signed In|New Visitor|Not FC Member</td>\n",
       "      <td>ASIA</td>\n",
       "      <td>CHINA</td>\n",
       "      <td>1504033</td>\n",
       "      <td>-115.172875</td>\n",
       "      <td>36.114666</td>\n",
       "      <td>2014-09-29</td>\n",
       "      <td>2014-09-30</td>\n",
       "      <td>2</td>\n",
       "      <td>3</td>\n",
       "      <td>1</td>\n",
       "      <td>27</td>\n",
       "      <td>2.0</td>\n",
       "      <td>0.0</td>\n",
       "      <td>1</td>\n",
       "      <td>0</td>\n",
       "      <td>0</td>\n",
       "      <td>DESKTOP</td>\n",
       "      <td>CNY</td>\n",
       "      <td>0</td>\n",
       "      <td>0</td>\n",
       "      <td>362.0</td>\n",
       "      <td>58.93</td>\n",
       "      <td>217.0</td>\n",
       "      <td>35.32</td>\n",
       "      <td>1</td>\n",
       "      <td>0</td>\n",
       "      <td>0</td>\n",
       "      <td>3.0</td>\n",
       "      <td>AMER</td>\n",
       "      <td>NORTHAMERICA</td>\n",
       "      <td>UNITED STATES OF AMERICA</td>\n",
       "      <td>95602</td>\n",
       "      <td>110029</td>\n",
       "      <td>314</td>\n",
       "      <td>3.2</td>\n",
       "      <td>1009.0</td>\n",
       "      <td>0</td>\n",
       "      <td>2014-09-02</td>\n",
       "    </tr>\n",
       "    <tr>\n",
       "      <th>911</th>\n",
       "      <td>-239756831</td>\n",
       "      <td>379130</td>\n",
       "      <td>2014-09-02 10:27:25</td>\n",
       "      <td>65ebfebc-bb52-41b6-98a3-eb0eca554d06</td>\n",
       "      <td>1</td>\n",
       "      <td>CHINA</td>\n",
       "      <td>11</td>\n",
       "      <td>BEIJING</td>\n",
       "      <td>Not Signed In|New Visitor|Not FC Member</td>\n",
       "      <td>ASIA</td>\n",
       "      <td>CHINA</td>\n",
       "      <td>1504033</td>\n",
       "      <td>-115.172875</td>\n",
       "      <td>36.114666</td>\n",
       "      <td>2014-09-29</td>\n",
       "      <td>2014-09-30</td>\n",
       "      <td>2</td>\n",
       "      <td>3</td>\n",
       "      <td>1</td>\n",
       "      <td>27</td>\n",
       "      <td>2.0</td>\n",
       "      <td>0.0</td>\n",
       "      <td>1</td>\n",
       "      <td>0</td>\n",
       "      <td>0</td>\n",
       "      <td>DESKTOP</td>\n",
       "      <td>CNY</td>\n",
       "      <td>0</td>\n",
       "      <td>0</td>\n",
       "      <td>866.0</td>\n",
       "      <td>140.97</td>\n",
       "      <td>301.0</td>\n",
       "      <td>49.00</td>\n",
       "      <td>0</td>\n",
       "      <td>0</td>\n",
       "      <td>0</td>\n",
       "      <td>4.0</td>\n",
       "      <td>AMER</td>\n",
       "      <td>NORTHAMERICA</td>\n",
       "      <td>UNITED STATES OF AMERICA</td>\n",
       "      <td>95602</td>\n",
       "      <td>110030</td>\n",
       "      <td>2100</td>\n",
       "      <td>4.4</td>\n",
       "      <td>7645.0</td>\n",
       "      <td>0</td>\n",
       "      <td>2014-09-02</td>\n",
       "    </tr>\n",
       "    <tr>\n",
       "      <th>912</th>\n",
       "      <td>-239756831</td>\n",
       "      <td>250124</td>\n",
       "      <td>2014-09-02 10:27:25</td>\n",
       "      <td>65ebfebc-bb52-41b6-98a3-eb0eca554d06</td>\n",
       "      <td>1</td>\n",
       "      <td>CHINA</td>\n",
       "      <td>11</td>\n",
       "      <td>BEIJING</td>\n",
       "      <td>Not Signed In|New Visitor|Not FC Member</td>\n",
       "      <td>ASIA</td>\n",
       "      <td>CHINA</td>\n",
       "      <td>1504033</td>\n",
       "      <td>-115.172875</td>\n",
       "      <td>36.114666</td>\n",
       "      <td>2014-09-29</td>\n",
       "      <td>2014-09-30</td>\n",
       "      <td>2</td>\n",
       "      <td>3</td>\n",
       "      <td>1</td>\n",
       "      <td>27</td>\n",
       "      <td>2.0</td>\n",
       "      <td>0.0</td>\n",
       "      <td>1</td>\n",
       "      <td>0</td>\n",
       "      <td>0</td>\n",
       "      <td>DESKTOP</td>\n",
       "      <td>CNY</td>\n",
       "      <td>0</td>\n",
       "      <td>0</td>\n",
       "      <td>2311.0</td>\n",
       "      <td>376.18</td>\n",
       "      <td>584.0</td>\n",
       "      <td>95.06</td>\n",
       "      <td>0</td>\n",
       "      <td>0</td>\n",
       "      <td>1</td>\n",
       "      <td>4.0</td>\n",
       "      <td>AMER</td>\n",
       "      <td>NORTHAMERICA</td>\n",
       "      <td>UNITED STATES OF AMERICA</td>\n",
       "      <td>95602</td>\n",
       "      <td>110287</td>\n",
       "      <td>5005</td>\n",
       "      <td>4.1</td>\n",
       "      <td>8627.0</td>\n",
       "      <td>0</td>\n",
       "      <td>2014-09-02</td>\n",
       "    </tr>\n",
       "    <tr>\n",
       "      <th>913</th>\n",
       "      <td>-239756831</td>\n",
       "      <td>263444</td>\n",
       "      <td>2014-09-02 10:27:25</td>\n",
       "      <td>65ebfebc-bb52-41b6-98a3-eb0eca554d06</td>\n",
       "      <td>1</td>\n",
       "      <td>CHINA</td>\n",
       "      <td>11</td>\n",
       "      <td>BEIJING</td>\n",
       "      <td>Not Signed In|New Visitor|Not FC Member</td>\n",
       "      <td>ASIA</td>\n",
       "      <td>CHINA</td>\n",
       "      <td>1504033</td>\n",
       "      <td>-115.172875</td>\n",
       "      <td>36.114666</td>\n",
       "      <td>2014-09-29</td>\n",
       "      <td>2014-09-30</td>\n",
       "      <td>2</td>\n",
       "      <td>3</td>\n",
       "      <td>1</td>\n",
       "      <td>27</td>\n",
       "      <td>2.0</td>\n",
       "      <td>0.0</td>\n",
       "      <td>1</td>\n",
       "      <td>0</td>\n",
       "      <td>0</td>\n",
       "      <td>DESKTOP</td>\n",
       "      <td>CNY</td>\n",
       "      <td>0</td>\n",
       "      <td>0</td>\n",
       "      <td>675.0</td>\n",
       "      <td>109.88</td>\n",
       "      <td>86.0</td>\n",
       "      <td>14.00</td>\n",
       "      <td>0</td>\n",
       "      <td>0</td>\n",
       "      <td>0</td>\n",
       "      <td>3.0</td>\n",
       "      <td>AMER</td>\n",
       "      <td>NORTHAMERICA</td>\n",
       "      <td>UNITED STATES OF AMERICA</td>\n",
       "      <td>95602</td>\n",
       "      <td>109153</td>\n",
       "      <td>106</td>\n",
       "      <td>3.2</td>\n",
       "      <td>693.0</td>\n",
       "      <td>0</td>\n",
       "      <td>2014-09-02</td>\n",
       "    </tr>\n",
       "    <tr>\n",
       "      <th>914</th>\n",
       "      <td>-239756831</td>\n",
       "      <td>275157</td>\n",
       "      <td>2014-09-02 10:27:25</td>\n",
       "      <td>65ebfebc-bb52-41b6-98a3-eb0eca554d06</td>\n",
       "      <td>1</td>\n",
       "      <td>CHINA</td>\n",
       "      <td>11</td>\n",
       "      <td>BEIJING</td>\n",
       "      <td>Not Signed In|New Visitor|Not FC Member</td>\n",
       "      <td>ASIA</td>\n",
       "      <td>CHINA</td>\n",
       "      <td>1504033</td>\n",
       "      <td>-115.172875</td>\n",
       "      <td>36.114666</td>\n",
       "      <td>2014-09-29</td>\n",
       "      <td>2014-09-30</td>\n",
       "      <td>2</td>\n",
       "      <td>3</td>\n",
       "      <td>1</td>\n",
       "      <td>27</td>\n",
       "      <td>2.0</td>\n",
       "      <td>0.0</td>\n",
       "      <td>1</td>\n",
       "      <td>0</td>\n",
       "      <td>0</td>\n",
       "      <td>DESKTOP</td>\n",
       "      <td>CNY</td>\n",
       "      <td>0</td>\n",
       "      <td>0</td>\n",
       "      <td>1793.0</td>\n",
       "      <td>291.86</td>\n",
       "      <td>903.0</td>\n",
       "      <td>146.99</td>\n",
       "      <td>0</td>\n",
       "      <td>0</td>\n",
       "      <td>1</td>\n",
       "      <td>4.0</td>\n",
       "      <td>AMER</td>\n",
       "      <td>NORTHAMERICA</td>\n",
       "      <td>UNITED STATES OF AMERICA</td>\n",
       "      <td>95602</td>\n",
       "      <td>110287</td>\n",
       "      <td>2916</td>\n",
       "      <td>4.0</td>\n",
       "      <td>6331.0</td>\n",
       "      <td>0</td>\n",
       "      <td>2014-09-02</td>\n",
       "    </tr>\n",
       "  </tbody>\n",
       "</table>\n",
       "</div>"
      ],
      "text/plain": [
       "       srch_id  prop_key       srch_date_time  \\\n",
       "910 -239756831    252249  2014-09-02 10:27:25   \n",
       "911 -239756831    379130  2014-09-02 10:27:25   \n",
       "912 -239756831    250124  2014-09-02 10:27:25   \n",
       "913 -239756831    263444  2014-09-02 10:27:25   \n",
       "914 -239756831    275157  2014-09-02 10:27:25   \n",
       "\n",
       "                          srch_visitor_id  srch_visitor_visit_nbr  \\\n",
       "910  65ebfebc-bb52-41b6-98a3-eb0eca554d06                       1   \n",
       "911  65ebfebc-bb52-41b6-98a3-eb0eca554d06                       1   \n",
       "912  65ebfebc-bb52-41b6-98a3-eb0eca554d06                       1   \n",
       "913  65ebfebc-bb52-41b6-98a3-eb0eca554d06                       1   \n",
       "914  65ebfebc-bb52-41b6-98a3-eb0eca554d06                       1   \n",
       "\n",
       "    srch_visitor_loc_country srch_visitor_loc_region srch_visitor_loc_city  \\\n",
       "910                    CHINA                      11               BEIJING   \n",
       "911                    CHINA                      11               BEIJING   \n",
       "912                    CHINA                      11               BEIJING   \n",
       "913                    CHINA                      11               BEIJING   \n",
       "914                    CHINA                      11               BEIJING   \n",
       "\n",
       "                      srch_visitor_wr_member srch_posa_continent  \\\n",
       "910  Not Signed In|New Visitor|Not FC Member                ASIA   \n",
       "911  Not Signed In|New Visitor|Not FC Member                ASIA   \n",
       "912  Not Signed In|New Visitor|Not FC Member                ASIA   \n",
       "913  Not Signed In|New Visitor|Not FC Member                ASIA   \n",
       "914  Not Signed In|New Visitor|Not FC Member                ASIA   \n",
       "\n",
       "    srch_posa_country  srch_hcom_destination_id  srch_dest_longitude  \\\n",
       "910             CHINA                   1504033          -115.172875   \n",
       "911             CHINA                   1504033          -115.172875   \n",
       "912             CHINA                   1504033          -115.172875   \n",
       "913             CHINA                   1504033          -115.172875   \n",
       "914             CHINA                   1504033          -115.172875   \n",
       "\n",
       "     srch_dest_latitude     srch_ci     srch_co  srch_ci_day  srch_co_day  \\\n",
       "910           36.114666  2014-09-29  2014-09-30            2            3   \n",
       "911           36.114666  2014-09-29  2014-09-30            2            3   \n",
       "912           36.114666  2014-09-29  2014-09-30            2            3   \n",
       "913           36.114666  2014-09-29  2014-09-30            2            3   \n",
       "914           36.114666  2014-09-29  2014-09-30            2            3   \n",
       "\n",
       "     srch_los  srch_bw  srch_adults_cnt  srch_children_cnt  srch_rm_cnt  \\\n",
       "910         1       27              2.0                0.0            1   \n",
       "911         1       27              2.0                0.0            1   \n",
       "912         1       27              2.0                0.0            1   \n",
       "913         1       27              2.0                0.0            1   \n",
       "914         1       27              2.0                0.0            1   \n",
       "\n",
       "     srch_mobile_bool  srch_mobile_app srch_device srch_currency  \\\n",
       "910                 0                0     DESKTOP           CNY   \n",
       "911                 0                0     DESKTOP           CNY   \n",
       "912                 0                0     DESKTOP           CNY   \n",
       "913                 0                0     DESKTOP           CNY   \n",
       "914                 0                0     DESKTOP           CNY   \n",
       "\n",
       "     prop_travelad_bool  prop_dotd_bool  prop_price_without_discount_local  \\\n",
       "910                   0               0                              362.0   \n",
       "911                   0               0                              866.0   \n",
       "912                   0               0                             2311.0   \n",
       "913                   0               0                              675.0   \n",
       "914                   0               0                             1793.0   \n",
       "\n",
       "     prop_price_without_discount_usd  prop_price_with_discount_local  \\\n",
       "910                            58.93                           217.0   \n",
       "911                           140.97                           301.0   \n",
       "912                           376.18                           584.0   \n",
       "913                           109.88                            86.0   \n",
       "914                           291.86                           903.0   \n",
       "\n",
       "     prop_price_with_discount_usd  prop_imp_drr  prop_booking_bool  \\\n",
       "910                         35.32             1                  0   \n",
       "911                         49.00             0                  0   \n",
       "912                         95.06             0                  0   \n",
       "913                         14.00             0                  0   \n",
       "914                        146.99             0                  0   \n",
       "\n",
       "     prop_brand_bool  prop_starrating prop_super_region prop_continent  \\\n",
       "910                0              3.0              AMER   NORTHAMERICA   \n",
       "911                0              4.0              AMER   NORTHAMERICA   \n",
       "912                1              4.0              AMER   NORTHAMERICA   \n",
       "913                0              3.0              AMER   NORTHAMERICA   \n",
       "914                1              4.0              AMER   NORTHAMERICA   \n",
       "\n",
       "                 prop_country  prop_market_id  prop_submarket_id  \\\n",
       "910  UNITED STATES OF AMERICA           95602             110029   \n",
       "911  UNITED STATES OF AMERICA           95602             110030   \n",
       "912  UNITED STATES OF AMERICA           95602             110287   \n",
       "913  UNITED STATES OF AMERICA           95602             109153   \n",
       "914  UNITED STATES OF AMERICA           95602             110287   \n",
       "\n",
       "     prop_room_capacity  prop_review_score  prop_review_count  \\\n",
       "910                 314                3.2             1009.0   \n",
       "911                2100                4.4             7645.0   \n",
       "912                5005                4.1             8627.0   \n",
       "913                 106                3.2              693.0   \n",
       "914                2916                4.0             6331.0   \n",
       "\n",
       "     prop_hostel_bool srch_local_date  \n",
       "910                 0      2014-09-02  \n",
       "911                 0      2014-09-02  \n",
       "912                 0      2014-09-02  \n",
       "913                 0      2014-09-02  \n",
       "914                 0      2014-09-02  "
      ]
     },
     "execution_count": 20,
     "metadata": {},
     "output_type": "execute_result"
    }
   ],
   "source": [
    "df_train[df_train['srch_visitor_loc_region'] == '11'].head()"
   ]
  },
  {
   "cell_type": "code",
   "execution_count": 21,
   "id": "84017ea8",
   "metadata": {},
   "outputs": [
    {
     "data": {
      "text/plain": [
       "SOUTH KOREA      17773\n",
       "CHINA             2241\n",
       "NORWAY            2021\n",
       "JAPAN              802\n",
       "TUNISIA            717\n",
       "FINLAND            551\n",
       "PORTUGAL           270\n",
       "LIECHTENSTEIN       51\n",
       "ALBANIA             46\n",
       "MOROCCO             46\n",
       "Name: srch_visitor_loc_country, dtype: int64"
      ]
     },
     "execution_count": 21,
     "metadata": {},
     "output_type": "execute_result"
    }
   ],
   "source": [
    "df_train[df_train['srch_visitor_loc_region'] == '11']['srch_visitor_loc_country'].value_counts()"
   ]
  },
  {
   "cell_type": "code",
   "execution_count": 22,
   "id": "b6310ea4",
   "metadata": {},
   "outputs": [
    {
     "data": {
      "text/plain": [
       "31    2381\n",
       "11    2241\n",
       "44    1153\n",
       "33     280\n",
       "32     280\n",
       "37     245\n",
       "12     122\n",
       "13      94\n",
       "35      59\n",
       "41      54\n",
       "61      50\n",
       "42      37\n",
       "51      19\n",
       "21      10\n",
       "Name: srch_visitor_loc_region, dtype: int64"
      ]
     },
     "execution_count": 22,
     "metadata": {},
     "output_type": "execute_result"
    }
   ],
   "source": [
    "df_train[df_train['srch_visitor_loc_country'] == 'CHINA']['srch_visitor_loc_region'].value_counts()"
   ]
  },
  {
   "cell_type": "code",
   "execution_count": 23,
   "id": "d502e6c9",
   "metadata": {},
   "outputs": [
    {
     "data": {
      "text/plain": [
       "52"
      ]
     },
     "execution_count": 23,
     "metadata": {},
     "output_type": "execute_result"
    }
   ],
   "source": [
    "df_train[df_train['srch_visitor_loc_country'] == 'UNITED STATES OF AMERICA']['srch_visitor_loc_region'].value_counts().count()"
   ]
  },
  {
   "cell_type": "code",
   "execution_count": 24,
   "id": "d39e9a4e",
   "metadata": {},
   "outputs": [],
   "source": [
    "def loc_region(row):\n",
    "    if row['srch_visitor_loc_region'] is np.nan:\n",
    "        return 'not applicable'\n",
    "    if row['srch_visitor_loc_country'] == 'UNITED STATES OF AMERICA':\n",
    "        return row['srch_visitor_loc_region']\n",
    "    return 'not applicable'\n",
    "\n",
    "## Training\n",
    "df_train['srch_visitor_loc_region'] = df_train.apply(lambda row: loc_region(row), axis=1)\n",
    "df_test['srch_visitor_loc_region'] = df_test.apply(lambda row: loc_region(row), axis=1) # same for test"
   ]
  },
  {
   "cell_type": "code",
   "execution_count": 25,
   "id": "57291a2c",
   "metadata": {},
   "outputs": [
    {
     "data": {
      "text/plain": [
       "UNITED STATES OF AMERICA    0.550677\n",
       "UNITED KINGDOM              0.060985\n",
       "SWEDEN                      0.037066\n",
       "FRANCE                      0.029045\n",
       "JAPAN                       0.027738\n",
       "NORWAY                      0.027110\n",
       "SOUTH KOREA                 0.026124\n",
       "CANADA                      0.025290\n",
       "HONG KONG                   0.021131\n",
       "BRAZIL                      0.018586\n",
       "Name: srch_visitor_loc_country, dtype: float64"
      ]
     },
     "execution_count": 25,
     "metadata": {},
     "output_type": "execute_result"
    }
   ],
   "source": [
    "df_train['srch_visitor_loc_country'].value_counts(normalize=True).head(10)"
   ]
  },
  {
   "cell_type": "code",
   "execution_count": 26,
   "id": "f987943c",
   "metadata": {},
   "outputs": [],
   "source": [
    "def loc_country(row):\n",
    "    if row['srch_visitor_loc_country'] == 'UNITED STATES OF AMERICA':\n",
    "        return row['srch_visitor_loc_country']\n",
    "    if row['srch_visitor_loc_country'] == 'UNITED KINGDOM':\n",
    "        return row['srch_visitor_loc_country']\n",
    "    if row['srch_visitor_loc_country'] == 'SWEDEN':\n",
    "        return row['srch_visitor_loc_country']\n",
    "    if row['srch_visitor_loc_country'] == 'FRANCE':\n",
    "        return row['srch_visitor_loc_country']\n",
    "    if row['srch_visitor_loc_country'] == 'JAPAN':\n",
    "        return row['srch_visitor_loc_country']\n",
    "    if row['srch_visitor_loc_country'] == 'NORWAY':\n",
    "        return row['srch_visitor_loc_country']\n",
    "    if row['srch_visitor_loc_country'] == 'SOUTH KOREA':\n",
    "        return row['srch_visitor_loc_country']\n",
    "    if row['srch_visitor_loc_country'] == 'CANADA':\n",
    "        return row['srch_visitor_loc_country']\n",
    "    if row['srch_visitor_loc_country'] == 'HONG KONG':\n",
    "        return row['srch_visitor_loc_country']\n",
    "    return 'not applicable'\n",
    "\n",
    "## Training\n",
    "df_train['srch_visitor_loc_country'] = df_train.apply(lambda row: loc_country(row), axis=1)\n",
    "df_test['srch_visitor_loc_country'] = df_test.apply(lambda row: loc_country(row), axis=1) # same for test"
   ]
  },
  {
   "cell_type": "markdown",
   "id": "64a5556b",
   "metadata": {},
   "source": [
    "##### prop_price_without_discount_usd"
   ]
  },
  {
   "cell_type": "code",
   "execution_count": 27,
   "id": "cf26d0ae",
   "metadata": {},
   "outputs": [
    {
     "data": {
      "text/plain": [
       "prop_price_without_discount_local    51\n",
       "prop_price_without_discount_usd      51\n",
       "prop_price_with_discount_local       51\n",
       "prop_price_with_discount_usd         51\n",
       "srch_local_date                       0\n",
       "dtype: int64"
      ]
     },
     "execution_count": 27,
     "metadata": {},
     "output_type": "execute_result"
    }
   ],
   "source": [
    "df_train[df_train['prop_price_without_discount_usd'].isnull()].isnull().sum().sort_values(ascending=False).head() # same rows where all info related to price are missing"
   ]
  },
  {
   "cell_type": "code",
   "execution_count": 28,
   "id": "0ed2d192",
   "metadata": {},
   "outputs": [
    {
     "data": {
      "text/plain": [
       "0"
      ]
     },
     "execution_count": 28,
     "metadata": {},
     "output_type": "execute_result"
    }
   ],
   "source": [
    "df_train[df_train['prop_price_without_discount_usd'].isnull()]['prop_booking_bool'].sum() # properties with no price info are never the ones booked"
   ]
  },
  {
   "cell_type": "code",
   "execution_count": 29,
   "id": "829e10d4",
   "metadata": {},
   "outputs": [],
   "source": [
    "df_train['row_to_remove'] = df_train['prop_price_without_discount_usd'].isnull() * 1 # will remove those rows as missing info and never booker properties - for test set will indicate target as 0 at end of process\n",
    "\n",
    "df_train['prop_price_without_discount_usd'].fillna(value=-1, inplace=True)\n",
    "df_train['prop_price_without_discount_local'].fillna(value=-1, inplace=True)\n",
    "df_train['prop_price_with_discount_usd'].fillna(value=-1, inplace=True)\n",
    "df_train['prop_price_with_discount_local'].fillna(value=-1, inplace=True)\n",
    "\n",
    "df_test['prop_price_without_discount_usd'].fillna(value=-1, inplace=True)\n",
    "df_test['prop_price_without_discount_local'].fillna(value=-1, inplace=True)\n",
    "df_test['prop_price_with_discount_usd'].fillna(value=-1, inplace=True)\n",
    "df_test['prop_price_with_discount_local'].fillna(value=-1, inplace=True)"
   ]
  },
  {
   "cell_type": "markdown",
   "id": "d13dd0aa",
   "metadata": {},
   "source": [
    "##### srch_children_cnt & # srch_adults_cnt"
   ]
  },
  {
   "cell_type": "code",
   "execution_count": 30,
   "id": "697968d7",
   "metadata": {},
   "outputs": [
    {
     "data": {
      "text/plain": [
       "18"
      ]
     },
     "execution_count": 30,
     "metadata": {},
     "output_type": "execute_result"
    }
   ],
   "source": [
    "df_train[df_train['srch_children_cnt'].isnull()]['srch_adults_cnt'].isnull().sum() # same rows where no info for adults as well"
   ]
  },
  {
   "cell_type": "code",
   "execution_count": 31,
   "id": "f84daba1",
   "metadata": {},
   "outputs": [
    {
     "data": {
      "text/plain": [
       "0.0    0.903810\n",
       "1.0    0.043567\n",
       "2.0    0.042341\n",
       "Name: srch_children_cnt, dtype: float64"
      ]
     },
     "execution_count": 31,
     "metadata": {},
     "output_type": "execute_result"
    }
   ],
   "source": [
    "df_train['srch_children_cnt'].value_counts(normalize=True).head(3)"
   ]
  },
  {
   "cell_type": "code",
   "execution_count": 32,
   "id": "cbcc367f",
   "metadata": {},
   "outputs": [
    {
     "data": {
      "text/plain": [
       "2.0    0.634131\n",
       "1.0    0.238134\n",
       "3.0    0.053059\n",
       "Name: srch_adults_cnt, dtype: float64"
      ]
     },
     "execution_count": 32,
     "metadata": {},
     "output_type": "execute_result"
    }
   ],
   "source": [
    "df_train['srch_adults_cnt'].value_counts(normalize=True).head(3)"
   ]
  },
  {
   "cell_type": "code",
   "execution_count": 33,
   "id": "cdbf75dc",
   "metadata": {},
   "outputs": [],
   "source": [
    "df_train['srch_children_cnt'].fillna(value=0, inplace=True) # take more frequent\n",
    "df_test['srch_children_cnt'].fillna(value=0, inplace=True) # same for test\n",
    "\n",
    "df_train['srch_adults_cnt'].fillna(value=2, inplace=True) # take more frequent\n",
    "df_test['srch_adults_cnt'].fillna(value=2, inplace=True) # same for test"
   ]
  },
  {
   "cell_type": "markdown",
   "id": "f5ad7a9d",
   "metadata": {},
   "source": [
    "##### prop_review_score & prop_review_count"
   ]
  },
  {
   "cell_type": "code",
   "execution_count": 34,
   "id": "7329a2b1",
   "metadata": {},
   "outputs": [
    {
     "data": {
      "text/plain": [
       "8"
      ]
     },
     "execution_count": 34,
     "metadata": {},
     "output_type": "execute_result"
    }
   ],
   "source": [
    "df_train[df_train['prop_review_score'].isnull()]['prop_review_count'].isnull().sum() # same rows for both"
   ]
  },
  {
   "cell_type": "code",
   "execution_count": 35,
   "id": "f54a5f33",
   "metadata": {},
   "outputs": [
    {
     "data": {
      "text/plain": [
       "0.000000    5809\n",
       "4.000000       9\n",
       "3.539826       6\n",
       "2.770518       4\n",
       "3.709885       1\n",
       "3.662503       1\n",
       "0.772727       1\n",
       "Name: prop_review_score, dtype: int64"
      ]
     },
     "execution_count": 35,
     "metadata": {},
     "output_type": "execute_result"
    }
   ],
   "source": [
    "df_train[df_train['prop_review_count'] == 0]['prop_review_score'].value_counts()"
   ]
  },
  {
   "cell_type": "code",
   "execution_count": 36,
   "id": "14febe8a",
   "metadata": {},
   "outputs": [
    {
     "data": {
      "text/plain": [
       "1135      1\n",
       "76399     0\n",
       "101203    0\n",
       "446393    0\n",
       "630046    1\n",
       "646261    0\n",
       "646263    0\n",
       "647480    0\n",
       "Name: prop_booking_bool, dtype: int64"
      ]
     },
     "execution_count": 36,
     "metadata": {},
     "output_type": "execute_result"
    }
   ],
   "source": [
    "df_train[df_train['prop_review_count'].isnull()]['prop_booking_bool']"
   ]
  },
  {
   "cell_type": "code",
   "execution_count": 37,
   "id": "a1e2b791",
   "metadata": {},
   "outputs": [],
   "source": [
    "df_train['prop_review_count'].fillna(value=0, inplace=True)\n",
    "df_test['prop_review_count'].fillna(value=0, inplace=True) # same for test\n",
    "\n",
    "df_train['prop_review_score'].fillna(value=0, inplace=True)\n",
    "df_test['prop_review_score'].fillna(value=0, inplace=True) # same for test"
   ]
  },
  {
   "cell_type": "code",
   "execution_count": 38,
   "id": "467d1977",
   "metadata": {},
   "outputs": [
    {
     "data": {
      "text/plain": [
       "0"
      ]
     },
     "execution_count": 38,
     "metadata": {},
     "output_type": "execute_result"
    }
   ],
   "source": [
    "# shall have no more nulls\n",
    "df_train.isnull().sum().sum()"
   ]
  },
  {
   "cell_type": "markdown",
   "id": "ba78fd11",
   "metadata": {},
   "source": [
    "***\n",
    "#### Data types"
   ]
  },
  {
   "cell_type": "code",
   "execution_count": 39,
   "id": "a8a6ea43",
   "metadata": {},
   "outputs": [
    {
     "data": {
      "text/plain": [
       "srch_id                                int64\n",
       "prop_key                               int64\n",
       "srch_date_time                        object\n",
       "srch_visitor_id                       object\n",
       "srch_visitor_visit_nbr                 int64\n",
       "srch_visitor_loc_country              object\n",
       "srch_visitor_loc_region               object\n",
       "srch_visitor_loc_city                 object\n",
       "srch_visitor_wr_member                object\n",
       "srch_posa_continent                   object\n",
       "srch_posa_country                     object\n",
       "srch_hcom_destination_id               int64\n",
       "srch_dest_longitude                  float64\n",
       "srch_dest_latitude                   float64\n",
       "srch_ci                               object\n",
       "srch_co                               object\n",
       "srch_ci_day                            int64\n",
       "srch_co_day                            int64\n",
       "srch_los                               int64\n",
       "srch_bw                                int64\n",
       "srch_adults_cnt                      float64\n",
       "srch_children_cnt                    float64\n",
       "srch_rm_cnt                            int64\n",
       "srch_mobile_bool                       int64\n",
       "srch_mobile_app                        int64\n",
       "srch_device                           object\n",
       "srch_currency                         object\n",
       "prop_travelad_bool                     int64\n",
       "prop_dotd_bool                         int64\n",
       "prop_price_without_discount_local    float64\n",
       "prop_price_without_discount_usd      float64\n",
       "prop_price_with_discount_local       float64\n",
       "prop_price_with_discount_usd         float64\n",
       "prop_imp_drr                           int64\n",
       "prop_booking_bool                      int64\n",
       "prop_brand_bool                        int64\n",
       "prop_starrating                      float64\n",
       "prop_super_region                     object\n",
       "prop_continent                        object\n",
       "prop_country                          object\n",
       "prop_market_id                         int64\n",
       "prop_submarket_id                      int64\n",
       "prop_room_capacity                     int64\n",
       "prop_review_score                    float64\n",
       "prop_review_count                    float64\n",
       "prop_hostel_bool                       int64\n",
       "srch_local_date                       object\n",
       "row_to_remove                          int32\n",
       "dtype: object"
      ]
     },
     "execution_count": 39,
     "metadata": {},
     "output_type": "execute_result"
    }
   ],
   "source": [
    "df_train.dtypes\n",
    "# dates: srch_ci, srch_co, srch_date_time, srch_local_date - might need to be updated if start using\n",
    "# outside of this looks ok"
   ]
  },
  {
   "cell_type": "code",
   "execution_count": 40,
   "id": "0c867180",
   "metadata": {},
   "outputs": [],
   "source": [
    "df_train['srch_date_time'] = pd.to_datetime(df_train['srch_date_time'])\n",
    "df_train['srch_ci'] = pd.to_datetime(df_train['srch_ci'])\n",
    "df_train['srch_co'] = pd.to_datetime(df_train['srch_co'])\n",
    "df_train['srch_local_date'] = pd.to_datetime(df_train['srch_local_date'])"
   ]
  },
  {
   "cell_type": "markdown",
   "id": "ce671673",
   "metadata": {},
   "source": [
    "***\n",
    "#### Input features description\n",
    "* Get a better understanding of each features\n",
    "* Remove outliers\n",
    "* Reduce number of categories when too high cardinality\n",
    "* Create new features"
   ]
  },
  {
   "cell_type": "code",
   "execution_count": 41,
   "id": "ba640333",
   "metadata": {},
   "outputs": [
    {
     "data": {
      "text/plain": [
       "srch_id                              24013\n",
       "prop_key                              6330\n",
       "srch_date_time                       23873\n",
       "srch_visitor_id                      23101\n",
       "srch_visitor_visit_nbr                 267\n",
       "srch_visitor_loc_country                10\n",
       "srch_visitor_loc_region                 53\n",
       "srch_visitor_loc_city                 5092\n",
       "srch_visitor_wr_member                  10\n",
       "srch_posa_continent                      5\n",
       "srch_posa_country                       67\n",
       "srch_hcom_destination_id                10\n",
       "srch_dest_longitude                     10\n",
       "srch_dest_latitude                      10\n",
       "srch_ci                                385\n",
       "srch_co                                376\n",
       "srch_ci_day                              7\n",
       "srch_co_day                              7\n",
       "srch_los                                27\n",
       "srch_bw                                370\n",
       "srch_adults_cnt                         16\n",
       "srch_children_cnt                        9\n",
       "srch_rm_cnt                              8\n",
       "srch_mobile_bool                         2\n",
       "srch_mobile_app                          1\n",
       "srch_device                              3\n",
       "srch_currency                           52\n",
       "prop_travelad_bool                       2\n",
       "prop_dotd_bool                           2\n",
       "prop_price_without_discount_local    40512\n",
       "prop_price_without_discount_usd      75479\n",
       "prop_price_with_discount_local       37771\n",
       "prop_price_with_discount_usd         59866\n",
       "prop_imp_drr                             2\n",
       "prop_booking_bool                        2\n",
       "prop_brand_bool                          2\n",
       "prop_starrating                         10\n",
       "prop_super_region                        4\n",
       "prop_continent                           4\n",
       "prop_country                             7\n",
       "prop_market_id                          58\n",
       "prop_submarket_id                      294\n",
       "prop_room_capacity                     698\n",
       "prop_review_score                     3850\n",
       "prop_review_count                     4626\n",
       "prop_hostel_bool                         2\n",
       "srch_local_date                         28\n",
       "row_to_remove                            2\n",
       "dtype: int64"
      ]
     },
     "execution_count": 41,
     "metadata": {},
     "output_type": "execute_result"
    }
   ],
   "source": [
    "df_train.nunique()"
   ]
  },
  {
   "cell_type": "code",
   "execution_count": 42,
   "id": "a22c5e5e",
   "metadata": {},
   "outputs": [],
   "source": [
    "#sns.pairplot(df_train)"
   ]
  },
  {
   "cell_type": "code",
   "execution_count": 43,
   "id": "e3b407b7",
   "metadata": {},
   "outputs": [
    {
     "data": {
      "image/png": "[encoded data removed]",
      "text/plain": [
       "<Figure size 576x144 with 1 Axes>"
      ]
     },
     "metadata": {
      "needs_background": "light"
     },
     "output_type": "display_data"
    }
   ],
   "source": [
    "df_train.corr()['prop_booking_bool'].sort_values(ascending=False)[df_train.corr()['prop_booking_bool'].sort_values(ascending=False) < 1].plot(kind='bar', figsize=(8,2))\n",
    "plt.title('Correlation to target - prop_booking_bool')\n",
    "plt.show()"
   ]
  },
  {
   "cell_type": "markdown",
   "id": "baa35c55",
   "metadata": {},
   "source": [
    "* **srch_id:** always one booking per srch_id, seems to be two groups of searches with ~10 properties or ~50 => we will use srch_id at the end to select highest prediction within these feature"
   ]
  },
  {
   "cell_type": "code",
   "execution_count": 44,
   "id": "df3bd20d",
   "metadata": {},
   "outputs": [
    {
     "data": {
      "text/plain": [
       "1    24013\n",
       "Name: prop_booking_bool, dtype: int64"
      ]
     },
     "execution_count": 44,
     "metadata": {},
     "output_type": "execute_result"
    }
   ],
   "source": [
    "df_train.groupby('srch_id')['prop_booking_bool'].sum().value_counts()"
   ]
  },
  {
   "cell_type": "code",
   "execution_count": 45,
   "id": "e123d3a0",
   "metadata": {},
   "outputs": [
    {
     "data": {
      "image/png": "[encoded data removed]",
      "text/plain": [
       "<Figure size 432x288 with 1 Axes>"
      ]
     },
     "metadata": {
      "needs_background": "light"
     },
     "output_type": "display_data"
    }
   ],
   "source": [
    "df_train.groupby('srch_id')['prop_key'].count().hist(bins=20)\n",
    "plt.title('Number of properties per searches')\n",
    "plt.xlabel('# properties')\n",
    "plt.ylabel('Frequency')\n",
    "plt.show()"
   ]
  },
  {
   "cell_type": "markdown",
   "id": "2bfa8e46",
   "metadata": {},
   "source": [
    "* **prop_key**"
   ]
  },
  {
   "cell_type": "code",
   "execution_count": 46,
   "id": "9447ee85",
   "metadata": {},
   "outputs": [
    {
     "data": {
      "text/plain": [
       "count    6330.000000\n",
       "mean      132.877567\n",
       "std       423.139506\n",
       "min         1.000000\n",
       "25%         3.000000\n",
       "50%        12.000000\n",
       "75%        69.000000\n",
       "max      4862.000000\n",
       "Name: srch_id, dtype: float64"
      ]
     },
     "execution_count": 46,
     "metadata": {},
     "output_type": "execute_result"
    }
   ],
   "source": [
    "df_train.groupby('prop_key')['srch_id'].count().sort_values(ascending=False).describe()"
   ]
  },
  {
   "cell_type": "code",
   "execution_count": 47,
   "id": "c891eb6f",
   "metadata": {},
   "outputs": [
    {
     "data": {
      "text/plain": [
       "count    6330.000000\n",
       "mean        0.031332\n",
       "std         0.096814\n",
       "min         0.000000\n",
       "25%         0.000000\n",
       "50%         0.000000\n",
       "75%         0.026316\n",
       "max         1.000000\n",
       "Name: cvr, dtype: float64"
      ]
     },
     "execution_count": 47,
     "metadata": {},
     "output_type": "execute_result"
    }
   ],
   "source": [
    "df_train_cvr = df_train.groupby('prop_key')['srch_id','prop_booking_bool'].agg({'srch_id':'count','prop_booking_bool':'sum'})\n",
    "df_train_cvr['cvr'] = df_train_cvr['prop_booking_bool'] / df_train_cvr['srch_id']\n",
    "df_train_cvr['cvr'].describe()\n",
    "# There are big difference in conversion but most property have 0"
   ]
  },
  {
   "cell_type": "code",
   "execution_count": 48,
   "id": "2cdd084a",
   "metadata": {},
   "outputs": [
    {
     "data": {
      "image/png": "[encoded data removed]",
      "text/plain": [
       "<Figure size 432x288 with 1 Axes>"
      ]
     },
     "metadata": {
      "needs_background": "light"
     },
     "output_type": "display_data"
    }
   ],
   "source": [
    "plt.scatter('cvr','srch_id',data=df_train_cvr)\n",
    "plt.xlabel('Conversion rate')\n",
    "plt.ylabel('Searches')\n",
    "plt.title('CVR x Searches')\n",
    "plt.show()"
   ]
  },
  {
   "cell_type": "markdown",
   "id": "099f2329",
   "metadata": {},
   "source": [
    "* **srch_date_time**: one search time per search id => will probably not include"
   ]
  },
  {
   "cell_type": "code",
   "execution_count": 49,
   "id": "358f1064",
   "metadata": {},
   "outputs": [
    {
     "data": {
      "text/plain": [
       "srch_id\n",
       " 1808795566    3\n",
       "-1239745821    3\n",
       "-700084528     1\n",
       "-700026614     1\n",
       "-699701736     1\n",
       "Name: srch_date_time, dtype: int64"
      ]
     },
     "execution_count": 49,
     "metadata": {},
     "output_type": "execute_result"
    }
   ],
   "source": [
    "df_train.groupby('srch_id')['srch_date_time'].nunique().sort_values(ascending=False).head()"
   ]
  },
  {
   "cell_type": "code",
   "execution_count": 50,
   "id": "eecd10ab",
   "metadata": {},
   "outputs": [
    {
     "data": {
      "text/plain": [
       "array(['2014-09-19T18:06:09.000000000', '2014-09-19T18:30:43.000000000',\n",
       "       '2014-09-19T18:19:46.000000000'], dtype='datetime64[ns]')"
      ]
     },
     "execution_count": 50,
     "metadata": {},
     "output_type": "execute_result"
    }
   ],
   "source": [
    "df_train[df_train['srch_id'] == -1239745821]['srch_date_time'].unique()"
   ]
  },
  {
   "cell_type": "code",
   "execution_count": 51,
   "id": "6042cca2",
   "metadata": {},
   "outputs": [
    {
     "data": {
      "text/plain": [
       "Timestamp('2014-08-31 00:01:46')"
      ]
     },
     "execution_count": 51,
     "metadata": {},
     "output_type": "execute_result"
    }
   ],
   "source": [
    "df_train['srch_date_time'].min()"
   ]
  },
  {
   "cell_type": "code",
   "execution_count": 52,
   "id": "4d1a9477",
   "metadata": {},
   "outputs": [
    {
     "data": {
      "text/plain": [
       "Timestamp('2014-09-27 23:53:42')"
      ]
     },
     "execution_count": 52,
     "metadata": {},
     "output_type": "execute_result"
    }
   ],
   "source": [
    "df_train['srch_date_time'].max()"
   ]
  },
  {
   "cell_type": "markdown",
   "id": "4e82af9c",
   "metadata": {},
   "source": [
    "* **srch_visitor_id**"
   ]
  },
  {
   "cell_type": "code",
   "execution_count": 53,
   "id": "29e60505",
   "metadata": {},
   "outputs": [],
   "source": [
    "# df_train.groupby('srch_visitor_id')['srch_id'].nunique().plot(kind='bar')"
   ]
  },
  {
   "cell_type": "code",
   "execution_count": 54,
   "id": "4850f83a",
   "metadata": {},
   "outputs": [
    {
     "data": {
      "text/plain": [
       "count    23101.000000\n",
       "mean         1.039479\n",
       "std          0.316091\n",
       "min          1.000000\n",
       "25%          1.000000\n",
       "50%          1.000000\n",
       "75%          1.000000\n",
       "max         25.000000\n",
       "Name: srch_id, dtype: float64"
      ]
     },
     "execution_count": 54,
     "metadata": {},
     "output_type": "execute_result"
    }
   ],
   "source": [
    "df_train.groupby('srch_visitor_id')['srch_id'].nunique().describe() # most visitors doing only 1 search in data"
   ]
  },
  {
   "cell_type": "markdown",
   "id": "a580416b",
   "metadata": {},
   "source": [
    "* **srch_visitor_visit_nbr**"
   ]
  },
  {
   "cell_type": "code",
   "execution_count": 55,
   "id": "2b2ecdbd",
   "metadata": {},
   "outputs": [
    {
     "data": {
      "text/plain": [
       "count    841115.000000\n",
       "mean         12.325977\n",
       "std          31.788936\n",
       "min           1.000000\n",
       "25%           1.000000\n",
       "50%           3.000000\n",
       "75%          10.000000\n",
       "max        1082.000000\n",
       "Name: srch_visitor_visit_nbr, dtype: float64"
      ]
     },
     "execution_count": 55,
     "metadata": {},
     "output_type": "execute_result"
    }
   ],
   "source": [
    "df_train['srch_visitor_visit_nbr'].describe()"
   ]
  },
  {
   "cell_type": "markdown",
   "id": "669c6950",
   "metadata": {},
   "source": [
    "* **srch_visitor_loc_country**: "
   ]
  },
  {
   "cell_type": "code",
   "execution_count": 56,
   "id": "494a2577",
   "metadata": {},
   "outputs": [
    {
     "data": {
      "text/plain": [
       "UNITED STATES OF AMERICA    0.550677\n",
       "not applicable              0.194833\n",
       "UNITED KINGDOM              0.060985\n",
       "SWEDEN                      0.037066\n",
       "FRANCE                      0.029045\n",
       "Name: srch_visitor_loc_country, dtype: float64"
      ]
     },
     "execution_count": 56,
     "metadata": {},
     "output_type": "execute_result"
    }
   ],
   "source": [
    "df_train['srch_visitor_loc_country'].value_counts(normalize=True).head() # big share from the US and then very long tail | 151 countries in total"
   ]
  },
  {
   "cell_type": "markdown",
   "id": "6e832f21",
   "metadata": {},
   "source": [
    "* **srch_visitor_loc_region**"
   ]
  },
  {
   "cell_type": "code",
   "execution_count": 57,
   "id": "137d6929",
   "metadata": {},
   "outputs": [
    {
     "data": {
      "text/plain": [
       "not applicable    0.449323\n",
       "CA                0.137032\n",
       "NY                0.053561\n",
       "FL                0.040652\n",
       "IL                0.034801\n",
       "Name: srch_visitor_loc_region, dtype: float64"
      ]
     },
     "execution_count": 57,
     "metadata": {},
     "output_type": "execute_result"
    }
   ],
   "source": [
    "df_train['srch_visitor_loc_region'].value_counts(normalize=True).head() # in data cleaning step have reduced to US regions only"
   ]
  },
  {
   "cell_type": "markdown",
   "id": "b427d32a",
   "metadata": {},
   "source": [
    "* **srch_visitor_loc_city**"
   ]
  },
  {
   "cell_type": "code",
   "execution_count": 58,
   "id": "26d1bafb",
   "metadata": {},
   "outputs": [
    {
     "data": {
      "text/plain": [
       "NEW YORK         0.025171\n",
       "SEOUL            0.019868\n",
       "LOS ANGELES      0.017070\n",
       "HONG KONG        0.015992\n",
       "LAS VEGAS        0.012900\n",
       "CHICAGO          0.012675\n",
       "STOCKHOLM        0.010102\n",
       "TOKYO            0.009850\n",
       "WASHINGTON       0.008435\n",
       "SAN FRANCISCO    0.008020\n",
       "Name: srch_visitor_loc_city, dtype: float64"
      ]
     },
     "execution_count": 58,
     "metadata": {},
     "output_type": "execute_result"
    }
   ],
   "source": [
    "df_train['srch_visitor_loc_city'].value_counts(normalize=True).head(10) # very long tail"
   ]
  },
  {
   "cell_type": "code",
   "execution_count": 59,
   "id": "34bcb22d",
   "metadata": {},
   "outputs": [],
   "source": [
    "def loc_city(row):\n",
    "    if row['srch_visitor_loc_city'] == 'NEW YORK':\n",
    "        return 'NewYork'\n",
    "    if row['srch_visitor_loc_city'] == 'SEOUL':\n",
    "        return 'Seoul'\n",
    "    if row['srch_visitor_loc_city'] == 'LOS ANGELES':\n",
    "        return 'LosAngeles'\n",
    "    if row['srch_visitor_loc_city'] == 'HONG KONG':\n",
    "        return 'HongKong'\n",
    "    if row['srch_visitor_loc_city'] == 'lAS VEGAS':\n",
    "        return 'LasVegas'\n",
    "    if row['srch_visitor_loc_city'] == 'CHICAGO':\n",
    "        return 'Chicago'\n",
    "    return 'not applicable'\n",
    "\n",
    "## Training\n",
    "df_train['srch_visitor_loc_city'] = df_train.apply(lambda row: loc_city(row), axis=1)\n",
    "df_test['srch_visitor_loc_city'] = df_test.apply(lambda row: loc_city(row), axis=1) # same for test"
   ]
  },
  {
   "cell_type": "markdown",
   "id": "e3561a16",
   "metadata": {},
   "source": [
    "* **srch_visitor_wr_member**"
   ]
  },
  {
   "cell_type": "code",
   "execution_count": 60,
   "id": "cfa43166",
   "metadata": {},
   "outputs": [
    {
     "data": {
      "text/plain": [
       "Missing info                                                 0.528915\n",
       "Not Signed In|Returning Visitor|Not FC Member                0.221612\n",
       "Not Signed In|New Visitor|Not FC Member                      0.107585\n",
       "Signed In|WR Member|Not FC Member                            0.076519\n",
       "Signed in - Persistent|WR Member|Not FC Member               0.058766\n",
       "Signed in - Persistent|WR Member|Remembered FC Member        0.004055\n",
       "Signed In|WR Member|FC Member                                0.001280\n",
       "Signed In|Not WR Member|Not FC Member                        0.000642\n",
       "Signed in - Persistent|Not WR Member|Not FC Member           0.000451\n",
       "Signed in - Persistent|Not WR Member|Remembered FC Member    0.000176\n",
       "Name: srch_visitor_wr_member, dtype: float64"
      ]
     },
     "execution_count": 60,
     "metadata": {},
     "output_type": "execute_result"
    }
   ],
   "source": [
    "df_train['srch_visitor_wr_member'].value_counts(normalize=True)"
   ]
  },
  {
   "cell_type": "markdown",
   "id": "07495708",
   "metadata": {},
   "source": [
    "* **srch_posa_continent**"
   ]
  },
  {
   "cell_type": "code",
   "execution_count": 61,
   "id": "6c775d54",
   "metadata": {},
   "outputs": [
    {
     "data": {
      "text/plain": [
       "NORAM      0.576910\n",
       "EUROPE     0.246317\n",
       "ASIA       0.131462\n",
       "LATAM      0.038568\n",
       "OCEANIA    0.006742\n",
       "Name: srch_posa_continent, dtype: float64"
      ]
     },
     "execution_count": 61,
     "metadata": {},
     "output_type": "execute_result"
    }
   ],
   "source": [
    "df_train['srch_posa_continent'].value_counts(normalize=True)"
   ]
  },
  {
   "cell_type": "markdown",
   "id": "a2c8426a",
   "metadata": {},
   "source": [
    "* **srch_posa_country**"
   ]
  },
  {
   "cell_type": "code",
   "execution_count": 62,
   "id": "73a16d3f",
   "metadata": {},
   "outputs": [
    {
     "data": {
      "text/plain": [
       "US                0.551092\n",
       "UNITED KINGDOM    0.060673\n",
       "SWEDEN            0.038675\n",
       "FRANCE            0.035427\n",
       "JAPAN             0.027493\n",
       "SOUTH KOREA       0.027227\n",
       "NORWAY            0.027028\n",
       "CANADA            0.025818\n",
       "EMEA              0.021731\n",
       "HONG KONG         0.019820\n",
       "Name: srch_posa_country, dtype: float64"
      ]
     },
     "execution_count": 62,
     "metadata": {},
     "output_type": "execute_result"
    }
   ],
   "source": [
    "df_train['srch_posa_country'].value_counts(normalize=True).head(10) # very long tail"
   ]
  },
  {
   "cell_type": "code",
   "execution_count": 63,
   "id": "0daa7fd0",
   "metadata": {},
   "outputs": [
    {
     "data": {
      "text/plain": [
       "67"
      ]
     },
     "execution_count": 63,
     "metadata": {},
     "output_type": "execute_result"
    }
   ],
   "source": [
    "df_train['srch_posa_country'].value_counts().count()"
   ]
  },
  {
   "cell_type": "code",
   "execution_count": 64,
   "id": "ff05cf7f",
   "metadata": {},
   "outputs": [],
   "source": [
    "# keeping top 10\n",
    "def loc_country_posa(row):\n",
    "    if row['srch_posa_country'] == 'US':\n",
    "        return row['srch_posa_country']\n",
    "    if row['srch_posa_country'] == 'UNITED KINGDOM':\n",
    "        return row['srch_posa_country']\n",
    "    if row['srch_posa_country'] == 'SWEDEN':\n",
    "        return row['srch_posa_country']\n",
    "    if row['srch_posa_country'] == 'FRANCE':\n",
    "        return row['srch_posa_country']\n",
    "    if row['srch_posa_country'] == 'JAPAN':\n",
    "        return row['srch_posa_country']\n",
    "    if row['srch_posa_country'] == 'SOUTH KOREA':\n",
    "        return row['srch_posa_country']\n",
    "    if row['srch_posa_country'] == 'NORWAY':\n",
    "        return row['srch_posa_country']\n",
    "    if row['srch_posa_country'] == 'CANADA':\n",
    "        return row['srch_posa_country']\n",
    "    if row['srch_posa_country'] == 'EMEA':\n",
    "        return row['srch_posa_country']\n",
    "    if row['srch_posa_country'] == 'HONG KONG':\n",
    "        return row['srch_posa_country']\n",
    "    return 'not applicable'\n",
    "\n",
    "## Training\n",
    "df_train['srch_posa_country'] = df_train.apply(lambda row: loc_country_posa(row), axis=1)\n",
    "df_test['srch_posa_country'] = df_test.apply(lambda row: loc_country_posa(row), axis=1) # same for test"
   ]
  },
  {
   "cell_type": "code",
   "execution_count": 65,
   "id": "8876d1ab",
   "metadata": {},
   "outputs": [
    {
     "data": {
      "text/plain": [
       "11"
      ]
     },
     "execution_count": 65,
     "metadata": {},
     "output_type": "execute_result"
    }
   ],
   "source": [
    "df_train['srch_posa_country'].nunique()"
   ]
  },
  {
   "cell_type": "markdown",
   "id": "d37a8348",
   "metadata": {},
   "source": [
    "* **srch_hcom_destination_id**"
   ]
  },
  {
   "cell_type": "code",
   "execution_count": 66,
   "id": "4809151b",
   "metadata": {},
   "outputs": [
    {
     "data": {
      "text/plain": [
       "1504033    0.272866\n",
       "1506246    0.223905\n",
       "549499     0.129187\n",
       "1497539    0.109713\n",
       "504261     0.077318\n",
       "1404711    0.052527\n",
       "726784     0.046851\n",
       "728660     0.036864\n",
       "759818     0.031849\n",
       "712491     0.018920\n",
       "Name: srch_hcom_destination_id, dtype: float64"
      ]
     },
     "execution_count": 66,
     "metadata": {},
     "output_type": "execute_result"
    }
   ],
   "source": [
    "df_train['srch_hcom_destination_id'].value_counts(normalize=True) # seems to be only on limited destinations"
   ]
  },
  {
   "cell_type": "markdown",
   "id": "f4f71428",
   "metadata": {},
   "source": [
    "* **srch_dest_longitude & srch_dest_latitude** - decide to not use as with limited destinations will be able to capture info from country or continent"
   ]
  },
  {
   "cell_type": "code",
   "execution_count": 67,
   "id": "7d808b17",
   "metadata": {},
   "outputs": [
    {
     "data": {
      "image/png": "[encoded data removed]",
      "text/plain": [
       "<Figure size 432x288 with 1 Axes>"
      ]
     },
     "metadata": {
      "needs_background": "light"
     },
     "output_type": "display_data"
    }
   ],
   "source": [
    "plt.scatter('srch_dest_longitude','srch_dest_latitude',data=df_train)\n",
    "plt.show()"
   ]
  },
  {
   "cell_type": "markdown",
   "id": "38e041b9",
   "metadata": {},
   "source": [
    "* **srch_ci & srch_co** - important information capture in other features"
   ]
  },
  {
   "cell_type": "code",
   "execution_count": 68,
   "id": "e3c32d82",
   "metadata": {},
   "outputs": [
    {
     "data": {
      "image/png": "[encoded data removed]",
      "text/plain": [
       "<Figure size 432x288 with 1 Axes>"
      ]
     },
     "metadata": {
      "needs_background": "light"
     },
     "output_type": "display_data"
    }
   ],
   "source": [
    "df_train['srch_co'].value_counts().plot(label='Check-out date')\n",
    "df_train['srch_ci'].value_counts().plot(label='Check-in date')\n",
    "plt.xlim([datetime.date(2014,8,30), datetime.date(2015,2,1)])\n",
    "plt.legend()\n",
    "plt.show()"
   ]
  },
  {
   "cell_type": "markdown",
   "id": "a11177b2",
   "metadata": {},
   "source": [
    "* **srch_ci_day, srch_co_day, srch_los & srch_bw**"
   ]
  },
  {
   "cell_type": "code",
   "execution_count": 69,
   "id": "7b6bc377",
   "metadata": {},
   "outputs": [
    {
     "data": {
      "text/plain": [
       "6    0.202\n",
       "7    0.155\n",
       "5    0.148\n",
       "4    0.129\n",
       "1    0.125\n",
       "2    0.124\n",
       "3    0.117\n",
       "Name: srch_ci_day, dtype: float64"
      ]
     },
     "execution_count": 69,
     "metadata": {},
     "output_type": "execute_result"
    }
   ],
   "source": [
    "round(df_train['srch_ci_day'].value_counts(normalize=True),3) # most check-ins on weeke-ends => more leisure"
   ]
  },
  {
   "cell_type": "code",
   "execution_count": 70,
   "id": "e9772bd9",
   "metadata": {},
   "outputs": [
    {
     "data": {
      "text/plain": [
       "1    0.232\n",
       "6    0.147\n",
       "2    0.144\n",
       "7    0.126\n",
       "5    0.121\n",
       "3    0.118\n",
       "4    0.112\n",
       "Name: srch_co_day, dtype: float64"
      ]
     },
     "execution_count": 70,
     "metadata": {},
     "output_type": "execute_result"
    }
   ],
   "source": [
    "round(df_train['srch_co_day'].value_counts(normalize=True),3) # most check-out on mondays (sunday?) 1 = ??"
   ]
  },
  {
   "cell_type": "code",
   "execution_count": 71,
   "id": "367a26be",
   "metadata": {},
   "outputs": [
    {
     "data": {
      "text/plain": [
       "1     0.332\n",
       "2     0.267\n",
       "3     0.181\n",
       "4     0.093\n",
       "5     0.048\n",
       "6     0.025\n",
       "7     0.021\n",
       "8     0.008\n",
       "10    0.007\n",
       "9     0.006\n",
       "Name: srch_los, dtype: float64"
      ]
     },
     "execution_count": 71,
     "metadata": {},
     "output_type": "execute_result"
    }
   ],
   "source": [
    "round(df_train['srch_los'].value_counts(normalize=True),3).head(10) # 75% stays between 1 and 3 "
   ]
  },
  {
   "cell_type": "code",
   "execution_count": 72,
   "id": "7202db49",
   "metadata": {},
   "outputs": [
    {
     "data": {
      "image/png": "[encoded data removed]",
      "text/plain": [
       "<Figure size 576x216 with 1 Axes>"
      ]
     },
     "metadata": {
      "needs_background": "light"
     },
     "output_type": "display_data"
    }
   ],
   "source": [
    "round(df_train['srch_bw'].value_counts(normalize=True),3).reset_index().sort_values(by='index', ascending=True).head(60).set_index('index').plot(kind='bar', figsize=(8,3))\n",
    "plt.title('BW distribution')\n",
    "plt.show()"
   ]
  },
  {
   "cell_type": "markdown",
   "id": "bfa5583e",
   "metadata": {},
   "source": [
    "* **srch_adults_cnt, srch_children_cnt & srch_rm_cnt**"
   ]
  },
  {
   "cell_type": "code",
   "execution_count": 73,
   "id": "4ce56711",
   "metadata": {},
   "outputs": [
    {
     "data": {
      "text/plain": [
       "2.0    0.634139\n",
       "1.0    0.238129\n",
       "3.0    0.053058\n",
       "4.0    0.052915\n",
       "6.0    0.008149\n",
       "Name: srch_adults_cnt, dtype: float64"
      ]
     },
     "execution_count": 73,
     "metadata": {},
     "output_type": "execute_result"
    }
   ],
   "source": [
    "df_train['srch_adults_cnt'].value_counts(normalize=True).head()"
   ]
  },
  {
   "cell_type": "code",
   "execution_count": 74,
   "id": "459e07f0",
   "metadata": {},
   "outputs": [
    {
     "data": {
      "text/plain": [
       "0.0    0.903812\n",
       "1.0    0.043566\n",
       "2.0    0.042340\n",
       "3.0    0.008629\n",
       "4.0    0.001216\n",
       "Name: srch_children_cnt, dtype: float64"
      ]
     },
     "execution_count": 74,
     "metadata": {},
     "output_type": "execute_result"
    }
   ],
   "source": [
    "df_train['srch_children_cnt'].value_counts(normalize=True).head()"
   ]
  },
  {
   "cell_type": "code",
   "execution_count": 75,
   "id": "50127a88",
   "metadata": {},
   "outputs": [],
   "source": [
    "df_train['srch_party_size_cnt'] = df_train['srch_adults_cnt'] + df_train['srch_children_cnt']\n",
    "df_test['srch_party_size_cnt'] = df_test['srch_adults_cnt'] + df_test['srch_children_cnt'] # same for test"
   ]
  },
  {
   "cell_type": "code",
   "execution_count": 76,
   "id": "2a8946e7",
   "metadata": {},
   "outputs": [
    {
     "data": {
      "text/plain": [
       "1    0.916413\n",
       "2    0.065864\n",
       "3    0.011057\n",
       "4    0.003871\n",
       "5    0.001584\n",
       "Name: srch_rm_cnt, dtype: float64"
      ]
     },
     "execution_count": 76,
     "metadata": {},
     "output_type": "execute_result"
    }
   ],
   "source": [
    "df_train['srch_rm_cnt'].value_counts(normalize=True).head()"
   ]
  },
  {
   "cell_type": "markdown",
   "id": "5fbe8203",
   "metadata": {},
   "source": [
    "* **srch_mobile_bool, srch_mobile_app, srch_device, srch_currency**"
   ]
  },
  {
   "cell_type": "code",
   "execution_count": 77,
   "id": "be842210",
   "metadata": {},
   "outputs": [
    {
     "data": {
      "text/plain": [
       "0    0.855\n",
       "1    0.145\n",
       "Name: srch_mobile_bool, dtype: float64"
      ]
     },
     "execution_count": 77,
     "metadata": {},
     "output_type": "execute_result"
    }
   ],
   "source": [
    "round(df_train['srch_mobile_bool'].value_counts(normalize=True).head(),3)"
   ]
  },
  {
   "cell_type": "code",
   "execution_count": 78,
   "id": "25a2398e",
   "metadata": {},
   "outputs": [
    {
     "data": {
      "text/plain": [
       "0    1.0\n",
       "Name: srch_mobile_app, dtype: float64"
      ]
     },
     "execution_count": 78,
     "metadata": {},
     "output_type": "execute_result"
    }
   ],
   "source": [
    "round(df_train['srch_mobile_app'].value_counts(normalize=True).head(),3) # always 0 => can be removed"
   ]
  },
  {
   "cell_type": "code",
   "execution_count": 79,
   "id": "6a151720",
   "metadata": {},
   "outputs": [
    {
     "data": {
      "text/plain": [
       "DESKTOP    0.855\n",
       "TABWEB     0.127\n",
       "WEB        0.018\n",
       "Name: srch_device, dtype: float64"
      ]
     },
     "execution_count": 79,
     "metadata": {},
     "output_type": "execute_result"
    }
   ],
   "source": [
    "round(df_train['srch_device'].value_counts(normalize=True).head(),3)"
   ]
  },
  {
   "cell_type": "code",
   "execution_count": 80,
   "id": "bbd65596",
   "metadata": {},
   "outputs": [
    {
     "data": {
      "text/plain": [
       "TABWEB    106804\n",
       "WEB        15303\n",
       "Name: srch_device, dtype: int64"
      ]
     },
     "execution_count": 80,
     "metadata": {},
     "output_type": "execute_result"
    }
   ],
   "source": [
    "df_train[df_train['srch_mobile_bool'] == 1]['srch_device'].value_counts()"
   ]
  },
  {
   "cell_type": "code",
   "execution_count": 81,
   "id": "c60db643",
   "metadata": {},
   "outputs": [
    {
     "data": {
      "text/plain": [
       "1    106804\n",
       "0       100\n",
       "Name: srch_mobile_bool, dtype: int64"
      ]
     },
     "execution_count": 81,
     "metadata": {},
     "output_type": "execute_result"
    }
   ],
   "source": [
    "df_train[df_train['srch_device'] == 'TABWEB']['srch_mobile_bool'].value_counts()"
   ]
  },
  {
   "cell_type": "code",
   "execution_count": 82,
   "id": "19b6520a",
   "metadata": {},
   "outputs": [
    {
     "data": {
      "text/plain": [
       "USD             0.491\n",
       "Missing info    0.159\n",
       "EUR             0.064\n",
       "GBP             0.052\n",
       "SEK             0.034\n",
       "NOK             0.024\n",
       "JPY             0.022\n",
       "CAD             0.021\n",
       "KRW             0.021\n",
       "HKD             0.018\n",
       "Name: srch_currency, dtype: float64"
      ]
     },
     "execution_count": 82,
     "metadata": {},
     "output_type": "execute_result"
    }
   ],
   "source": [
    "round(df_train['srch_currency'].value_counts(normalize=True).head(10),3) # keep only info for above 2%"
   ]
  },
  {
   "cell_type": "code",
   "execution_count": 83,
   "id": "e6858d25",
   "metadata": {},
   "outputs": [
    {
     "data": {
      "text/plain": [
       "52"
      ]
     },
     "execution_count": 83,
     "metadata": {},
     "output_type": "execute_result"
    }
   ],
   "source": [
    "df_train['srch_currency'].nunique()"
   ]
  },
  {
   "cell_type": "code",
   "execution_count": 84,
   "id": "e5ad3b24",
   "metadata": {},
   "outputs": [],
   "source": [
    "def loc_currency(row):\n",
    "    if row['srch_currency'] == 'USD':\n",
    "        return row['srch_currency']\n",
    "    if row['srch_currency'] == 'EUR':\n",
    "        return row['srch_currency']\n",
    "    if row['srch_currency'] == 'GBP':\n",
    "        return row['srch_currency']\n",
    "    if row['srch_currency'] == 'SEK':\n",
    "        return row['srch_currency']\n",
    "    if row['srch_currency'] == 'NOK':\n",
    "        return row['srch_currency']\n",
    "    if row['srch_currency'] == 'CAD':\n",
    "        return row['srch_currency']\n",
    "    if row['srch_currency'] == 'KRW':\n",
    "        return row['srch_currency']\n",
    "    return 'not applicable'\n",
    "\n",
    "## Training\n",
    "df_train['srch_currency'] = df_train.apply(lambda row: loc_currency(row), axis=1)\n",
    "df_test['srch_currency'] = df_test.apply(lambda row: loc_currency(row), axis=1) # same for test"
   ]
  },
  {
   "cell_type": "markdown",
   "id": "ebca2fdd",
   "metadata": {},
   "source": [
    "* **prop_travelad_bool, prop_dotd_bool & prop_imp_drr**"
   ]
  },
  {
   "cell_type": "code",
   "execution_count": 85,
   "id": "df02c1cc",
   "metadata": {},
   "outputs": [
    {
     "data": {
      "text/plain": [
       "0    0.987779\n",
       "1    0.012221\n",
       "Name: prop_travelad_bool, dtype: float64"
      ]
     },
     "execution_count": 85,
     "metadata": {},
     "output_type": "execute_result"
    }
   ],
   "source": [
    "df_train['prop_travelad_bool'].value_counts(normalize=True)"
   ]
  },
  {
   "cell_type": "code",
   "execution_count": 86,
   "id": "c4ec7322",
   "metadata": {},
   "outputs": [
    {
     "data": {
      "text/plain": [
       "0    0.996191\n",
       "1    0.003809\n",
       "Name: prop_dotd_bool, dtype: float64"
      ]
     },
     "execution_count": 86,
     "metadata": {},
     "output_type": "execute_result"
    }
   ],
   "source": [
    "df_train['prop_dotd_bool'].value_counts(normalize=True)"
   ]
  },
  {
   "cell_type": "code",
   "execution_count": 87,
   "id": "9f999887",
   "metadata": {},
   "outputs": [
    {
     "data": {
      "text/plain": [
       "0    0.574002\n",
       "1    0.425998\n",
       "Name: prop_imp_drr, dtype: float64"
      ]
     },
     "execution_count": 87,
     "metadata": {},
     "output_type": "execute_result"
    }
   ],
   "source": [
    "df_train['prop_imp_drr'].value_counts(normalize=True)"
   ]
  },
  {
   "cell_type": "markdown",
   "id": "51caa709",
   "metadata": {},
   "source": [
    "* **price features** planning to work with usd instead of local"
   ]
  },
  {
   "cell_type": "code",
   "execution_count": 88,
   "id": "ce601eeb",
   "metadata": {},
   "outputs": [
    {
     "data": {
      "image/png": "[encoded data removed]",
      "text/plain": [
       "<Figure size 432x288 with 1 Axes>"
      ]
     },
     "metadata": {
      "needs_background": "light"
     },
     "output_type": "display_data"
    }
   ],
   "source": [
    "plt.scatter('prop_price_without_discount_usd','prop_price_with_discount_usd', data=df_train)\n",
    "plt.xlabel('prop_price_without_discount_usd')\n",
    "plt.ylabel('prop_price_with_discount_usd')\n",
    "plt.show()"
   ]
  },
  {
   "cell_type": "code",
   "execution_count": 89,
   "id": "8281185d",
   "metadata": {},
   "outputs": [
    {
     "data": {
      "text/plain": [
       "count    8.411150e+05\n",
       "mean     4.527365e+02\n",
       "std      6.864481e+03\n",
       "min     -1.000000e+00\n",
       "25%      1.439800e+02\n",
       "50%      2.729600e+02\n",
       "75%      4.490000e+02\n",
       "max      1.976733e+06\n",
       "Name: prop_price_without_discount_usd, dtype: float64"
      ]
     },
     "execution_count": 89,
     "metadata": {},
     "output_type": "execute_result"
    }
   ],
   "source": [
    "df_train['prop_price_without_discount_usd'].describe()"
   ]
  },
  {
   "cell_type": "code",
   "execution_count": 90,
   "id": "d783313a",
   "metadata": {},
   "outputs": [],
   "source": [
    "df_train['row_to_remove'] = ((df_train['prop_price_without_discount_usd'] > 250000) | (df_train['prop_price_with_discount_usd'] > 250000) | (df_train['row_to_remove'] == 1) | (df_train['prop_price_without_discount_usd'] <= 0)) * 1"
   ]
  },
  {
   "cell_type": "code",
   "execution_count": 91,
   "id": "a147a700",
   "metadata": {},
   "outputs": [
    {
     "data": {
      "text/plain": [
       "186"
      ]
     },
     "execution_count": 91,
     "metadata": {},
     "output_type": "execute_result"
    }
   ],
   "source": [
    "df_train['row_to_remove'].sum()"
   ]
  },
  {
   "cell_type": "code",
   "execution_count": 92,
   "id": "1a0ff943",
   "metadata": {},
   "outputs": [
    {
     "data": {
      "image/png": "[encoded data removed]",
      "text/plain": [
       "<Figure size 432x288 with 1 Axes>"
      ]
     },
     "metadata": {
      "needs_background": "light"
     },
     "output_type": "display_data"
    }
   ],
   "source": [
    "df_train['prop_price_discount'] = abs(df_train['prop_price_with_discount_usd']/df_train['prop_price_without_discount_usd'] - 1)\n",
    "df_test['prop_price_discount'] = abs(df_test['prop_price_with_discount_usd']/df_test['prop_price_without_discount_usd'] - 1) # same for test\n",
    "df_train['prop_price_discount'].hist(bins=30)\n",
    "plt.title('Discount - %')\n",
    "plt.show()"
   ]
  },
  {
   "cell_type": "code",
   "execution_count": 93,
   "id": "d75c5c95",
   "metadata": {},
   "outputs": [
    {
     "data": {
      "text/plain": [
       "53"
      ]
     },
     "execution_count": 93,
     "metadata": {},
     "output_type": "execute_result"
    }
   ],
   "source": [
    "(df_train['prop_price_without_discount_usd'] <= 0).sum()"
   ]
  },
  {
   "cell_type": "code",
   "execution_count": 94,
   "id": "1fc18adc",
   "metadata": {},
   "outputs": [],
   "source": [
    "df_train['prop_price_discount'].fillna(value=0, inplace=True)\n",
    "df_test['prop_price_discount'].fillna(value=0, inplace=True)"
   ]
  },
  {
   "cell_type": "markdown",
   "id": "ac377ee1",
   "metadata": {},
   "source": [
    "* **property**"
   ]
  },
  {
   "cell_type": "code",
   "execution_count": 95,
   "id": "4bd11886",
   "metadata": {},
   "outputs": [
    {
     "data": {
      "text/plain": [
       "1    0.664118\n",
       "0    0.335882\n",
       "Name: prop_brand_bool, dtype: float64"
      ]
     },
     "execution_count": 95,
     "metadata": {},
     "output_type": "execute_result"
    }
   ],
   "source": [
    "df_train['prop_brand_bool'].value_counts(normalize=True)"
   ]
  },
  {
   "cell_type": "code",
   "execution_count": 96,
   "id": "51d521aa",
   "metadata": {},
   "outputs": [
    {
     "data": {
      "text/plain": [
       "4.0    0.357610\n",
       "3.0    0.250739\n",
       "3.5    0.124336\n",
       "5.0    0.095178\n",
       "4.5    0.066080\n",
       "2.0    0.044833\n",
       "2.5    0.042225\n",
       "0.0    0.012594\n",
       "1.5    0.005818\n",
       "1.0    0.000586\n",
       "Name: prop_starrating, dtype: float64"
      ]
     },
     "execution_count": 96,
     "metadata": {},
     "output_type": "execute_result"
    }
   ],
   "source": [
    "df_train['prop_starrating'].value_counts(normalize=True)"
   ]
  },
  {
   "cell_type": "code",
   "execution_count": 97,
   "id": "a74c2ae6",
   "metadata": {},
   "outputs": [
    {
     "data": {
      "text/plain": [
       "AMER     0.659011\n",
       "EMEA     0.225422\n",
       "APAC     0.115564\n",
       "LATAM    0.000002\n",
       "Name: prop_super_region, dtype: float64"
      ]
     },
     "execution_count": 97,
     "metadata": {},
     "output_type": "execute_result"
    }
   ],
   "source": [
    "df_train['prop_super_region'].value_counts(normalize=True)"
   ]
  },
  {
   "cell_type": "code",
   "execution_count": 98,
   "id": "c8b07ab0",
   "metadata": {},
   "outputs": [
    {
     "data": {
      "text/plain": [
       "NORTHAMERICA    0.659011\n",
       "EUROPE          0.225422\n",
       "ASIA            0.115564\n",
       "LATAM           0.000002\n",
       "Name: prop_continent, dtype: float64"
      ]
     },
     "execution_count": 98,
     "metadata": {},
     "output_type": "execute_result"
    }
   ],
   "source": [
    "df_train['prop_continent'].value_counts(normalize=True) # similar as previous - not needed"
   ]
  },
  {
   "cell_type": "code",
   "execution_count": 99,
   "id": "af49c0e0",
   "metadata": {},
   "outputs": [
    {
     "data": {
      "text/plain": [
       "UNITED STATES OF AMERICA    0.659011\n",
       "UNITED KINGDOM              0.129187\n",
       "JAPAN                       0.083715\n",
       "FRANCE                      0.077315\n",
       "SOUTH KOREA                 0.031849\n",
       "ITALY                       0.018920\n",
       "MARTINIQUE                  0.000002\n",
       "Name: prop_country, dtype: float64"
      ]
     },
     "execution_count": 99,
     "metadata": {},
     "output_type": "execute_result"
    }
   ],
   "source": [
    "df_train['prop_country'].value_counts(normalize=True)\n",
    "# df_test['prop_country'].value_counts(normalize=True)"
   ]
  },
  {
   "cell_type": "code",
   "execution_count": 100,
   "id": "f855da04",
   "metadata": {},
   "outputs": [
    {
     "data": {
      "text/plain": [
       "95602    0.272721\n",
       "95656    0.219763\n",
       "369      0.129133\n",
       "95612    0.107887\n",
       "407      0.073844\n",
       "95664    0.052541\n",
       "60039    0.042094\n",
       "60041    0.034496\n",
       "90988    0.031815\n",
       "426      0.018261\n",
       "Name: prop_market_id, dtype: float64"
      ]
     },
     "execution_count": 100,
     "metadata": {},
     "output_type": "execute_result"
    }
   ],
   "source": [
    "df_train['prop_market_id'].value_counts(normalize=True).head(10) # keep only above 1%"
   ]
  },
  {
   "cell_type": "code",
   "execution_count": 101,
   "id": "244bba89",
   "metadata": {},
   "outputs": [],
   "source": [
    "def loc_market(row):\n",
    "    if row['prop_market_id'] == 95602:\n",
    "        return row['prop_market_id']\n",
    "    if row['prop_market_id'] == 95656:\n",
    "        return row['prop_market_id']\n",
    "    if row['prop_market_id'] == 369:\n",
    "        return row['prop_market_id']\n",
    "    if row['prop_market_id'] == 95612:\n",
    "        return row['prop_market_id']\n",
    "    if row['prop_market_id'] == 407:\n",
    "        return row['prop_market_id']\n",
    "    if row['prop_market_id'] == 95664:\n",
    "        return row['prop_market_id']\n",
    "    if row['prop_market_id'] == 60039:\n",
    "        return row['prop_market_id']\n",
    "    if row['prop_market_id'] == 60041:\n",
    "        return row['prop_market_id']\n",
    "    if row['prop_market_id'] == 90988:\n",
    "        return row['prop_market_id']\n",
    "    if row['prop_market_id'] == 426:\n",
    "        return row['prop_market_id']\n",
    "    return 'not applicable'\n",
    "\n",
    "## Training\n",
    "df_train['prop_market_id'] = df_train.apply(lambda row: loc_market(row), axis=1)\n",
    "df_test['prop_market_id'] = df_test.apply(lambda row: loc_market(row), axis=1) # same for test"
   ]
  },
  {
   "cell_type": "code",
   "execution_count": 102,
   "id": "54a8d5b0",
   "metadata": {},
   "outputs": [
    {
     "data": {
      "text/plain": [
       "110287    0.134464\n",
       "96812     0.096414\n",
       "110029    0.061416\n",
       "108670    0.058424\n",
       "96809     0.045764\n",
       "Name: prop_submarket_id, dtype: float64"
      ]
     },
     "execution_count": 102,
     "metadata": {},
     "output_type": "execute_result"
    }
   ],
   "source": [
    "df_train['prop_submarket_id'].value_counts(normalize=True).head()"
   ]
  },
  {
   "cell_type": "code",
   "execution_count": 103,
   "id": "5634088b",
   "metadata": {},
   "outputs": [
    {
     "data": {
      "image/png": "[encoded data removed]",
      "text/plain": [
       "<Figure size 432x288 with 1 Axes>"
      ]
     },
     "metadata": {
      "needs_background": "light"
     },
     "output_type": "display_data"
    }
   ],
   "source": [
    "df_train['prop_room_capacity'].hist(bins=50)\n",
    "plt.show()"
   ]
  },
  {
   "cell_type": "code",
   "execution_count": 104,
   "id": "fba3753b",
   "metadata": {},
   "outputs": [
    {
     "data": {
      "text/plain": [
       "1770"
      ]
     },
     "execution_count": 104,
     "metadata": {},
     "output_type": "execute_result"
    }
   ],
   "source": [
    "(df_train['prop_room_capacity'] == 0).sum()"
   ]
  },
  {
   "cell_type": "code",
   "execution_count": 105,
   "id": "69cab692",
   "metadata": {},
   "outputs": [],
   "source": [
    "def loc_room(row):\n",
    "    if row['prop_room_capacity'] <= 0:\n",
    "        return -1\n",
    "    return row['prop_room_capacity']\n",
    "\n",
    "## Training\n",
    "df_train['prop_room_capacity'] = df_train.apply(lambda row: loc_room(row), axis=1)\n",
    "df_test['prop_room_capacity'] = df_test.apply(lambda row: loc_room(row), axis=1) # same for test"
   ]
  },
  {
   "cell_type": "code",
   "execution_count": 106,
   "id": "f5594af3",
   "metadata": {},
   "outputs": [
    {
     "data": {
      "image/png": "[encoded data removed]",
      "text/plain": [
       "<Figure size 432x288 with 1 Axes>"
      ]
     },
     "metadata": {
      "needs_background": "light"
     },
     "output_type": "display_data"
    }
   ],
   "source": [
    "df_train['prop_review_score'].hist()\n",
    "plt.title('Property review score - Distribution')\n",
    "plt.show()"
   ]
  },
  {
   "cell_type": "code",
   "execution_count": 107,
   "id": "7542c9bf",
   "metadata": {},
   "outputs": [
    {
     "data": {
      "image/png": "[encoded data removed]",
      "text/plain": [
       "<Figure size 432x288 with 1 Axes>"
      ]
     },
     "metadata": {
      "needs_background": "light"
     },
     "output_type": "display_data"
    }
   ],
   "source": [
    "df_train['prop_review_count'].hist(bins=30)\n",
    "plt.title('Property review counts - Distribution')\n",
    "plt.show()"
   ]
  },
  {
   "cell_type": "code",
   "execution_count": 108,
   "id": "b1ffeff7",
   "metadata": {},
   "outputs": [
    {
     "data": {
      "text/plain": [
       "0    0.997112\n",
       "1    0.002888\n",
       "Name: prop_hostel_bool, dtype: float64"
      ]
     },
     "execution_count": 108,
     "metadata": {},
     "output_type": "execute_result"
    }
   ],
   "source": [
    "df_train['prop_hostel_bool'].value_counts(normalize=True).head()"
   ]
  },
  {
   "cell_type": "markdown",
   "id": "6fe66a68",
   "metadata": {},
   "source": [
    "* **prop_booking_bool (target)**"
   ]
  },
  {
   "cell_type": "code",
   "execution_count": 109,
   "id": "32682589",
   "metadata": {},
   "outputs": [
    {
     "data": {
      "text/plain": [
       "Index(['srch_id', 'prop_key', 'srch_date_time', 'srch_visitor_id',\n",
       "       'srch_visitor_visit_nbr', 'srch_visitor_loc_country',\n",
       "       'srch_visitor_loc_region', 'srch_visitor_loc_city',\n",
       "       'srch_visitor_wr_member', 'srch_posa_continent', 'srch_posa_country',\n",
       "       'srch_hcom_destination_id', 'srch_dest_longitude', 'srch_dest_latitude',\n",
       "       'srch_ci', 'srch_co', 'srch_ci_day', 'srch_co_day', 'srch_los',\n",
       "       'srch_bw', 'srch_adults_cnt', 'srch_children_cnt', 'srch_rm_cnt',\n",
       "       'srch_mobile_bool', 'srch_mobile_app', 'srch_device', 'srch_currency',\n",
       "       'prop_travelad_bool', 'prop_dotd_bool',\n",
       "       'prop_price_without_discount_local', 'prop_price_without_discount_usd',\n",
       "       'prop_price_with_discount_local', 'prop_price_with_discount_usd',\n",
       "       'prop_imp_drr', 'prop_booking_bool', 'prop_brand_bool',\n",
       "       'prop_starrating', 'prop_super_region', 'prop_continent',\n",
       "       'prop_country', 'prop_market_id', 'prop_submarket_id',\n",
       "       'prop_room_capacity', 'prop_review_score', 'prop_review_count',\n",
       "       'prop_hostel_bool', 'srch_local_date', 'row_to_remove',\n",
       "       'srch_party_size_cnt', 'prop_price_discount'],\n",
       "      dtype='object')"
      ]
     },
     "execution_count": 109,
     "metadata": {},
     "output_type": "execute_result"
    }
   ],
   "source": [
    "df_train.columns"
   ]
  },
  {
   "cell_type": "code",
   "execution_count": 110,
   "id": "3e4514e3",
   "metadata": {},
   "outputs": [],
   "source": [
    "# features classification\n",
    "label = ['prop_booking_bool','srch_id']\n",
    "remove_input = ['srch_id','prop_key','srch_date_time','srch_visitor_id','srch_dest_longitude','srch_dest_latitude','srch_ci','srch_co','prop_continent','srch_mobile_app',\\\n",
    "               'prop_price_without_discount_local','prop_price_with_discount_local','prop_submarket_id','srch_loca_date']\n",
    "\n",
    "keep_input = ['srch_visitor_loc_country','srch_visitor_loc_region','srch_visitor_loc_city','srch_visitor_wr_member','srch_visitor_visit_nbr','srch_posa_continent','srch_posa_country',\\\n",
    "              'srch_hcom_destination_id','srch_ci_day', 'srch_co_day', 'srch_los','srch_bw','srch_adults_cnt', 'srch_children_cnt','srch_party_size_cnt','srch_rm_cnt','srch_mobile_bool','srch_device',\\\n",
    "             'srch_currency','prop_travelad_bool', 'prop_dotd_bool','prop_imp_drr','prop_price_without_discount_usd','prop_price_with_discount_usd','prop_price_discount',\\\n",
    "             'prop_review_score', 'prop_review_count','prop_room_capacity','prop_brand_bool','prop_starrating','prop_super_region','prop_country','prop_hostel_bool','prop_market_id']\n",
    "keep_input_cont = ['srch_visitor_visit_nbr','srch_los','srch_bw','srch_adults_cnt', 'srch_children_cnt', 'srch_rm_cnt','srch_party_size_cnt','prop_price_without_discount_usd','prop_price_with_discount_usd',\\\n",
    "                  'prop_price_discount','prop_review_score','prop_room_capacity','prop_review_count','prop_starrating','prop_travelad_bool', 'prop_dotd_bool','prop_imp_drr','prop_brand_bool','prop_hostel_bool']\n",
    "keep_input_cat = ['srch_visitor_loc_country','srch_visitor_loc_region','srch_visitor_loc_city','srch_visitor_wr_member','srch_posa_continent','srch_posa_country','srch_hcom_destination_id',\\\n",
    "                 'srch_ci_day', 'srch_co_day','srch_mobile_bool','srch_device','srch_currency','prop_super_region',\\\n",
    "                 'prop_country','prop_market_id']"
   ]
  },
  {
   "cell_type": "code",
   "execution_count": 111,
   "id": "3d10336e",
   "metadata": {},
   "outputs": [],
   "source": [
    "df_train_clean = df_train[~(df_train['row_to_remove'] == 1)]"
   ]
  },
  {
   "cell_type": "code",
   "execution_count": 112,
   "id": "22848f6d",
   "metadata": {},
   "outputs": [
    {
     "data": {
      "text/plain": [
       "840928"
      ]
     },
     "execution_count": 112,
     "metadata": {},
     "output_type": "execute_result"
    }
   ],
   "source": [
    "df_train_clean.reset_index(inplace=True)\n",
    "df_train_clean.index.max()"
   ]
  },
  {
   "cell_type": "code",
   "execution_count": 113,
   "id": "2a2d7f84",
   "metadata": {},
   "outputs": [
    {
     "data": {
      "text/plain": [
       "(840929, 51)"
      ]
     },
     "execution_count": 113,
     "metadata": {},
     "output_type": "execute_result"
    }
   ],
   "source": [
    "df_train_clean.shape"
   ]
  },
  {
   "cell_type": "markdown",
   "id": "e1225a0c",
   "metadata": {},
   "source": [
    "***\n",
    "### Analytics\n",
    "\n",
    "#### Better Traveler experience - what characteristics of hotels booked?"
   ]
  },
  {
   "cell_type": "code",
   "execution_count": 114,
   "id": "de3b06b8",
   "metadata": {},
   "outputs": [
    {
     "data": {
      "image/png": "[encoded data removed]",
      "text/plain": [
       "<Figure size 864x720 with 2 Axes>"
      ]
     },
     "metadata": {
      "needs_background": "light"
     },
     "output_type": "display_data"
    }
   ],
   "source": [
    "plt.figure(figsize=(12,10))\n",
    "sns.heatmap(round(df_train_clean[keep_input_cont+label].corr(),2), annot=True)\n",
    "plt.show()"
   ]
  },
  {
   "cell_type": "code",
   "execution_count": 115,
   "id": "b0db6af8",
   "metadata": {},
   "outputs": [
    {
     "data": {
      "image/png": "[encoded data removed]",
      "text/plain": [
       "<Figure size 144x576 with 1 Axes>"
      ]
     },
     "metadata": {
      "needs_background": "light"
     },
     "output_type": "display_data"
    }
   ],
   "source": [
    "df_train_clean[keep_input_cont+label].corr()['prop_booking_bool'].sort_values(ascending=True)[df_train.corr()['prop_booking_bool'].sort_values(ascending=False) < 1].plot(kind='barh', figsize=(2,8))\n",
    "plt.title('Correlation to target - What features have higher impact on chance of booking')\n",
    "plt.show()"
   ]
  },
  {
   "cell_type": "markdown",
   "id": "c32838d9",
   "metadata": {},
   "source": [
    "#### Highest correlated features to target"
   ]
  },
  {
   "cell_type": "code",
   "execution_count": 116,
   "id": "8a811c35",
   "metadata": {},
   "outputs": [
    {
     "data": {
      "image/png": "[encoded data removed]",
      "text/plain": [
       "<Figure size 288x144 with 1 Axes>"
      ]
     },
     "metadata": {
      "needs_background": "light"
     },
     "output_type": "display_data"
    }
   ],
   "source": [
    "df_dotd = df_train_clean.groupby(['prop_super_region','prop_booking_bool'])['srch_los','prop_dotd_bool'].agg({'srch_los':'count','prop_dotd_bool':'sum'})\n",
    "df_dotd['dotd_ratio'] = df_dotd['prop_dotd_bool'] /df_dotd['srch_los']\n",
    "df_dotd_chart = df_dotd.reset_index().pivot(index='prop_super_region', columns='prop_booking_bool', values='dotd_ratio')\n",
    "X_axis = np.arange(len(df_dotd_chart.index))\n",
    "plt.figure(figsize=(4,2))\n",
    "plt.bar(x=X_axis - 0.2,height=df_dotd_chart[0], width=0.4, label='w/o DOTD')\n",
    "plt.bar(x=X_axis + 0.2,height=df_dotd_chart[1], width=0.4, label='with DOTD')\n",
    "plt.xticks(X_axis, df_dotd_chart.index)\n",
    "plt.ylabel('Ratio prop. booked')\n",
    "plt.title('Properties with DOTD booked more often')\n",
    "plt.legend()\n",
    "plt.show()"
   ]
  },
  {
   "cell_type": "code",
   "execution_count": 117,
   "id": "51412b6a",
   "metadata": {},
   "outputs": [
    {
     "data": {
      "image/png": "[encoded data removed]",
      "text/plain": [
       "<Figure size 432x288 with 1 Axes>"
      ]
     },
     "metadata": {
      "needs_background": "light"
     },
     "output_type": "display_data"
    }
   ],
   "source": [
    "# prop_review_count\n",
    "#plt.figure(figsize=(4,2))\n",
    "sns.boxplot(x='srch_posa_continent',y='prop_review_count', hue='prop_booking_bool',data=df_train_clean)\n",
    "plt.ylim(0,15000)\n",
    "plt.title('Properties with high review count bare booked more often')\n",
    "plt.show()"
   ]
  },
  {
   "cell_type": "code",
   "execution_count": 118,
   "id": "b8e491b7",
   "metadata": {},
   "outputs": [
    {
     "data": {
      "image/png": "[encoded data removed]",
      "text/plain": [
       "<Figure size 432x288 with 1 Axes>"
      ]
     },
     "metadata": {
      "needs_background": "light"
     },
     "output_type": "display_data"
    }
   ],
   "source": [
    "# prop_room_capacity\n",
    "sns.boxplot(x='srch_posa_continent',y='prop_room_capacity', hue='prop_booking_bool',data=df_train_clean)\n",
    "plt.ylim(0,6000)\n",
    "plt.show()"
   ]
  },
  {
   "cell_type": "code",
   "execution_count": 119,
   "id": "cb8df638",
   "metadata": {},
   "outputs": [
    {
     "data": {
      "image/png": "[encoded data removed]",
      "text/plain": [
       "<Figure size 432x288 with 1 Axes>"
      ]
     },
     "metadata": {
      "needs_background": "light"
     },
     "output_type": "display_data"
    }
   ],
   "source": [
    "# prop_price_discount\n",
    "sns.boxplot(x='srch_posa_continent',y='prop_price_discount', hue='prop_booking_bool',data=df_train_clean)\n",
    "plt.title('Properties offering high discounts get booked more often')\n",
    "plt.show()"
   ]
  },
  {
   "cell_type": "code",
   "execution_count": 120,
   "id": "7837141f",
   "metadata": {},
   "outputs": [
    {
     "data": {
      "image/png": "[encoded data removed]",
      "text/plain": [
       "<Figure size 432x288 with 1 Axes>"
      ]
     },
     "metadata": {
      "needs_background": "light"
     },
     "output_type": "display_data"
    }
   ],
   "source": [
    "sns.boxplot(x='srch_device',y='prop_price_discount', hue='prop_booking_bool',data=df_train_clean)\n",
    "plt.title('Properties offering high discounts get booked more often')\n",
    "plt.show()"
   ]
  },
  {
   "cell_type": "code",
   "execution_count": 121,
   "id": "96a97913",
   "metadata": {},
   "outputs": [
    {
     "data": {
      "image/png": "[encoded data removed]",
      "text/plain": [
       "<Figure size 432x288 with 1 Axes>"
      ]
     },
     "metadata": {
      "needs_background": "light"
     },
     "output_type": "display_data"
    }
   ],
   "source": [
    "sns.boxplot(x='srch_visitor_wr_member',y='prop_price_discount', hue='prop_booking_bool',data=df_train_clean)\n",
    "plt.title('Properties offering high discounts get booked more often')\n",
    "plt.xticks(rotation=90)\n",
    "plt.show()"
   ]
  },
  {
   "cell_type": "code",
   "execution_count": 122,
   "id": "c5de1a8d",
   "metadata": {},
   "outputs": [
    {
     "data": {
      "image/png": "[encoded data removed]",
      "text/plain": [
       "<Figure size 288x144 with 1 Axes>"
      ]
     },
     "metadata": {
      "needs_background": "light"
     },
     "output_type": "display_data"
    }
   ],
   "source": [
    "df_imp_drr = df_train_clean.groupby(['prop_super_region','prop_booking_bool'])['srch_los','prop_imp_drr'].agg({'srch_los':'count','prop_imp_drr':'sum'})\n",
    "df_imp_drr['drr_ratio'] = df_imp_drr['prop_imp_drr'] /df_imp_drr['srch_los']\n",
    "df_imp_drr_chart = df_imp_drr.reset_index().pivot(index='prop_super_region', columns='prop_booking_bool', values='drr_ratio')\n",
    "X_axis = np.arange(len(df_imp_drr_chart.index))\n",
    "plt.figure(figsize=(4,2))\n",
    "plt.bar(x=X_axis - 0.2,height=df_imp_drr_chart[0], width=0.4, label='w/o DRR')\n",
    "plt.bar(x=X_axis + 0.2,height=df_imp_drr_chart[1], width=0.4, label='with DRR')\n",
    "plt.xticks(X_axis, df_imp_drr_chart.index)\n",
    "plt.ylabel('Ratio prop. booked')\n",
    "plt.title('Properties with imp. DRR. booked more often')\n",
    "plt.legend()\n",
    "plt.show()"
   ]
  },
  {
   "cell_type": "markdown",
   "id": "1fd22fe4",
   "metadata": {},
   "source": [
    "#### High correlated features to each-others"
   ]
  },
  {
   "cell_type": "code",
   "execution_count": 123,
   "id": "f5064b73",
   "metadata": {},
   "outputs": [
    {
     "data": {
      "image/png": "[encoded data removed]",
      "text/plain": [
       "<Figure size 432x288 with 1 Axes>"
      ]
     },
     "metadata": {
      "needs_background": "light"
     },
     "output_type": "display_data"
    }
   ],
   "source": [
    "# party_size to srch_bw => the bigger the number of persons trabeller the bigger the BW\n",
    "sns.boxplot(x='srch_party_size_cnt',y='srch_bw',data=df_train_clean)\n",
    "#plt.ylim(0,15000)\n",
    "plt.title('Bigger party size are booking more in advance')\n",
    "plt.show()"
   ]
  },
  {
   "cell_type": "code",
   "execution_count": 124,
   "id": "a420605f",
   "metadata": {},
   "outputs": [
    {
     "data": {
      "image/png": "[encoded data removed]",
      "text/plain": [
       "<Figure size 432x288 with 1 Axes>"
      ]
     },
     "metadata": {
      "needs_background": "light"
     },
     "output_type": "display_data"
    }
   ],
   "source": [
    "# LOS x BW => the longer you will stay the more in advance you will book\n",
    "sns.boxplot(x='srch_los',y='srch_bw',data=df_train_clean)\n",
    "#plt.ylim(0,15000)\n",
    "plt.title('The longer you stay the more in advance you book')\n",
    "plt.show()"
   ]
  },
  {
   "cell_type": "code",
   "execution_count": 125,
   "id": "4972c091",
   "metadata": {},
   "outputs": [
    {
     "data": {
      "image/png": "[encoded data removed]",
      "text/plain": [
       "<Figure size 432x288 with 1 Axes>"
      ]
     },
     "metadata": {
      "needs_background": "light"
     },
     "output_type": "display_data"
    }
   ],
   "source": [
    "# Star rating x review scores => the higher the star rating the better the review score\n",
    "sns.boxplot(x='prop_starrating',y='prop_review_score',data=df_train_clean)\n",
    "#plt.ylim(0,15000)\n",
    "plt.title('The higher the star rating the better the review score')\n",
    "plt.show()"
   ]
  },
  {
   "cell_type": "markdown",
   "id": "b86a1f4f",
   "metadata": {},
   "source": [
    "***\n",
    "## (B) ML basic predictive models\n",
    "\n",
    "### Input features"
   ]
  },
  {
   "cell_type": "code",
   "execution_count": 126,
   "id": "aa0845c3",
   "metadata": {},
   "outputs": [
    {
     "name": "stdout",
     "output_type": "stream",
     "text": [
      "Train categorical shape: (840929, 154)\n",
      "Test categorical shape: (351544, 155)\n"
     ]
    }
   ],
   "source": [
    "# categorical variable \n",
    "df_train_encoded = pd.get_dummies(df_train_clean[keep_input_cat], columns=keep_input_cat)\n",
    "print('Train categorical shape:',df_train_encoded.shape)\n",
    "# same for test\n",
    "df_test_encoded = pd.get_dummies(df_test[keep_input_cat], columns=keep_input_cat)\n",
    "print('Test categorical shape:',df_test_encoded.shape)"
   ]
  },
  {
   "cell_type": "code",
   "execution_count": 127,
   "id": "367cebb9",
   "metadata": {},
   "outputs": [
    {
     "name": "stdout",
     "output_type": "stream",
     "text": [
      "Train continuous shape: (840929, 19)\n",
      "Test continuous shape: (351544, 19)\n"
     ]
    }
   ],
   "source": [
    "# continuous variable\n",
    "# scaler = StandardScaler() change to RobustScaler as StandardScaler is assuming Normal distribution which is not the case here\n",
    "scaler = RobustScaler()\n",
    "df_train_scaled = pd.DataFrame(scaler.fit_transform(X=df_train_clean[keep_input_cont]), columns=keep_input_cont)\n",
    "print('Train continuous shape:',df_train_scaled.shape)\n",
    "# same for test\n",
    "df_test_scaled = pd.DataFrame(scaler.transform(X=df_test[keep_input_cont]), columns=keep_input_cont)\n",
    "print('Test continuous shape:',df_test_scaled.shape)"
   ]
  },
  {
   "cell_type": "code",
   "execution_count": 128,
   "id": "7e6e877f",
   "metadata": {},
   "outputs": [
    {
     "name": "stdout",
     "output_type": "stream",
     "text": [
      "Shape training input arrival: (840929, 173)\n",
      "Shape training input arrival: (351544, 174)\n"
     ]
    }
   ],
   "source": [
    "# input features\n",
    "df_train_input = df_train_scaled.merge(right=df_train_encoded, how='left', left_index=True, right_index=True)\n",
    "X_train = df_train_input.values\n",
    "print('Shape training input arrival:',X_train.shape)\n",
    "# same for test\n",
    "df_test_input = df_test_scaled.merge(right=df_test_encoded, how='left', left_index=True, right_index=True)\n",
    "X_test = df_test_input.values\n",
    "print('Shape training input arrival:',X_test.shape)"
   ]
  },
  {
   "cell_type": "code",
   "execution_count": 129,
   "id": "f95cbd59",
   "metadata": {},
   "outputs": [
    {
     "name": "stdout",
     "output_type": "stream",
     "text": [
      "srch_visitor_wr_member_Signed in - Persistent|Not WR Member|Remembered FC Member\n"
     ]
    }
   ],
   "source": [
    "# arrival set\n",
    "train_list = df_train_input.columns.tolist()\n",
    "test_list = df_test_input.columns.tolist()\n",
    "\n",
    "# identify columns which are in train set but not in test sets\n",
    "for x in train_list:\n",
    "    if x in test_list: continue\n",
    "    else:\n",
    "        print(x)"
   ]
  },
  {
   "cell_type": "code",
   "execution_count": 130,
   "id": "e55c9b22",
   "metadata": {},
   "outputs": [
    {
     "name": "stdout",
     "output_type": "stream",
     "text": [
      "Shape training input arrival: (351544, 173)\n"
     ]
    }
   ],
   "source": [
    "df_test_input_reindex = df_test_input.reindex(columns=df_train_input.columns,fill_value=0.0)\n",
    "X_test_reindex = df_test_input_reindex.values\n",
    "print('Shape training input arrival:',X_test_reindex.shape)"
   ]
  },
  {
   "cell_type": "markdown",
   "id": "e6509cc8",
   "metadata": {},
   "source": [
    "### Output features"
   ]
  },
  {
   "cell_type": "code",
   "execution_count": 131,
   "id": "0d1903ed",
   "metadata": {},
   "outputs": [],
   "source": [
    "y_train = df_train_clean['prop_booking_bool'].values"
   ]
  },
  {
   "cell_type": "markdown",
   "id": "74e9a328",
   "metadata": {},
   "source": [
    "### Train validation split"
   ]
  },
  {
   "cell_type": "code",
   "execution_count": 132,
   "id": "12d06308",
   "metadata": {},
   "outputs": [],
   "source": [
    "X_tr, X_va, y_tr, y_va = train_test_split(X_train, y_train, test_size=0.2, random_state=18)\n",
    "X_te = X_test_reindex"
   ]
  },
  {
   "cell_type": "code",
   "execution_count": 133,
   "id": "f1caa64a",
   "metadata": {},
   "outputs": [
    {
     "name": "stdout",
     "output_type": "stream",
     "text": [
      "X_tr: (672743, 173)\n",
      "X_va: (168186, 173)\n",
      "X_te: (351544, 173)\n",
      "y_tr: (672743,)\n",
      "y_va: (168186,)\n"
     ]
    }
   ],
   "source": [
    "print('X_tr:',X_tr.shape)\n",
    "print('X_va:',X_va.shape)\n",
    "print('X_te:',X_te.shape)\n",
    "print('y_tr:',y_tr.shape)\n",
    "print('y_va:',y_va.shape)"
   ]
  },
  {
   "cell_type": "markdown",
   "id": "60b05cce",
   "metadata": {},
   "source": [
    "#### Logistic Regression"
   ]
  },
  {
   "cell_type": "code",
   "execution_count": 134,
   "id": "df35466b",
   "metadata": {},
   "outputs": [],
   "source": [
    "logreg = LogisticRegression(multi_class='ovr',solver='liblinear')"
   ]
  },
  {
   "cell_type": "code",
   "execution_count": 135,
   "id": "074c14a5",
   "metadata": {},
   "outputs": [
    {
     "data": {
      "text/plain": [
       "LogisticRegression(multi_class='ovr', solver='liblinear')"
      ]
     },
     "execution_count": 135,
     "metadata": {},
     "output_type": "execute_result"
    }
   ],
   "source": [
    "logreg.fit(X_tr, y_tr)\n",
    "#logreg.score(X_va, y_va)"
   ]
  },
  {
   "cell_type": "code",
   "execution_count": 136,
   "id": "5c42b4af",
   "metadata": {},
   "outputs": [
    {
     "data": {
      "text/plain": [
       "0.970764510720274"
      ]
     },
     "execution_count": 136,
     "metadata": {},
     "output_type": "execute_result"
    }
   ],
   "source": [
    "# accuracy - imbalanced data set and therefore accuracy not very relevant => f1 score\n",
    "logreg.score(X_va, y_va)"
   ]
  },
  {
   "cell_type": "code",
   "execution_count": 137,
   "id": "6432b29b",
   "metadata": {},
   "outputs": [
    {
     "data": {
      "text/plain": [
       "array([[0.97452134, 0.02547866],\n",
       "       [0.9710846 , 0.0289154 ],\n",
       "       [0.97305668, 0.02694332],\n",
       "       ...,\n",
       "       [0.96538621, 0.03461379],\n",
       "       [0.96186088, 0.03813912],\n",
       "       [0.94583856, 0.05416144]])"
      ]
     },
     "execution_count": 137,
     "metadata": {},
     "output_type": "execute_result"
    }
   ],
   "source": [
    "# we will be using probabilities to rank properties\n",
    "logreg.predict_proba(X_te)"
   ]
  },
  {
   "cell_type": "code",
   "execution_count": 138,
   "id": "d9f7a43b",
   "metadata": {},
   "outputs": [],
   "source": [
    "df_test_final = pd.merge(left=df_test[['srch_id','prop_key']], right=pd.DataFrame(logreg.predict_proba(X_te)), how='left', left_index=True, right_index=True)"
   ]
  },
  {
   "cell_type": "code",
   "execution_count": 139,
   "id": "67eacbe5",
   "metadata": {},
   "outputs": [
    {
     "data": {
      "text/html": [
       "<div>\n",
       "<style scoped>\n",
       "    .dataframe tbody tr th:only-of-type {\n",
       "        vertical-align: middle;\n",
       "    }\n",
       "\n",
       "    .dataframe tbody tr th {\n",
       "        vertical-align: top;\n",
       "    }\n",
       "\n",
       "    .dataframe thead th {\n",
       "        text-align: right;\n",
       "    }\n",
       "</style>\n",
       "<table border=\"1\" class=\"dataframe\">\n",
       "  <thead>\n",
       "    <tr style=\"text-align: right;\">\n",
       "      <th></th>\n",
       "      <th>srch_id</th>\n",
       "      <th>prop_key</th>\n",
       "      <th>0</th>\n",
       "      <th>1</th>\n",
       "    </tr>\n",
       "  </thead>\n",
       "  <tbody>\n",
       "    <tr>\n",
       "      <th>0</th>\n",
       "      <td>-1087756044</td>\n",
       "      <td>3075608</td>\n",
       "      <td>0.974521</td>\n",
       "      <td>0.025479</td>\n",
       "    </tr>\n",
       "    <tr>\n",
       "      <th>1</th>\n",
       "      <td>-1087756044</td>\n",
       "      <td>242706</td>\n",
       "      <td>0.971085</td>\n",
       "      <td>0.028915</td>\n",
       "    </tr>\n",
       "    <tr>\n",
       "      <th>2</th>\n",
       "      <td>-1087756044</td>\n",
       "      <td>247231</td>\n",
       "      <td>0.973057</td>\n",
       "      <td>0.026943</td>\n",
       "    </tr>\n",
       "    <tr>\n",
       "      <th>3</th>\n",
       "      <td>-1087756044</td>\n",
       "      <td>258704</td>\n",
       "      <td>0.974473</td>\n",
       "      <td>0.025527</td>\n",
       "    </tr>\n",
       "    <tr>\n",
       "      <th>4</th>\n",
       "      <td>-1087756044</td>\n",
       "      <td>3407116</td>\n",
       "      <td>0.972855</td>\n",
       "      <td>0.027145</td>\n",
       "    </tr>\n",
       "  </tbody>\n",
       "</table>\n",
       "</div>"
      ],
      "text/plain": [
       "      srch_id  prop_key         0         1\n",
       "0 -1087756044   3075608  0.974521  0.025479\n",
       "1 -1087756044    242706  0.971085  0.028915\n",
       "2 -1087756044    247231  0.973057  0.026943\n",
       "3 -1087756044    258704  0.974473  0.025527\n",
       "4 -1087756044   3407116  0.972855  0.027145"
      ]
     },
     "execution_count": 139,
     "metadata": {},
     "output_type": "execute_result"
    }
   ],
   "source": [
    "df_test_final.head()"
   ]
  },
  {
   "cell_type": "code",
   "execution_count": 140,
   "id": "34d87b2d",
   "metadata": {},
   "outputs": [],
   "source": [
    "df_test_final_sorted = df_test_final.sort_values(by=['srch_id',1], ascending=[True,False])"
   ]
  },
  {
   "cell_type": "code",
   "execution_count": 141,
   "id": "0145ff94",
   "metadata": {},
   "outputs": [],
   "source": [
    "# export to csv - final manioulation for correct format done in csv directly => results: 0.41\n",
    "df_test_final_sorted.to_csv('df_test_EG_ranking.csv')"
   ]
  },
  {
   "cell_type": "code",
   "execution_count": 142,
   "id": "366e9007",
   "metadata": {},
   "outputs": [
    {
     "data": {
      "image/png": "[encoded data removed]",
      "text/plain": [
       "<Figure size 432x288 with 1 Axes>"
      ]
     },
     "metadata": {
      "needs_background": "light"
     },
     "output_type": "display_data"
    }
   ],
   "source": [
    "pd.DataFrame(logreg.coef_, columns=df_test_input_reindex.columns)[keep_input_cont].transpose().sort_values(by=0).plot(kind='barh')\n",
    "plt.title('Continuous input features importance')\n",
    "plt.show()\n",
    "# shall be using absolute"
   ]
  },
  {
   "cell_type": "code",
   "execution_count": 143,
   "id": "c99b4c0e",
   "metadata": {},
   "outputs": [
    {
     "data": {
      "text/html": [
       "<div>\n",
       "<style scoped>\n",
       "    .dataframe tbody tr th:only-of-type {\n",
       "        vertical-align: middle;\n",
       "    }\n",
       "\n",
       "    .dataframe tbody tr th {\n",
       "        vertical-align: top;\n",
       "    }\n",
       "\n",
       "    .dataframe thead th {\n",
       "        text-align: right;\n",
       "    }\n",
       "</style>\n",
       "<table border=\"1\" class=\"dataframe\">\n",
       "  <thead>\n",
       "    <tr style=\"text-align: right;\">\n",
       "      <th></th>\n",
       "      <th>pred: no book</th>\n",
       "      <th>pred: book</th>\n",
       "    </tr>\n",
       "  </thead>\n",
       "  <tbody>\n",
       "    <tr>\n",
       "      <th>true: no book</th>\n",
       "      <td>163269</td>\n",
       "      <td>7</td>\n",
       "    </tr>\n",
       "    <tr>\n",
       "      <th>true: book</th>\n",
       "      <td>4910</td>\n",
       "      <td>0</td>\n",
       "    </tr>\n",
       "  </tbody>\n",
       "</table>\n",
       "</div>"
      ],
      "text/plain": [
       "               pred: no book  pred: book\n",
       "true: no book         163269           7\n",
       "true: book              4910           0"
      ]
     },
     "execution_count": 143,
     "metadata": {},
     "output_type": "execute_result"
    }
   ],
   "source": [
    "# confusion matrix\n",
    "matrix_logreg = confusion_matrix(y_true=y_va, y_pred=logreg.predict(X_va))\n",
    "pd.DataFrame(\n",
    "    matrix_logreg, \n",
    "    columns=['pred: no book', 'pred: book'],\n",
    "    index=['true: no book', 'true: book'])"
   ]
  },
  {
   "cell_type": "code",
   "execution_count": 144,
   "id": "29c7f949",
   "metadata": {},
   "outputs": [
    {
     "name": "stdout",
     "output_type": "stream",
     "text": [
      "              precision    recall  f1-score   support\n",
      "\n",
      "     no book       0.97      1.00      0.99    163276\n",
      "        book       0.00      0.00      0.00      4910\n",
      "\n",
      "    accuracy                           0.97    168186\n",
      "   macro avg       0.49      0.50      0.49    168186\n",
      "weighted avg       0.94      0.97      0.96    168186\n",
      "\n"
     ]
    }
   ],
   "source": [
    "# Classification report\n",
    "print(classification_report(y_true=y_va, y_pred=logreg.predict(X_va), target_names=('no book','book')))"
   ]
  },
  {
   "cell_type": "code",
   "execution_count": 145,
   "id": "be57a635",
   "metadata": {},
   "outputs": [],
   "source": [
    "# => need to adjust thresholds"
   ]
  },
  {
   "cell_type": "markdown",
   "id": "2e88b2d5",
   "metadata": {},
   "source": [
    "### RandomForest"
   ]
  },
  {
   "cell_type": "code",
   "execution_count": 146,
   "id": "bbfc1b44",
   "metadata": {},
   "outputs": [],
   "source": [
    "rf = RandomForestClassifier"
   ]
  },
  {
   "cell_type": "code",
   "execution_count": 147,
   "id": "cb50a8dc",
   "metadata": {},
   "outputs": [
    {
     "data": {
      "text/plain": [
       "RandomForestClassifier()"
      ]
     },
     "execution_count": 147,
     "metadata": {},
     "output_type": "execute_result"
    }
   ],
   "source": [
    "from sklearn.ensemble import RandomForestClassifier\n",
    "\n",
    "rf = RandomForestClassifier()\n",
    "\n",
    "rf.fit(X_tr,y_tr)"
   ]
  },
  {
   "cell_type": "code",
   "execution_count": 148,
   "id": "6250c1e5",
   "metadata": {},
   "outputs": [
    {
     "data": {
      "text/plain": [
       "0.9707347817297516"
      ]
     },
     "execution_count": 148,
     "metadata": {},
     "output_type": "execute_result"
    }
   ],
   "source": [
    "rf.score(X_va, y_va)"
   ]
  },
  {
   "cell_type": "code",
   "execution_count": 149,
   "id": "31a77429",
   "metadata": {},
   "outputs": [
    {
     "data": {
      "text/plain": [
       "array([[0.93, 0.07],\n",
       "       [0.95, 0.05],\n",
       "       [0.93, 0.07],\n",
       "       ...,\n",
       "       [0.93, 0.07],\n",
       "       [0.94, 0.06],\n",
       "       [0.93, 0.07]])"
      ]
     },
     "execution_count": 149,
     "metadata": {},
     "output_type": "execute_result"
    }
   ],
   "source": [
    "# we will be using probabilities to rank properties\n",
    "rf.predict_proba(X_te)"
   ]
  },
  {
   "cell_type": "code",
   "execution_count": 150,
   "id": "f63d43d7",
   "metadata": {},
   "outputs": [],
   "source": [
    "df_test_final_rf = pd.merge(left=df_test[['srch_id','prop_key']], right=pd.DataFrame(rf.predict_proba(X_te)), how='left', left_index=True, right_index=True)"
   ]
  },
  {
   "cell_type": "code",
   "execution_count": 151,
   "id": "32849d13",
   "metadata": {},
   "outputs": [
    {
     "data": {
      "text/html": [
       "<div>\n",
       "<style scoped>\n",
       "    .dataframe tbody tr th:only-of-type {\n",
       "        vertical-align: middle;\n",
       "    }\n",
       "\n",
       "    .dataframe tbody tr th {\n",
       "        vertical-align: top;\n",
       "    }\n",
       "\n",
       "    .dataframe thead th {\n",
       "        text-align: right;\n",
       "    }\n",
       "</style>\n",
       "<table border=\"1\" class=\"dataframe\">\n",
       "  <thead>\n",
       "    <tr style=\"text-align: right;\">\n",
       "      <th></th>\n",
       "      <th>srch_id</th>\n",
       "      <th>prop_key</th>\n",
       "      <th>0</th>\n",
       "      <th>1</th>\n",
       "    </tr>\n",
       "  </thead>\n",
       "  <tbody>\n",
       "    <tr>\n",
       "      <th>0</th>\n",
       "      <td>-1087756044</td>\n",
       "      <td>3075608</td>\n",
       "      <td>0.93</td>\n",
       "      <td>0.07</td>\n",
       "    </tr>\n",
       "    <tr>\n",
       "      <th>1</th>\n",
       "      <td>-1087756044</td>\n",
       "      <td>242706</td>\n",
       "      <td>0.95</td>\n",
       "      <td>0.05</td>\n",
       "    </tr>\n",
       "    <tr>\n",
       "      <th>2</th>\n",
       "      <td>-1087756044</td>\n",
       "      <td>247231</td>\n",
       "      <td>0.93</td>\n",
       "      <td>0.07</td>\n",
       "    </tr>\n",
       "    <tr>\n",
       "      <th>3</th>\n",
       "      <td>-1087756044</td>\n",
       "      <td>258704</td>\n",
       "      <td>0.95</td>\n",
       "      <td>0.05</td>\n",
       "    </tr>\n",
       "    <tr>\n",
       "      <th>4</th>\n",
       "      <td>-1087756044</td>\n",
       "      <td>3407116</td>\n",
       "      <td>0.98</td>\n",
       "      <td>0.02</td>\n",
       "    </tr>\n",
       "  </tbody>\n",
       "</table>\n",
       "</div>"
      ],
      "text/plain": [
       "      srch_id  prop_key     0     1\n",
       "0 -1087756044   3075608  0.93  0.07\n",
       "1 -1087756044    242706  0.95  0.05\n",
       "2 -1087756044    247231  0.93  0.07\n",
       "3 -1087756044    258704  0.95  0.05\n",
       "4 -1087756044   3407116  0.98  0.02"
      ]
     },
     "execution_count": 151,
     "metadata": {},
     "output_type": "execute_result"
    }
   ],
   "source": [
    "df_test_final_rf.head()"
   ]
  },
  {
   "cell_type": "code",
   "execution_count": 152,
   "id": "f2c50e29",
   "metadata": {},
   "outputs": [],
   "source": [
    "df_test_final_rf_sorted = df_test_final_rf.sort_values(by=['srch_id',1], ascending=[True,False])"
   ]
  },
  {
   "cell_type": "code",
   "execution_count": 153,
   "id": "29a2b0ef",
   "metadata": {},
   "outputs": [],
   "source": [
    "# export to csv - final manioulation for correct format done in csv directly => results: 0.44\n",
    "df_test_final_rf_sorted.to_csv('df_test_EG_ranking_rf.csv')"
   ]
  },
  {
   "cell_type": "markdown",
   "id": "52e0f250",
   "metadata": {},
   "source": [
    "#### GridSearchCV - RandomForest"
   ]
  },
  {
   "cell_type": "code",
   "execution_count": 154,
   "id": "2ee6fda0",
   "metadata": {},
   "outputs": [
    {
     "data": {
      "text/plain": [
       "GridSearchCV(cv=5, estimator=RandomForestClassifier(), n_jobs=-1,\n",
       "             param_grid={'class_weight': [None, 'balanced',\n",
       "                                          'balanced_subsample'],\n",
       "                         'max_depth': [3, 5, 7, 9, 11],\n",
       "                         'n_estimators': [1, 3, 5, 7, 9, 11, 13, 15]},\n",
       "             refit=False, return_train_score=True,\n",
       "             scoring=['precision', 'recall', 'average_precision', 'f1'])"
      ]
     },
     "execution_count": 154,
     "metadata": {},
     "output_type": "execute_result"
    }
   ],
   "source": [
    "# create RandomForest\n",
    "rf_bis = RandomForestClassifier()\n",
    "# parameters\n",
    "balance_rf = [None, 'balanced', 'balanced_subsample']\n",
    "trees_rf = [3,5,7,9,11]\n",
    "estimators_rf = [1,3,5,7,9,11,13,15]\n",
    "param_grid_rf = dict(class_weight=balance_rf, max_depth=trees_rf, n_estimators=estimators_rf)\n",
    "# define GridSearchCV\n",
    "scoring = ['precision','recall','average_precision','f1']\n",
    "grid_rf = GridSearchCV(estimator=rf_bis, param_grid=param_grid_rf, n_jobs=-1, cv=5, scoring=scoring, refit=False, return_train_score=True)\n",
    "# fit\n",
    "grid_rf.fit(X_tr, y_tr)"
   ]
  },
  {
   "cell_type": "code",
   "execution_count": 155,
   "id": "a0874cf2",
   "metadata": {},
   "outputs": [
    {
     "data": {
      "text/plain": [
       "dict_keys(['mean_fit_time', 'std_fit_time', 'mean_score_time', 'std_score_time', 'param_class_weight', 'param_max_depth', 'param_n_estimators', 'params', 'split0_test_precision', 'split1_test_precision', 'split2_test_precision', 'split3_test_precision', 'split4_test_precision', 'mean_test_precision', 'std_test_precision', 'rank_test_precision', 'split0_train_precision', 'split1_train_precision', 'split2_train_precision', 'split3_train_precision', 'split4_train_precision', 'mean_train_precision', 'std_train_precision', 'split0_test_recall', 'split1_test_recall', 'split2_test_recall', 'split3_test_recall', 'split4_test_recall', 'mean_test_recall', 'std_test_recall', 'rank_test_recall', 'split0_train_recall', 'split1_train_recall', 'split2_train_recall', 'split3_train_recall', 'split4_train_recall', 'mean_train_recall', 'std_train_recall', 'split0_test_average_precision', 'split1_test_average_precision', 'split2_test_average_precision', 'split3_test_average_precision', 'split4_test_average_precision', 'mean_test_average_precision', 'std_test_average_precision', 'rank_test_average_precision', 'split0_train_average_precision', 'split1_train_average_precision', 'split2_train_average_precision', 'split3_train_average_precision', 'split4_train_average_precision', 'mean_train_average_precision', 'std_train_average_precision', 'split0_test_f1', 'split1_test_f1', 'split2_test_f1', 'split3_test_f1', 'split4_test_f1', 'mean_test_f1', 'std_test_f1', 'rank_test_f1', 'split0_train_f1', 'split1_train_f1', 'split2_train_f1', 'split3_train_f1', 'split4_train_f1', 'mean_train_f1', 'std_train_f1'])"
      ]
     },
     "execution_count": 155,
     "metadata": {},
     "output_type": "execute_result"
    }
   ],
   "source": [
    "# Get the results with \"cv_results\"\n",
    "grid_rf.cv_results_.keys()"
   ]
  },
  {
   "cell_type": "code",
   "execution_count": 156,
   "id": "c2d55bd6",
   "metadata": {},
   "outputs": [
    {
     "data": {
      "text/plain": [
       "array([0., 0., 0., 0., 0., 0., 0., 0., 0.])"
      ]
     },
     "execution_count": 156,
     "metadata": {},
     "output_type": "execute_result"
    }
   ],
   "source": [
    "grid_rf.cv_results_['mean_test_f1'][1:10]"
   ]
  },
  {
   "cell_type": "code",
   "execution_count": 157,
   "id": "38d4cd0f",
   "metadata": {},
   "outputs": [
    {
     "data": {
      "text/html": [
       "<div>\n",
       "<style scoped>\n",
       "    .dataframe tbody tr th:only-of-type {\n",
       "        vertical-align: middle;\n",
       "    }\n",
       "\n",
       "    .dataframe tbody tr th {\n",
       "        vertical-align: top;\n",
       "    }\n",
       "\n",
       "    .dataframe thead th {\n",
       "        text-align: right;\n",
       "    }\n",
       "</style>\n",
       "<table border=\"1\" class=\"dataframe\">\n",
       "  <thead>\n",
       "    <tr style=\"text-align: right;\">\n",
       "      <th></th>\n",
       "      <th>mean_test_average_precision</th>\n",
       "      <th>mean_train_average_precision</th>\n",
       "      <th>std_test_average_precision</th>\n",
       "      <th>mean_test_f1</th>\n",
       "      <th>mean_train_f1</th>\n",
       "      <th>mean_test_recall</th>\n",
       "      <th>mean_train_recall</th>\n",
       "      <th>mean_test_precision</th>\n",
       "      <th>mean_train_precision</th>\n",
       "      <th>param_max_depth</th>\n",
       "      <th>param_n_estimators</th>\n",
       "      <th>param_class_weight</th>\n",
       "      <th>mean_fit_time</th>\n",
       "      <th>mean_score_time</th>\n",
       "    </tr>\n",
       "  </thead>\n",
       "  <tbody>\n",
       "    <tr>\n",
       "      <th>79</th>\n",
       "      <td>0.064739</td>\n",
       "      <td>0.106465</td>\n",
       "      <td>0.001717</td>\n",
       "      <td>0.099617</td>\n",
       "      <td>0.125016</td>\n",
       "      <td>0.487118</td>\n",
       "      <td>0.612694</td>\n",
       "      <td>0.055484</td>\n",
       "      <td>0.069613</td>\n",
       "      <td>11</td>\n",
       "      <td>15</td>\n",
       "      <td>balanced</td>\n",
       "      <td>85.273578</td>\n",
       "      <td>2.535272</td>\n",
       "    </tr>\n",
       "    <tr>\n",
       "      <th>118</th>\n",
       "      <td>0.065817</td>\n",
       "      <td>0.105702</td>\n",
       "      <td>0.002636</td>\n",
       "      <td>0.098465</td>\n",
       "      <td>0.121541</td>\n",
       "      <td>0.502356</td>\n",
       "      <td>0.620352</td>\n",
       "      <td>0.054589</td>\n",
       "      <td>0.067379</td>\n",
       "      <td>11</td>\n",
       "      <td>13</td>\n",
       "      <td>balanced_subsample</td>\n",
       "      <td>80.217988</td>\n",
       "      <td>2.167134</td>\n",
       "    </tr>\n",
       "    <tr>\n",
       "      <th>119</th>\n",
       "      <td>0.067070</td>\n",
       "      <td>0.109158</td>\n",
       "      <td>0.001697</td>\n",
       "      <td>0.098423</td>\n",
       "      <td>0.122937</td>\n",
       "      <td>0.501991</td>\n",
       "      <td>0.628286</td>\n",
       "      <td>0.054565</td>\n",
       "      <td>0.068141</td>\n",
       "      <td>11</td>\n",
       "      <td>15</td>\n",
       "      <td>balanced_subsample</td>\n",
       "      <td>79.612730</td>\n",
       "      <td>1.800813</td>\n",
       "    </tr>\n",
       "    <tr>\n",
       "      <th>117</th>\n",
       "      <td>0.065261</td>\n",
       "      <td>0.104482</td>\n",
       "      <td>0.001152</td>\n",
       "      <td>0.097972</td>\n",
       "      <td>0.120064</td>\n",
       "      <td>0.508432</td>\n",
       "      <td>0.624895</td>\n",
       "      <td>0.054210</td>\n",
       "      <td>0.066413</td>\n",
       "      <td>11</td>\n",
       "      <td>11</td>\n",
       "      <td>balanced_subsample</td>\n",
       "      <td>68.745900</td>\n",
       "      <td>2.037862</td>\n",
       "    </tr>\n",
       "    <tr>\n",
       "      <th>78</th>\n",
       "      <td>0.065609</td>\n",
       "      <td>0.103896</td>\n",
       "      <td>0.001836</td>\n",
       "      <td>0.097703</td>\n",
       "      <td>0.121779</td>\n",
       "      <td>0.497120</td>\n",
       "      <td>0.622015</td>\n",
       "      <td>0.054179</td>\n",
       "      <td>0.067501</td>\n",
       "      <td>11</td>\n",
       "      <td>13</td>\n",
       "      <td>balanced</td>\n",
       "      <td>76.157649</td>\n",
       "      <td>2.144201</td>\n",
       "    </tr>\n",
       "    <tr>\n",
       "      <th>77</th>\n",
       "      <td>0.064710</td>\n",
       "      <td>0.103186</td>\n",
       "      <td>0.001473</td>\n",
       "      <td>0.096922</td>\n",
       "      <td>0.119012</td>\n",
       "      <td>0.507908</td>\n",
       "      <td>0.625916</td>\n",
       "      <td>0.053584</td>\n",
       "      <td>0.065771</td>\n",
       "      <td>11</td>\n",
       "      <td>11</td>\n",
       "      <td>balanced</td>\n",
       "      <td>64.595062</td>\n",
       "      <td>2.008107</td>\n",
       "    </tr>\n",
       "    <tr>\n",
       "      <th>76</th>\n",
       "      <td>0.064998</td>\n",
       "      <td>0.101829</td>\n",
       "      <td>0.003180</td>\n",
       "      <td>0.096461</td>\n",
       "      <td>0.117580</td>\n",
       "      <td>0.512045</td>\n",
       "      <td>0.625144</td>\n",
       "      <td>0.053247</td>\n",
       "      <td>0.064894</td>\n",
       "      <td>11</td>\n",
       "      <td>9</td>\n",
       "      <td>balanced</td>\n",
       "      <td>54.601595</td>\n",
       "      <td>1.765315</td>\n",
       "    </tr>\n",
       "    <tr>\n",
       "      <th>69</th>\n",
       "      <td>0.064396</td>\n",
       "      <td>0.082430</td>\n",
       "      <td>0.002308</td>\n",
       "      <td>0.095242</td>\n",
       "      <td>0.105670</td>\n",
       "      <td>0.528644</td>\n",
       "      <td>0.584861</td>\n",
       "      <td>0.052342</td>\n",
       "      <td>0.058090</td>\n",
       "      <td>9</td>\n",
       "      <td>11</td>\n",
       "      <td>balanced</td>\n",
       "      <td>53.832712</td>\n",
       "      <td>1.896502</td>\n",
       "    </tr>\n",
       "    <tr>\n",
       "      <th>116</th>\n",
       "      <td>0.062670</td>\n",
       "      <td>0.101774</td>\n",
       "      <td>0.001153</td>\n",
       "      <td>0.095147</td>\n",
       "      <td>0.117264</td>\n",
       "      <td>0.502095</td>\n",
       "      <td>0.620222</td>\n",
       "      <td>0.052555</td>\n",
       "      <td>0.064756</td>\n",
       "      <td>11</td>\n",
       "      <td>9</td>\n",
       "      <td>balanced_subsample</td>\n",
       "      <td>56.300655</td>\n",
       "      <td>1.814934</td>\n",
       "    </tr>\n",
       "    <tr>\n",
       "      <th>110</th>\n",
       "      <td>0.064778</td>\n",
       "      <td>0.083848</td>\n",
       "      <td>0.002926</td>\n",
       "      <td>0.095101</td>\n",
       "      <td>0.106546</td>\n",
       "      <td>0.532833</td>\n",
       "      <td>0.596539</td>\n",
       "      <td>0.052216</td>\n",
       "      <td>0.058504</td>\n",
       "      <td>9</td>\n",
       "      <td>13</td>\n",
       "      <td>balanced_subsample</td>\n",
       "      <td>69.422841</td>\n",
       "      <td>2.116933</td>\n",
       "    </tr>\n",
       "    <tr>\n",
       "      <th>71</th>\n",
       "      <td>0.065570</td>\n",
       "      <td>0.084374</td>\n",
       "      <td>0.003752</td>\n",
       "      <td>0.094765</td>\n",
       "      <td>0.105698</td>\n",
       "      <td>0.538282</td>\n",
       "      <td>0.600819</td>\n",
       "      <td>0.051970</td>\n",
       "      <td>0.057962</td>\n",
       "      <td>9</td>\n",
       "      <td>15</td>\n",
       "      <td>balanced</td>\n",
       "      <td>71.147016</td>\n",
       "      <td>2.247162</td>\n",
       "    </tr>\n",
       "    <tr>\n",
       "      <th>111</th>\n",
       "      <td>0.065141</td>\n",
       "      <td>0.085227</td>\n",
       "      <td>0.002211</td>\n",
       "      <td>0.094436</td>\n",
       "      <td>0.105137</td>\n",
       "      <td>0.549277</td>\n",
       "      <td>0.612602</td>\n",
       "      <td>0.051662</td>\n",
       "      <td>0.057506</td>\n",
       "      <td>9</td>\n",
       "      <td>15</td>\n",
       "      <td>balanced_subsample</td>\n",
       "      <td>77.596287</td>\n",
       "      <td>2.296783</td>\n",
       "    </tr>\n",
       "    <tr>\n",
       "      <th>70</th>\n",
       "      <td>0.065464</td>\n",
       "      <td>0.084131</td>\n",
       "      <td>0.002398</td>\n",
       "      <td>0.094358</td>\n",
       "      <td>0.105184</td>\n",
       "      <td>0.546711</td>\n",
       "      <td>0.609918</td>\n",
       "      <td>0.051637</td>\n",
       "      <td>0.057557</td>\n",
       "      <td>9</td>\n",
       "      <td>13</td>\n",
       "      <td>balanced</td>\n",
       "      <td>64.405079</td>\n",
       "      <td>2.074622</td>\n",
       "    </tr>\n",
       "    <tr>\n",
       "      <th>75</th>\n",
       "      <td>0.063025</td>\n",
       "      <td>0.097959</td>\n",
       "      <td>0.002125</td>\n",
       "      <td>0.094035</td>\n",
       "      <td>0.114201</td>\n",
       "      <td>0.502304</td>\n",
       "      <td>0.609355</td>\n",
       "      <td>0.051874</td>\n",
       "      <td>0.063006</td>\n",
       "      <td>11</td>\n",
       "      <td>7</td>\n",
       "      <td>balanced</td>\n",
       "      <td>43.186791</td>\n",
       "      <td>1.667076</td>\n",
       "    </tr>\n",
       "    <tr>\n",
       "      <th>115</th>\n",
       "      <td>0.061140</td>\n",
       "      <td>0.095792</td>\n",
       "      <td>0.002283</td>\n",
       "      <td>0.093660</td>\n",
       "      <td>0.114230</td>\n",
       "      <td>0.505917</td>\n",
       "      <td>0.616687</td>\n",
       "      <td>0.051608</td>\n",
       "      <td>0.062945</td>\n",
       "      <td>11</td>\n",
       "      <td>7</td>\n",
       "      <td>balanced_subsample</td>\n",
       "      <td>44.102718</td>\n",
       "      <td>1.521545</td>\n",
       "    </tr>\n",
       "    <tr>\n",
       "      <th>68</th>\n",
       "      <td>0.063381</td>\n",
       "      <td>0.082253</td>\n",
       "      <td>0.002118</td>\n",
       "      <td>0.092693</td>\n",
       "      <td>0.103742</td>\n",
       "      <td>0.535714</td>\n",
       "      <td>0.599262</td>\n",
       "      <td>0.050741</td>\n",
       "      <td>0.056791</td>\n",
       "      <td>9</td>\n",
       "      <td>9</td>\n",
       "      <td>balanced</td>\n",
       "      <td>44.810479</td>\n",
       "      <td>1.705859</td>\n",
       "    </tr>\n",
       "    <tr>\n",
       "      <th>109</th>\n",
       "      <td>0.064309</td>\n",
       "      <td>0.083133</td>\n",
       "      <td>0.001066</td>\n",
       "      <td>0.092485</td>\n",
       "      <td>0.103224</td>\n",
       "      <td>0.546449</td>\n",
       "      <td>0.609316</td>\n",
       "      <td>0.050521</td>\n",
       "      <td>0.056392</td>\n",
       "      <td>9</td>\n",
       "      <td>11</td>\n",
       "      <td>balanced_subsample</td>\n",
       "      <td>59.168254</td>\n",
       "      <td>2.000903</td>\n",
       "    </tr>\n",
       "    <tr>\n",
       "      <th>74</th>\n",
       "      <td>0.061948</td>\n",
       "      <td>0.094476</td>\n",
       "      <td>0.002900</td>\n",
       "      <td>0.092248</td>\n",
       "      <td>0.110840</td>\n",
       "      <td>0.502931</td>\n",
       "      <td>0.606907</td>\n",
       "      <td>0.050785</td>\n",
       "      <td>0.060993</td>\n",
       "      <td>11</td>\n",
       "      <td>5</td>\n",
       "      <td>balanced</td>\n",
       "      <td>31.854853</td>\n",
       "      <td>1.413365</td>\n",
       "    </tr>\n",
       "    <tr>\n",
       "      <th>108</th>\n",
       "      <td>0.063926</td>\n",
       "      <td>0.081418</td>\n",
       "      <td>0.001747</td>\n",
       "      <td>0.091982</td>\n",
       "      <td>0.102492</td>\n",
       "      <td>0.534563</td>\n",
       "      <td>0.594941</td>\n",
       "      <td>0.050327</td>\n",
       "      <td>0.056084</td>\n",
       "      <td>9</td>\n",
       "      <td>9</td>\n",
       "      <td>balanced_subsample</td>\n",
       "      <td>48.114615</td>\n",
       "      <td>1.691765</td>\n",
       "    </tr>\n",
       "    <tr>\n",
       "      <th>114</th>\n",
       "      <td>0.061933</td>\n",
       "      <td>0.091246</td>\n",
       "      <td>0.002705</td>\n",
       "      <td>0.091364</td>\n",
       "      <td>0.109092</td>\n",
       "      <td>0.514924</td>\n",
       "      <td>0.614029</td>\n",
       "      <td>0.050130</td>\n",
       "      <td>0.059866</td>\n",
       "      <td>11</td>\n",
       "      <td>5</td>\n",
       "      <td>balanced_subsample</td>\n",
       "      <td>32.016800</td>\n",
       "      <td>1.349642</td>\n",
       "    </tr>\n",
       "  </tbody>\n",
       "</table>\n",
       "</div>"
      ],
      "text/plain": [
       "     mean_test_average_precision  mean_train_average_precision  \\\n",
       "79                      0.064739                      0.106465   \n",
       "118                     0.065817                      0.105702   \n",
       "119                     0.067070                      0.109158   \n",
       "117                     0.065261                      0.104482   \n",
       "78                      0.065609                      0.103896   \n",
       "77                      0.064710                      0.103186   \n",
       "76                      0.064998                      0.101829   \n",
       "69                      0.064396                      0.082430   \n",
       "116                     0.062670                      0.101774   \n",
       "110                     0.064778                      0.083848   \n",
       "71                      0.065570                      0.084374   \n",
       "111                     0.065141                      0.085227   \n",
       "70                      0.065464                      0.084131   \n",
       "75                      0.063025                      0.097959   \n",
       "115                     0.061140                      0.095792   \n",
       "68                      0.063381                      0.082253   \n",
       "109                     0.064309                      0.083133   \n",
       "74                      0.061948                      0.094476   \n",
       "108                     0.063926                      0.081418   \n",
       "114                     0.061933                      0.091246   \n",
       "\n",
       "     std_test_average_precision  mean_test_f1  mean_train_f1  \\\n",
       "79                     0.001717      0.099617       0.125016   \n",
       "118                    0.002636      0.098465       0.121541   \n",
       "119                    0.001697      0.098423       0.122937   \n",
       "117                    0.001152      0.097972       0.120064   \n",
       "78                     0.001836      0.097703       0.121779   \n",
       "77                     0.001473      0.096922       0.119012   \n",
       "76                     0.003180      0.096461       0.117580   \n",
       "69                     0.002308      0.095242       0.105670   \n",
       "116                    0.001153      0.095147       0.117264   \n",
       "110                    0.002926      0.095101       0.106546   \n",
       "71                     0.003752      0.094765       0.105698   \n",
       "111                    0.002211      0.094436       0.105137   \n",
       "70                     0.002398      0.094358       0.105184   \n",
       "75                     0.002125      0.094035       0.114201   \n",
       "115                    0.002283      0.093660       0.114230   \n",
       "68                     0.002118      0.092693       0.103742   \n",
       "109                    0.001066      0.092485       0.103224   \n",
       "74                     0.002900      0.092248       0.110840   \n",
       "108                    0.001747      0.091982       0.102492   \n",
       "114                    0.002705      0.091364       0.109092   \n",
       "\n",
       "     mean_test_recall  mean_train_recall  mean_test_precision  \\\n",
       "79           0.487118           0.612694             0.055484   \n",
       "118          0.502356           0.620352             0.054589   \n",
       "119          0.501991           0.628286             0.054565   \n",
       "117          0.508432           0.624895             0.054210   \n",
       "78           0.497120           0.622015             0.054179   \n",
       "77           0.507908           0.625916             0.053584   \n",
       "76           0.512045           0.625144             0.053247   \n",
       "69           0.528644           0.584861             0.052342   \n",
       "116          0.502095           0.620222             0.052555   \n",
       "110          0.532833           0.596539             0.052216   \n",
       "71           0.538282           0.600819             0.051970   \n",
       "111          0.549277           0.612602             0.051662   \n",
       "70           0.546711           0.609918             0.051637   \n",
       "75           0.502304           0.609355             0.051874   \n",
       "115          0.505917           0.616687             0.051608   \n",
       "68           0.535714           0.599262             0.050741   \n",
       "109          0.546449           0.609316             0.050521   \n",
       "74           0.502931           0.606907             0.050785   \n",
       "108          0.534563           0.594941             0.050327   \n",
       "114          0.514924           0.614029             0.050130   \n",
       "\n",
       "     mean_train_precision param_max_depth param_n_estimators  \\\n",
       "79               0.069613              11                 15   \n",
       "118              0.067379              11                 13   \n",
       "119              0.068141              11                 15   \n",
       "117              0.066413              11                 11   \n",
       "78               0.067501              11                 13   \n",
       "77               0.065771              11                 11   \n",
       "76               0.064894              11                  9   \n",
       "69               0.058090               9                 11   \n",
       "116              0.064756              11                  9   \n",
       "110              0.058504               9                 13   \n",
       "71               0.057962               9                 15   \n",
       "111              0.057506               9                 15   \n",
       "70               0.057557               9                 13   \n",
       "75               0.063006              11                  7   \n",
       "115              0.062945              11                  7   \n",
       "68               0.056791               9                  9   \n",
       "109              0.056392               9                 11   \n",
       "74               0.060993              11                  5   \n",
       "108              0.056084               9                  9   \n",
       "114              0.059866              11                  5   \n",
       "\n",
       "     param_class_weight  mean_fit_time  mean_score_time  \n",
       "79             balanced      85.273578         2.535272  \n",
       "118  balanced_subsample      80.217988         2.167134  \n",
       "119  balanced_subsample      79.612730         1.800813  \n",
       "117  balanced_subsample      68.745900         2.037862  \n",
       "78             balanced      76.157649         2.144201  \n",
       "77             balanced      64.595062         2.008107  \n",
       "76             balanced      54.601595         1.765315  \n",
       "69             balanced      53.832712         1.896502  \n",
       "116  balanced_subsample      56.300655         1.814934  \n",
       "110  balanced_subsample      69.422841         2.116933  \n",
       "71             balanced      71.147016         2.247162  \n",
       "111  balanced_subsample      77.596287         2.296783  \n",
       "70             balanced      64.405079         2.074622  \n",
       "75             balanced      43.186791         1.667076  \n",
       "115  balanced_subsample      44.102718         1.521545  \n",
       "68             balanced      44.810479         1.705859  \n",
       "109  balanced_subsample      59.168254         2.000903  \n",
       "74             balanced      31.854853         1.413365  \n",
       "108  balanced_subsample      48.114615         1.691765  \n",
       "114  balanced_subsample      32.016800         1.349642  "
      ]
     },
     "execution_count": 157,
     "metadata": {},
     "output_type": "execute_result"
    }
   ],
   "source": [
    "cols = ['mean_test_average_precision','mean_train_average_precision','std_test_average_precision',\\\n",
    "        'mean_test_f1','mean_train_f1',\\\n",
    "        'mean_test_recall','mean_train_recall','mean_test_precision','mean_train_precision',\\\n",
    "        'param_max_depth','param_n_estimators','param_class_weight',\\\n",
    "        'mean_fit_time','mean_score_time']\n",
    "# Delay GridSearchCV\n",
    "grid_rf_df = pd.DataFrame(grid_rf.cv_results_)[cols].sort_values(by='mean_test_f1', ascending=False)\n",
    "grid_rf_df.head(20)"
   ]
  },
  {
   "cell_type": "code",
   "execution_count": 165,
   "id": "ee8b52c2",
   "metadata": {},
   "outputs": [
    {
     "name": "stdout",
     "output_type": "stream",
     "text": [
      "Accuracy RF Final: 0.745\n"
     ]
    }
   ],
   "source": [
    "rf_final = RandomForestClassifier(max_depth=11, n_estimators=15, class_weight='balanced')\n",
    "rf_final.fit(X_tr,y_tr)\n",
    "print('Accuracy RF Final:',round(rf_final.score(X_va, y_va),3))"
   ]
  },
  {
   "cell_type": "code",
   "execution_count": 164,
   "id": "8809fea2",
   "metadata": {},
   "outputs": [],
   "source": [
    "df_test_rf_final = pd.merge(left=df_test[['srch_id','prop_key']], right=pd.DataFrame(rf_final.predict_proba(X_te)), how='left', left_index=True, right_index=True)\n",
    "df_test_rf_final_sorted = df_test_rf_final.sort_values(by=['srch_id',1], ascending=[True,False])\n",
    "# export to csv - final manioulation for correct format done in csv directly => results: 0.44\n",
    "df_test_rf_final_sorted.to_csv('EG_ranking_rf_final.csv')"
   ]
  },
  {
   "cell_type": "markdown",
   "id": "c8b6ba19",
   "metadata": {},
   "source": [
    "##### RandForest using 'balanced' class_weight"
   ]
  },
  {
   "cell_type": "code",
   "execution_count": 166,
   "id": "48d10075",
   "metadata": {},
   "outputs": [
    {
     "name": "stdout",
     "output_type": "stream",
     "text": [
      "Accuracy RF Final: 0.971\n"
     ]
    }
   ],
   "source": [
    "rf_final = RandomForestClassifier(class_weight='balanced')\n",
    "rf_final.fit(X_tr,y_tr)\n",
    "print('Accuracy RF Final:',round(rf_final.score(X_va, y_va),3))"
   ]
  },
  {
   "cell_type": "code",
   "execution_count": 167,
   "id": "9624364a",
   "metadata": {},
   "outputs": [],
   "source": [
    "df_test_rf_final = pd.merge(left=df_test[['srch_id','prop_key']], right=pd.DataFrame(rf_final.predict_proba(X_te)), how='left', left_index=True, right_index=True)\n",
    "df_test_rf_final_sorted = df_test_rf_final.sort_values(by=['srch_id',1], ascending=[True,False])\n",
    "# export to csv - final manioulation for correct format done in csv directly => results: 0.445\n",
    "df_test_rf_final_sorted.to_csv('EG_ranking_rf_final.csv')"
   ]
  },
  {
   "cell_type": "code",
   "execution_count": 194,
   "id": "88209467",
   "metadata": {},
   "outputs": [
    {
     "data": {
      "image/png": "[encoded data removed]",
      "text/plain": [
       "<Figure size 432x288 with 1 Axes>"
      ]
     },
     "metadata": {
      "needs_background": "light"
     },
     "output_type": "display_data"
    }
   ],
   "source": [
    "pd.merge(left=pd.DataFrame(df_test_input_reindex.columns), right=pd.DataFrame(rf_final.feature_importances_), left_index=True, right_index=True).set_index('0_x').sort_values(by='0_y', ascending=True).tail(10).plot(kind='barh')\n",
    "plt.title('Feature importance - Random Forest')\n",
    "plt.show()"
   ]
  },
  {
   "cell_type": "code",
   "execution_count": null,
   "id": "376452f2",
   "metadata": {},
   "outputs": [],
   "source": []
  }
 ],
 "metadata": {
  "kernelspec": {
   "display_name": "Python 3",
   "language": "python",
   "name": "python3"
  },
  "language_info": {
   "codemirror_mode": {
    "name": "ipython",
    "version": 3
   },
   "file_extension": ".py",
   "mimetype": "text/x-python",
   "name": "python",
   "nbconvert_exporter": "python",
   "pygments_lexer": "ipython3",
   "version": "3.6.10"
  }
 },
 "nbformat": 4,
 "nbformat_minor": 5
}

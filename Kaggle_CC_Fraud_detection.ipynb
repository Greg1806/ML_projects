{
 "cells": [
  {
   "cell_type": "markdown",
   "id": "d7e7a6b3",
   "metadata": {},
   "source": [
    "## Credit Card Fraud Detection - Kaggle\n",
    "https://www.kaggle.com/mlg-ulb/creditcardfraud"
   ]
  },
  {
   "cell_type": "markdown",
   "id": "fdfdc285",
   "metadata": {},
   "source": [
    "### Import and explore data"
   ]
  },
  {
   "cell_type": "code",
   "execution_count": null,
   "id": "90ab3a92",
   "metadata": {},
   "outputs": [],
   "source": [
    "# best practice to import all necessary libraries and packages in one place to be able to amend quickly if necessary\n",
    "import pandas as pd\n",
    "import numpy as np\n",
    "import matplotlib.pyplot as plt\n",
    "import seaborn as sns\n",
    "\n",
    "from sklearn.model_selection import train_test_split\n",
    "from sklearn.model_selection import GridSearchCV\n",
    "from sklearn.preprocessing import StandardScaler, RobustScaler\n",
    "\n",
    "from sklearn.linear_model import LogisticRegression\n",
    "from sklearn.tree import DecisionTreeClassifier\n",
    "from sklearn.ensemble import RandomForestClassifier\n",
    "from sklearn.neighbors import KNeighborsClassifier\n",
    "from sklearn.svm import SVC\n",
    "\n",
    "from sklearn.metrics import f1_score, accuracy_score, precision_score, recall_score\n",
    "from sklearn.metrics import confusion_matrix, classification_report\n",
    "from sklearn.metrics import roc_curve, roc_auc_score, precision_recall_curve, auc\n",
    "from numpy import argmax"
   ]
  },
  {
   "cell_type": "code",
   "execution_count": 127,
   "id": "87459c03",
   "metadata": {},
   "outputs": [],
   "source": [
    "\n",
    "df = pd.read_csv('creditcard.csv')"
   ]
  },
  {
   "cell_type": "code",
   "execution_count": 128,
   "id": "521a0583",
   "metadata": {},
   "outputs": [
    {
     "data": {
      "text/plain": [
       "(284807, 31)"
      ]
     },
     "execution_count": 128,
     "metadata": {},
     "output_type": "execute_result"
    }
   ],
   "source": [
    "df.shape"
   ]
  },
  {
   "cell_type": "code",
   "execution_count": 129,
   "id": "90e748ba",
   "metadata": {},
   "outputs": [
    {
     "data": {
      "text/html": [
       "<div>\n",
       "<style scoped>\n",
       "    .dataframe tbody tr th:only-of-type {\n",
       "        vertical-align: middle;\n",
       "    }\n",
       "\n",
       "    .dataframe tbody tr th {\n",
       "        vertical-align: top;\n",
       "    }\n",
       "\n",
       "    .dataframe thead th {\n",
       "        text-align: right;\n",
       "    }\n",
       "</style>\n",
       "<table border=\"1\" class=\"dataframe\">\n",
       "  <thead>\n",
       "    <tr style=\"text-align: right;\">\n",
       "      <th></th>\n",
       "      <th>Time</th>\n",
       "      <th>V1</th>\n",
       "      <th>V2</th>\n",
       "      <th>V3</th>\n",
       "      <th>V4</th>\n",
       "      <th>V5</th>\n",
       "      <th>V6</th>\n",
       "      <th>V7</th>\n",
       "      <th>V8</th>\n",
       "      <th>V9</th>\n",
       "      <th>...</th>\n",
       "      <th>V21</th>\n",
       "      <th>V22</th>\n",
       "      <th>V23</th>\n",
       "      <th>V24</th>\n",
       "      <th>V25</th>\n",
       "      <th>V26</th>\n",
       "      <th>V27</th>\n",
       "      <th>V28</th>\n",
       "      <th>Amount</th>\n",
       "      <th>Class</th>\n",
       "    </tr>\n",
       "  </thead>\n",
       "  <tbody>\n",
       "    <tr>\n",
       "      <th>count</th>\n",
       "      <td>284807.000000</td>\n",
       "      <td>2.848070e+05</td>\n",
       "      <td>2.848070e+05</td>\n",
       "      <td>2.848070e+05</td>\n",
       "      <td>2.848070e+05</td>\n",
       "      <td>2.848070e+05</td>\n",
       "      <td>2.848070e+05</td>\n",
       "      <td>2.848070e+05</td>\n",
       "      <td>2.848070e+05</td>\n",
       "      <td>2.848070e+05</td>\n",
       "      <td>...</td>\n",
       "      <td>2.848070e+05</td>\n",
       "      <td>2.848070e+05</td>\n",
       "      <td>2.848070e+05</td>\n",
       "      <td>2.848070e+05</td>\n",
       "      <td>2.848070e+05</td>\n",
       "      <td>2.848070e+05</td>\n",
       "      <td>2.848070e+05</td>\n",
       "      <td>2.848070e+05</td>\n",
       "      <td>284807.000000</td>\n",
       "      <td>284807.000000</td>\n",
       "    </tr>\n",
       "    <tr>\n",
       "      <th>mean</th>\n",
       "      <td>94813.859575</td>\n",
       "      <td>1.165980e-15</td>\n",
       "      <td>3.416908e-16</td>\n",
       "      <td>-1.373150e-15</td>\n",
       "      <td>2.086869e-15</td>\n",
       "      <td>9.604066e-16</td>\n",
       "      <td>1.490107e-15</td>\n",
       "      <td>-5.556467e-16</td>\n",
       "      <td>1.177556e-16</td>\n",
       "      <td>-2.406455e-15</td>\n",
       "      <td>...</td>\n",
       "      <td>1.656562e-16</td>\n",
       "      <td>-3.444850e-16</td>\n",
       "      <td>2.578648e-16</td>\n",
       "      <td>4.471968e-15</td>\n",
       "      <td>5.340915e-16</td>\n",
       "      <td>1.687098e-15</td>\n",
       "      <td>-3.666453e-16</td>\n",
       "      <td>-1.220404e-16</td>\n",
       "      <td>88.349619</td>\n",
       "      <td>0.001727</td>\n",
       "    </tr>\n",
       "    <tr>\n",
       "      <th>std</th>\n",
       "      <td>47488.145955</td>\n",
       "      <td>1.958696e+00</td>\n",
       "      <td>1.651309e+00</td>\n",
       "      <td>1.516255e+00</td>\n",
       "      <td>1.415869e+00</td>\n",
       "      <td>1.380247e+00</td>\n",
       "      <td>1.332271e+00</td>\n",
       "      <td>1.237094e+00</td>\n",
       "      <td>1.194353e+00</td>\n",
       "      <td>1.098632e+00</td>\n",
       "      <td>...</td>\n",
       "      <td>7.345240e-01</td>\n",
       "      <td>7.257016e-01</td>\n",
       "      <td>6.244603e-01</td>\n",
       "      <td>6.056471e-01</td>\n",
       "      <td>5.212781e-01</td>\n",
       "      <td>4.822270e-01</td>\n",
       "      <td>4.036325e-01</td>\n",
       "      <td>3.300833e-01</td>\n",
       "      <td>250.120109</td>\n",
       "      <td>0.041527</td>\n",
       "    </tr>\n",
       "    <tr>\n",
       "      <th>min</th>\n",
       "      <td>0.000000</td>\n",
       "      <td>-5.640751e+01</td>\n",
       "      <td>-7.271573e+01</td>\n",
       "      <td>-4.832559e+01</td>\n",
       "      <td>-5.683171e+00</td>\n",
       "      <td>-1.137433e+02</td>\n",
       "      <td>-2.616051e+01</td>\n",
       "      <td>-4.355724e+01</td>\n",
       "      <td>-7.321672e+01</td>\n",
       "      <td>-1.343407e+01</td>\n",
       "      <td>...</td>\n",
       "      <td>-3.483038e+01</td>\n",
       "      <td>-1.093314e+01</td>\n",
       "      <td>-4.480774e+01</td>\n",
       "      <td>-2.836627e+00</td>\n",
       "      <td>-1.029540e+01</td>\n",
       "      <td>-2.604551e+00</td>\n",
       "      <td>-2.256568e+01</td>\n",
       "      <td>-1.543008e+01</td>\n",
       "      <td>0.000000</td>\n",
       "      <td>0.000000</td>\n",
       "    </tr>\n",
       "    <tr>\n",
       "      <th>25%</th>\n",
       "      <td>54201.500000</td>\n",
       "      <td>-9.203734e-01</td>\n",
       "      <td>-5.985499e-01</td>\n",
       "      <td>-8.903648e-01</td>\n",
       "      <td>-8.486401e-01</td>\n",
       "      <td>-6.915971e-01</td>\n",
       "      <td>-7.682956e-01</td>\n",
       "      <td>-5.540759e-01</td>\n",
       "      <td>-2.086297e-01</td>\n",
       "      <td>-6.430976e-01</td>\n",
       "      <td>...</td>\n",
       "      <td>-2.283949e-01</td>\n",
       "      <td>-5.423504e-01</td>\n",
       "      <td>-1.618463e-01</td>\n",
       "      <td>-3.545861e-01</td>\n",
       "      <td>-3.171451e-01</td>\n",
       "      <td>-3.269839e-01</td>\n",
       "      <td>-7.083953e-02</td>\n",
       "      <td>-5.295979e-02</td>\n",
       "      <td>5.600000</td>\n",
       "      <td>0.000000</td>\n",
       "    </tr>\n",
       "    <tr>\n",
       "      <th>50%</th>\n",
       "      <td>84692.000000</td>\n",
       "      <td>1.810880e-02</td>\n",
       "      <td>6.548556e-02</td>\n",
       "      <td>1.798463e-01</td>\n",
       "      <td>-1.984653e-02</td>\n",
       "      <td>-5.433583e-02</td>\n",
       "      <td>-2.741871e-01</td>\n",
       "      <td>4.010308e-02</td>\n",
       "      <td>2.235804e-02</td>\n",
       "      <td>-5.142873e-02</td>\n",
       "      <td>...</td>\n",
       "      <td>-2.945017e-02</td>\n",
       "      <td>6.781943e-03</td>\n",
       "      <td>-1.119293e-02</td>\n",
       "      <td>4.097606e-02</td>\n",
       "      <td>1.659350e-02</td>\n",
       "      <td>-5.213911e-02</td>\n",
       "      <td>1.342146e-03</td>\n",
       "      <td>1.124383e-02</td>\n",
       "      <td>22.000000</td>\n",
       "      <td>0.000000</td>\n",
       "    </tr>\n",
       "    <tr>\n",
       "      <th>75%</th>\n",
       "      <td>139320.500000</td>\n",
       "      <td>1.315642e+00</td>\n",
       "      <td>8.037239e-01</td>\n",
       "      <td>1.027196e+00</td>\n",
       "      <td>7.433413e-01</td>\n",
       "      <td>6.119264e-01</td>\n",
       "      <td>3.985649e-01</td>\n",
       "      <td>5.704361e-01</td>\n",
       "      <td>3.273459e-01</td>\n",
       "      <td>5.971390e-01</td>\n",
       "      <td>...</td>\n",
       "      <td>1.863772e-01</td>\n",
       "      <td>5.285536e-01</td>\n",
       "      <td>1.476421e-01</td>\n",
       "      <td>4.395266e-01</td>\n",
       "      <td>3.507156e-01</td>\n",
       "      <td>2.409522e-01</td>\n",
       "      <td>9.104512e-02</td>\n",
       "      <td>7.827995e-02</td>\n",
       "      <td>77.165000</td>\n",
       "      <td>0.000000</td>\n",
       "    </tr>\n",
       "    <tr>\n",
       "      <th>max</th>\n",
       "      <td>172792.000000</td>\n",
       "      <td>2.454930e+00</td>\n",
       "      <td>2.205773e+01</td>\n",
       "      <td>9.382558e+00</td>\n",
       "      <td>1.687534e+01</td>\n",
       "      <td>3.480167e+01</td>\n",
       "      <td>7.330163e+01</td>\n",
       "      <td>1.205895e+02</td>\n",
       "      <td>2.000721e+01</td>\n",
       "      <td>1.559499e+01</td>\n",
       "      <td>...</td>\n",
       "      <td>2.720284e+01</td>\n",
       "      <td>1.050309e+01</td>\n",
       "      <td>2.252841e+01</td>\n",
       "      <td>4.584549e+00</td>\n",
       "      <td>7.519589e+00</td>\n",
       "      <td>3.517346e+00</td>\n",
       "      <td>3.161220e+01</td>\n",
       "      <td>3.384781e+01</td>\n",
       "      <td>25691.160000</td>\n",
       "      <td>1.000000</td>\n",
       "    </tr>\n",
       "  </tbody>\n",
       "</table>\n",
       "<p>8 rows × 31 columns</p>\n",
       "</div>"
      ],
      "text/plain": [
       "                Time            V1            V2            V3            V4  \\\n",
       "count  284807.000000  2.848070e+05  2.848070e+05  2.848070e+05  2.848070e+05   \n",
       "mean    94813.859575  1.165980e-15  3.416908e-16 -1.373150e-15  2.086869e-15   \n",
       "std     47488.145955  1.958696e+00  1.651309e+00  1.516255e+00  1.415869e+00   \n",
       "min         0.000000 -5.640751e+01 -7.271573e+01 -4.832559e+01 -5.683171e+00   \n",
       "25%     54201.500000 -9.203734e-01 -5.985499e-01 -8.903648e-01 -8.486401e-01   \n",
       "50%     84692.000000  1.810880e-02  6.548556e-02  1.798463e-01 -1.984653e-02   \n",
       "75%    139320.500000  1.315642e+00  8.037239e-01  1.027196e+00  7.433413e-01   \n",
       "max    172792.000000  2.454930e+00  2.205773e+01  9.382558e+00  1.687534e+01   \n",
       "\n",
       "                 V5            V6            V7            V8            V9  \\\n",
       "count  2.848070e+05  2.848070e+05  2.848070e+05  2.848070e+05  2.848070e+05   \n",
       "mean   9.604066e-16  1.490107e-15 -5.556467e-16  1.177556e-16 -2.406455e-15   \n",
       "std    1.380247e+00  1.332271e+00  1.237094e+00  1.194353e+00  1.098632e+00   \n",
       "min   -1.137433e+02 -2.616051e+01 -4.355724e+01 -7.321672e+01 -1.343407e+01   \n",
       "25%   -6.915971e-01 -7.682956e-01 -5.540759e-01 -2.086297e-01 -6.430976e-01   \n",
       "50%   -5.433583e-02 -2.741871e-01  4.010308e-02  2.235804e-02 -5.142873e-02   \n",
       "75%    6.119264e-01  3.985649e-01  5.704361e-01  3.273459e-01  5.971390e-01   \n",
       "max    3.480167e+01  7.330163e+01  1.205895e+02  2.000721e+01  1.559499e+01   \n",
       "\n",
       "       ...           V21           V22           V23           V24  \\\n",
       "count  ...  2.848070e+05  2.848070e+05  2.848070e+05  2.848070e+05   \n",
       "mean   ...  1.656562e-16 -3.444850e-16  2.578648e-16  4.471968e-15   \n",
       "std    ...  7.345240e-01  7.257016e-01  6.244603e-01  6.056471e-01   \n",
       "min    ... -3.483038e+01 -1.093314e+01 -4.480774e+01 -2.836627e+00   \n",
       "25%    ... -2.283949e-01 -5.423504e-01 -1.618463e-01 -3.545861e-01   \n",
       "50%    ... -2.945017e-02  6.781943e-03 -1.119293e-02  4.097606e-02   \n",
       "75%    ...  1.863772e-01  5.285536e-01  1.476421e-01  4.395266e-01   \n",
       "max    ...  2.720284e+01  1.050309e+01  2.252841e+01  4.584549e+00   \n",
       "\n",
       "                V25           V26           V27           V28         Amount  \\\n",
       "count  2.848070e+05  2.848070e+05  2.848070e+05  2.848070e+05  284807.000000   \n",
       "mean   5.340915e-16  1.687098e-15 -3.666453e-16 -1.220404e-16      88.349619   \n",
       "std    5.212781e-01  4.822270e-01  4.036325e-01  3.300833e-01     250.120109   \n",
       "min   -1.029540e+01 -2.604551e+00 -2.256568e+01 -1.543008e+01       0.000000   \n",
       "25%   -3.171451e-01 -3.269839e-01 -7.083953e-02 -5.295979e-02       5.600000   \n",
       "50%    1.659350e-02 -5.213911e-02  1.342146e-03  1.124383e-02      22.000000   \n",
       "75%    3.507156e-01  2.409522e-01  9.104512e-02  7.827995e-02      77.165000   \n",
       "max    7.519589e+00  3.517346e+00  3.161220e+01  3.384781e+01   25691.160000   \n",
       "\n",
       "               Class  \n",
       "count  284807.000000  \n",
       "mean        0.001727  \n",
       "std         0.041527  \n",
       "min         0.000000  \n",
       "25%         0.000000  \n",
       "50%         0.000000  \n",
       "75%         0.000000  \n",
       "max         1.000000  \n",
       "\n",
       "[8 rows x 31 columns]"
      ]
     },
     "execution_count": 129,
     "metadata": {},
     "output_type": "execute_result"
    }
   ],
   "source": [
    "df.describe()\n",
    "# 28 input variables + Time + Amount + Class"
   ]
  },
  {
   "cell_type": "code",
   "execution_count": 130,
   "id": "fbbee3ea",
   "metadata": {},
   "outputs": [
    {
     "data": {
      "image/png": "[encoded data removed]",
      "text/plain": [
       "<Figure size 432x288 with 1 Axes>"
      ]
     },
     "metadata": {
      "needs_background": "light"
     },
     "output_type": "display_data"
    }
   ],
   "source": [
    "df['Time'].hist(bins=100)\n",
    "plt.show()\n",
    "# seems to be two groups of transactions, shorter and longer elapse"
   ]
  },
  {
   "cell_type": "code",
   "execution_count": 131,
   "id": "e5002008",
   "metadata": {},
   "outputs": [
    {
     "data": {
      "image/png": "[encoded data removed]",
      "text/plain": [
       "<Figure size 432x288 with 1 Axes>"
      ]
     },
     "metadata": {
      "needs_background": "light"
     },
     "output_type": "display_data"
    }
   ],
   "source": [
    "df['Amount'].hist(bins=100)\n",
    "plt.show()\n",
    "# there is clearly some important outliers in this variable. To be checked if related to fraud or not"
   ]
  },
  {
   "cell_type": "code",
   "execution_count": 132,
   "id": "fa1eb838",
   "metadata": {},
   "outputs": [
    {
     "data": {
      "text/html": [
       "<div>\n",
       "<style scoped>\n",
       "    .dataframe tbody tr th:only-of-type {\n",
       "        vertical-align: middle;\n",
       "    }\n",
       "\n",
       "    .dataframe tbody tr th {\n",
       "        vertical-align: top;\n",
       "    }\n",
       "\n",
       "    .dataframe thead th {\n",
       "        text-align: right;\n",
       "    }\n",
       "</style>\n",
       "<table border=\"1\" class=\"dataframe\">\n",
       "  <thead>\n",
       "    <tr style=\"text-align: right;\">\n",
       "      <th></th>\n",
       "      <th>count</th>\n",
       "      <th>mean</th>\n",
       "      <th>std</th>\n",
       "      <th>min</th>\n",
       "      <th>25%</th>\n",
       "      <th>50%</th>\n",
       "      <th>75%</th>\n",
       "      <th>max</th>\n",
       "    </tr>\n",
       "    <tr>\n",
       "      <th>Class</th>\n",
       "      <th></th>\n",
       "      <th></th>\n",
       "      <th></th>\n",
       "      <th></th>\n",
       "      <th></th>\n",
       "      <th></th>\n",
       "      <th></th>\n",
       "      <th></th>\n",
       "    </tr>\n",
       "  </thead>\n",
       "  <tbody>\n",
       "    <tr>\n",
       "      <th>0</th>\n",
       "      <td>284315.0</td>\n",
       "      <td>88.291022</td>\n",
       "      <td>250.105092</td>\n",
       "      <td>0.0</td>\n",
       "      <td>5.65</td>\n",
       "      <td>22.00</td>\n",
       "      <td>77.05</td>\n",
       "      <td>25691.16</td>\n",
       "    </tr>\n",
       "    <tr>\n",
       "      <th>1</th>\n",
       "      <td>492.0</td>\n",
       "      <td>122.211321</td>\n",
       "      <td>256.683288</td>\n",
       "      <td>0.0</td>\n",
       "      <td>1.00</td>\n",
       "      <td>9.25</td>\n",
       "      <td>105.89</td>\n",
       "      <td>2125.87</td>\n",
       "    </tr>\n",
       "  </tbody>\n",
       "</table>\n",
       "</div>"
      ],
      "text/plain": [
       "          count        mean         std  min   25%    50%     75%       max\n",
       "Class                                                                      \n",
       "0      284315.0   88.291022  250.105092  0.0  5.65  22.00   77.05  25691.16\n",
       "1         492.0  122.211321  256.683288  0.0  1.00   9.25  105.89   2125.87"
      ]
     },
     "execution_count": 132,
     "metadata": {},
     "output_type": "execute_result"
    }
   ],
   "source": [
    "df.groupby('Class')['Amount'].describe()\n",
    "# seems that outliers called out above are not necessary frauds"
   ]
  },
  {
   "cell_type": "code",
   "execution_count": 133,
   "id": "f5e68bad",
   "metadata": {},
   "outputs": [],
   "source": [
    "# since most of the data has alread been scaled we shall also scale above two metrics\n",
    "# Robust Scaler less prone to outliers\n",
    "rob_scaler = RobustScaler()\n",
    "\n",
    "df['Amount_scaled'] = rob_scaler.fit_transform(df['Amount'].values.reshape(-1,1))\n",
    "df['Time_scaled'] = rob_scaler.fit_transform(df['Time'].values.reshape(-1,1))\n",
    "df.drop(columns=['Amount','Time'], axis=1, inplace=True)"
   ]
  },
  {
   "cell_type": "code",
   "execution_count": 134,
   "id": "56c879cb",
   "metadata": {},
   "outputs": [
    {
     "data": {
      "text/plain": [
       "0"
      ]
     },
     "execution_count": 134,
     "metadata": {},
     "output_type": "execute_result"
    }
   ],
   "source": [
    "df.isnull().sum().sum()\n",
    "# no null values"
   ]
  },
  {
   "cell_type": "code",
   "execution_count": 135,
   "id": "f3c77113",
   "metadata": {},
   "outputs": [
    {
     "data": {
      "text/plain": [
       "0    0.998273\n",
       "1    0.001727\n",
       "Name: Class, dtype: float64"
      ]
     },
     "execution_count": 135,
     "metadata": {},
     "output_type": "execute_result"
    }
   ],
   "source": [
    "df['Class'].value_counts(normalize=True)\n",
    "# highly unbalanced dataset, only 0,17% of positive class\n",
    "# this mean we will be using Area Under Precision-Recall curve instead of usual confusion matrix"
   ]
  },
  {
   "cell_type": "code",
   "execution_count": 136,
   "id": "fcd1e92d",
   "metadata": {},
   "outputs": [],
   "source": [
    "#sns.pairplot(df, corner=True, hue='Class')"
   ]
  },
  {
   "cell_type": "markdown",
   "id": "9e419afc",
   "metadata": {},
   "source": [
    "### Split train, validation and test data sets"
   ]
  },
  {
   "cell_type": "code",
   "execution_count": 137,
   "id": "78805704",
   "metadata": {},
   "outputs": [],
   "source": [
    "X = df.drop(columns='Class').values\n",
    "y = df['Class'].values\n",
    "X_train, X_te, y_train, y_te = train_test_split(X, y, test_size=0.1, random_state=18)"
   ]
  },
  {
   "cell_type": "code",
   "execution_count": 138,
   "id": "996cf112",
   "metadata": {},
   "outputs": [
    {
     "name": "stdout",
     "output_type": "stream",
     "text": [
      "Train data set shape: (256326, 30), count of positive class 451 (0.18%)\n",
      "Test data set shape: (28481, 30), count of positive class: 41 (0.14%)\n"
     ]
    }
   ],
   "source": [
    "print('Train data set shape: {}, count of positive class {} ({:.2f}%)'.format(X_train.shape, y_train.sum(), 100*y_train.sum()/len(y_train)))\n",
    "print('Test data set shape: {}, count of positive class: {} ({:.2f}%)'.format(X_te.shape, y_te.sum(), 100*y_te.sum()/len(y_te)))"
   ]
  },
  {
   "cell_type": "code",
   "execution_count": 139,
   "id": "441f347c",
   "metadata": {},
   "outputs": [],
   "source": [
    "X_tr, X_va, y_tr, y_va = train_test_split(X_train, y_train, test_size=0.1, random_state=18)\n",
    "# wondering if shall increase test_size to allow model to better validate restuls. On train set k-fold can be used to \"augment\" data set"
   ]
  },
  {
   "cell_type": "code",
   "execution_count": 140,
   "id": "04c6539e",
   "metadata": {},
   "outputs": [
    {
     "name": "stdout",
     "output_type": "stream",
     "text": [
      "Train data set shape: (230693, 30), count of positive class 400 (0.17%)\n",
      "validation data set shape: (25633, 30), count of positive class: 51 (0.20%)\n"
     ]
    }
   ],
   "source": [
    "print('Train data set shape: {}, count of positive class {} ({:.2f}%)'.format(X_tr.shape, y_tr.sum(), 100*y_tr.sum()/len(y_tr)))\n",
    "print('validation data set shape: {}, count of positive class: {} ({:.2f}%)'.format(X_va.shape, y_va.sum(), 100*y_va.sum()/len(y_va)))"
   ]
  },
  {
   "cell_type": "markdown",
   "id": "171f3717",
   "metadata": {},
   "source": [
    "### Machine Learning models\n",
    "\n",
    "* Decided to go with single example of LogisticRegression but could apply same logic for K-NN, SVC, DecisionTree or RandomForest..and ideally compare performance to take only best one\n",
    "\n",
    "#### LogisticRegression"
   ]
  },
  {
   "cell_type": "code",
   "execution_count": 141,
   "id": "134ed798",
   "metadata": {},
   "outputs": [],
   "source": [
    "logreg = LogisticRegression(multi_class='ovr',solver='liblinear') # treid with class_weight = 'balanced' which improved recall but dratically decrease precision"
   ]
  },
  {
   "cell_type": "code",
   "execution_count": 142,
   "id": "84e6c824",
   "metadata": {},
   "outputs": [
    {
     "data": {
      "text/plain": [
       "0.9992197557835603"
      ]
     },
     "execution_count": 142,
     "metadata": {},
     "output_type": "execute_result"
    }
   ],
   "source": [
    "logreg.fit(X_tr, y_tr)\n",
    "logreg.score(X_va, y_va)\n",
    "# accuracy score is not meaningful as we are working on highly imbalanced data set"
   ]
  },
  {
   "cell_type": "markdown",
   "id": "5b09940b",
   "metadata": {},
   "source": [
    "##### Confusion Matrix"
   ]
  },
  {
   "cell_type": "code",
   "execution_count": 143,
   "id": "e034f0b4",
   "metadata": {},
   "outputs": [
    {
     "data": {
      "text/html": [
       "<div>\n",
       "<style scoped>\n",
       "    .dataframe tbody tr th:only-of-type {\n",
       "        vertical-align: middle;\n",
       "    }\n",
       "\n",
       "    .dataframe tbody tr th {\n",
       "        vertical-align: top;\n",
       "    }\n",
       "\n",
       "    .dataframe thead th {\n",
       "        text-align: right;\n",
       "    }\n",
       "</style>\n",
       "<table border=\"1\" class=\"dataframe\">\n",
       "  <thead>\n",
       "    <tr style=\"text-align: right;\">\n",
       "      <th></th>\n",
       "      <th>pred: no spam</th>\n",
       "      <th>pred: spam</th>\n",
       "    </tr>\n",
       "  </thead>\n",
       "  <tbody>\n",
       "    <tr>\n",
       "      <th>true: no spam</th>\n",
       "      <td>25582</td>\n",
       "      <td>0</td>\n",
       "    </tr>\n",
       "    <tr>\n",
       "      <th>true: spam</th>\n",
       "      <td>20</td>\n",
       "      <td>31</td>\n",
       "    </tr>\n",
       "  </tbody>\n",
       "</table>\n",
       "</div>"
      ],
      "text/plain": [
       "               pred: no spam  pred: spam\n",
       "true: no spam          25582           0\n",
       "true: spam                20          31"
      ]
     },
     "execution_count": 143,
     "metadata": {},
     "output_type": "execute_result"
    }
   ],
   "source": [
    "matrix_logreg = confusion_matrix(y_true=y_va, y_pred=logreg.predict(X_va))\n",
    "pd.DataFrame(\n",
    "    matrix_logreg, \n",
    "    columns=['pred: no spam', 'pred: spam'],\n",
    "    index=['true: no spam', 'true: spam'])"
   ]
  },
  {
   "cell_type": "markdown",
   "id": "89cd8929",
   "metadata": {},
   "source": [
    "##### Classification Report"
   ]
  },
  {
   "cell_type": "code",
   "execution_count": 202,
   "id": "10ca9ed1",
   "metadata": {},
   "outputs": [
    {
     "name": "stdout",
     "output_type": "stream",
     "text": [
      "              precision    recall  f1-score   support\n",
      "\n",
      "     no spam       1.00      1.00      1.00     25582\n",
      "        spam       1.00      0.61      0.76        51\n",
      "\n",
      "    accuracy                           1.00     25633\n",
      "   macro avg       1.00      0.80      0.88     25633\n",
      "weighted avg       1.00      1.00      1.00     25633\n",
      "\n"
     ]
    }
   ],
   "source": [
    "print(classification_report(y_true=y_va, y_pred=logreg.predict(X_va), target_names=('no spam','spam')))"
   ]
  },
  {
   "cell_type": "code",
   "execution_count": 145,
   "id": "d3f64bc6",
   "metadata": {},
   "outputs": [
    {
     "name": "stdout",
     "output_type": "stream",
     "text": [
      "Prediction as spam in validation set: 31\n"
     ]
    }
   ],
   "source": [
    "print('Prediction as spam in validation set: {}'.format(sum(logreg.predict(X_va))))"
   ]
  },
  {
   "cell_type": "code",
   "execution_count": 146,
   "id": "1c52971c",
   "metadata": {},
   "outputs": [
    {
     "data": {
      "text/plain": [
       "array([0.99868061, 0.99995021, 0.99832785, 1.        , 0.87341674,\n",
       "       0.93257644, 0.91752785, 0.99754475, 0.71783435, 0.99688261,\n",
       "       0.63917417, 0.99986781, 0.85477435, 0.99999952, 0.97429275,\n",
       "       0.92575105, 0.98877258, 0.99999999, 0.99999996, 1.        ,\n",
       "       0.99911438, 0.99999997, 0.96963014, 0.50076356, 0.99531732,\n",
       "       0.98948787, 0.98487586, 0.76397868, 0.99927402, 1.        ,\n",
       "       0.99999974])"
      ]
     },
     "execution_count": 146,
     "metadata": {},
     "output_type": "execute_result"
    }
   ],
   "source": [
    "logreg.predict_proba(X_va)[logreg.predict_proba(X_va)[:,1] > 0.5][:,1]\n",
    "# probabilities for spam prediction in validation set"
   ]
  },
  {
   "cell_type": "code",
   "execution_count": 147,
   "id": "6f5e2a4c",
   "metadata": {},
   "outputs": [
    {
     "data": {
      "image/png": "[encoded data removed]",
      "text/plain": [
       "<Figure size 432x288 with 1 Axes>"
      ]
     },
     "metadata": {
      "needs_background": "light"
     },
     "output_type": "display_data"
    }
   ],
   "source": [
    "plt.plot(logreg.predict_proba(X_va)[:,1])\n",
    "plt.hlines(y=0.5, xmin=0, xmax=25000, color='red')\n",
    "plt.title('Probability of being a spam (validation set)')\n",
    "plt.show()"
   ]
  },
  {
   "cell_type": "code",
   "execution_count": 148,
   "id": "f48bcab6",
   "metadata": {},
   "outputs": [
    {
     "data": {
      "image/png": "[encoded data removed]",
      "text/plain": [
       "<Figure size 432x288 with 1 Axes>"
      ]
     },
     "metadata": {
      "needs_background": "light"
     },
     "output_type": "display_data"
    }
   ],
   "source": [
    "plt.hist(logreg.predict_proba(X_va)[:,1], bins=np.linspace(0,1,20))\n",
    "plt.title('Histogram of spam probabilities (validation set)')\n",
    "plt.show()"
   ]
  },
  {
   "cell_type": "code",
   "execution_count": 149,
   "id": "a2d60b29",
   "metadata": {},
   "outputs": [
    {
     "data": {
      "text/plain": [
       "array([0.001, 0.001, 0.001, 0.003, 0.004, 0.006, 0.009, 0.013, 0.052,\n",
       "       0.061, 0.073, 0.156, 0.183, 0.21 , 0.228, 0.231, 0.257, 0.268,\n",
       "       0.329, 0.419, 0.501, 0.639, 0.718, 0.764, 0.855, 0.873, 0.918,\n",
       "       0.926, 0.933, 0.97 , 0.974, 0.985, 0.989, 0.989, 0.995, 0.997,\n",
       "       0.998, 0.998, 0.999, 0.999, 0.999, 1.   , 1.   , 1.   , 1.   ,\n",
       "       1.   , 1.   , 1.   , 1.   , 1.   , 1.   ])"
      ]
     },
     "execution_count": 149,
     "metadata": {},
     "output_type": "execute_result"
    }
   ],
   "source": [
    "np.round(np.sort(logreg.predict_proba(X_va)[y_va == 1][:,1]),3)\n",
    "# probabilities of being spam for \"true spam\", sorted ascending (validation set)\n",
    "# allow to understand if wrong prediction were close to 0.5 threshold => if working on threshold could help (but shall also consider \"true no spam\" which are close to 0.5 threshold)"
   ]
  },
  {
   "cell_type": "markdown",
   "id": "3d775b03",
   "metadata": {},
   "source": [
    "#### Precision-Recall curve and optimized threshold"
   ]
  },
  {
   "cell_type": "code",
   "execution_count": 150,
   "id": "17456f12",
   "metadata": {},
   "outputs": [],
   "source": [
    "# Precision-Recall Curves (used over ROC as better fit for imbalanced classes as focus on positive class only)\n",
    "# predict class values\n",
    "precision_va, recall_va, thres_pr_va = precision_recall_curve(y_va, logreg.predict_proba(X_va)[:,1], pos_label=1)"
   ]
  },
  {
   "cell_type": "code",
   "execution_count": 151,
   "id": "95d116bf",
   "metadata": {},
   "outputs": [],
   "source": [
    "# area under curve\n",
    "auc_pr_va = auc(recall_va, precision_va)"
   ]
  },
  {
   "cell_type": "code",
   "execution_count": 152,
   "id": "b4f9eff1",
   "metadata": {},
   "outputs": [
    {
     "name": "stdout",
     "output_type": "stream",
     "text": [
      "Logistic Regression Area Under PR Curve: auc=0.842\n"
     ]
    }
   ],
   "source": [
    "# summarize scores\n",
    "print('Logistic Regression Area Under PR Curve: auc={:.3f}'.format(auc_pr_va))"
   ]
  },
  {
   "cell_type": "code",
   "execution_count": 153,
   "id": "00e462c2",
   "metadata": {},
   "outputs": [
    {
     "data": {
      "text/plain": [
       "Text(0.5, 1.0, 'PR curve Logistic Regression: Delay')"
      ]
     },
     "execution_count": 153,
     "metadata": {},
     "output_type": "execute_result"
    },
    {
     "data": {
      "image/png": "[encoded data removed]",
      "text/plain": [
       "<Figure size 432x288 with 1 Axes>"
      ]
     },
     "metadata": {
      "needs_background": "light"
     },
     "output_type": "display_data"
    }
   ],
   "source": [
    "plt.plot(recall_va, precision_va, marker='.', label='logistic, {:.3f}'.format(auc_pr_va))\n",
    "plt.xlabel('Recall')\n",
    "plt.ylabel('Precision')\n",
    "plt.legend(title='Area under curve')\n",
    "plt.title('PR curve Logistic Regression: Delay')"
   ]
  },
  {
   "cell_type": "code",
   "execution_count": 154,
   "id": "37ed5108",
   "metadata": {},
   "outputs": [
    {
     "name": "stdout",
     "output_type": "stream",
     "text": [
      "Best threshold: 0.156\n"
     ]
    }
   ],
   "source": [
    "# optimizing threshold for f1 score\n",
    "fscores_va = (2* precision_va * recall_va) / (precision_va + recall_va)\n",
    "bt_pr_va = thres_pr_va[argmax(fscores_va)] # best threshold\n",
    "# argmax(fscores_va) -> gives index of maximum value for fscores\n",
    "print('Best threshold: {:.3f}'.format(bt_pr_va))"
   ]
  },
  {
   "cell_type": "code",
   "execution_count": 155,
   "id": "94913616",
   "metadata": {},
   "outputs": [
    {
     "name": "stdout",
     "output_type": "stream",
     "text": [
      "Probabilities: [2.71942038e-05 3.61327661e-05 2.66692408e-05 2.73192629e-04\n",
      " 7.08230648e-05 3.58027626e-05 4.37379890e-04 2.77860753e-04\n",
      " 1.06892358e-04 4.74291672e-05]\n",
      "Predictions: [0 0 0 0 0 0 0 0 0 0]\n"
     ]
    }
   ],
   "source": [
    "# use threshold in model\n",
    "curve_va = np.where(logreg.predict_proba(X_va)[:,1] > bt_pr_va, 1, 0) # create prediction based on new threshold on probabilities\n",
    "print('Probabilities:',logreg.predict_proba(X_va)[0:10,1])\n",
    "print('Predictions:',curve_va[0:10])"
   ]
  },
  {
   "cell_type": "markdown",
   "id": "1064a3a6",
   "metadata": {},
   "source": [
    "#### Classification report after threshold optimization"
   ]
  },
  {
   "cell_type": "code",
   "execution_count": 156,
   "id": "e4959eab",
   "metadata": {},
   "outputs": [
    {
     "name": "stdout",
     "output_type": "stream",
     "text": [
      "              precision    recall  f1-score   support\n",
      "\n",
      "    no_delay       1.00      1.00      1.00     25582\n",
      "       delay       0.87      0.76      0.81        51\n",
      "\n",
      "    accuracy                           1.00     25633\n",
      "   macro avg       0.93      0.88      0.91     25633\n",
      "weighted avg       1.00      1.00      1.00     25633\n",
      "\n"
     ]
    }
   ],
   "source": [
    "print(classification_report(y_true=y_va, y_pred=curve_va, target_names=['no_delay','delay']))\n",
    "# slight improvements in f1-score (0.76 to 0.81) => precision (1.00 to 0.87) but recall (0.61 to 0.76)"
   ]
  },
  {
   "cell_type": "markdown",
   "id": "1fe44574",
   "metadata": {},
   "source": [
    "### Logistic Regression with GridSearch on Hyperparameters"
   ]
  },
  {
   "cell_type": "code",
   "execution_count": 77,
   "id": "17db3148",
   "metadata": {},
   "outputs": [
    {
     "name": "stdout",
     "output_type": "stream",
     "text": [
      "Shape train/valid input: (256326, 30)\n",
      "Shape train/valid output: (256326,)\n"
     ]
    }
   ],
   "source": [
    "# merging train and validation sets for the use of cross-validation\n",
    "X_tr_va = np.concatenate((X_tr,X_va))\n",
    "y_tr_va = np.concatenate((y_tr, y_va))\n",
    "print('Shape train/valid input:',X_tr_va.shape)\n",
    "print('Shape train/valid output:',y_tr_va.shape)"
   ]
  },
  {
   "cell_type": "code",
   "execution_count": 78,
   "id": "bff7779f",
   "metadata": {},
   "outputs": [],
   "source": [
    "logreg_tuned = LogisticRegression(multi_class='ovr',solver='liblinear')"
   ]
  },
  {
   "cell_type": "code",
   "execution_count": 79,
   "id": "b26a1b02",
   "metadata": {},
   "outputs": [],
   "source": [
    "# Create grid\n",
    "grid = [{\n",
    "    'C':np.logspace(-4,4,3),\n",
    "    'multi_class':['ovr'],\n",
    "    'solver':['liblinear'],\n",
    "    'class_weight':[None,'balanced']\n",
    "},{\n",
    "    'C':np.logspace(-4,4,3),\n",
    "    'multi_class':['multinomial'],\n",
    "    'solver':['saga'],\n",
    "    'class_weight':[None,'balanced']\n",
    "}]\n",
    "\n",
    "# Create cross validation object\n",
    "# planning to use AP (average_precision') for scoring on AUPRC (https://glassboxmedicine.com/2019/03/02/measuring-performance-auprc/)\n",
    "scoring = ['precision','recall','average_precision','f1'] # replace in below GridSearchCV\n",
    "# not that for classifiers the CV is per-default stratified\n",
    "grid_cv = GridSearchCV(estimator=logreg_tuned, param_grid=grid, n_jobs=4, cv=10, refit=False,verbose=1, return_train_score=True, scoring=scoring)"
   ]
  },
  {
   "cell_type": "code",
   "execution_count": 80,
   "id": "a92ac5bc",
   "metadata": {},
   "outputs": [
    {
     "name": "stdout",
     "output_type": "stream",
     "text": [
      "Fitting 10 folds for each of 12 candidates, totalling 120 fits\n"
     ]
    },
    {
     "data": {
      "text/plain": [
       "GridSearchCV(cv=10,\n",
       "             estimator=LogisticRegression(multi_class='ovr',\n",
       "                                          solver='liblinear'),\n",
       "             n_jobs=4,\n",
       "             param_grid=[{'C': array([1.e-04, 1.e+00, 1.e+04]),\n",
       "                          'class_weight': [None, 'balanced'],\n",
       "                          'multi_class': ['ovr'], 'solver': ['liblinear']},\n",
       "                         {'C': array([1.e-04, 1.e+00, 1.e+04]),\n",
       "                          'class_weight': [None, 'balanced'],\n",
       "                          'multi_class': ['multinomial'], 'solver': ['saga']}],\n",
       "             refit=False, return_train_score=True,\n",
       "             scoring=['precision', 'recall', 'average_precision', 'f1'],\n",
       "             verbose=1)"
      ]
     },
     "execution_count": 80,
     "metadata": {},
     "output_type": "execute_result"
    }
   ],
   "source": [
    "grid_cv.fit(X_tr_va,y_tr_va)"
   ]
  },
  {
   "cell_type": "code",
   "execution_count": 81,
   "id": "d1bfa6af",
   "metadata": {},
   "outputs": [
    {
     "data": {
      "text/plain": [
       "array([0.47231884, 0.91144928, 0.66096618, 0.91806763, 0.66096618,\n",
       "       0.91806763, 0.372657  , 0.90483092, 0.62768116, 0.91589372,\n",
       "       0.62768116, 0.91589372])"
      ]
     },
     "execution_count": 81,
     "metadata": {},
     "output_type": "execute_result"
    }
   ],
   "source": [
    "grid_cv.cv_results_['mean_test_recall']"
   ]
  },
  {
   "cell_type": "code",
   "execution_count": 82,
   "id": "b9d4dfee",
   "metadata": {},
   "outputs": [
    {
     "data": {
      "text/plain": [
       "dict_keys(['mean_fit_time', 'std_fit_time', 'mean_score_time', 'std_score_time', 'param_C', 'param_class_weight', 'param_multi_class', 'param_solver', 'params', 'split0_test_precision', 'split1_test_precision', 'split2_test_precision', 'split3_test_precision', 'split4_test_precision', 'split5_test_precision', 'split6_test_precision', 'split7_test_precision', 'split8_test_precision', 'split9_test_precision', 'mean_test_precision', 'std_test_precision', 'rank_test_precision', 'split0_train_precision', 'split1_train_precision', 'split2_train_precision', 'split3_train_precision', 'split4_train_precision', 'split5_train_precision', 'split6_train_precision', 'split7_train_precision', 'split8_train_precision', 'split9_train_precision', 'mean_train_precision', 'std_train_precision', 'split0_test_recall', 'split1_test_recall', 'split2_test_recall', 'split3_test_recall', 'split4_test_recall', 'split5_test_recall', 'split6_test_recall', 'split7_test_recall', 'split8_test_recall', 'split9_test_recall', 'mean_test_recall', 'std_test_recall', 'rank_test_recall', 'split0_train_recall', 'split1_train_recall', 'split2_train_recall', 'split3_train_recall', 'split4_train_recall', 'split5_train_recall', 'split6_train_recall', 'split7_train_recall', 'split8_train_recall', 'split9_train_recall', 'mean_train_recall', 'std_train_recall', 'split0_test_average_precision', 'split1_test_average_precision', 'split2_test_average_precision', 'split3_test_average_precision', 'split4_test_average_precision', 'split5_test_average_precision', 'split6_test_average_precision', 'split7_test_average_precision', 'split8_test_average_precision', 'split9_test_average_precision', 'mean_test_average_precision', 'std_test_average_precision', 'rank_test_average_precision', 'split0_train_average_precision', 'split1_train_average_precision', 'split2_train_average_precision', 'split3_train_average_precision', 'split4_train_average_precision', 'split5_train_average_precision', 'split6_train_average_precision', 'split7_train_average_precision', 'split8_train_average_precision', 'split9_train_average_precision', 'mean_train_average_precision', 'std_train_average_precision', 'split0_test_f1', 'split1_test_f1', 'split2_test_f1', 'split3_test_f1', 'split4_test_f1', 'split5_test_f1', 'split6_test_f1', 'split7_test_f1', 'split8_test_f1', 'split9_test_f1', 'mean_test_f1', 'std_test_f1', 'rank_test_f1', 'split0_train_f1', 'split1_train_f1', 'split2_train_f1', 'split3_train_f1', 'split4_train_f1', 'split5_train_f1', 'split6_train_f1', 'split7_train_f1', 'split8_train_f1', 'split9_train_f1', 'mean_train_f1', 'std_train_f1'])"
      ]
     },
     "execution_count": 82,
     "metadata": {},
     "output_type": "execute_result"
    }
   ],
   "source": [
    "grid_cv.cv_results_.keys()"
   ]
  },
  {
   "cell_type": "code",
   "execution_count": 83,
   "id": "11c2abff",
   "metadata": {},
   "outputs": [
    {
     "data": {
      "text/html": [
       "<div>\n",
       "<style scoped>\n",
       "    .dataframe tbody tr th:only-of-type {\n",
       "        vertical-align: middle;\n",
       "    }\n",
       "\n",
       "    .dataframe tbody tr th {\n",
       "        vertical-align: top;\n",
       "    }\n",
       "\n",
       "    .dataframe thead th {\n",
       "        text-align: right;\n",
       "    }\n",
       "</style>\n",
       "<table border=\"1\" class=\"dataframe\">\n",
       "  <thead>\n",
       "    <tr style=\"text-align: right;\">\n",
       "      <th></th>\n",
       "      <th>mean_test_average_precision</th>\n",
       "      <th>mean_train_average_precision</th>\n",
       "      <th>std_test_average_precision</th>\n",
       "      <th>mean_test_f1</th>\n",
       "      <th>mean_train_f1</th>\n",
       "      <th>mean_test_recall</th>\n",
       "      <th>mean_train_recall</th>\n",
       "      <th>mean_test_precision</th>\n",
       "      <th>mean_train_precision</th>\n",
       "      <th>param_C</th>\n",
       "      <th>param_multi_class</th>\n",
       "      <th>param_class_weight</th>\n",
       "      <th>mean_fit_time</th>\n",
       "      <th>mean_score_time</th>\n",
       "    </tr>\n",
       "  </thead>\n",
       "  <tbody>\n",
       "    <tr>\n",
       "      <th>2</th>\n",
       "      <td>0.786583</td>\n",
       "      <td>0.791004</td>\n",
       "      <td>0.061954</td>\n",
       "      <td>0.759165</td>\n",
       "      <td>0.762835</td>\n",
       "      <td>0.660966</td>\n",
       "      <td>0.661987</td>\n",
       "      <td>0.896555</td>\n",
       "      <td>0.900084</td>\n",
       "      <td>1</td>\n",
       "      <td>ovr</td>\n",
       "      <td>None</td>\n",
       "      <td>8.949387</td>\n",
       "      <td>0.057102</td>\n",
       "    </tr>\n",
       "    <tr>\n",
       "      <th>4</th>\n",
       "      <td>0.785096</td>\n",
       "      <td>0.790561</td>\n",
       "      <td>0.061582</td>\n",
       "      <td>0.757496</td>\n",
       "      <td>0.765071</td>\n",
       "      <td>0.660966</td>\n",
       "      <td>0.666176</td>\n",
       "      <td>0.891669</td>\n",
       "      <td>0.898588</td>\n",
       "      <td>10000</td>\n",
       "      <td>ovr</td>\n",
       "      <td>None</td>\n",
       "      <td>9.202390</td>\n",
       "      <td>0.060800</td>\n",
       "    </tr>\n",
       "    <tr>\n",
       "      <th>3</th>\n",
       "      <td>0.778571</td>\n",
       "      <td>0.774884</td>\n",
       "      <td>0.063476</td>\n",
       "      <td>0.134463</td>\n",
       "      <td>0.134323</td>\n",
       "      <td>0.918068</td>\n",
       "      <td>0.925354</td>\n",
       "      <td>0.072558</td>\n",
       "      <td>0.072427</td>\n",
       "      <td>1</td>\n",
       "      <td>ovr</td>\n",
       "      <td>balanced</td>\n",
       "      <td>9.028689</td>\n",
       "      <td>0.055301</td>\n",
       "    </tr>\n",
       "    <tr>\n",
       "      <th>5</th>\n",
       "      <td>0.778558</td>\n",
       "      <td>0.774869</td>\n",
       "      <td>0.063453</td>\n",
       "      <td>0.134461</td>\n",
       "      <td>0.134218</td>\n",
       "      <td>0.918068</td>\n",
       "      <td>0.925354</td>\n",
       "      <td>0.072557</td>\n",
       "      <td>0.072365</td>\n",
       "      <td>10000</td>\n",
       "      <td>ovr</td>\n",
       "      <td>balanced</td>\n",
       "      <td>9.942095</td>\n",
       "      <td>0.057700</td>\n",
       "    </tr>\n",
       "    <tr>\n",
       "      <th>11</th>\n",
       "      <td>0.778524</td>\n",
       "      <td>0.773481</td>\n",
       "      <td>0.064321</td>\n",
       "      <td>0.135249</td>\n",
       "      <td>0.135331</td>\n",
       "      <td>0.915894</td>\n",
       "      <td>0.922891</td>\n",
       "      <td>0.073031</td>\n",
       "      <td>0.073025</td>\n",
       "      <td>10000</td>\n",
       "      <td>multinomial</td>\n",
       "      <td>balanced</td>\n",
       "      <td>32.941558</td>\n",
       "      <td>0.049799</td>\n",
       "    </tr>\n",
       "    <tr>\n",
       "      <th>9</th>\n",
       "      <td>0.778478</td>\n",
       "      <td>0.774210</td>\n",
       "      <td>0.064030</td>\n",
       "      <td>0.136285</td>\n",
       "      <td>0.135900</td>\n",
       "      <td>0.915894</td>\n",
       "      <td>0.922891</td>\n",
       "      <td>0.073638</td>\n",
       "      <td>0.073357</td>\n",
       "      <td>1</td>\n",
       "      <td>multinomial</td>\n",
       "      <td>balanced</td>\n",
       "      <td>32.228378</td>\n",
       "      <td>0.052698</td>\n",
       "    </tr>\n",
       "    <tr>\n",
       "      <th>6</th>\n",
       "      <td>0.777596</td>\n",
       "      <td>0.772049</td>\n",
       "      <td>0.070518</td>\n",
       "      <td>0.513493</td>\n",
       "      <td>0.517398</td>\n",
       "      <td>0.372657</td>\n",
       "      <td>0.372505</td>\n",
       "      <td>0.860929</td>\n",
       "      <td>0.846952</td>\n",
       "      <td>0.0001</td>\n",
       "      <td>multinomial</td>\n",
       "      <td>None</td>\n",
       "      <td>35.233783</td>\n",
       "      <td>0.053399</td>\n",
       "    </tr>\n",
       "    <tr>\n",
       "      <th>10</th>\n",
       "      <td>0.755257</td>\n",
       "      <td>0.755575</td>\n",
       "      <td>0.061650</td>\n",
       "      <td>0.730900</td>\n",
       "      <td>0.742970</td>\n",
       "      <td>0.627681</td>\n",
       "      <td>0.639814</td>\n",
       "      <td>0.884658</td>\n",
       "      <td>0.885973</td>\n",
       "      <td>10000</td>\n",
       "      <td>multinomial</td>\n",
       "      <td>None</td>\n",
       "      <td>32.043437</td>\n",
       "      <td>0.046100</td>\n",
       "    </tr>\n",
       "    <tr>\n",
       "      <th>8</th>\n",
       "      <td>0.755215</td>\n",
       "      <td>0.755561</td>\n",
       "      <td>0.061681</td>\n",
       "      <td>0.730900</td>\n",
       "      <td>0.743344</td>\n",
       "      <td>0.627681</td>\n",
       "      <td>0.640306</td>\n",
       "      <td>0.884658</td>\n",
       "      <td>0.886057</td>\n",
       "      <td>1</td>\n",
       "      <td>multinomial</td>\n",
       "      <td>None</td>\n",
       "      <td>32.116715</td>\n",
       "      <td>0.049204</td>\n",
       "    </tr>\n",
       "    <tr>\n",
       "      <th>1</th>\n",
       "      <td>0.739887</td>\n",
       "      <td>0.736296</td>\n",
       "      <td>0.065302</td>\n",
       "      <td>0.124447</td>\n",
       "      <td>0.125651</td>\n",
       "      <td>0.911449</td>\n",
       "      <td>0.920180</td>\n",
       "      <td>0.066787</td>\n",
       "      <td>0.067433</td>\n",
       "      <td>0.0001</td>\n",
       "      <td>ovr</td>\n",
       "      <td>balanced</td>\n",
       "      <td>2.716826</td>\n",
       "      <td>0.057697</td>\n",
       "    </tr>\n",
       "    <tr>\n",
       "      <th>7</th>\n",
       "      <td>0.726211</td>\n",
       "      <td>0.721180</td>\n",
       "      <td>0.075498</td>\n",
       "      <td>0.162180</td>\n",
       "      <td>0.162763</td>\n",
       "      <td>0.904831</td>\n",
       "      <td>0.913775</td>\n",
       "      <td>0.089092</td>\n",
       "      <td>0.089352</td>\n",
       "      <td>0.0001</td>\n",
       "      <td>multinomial</td>\n",
       "      <td>balanced</td>\n",
       "      <td>24.969124</td>\n",
       "      <td>0.045200</td>\n",
       "    </tr>\n",
       "    <tr>\n",
       "      <th>0</th>\n",
       "      <td>0.540882</td>\n",
       "      <td>0.523301</td>\n",
       "      <td>0.078713</td>\n",
       "      <td>0.554843</td>\n",
       "      <td>0.558570</td>\n",
       "      <td>0.472319</td>\n",
       "      <td>0.474994</td>\n",
       "      <td>0.677416</td>\n",
       "      <td>0.677888</td>\n",
       "      <td>0.0001</td>\n",
       "      <td>ovr</td>\n",
       "      <td>None</td>\n",
       "      <td>2.101319</td>\n",
       "      <td>0.062900</td>\n",
       "    </tr>\n",
       "  </tbody>\n",
       "</table>\n",
       "</div>"
      ],
      "text/plain": [
       "    mean_test_average_precision  mean_train_average_precision  \\\n",
       "2                      0.786583                      0.791004   \n",
       "4                      0.785096                      0.790561   \n",
       "3                      0.778571                      0.774884   \n",
       "5                      0.778558                      0.774869   \n",
       "11                     0.778524                      0.773481   \n",
       "9                      0.778478                      0.774210   \n",
       "6                      0.777596                      0.772049   \n",
       "10                     0.755257                      0.755575   \n",
       "8                      0.755215                      0.755561   \n",
       "1                      0.739887                      0.736296   \n",
       "7                      0.726211                      0.721180   \n",
       "0                      0.540882                      0.523301   \n",
       "\n",
       "    std_test_average_precision  mean_test_f1  mean_train_f1  mean_test_recall  \\\n",
       "2                     0.061954      0.759165       0.762835          0.660966   \n",
       "4                     0.061582      0.757496       0.765071          0.660966   \n",
       "3                     0.063476      0.134463       0.134323          0.918068   \n",
       "5                     0.063453      0.134461       0.134218          0.918068   \n",
       "11                    0.064321      0.135249       0.135331          0.915894   \n",
       "9                     0.064030      0.136285       0.135900          0.915894   \n",
       "6                     0.070518      0.513493       0.517398          0.372657   \n",
       "10                    0.061650      0.730900       0.742970          0.627681   \n",
       "8                     0.061681      0.730900       0.743344          0.627681   \n",
       "1                     0.065302      0.124447       0.125651          0.911449   \n",
       "7                     0.075498      0.162180       0.162763          0.904831   \n",
       "0                     0.078713      0.554843       0.558570          0.472319   \n",
       "\n",
       "    mean_train_recall  mean_test_precision  mean_train_precision param_C  \\\n",
       "2            0.661987             0.896555              0.900084       1   \n",
       "4            0.666176             0.891669              0.898588   10000   \n",
       "3            0.925354             0.072558              0.072427       1   \n",
       "5            0.925354             0.072557              0.072365   10000   \n",
       "11           0.922891             0.073031              0.073025   10000   \n",
       "9            0.922891             0.073638              0.073357       1   \n",
       "6            0.372505             0.860929              0.846952  0.0001   \n",
       "10           0.639814             0.884658              0.885973   10000   \n",
       "8            0.640306             0.884658              0.886057       1   \n",
       "1            0.920180             0.066787              0.067433  0.0001   \n",
       "7            0.913775             0.089092              0.089352  0.0001   \n",
       "0            0.474994             0.677416              0.677888  0.0001   \n",
       "\n",
       "   param_multi_class param_class_weight  mean_fit_time  mean_score_time  \n",
       "2                ovr               None       8.949387         0.057102  \n",
       "4                ovr               None       9.202390         0.060800  \n",
       "3                ovr           balanced       9.028689         0.055301  \n",
       "5                ovr           balanced       9.942095         0.057700  \n",
       "11       multinomial           balanced      32.941558         0.049799  \n",
       "9        multinomial           balanced      32.228378         0.052698  \n",
       "6        multinomial               None      35.233783         0.053399  \n",
       "10       multinomial               None      32.043437         0.046100  \n",
       "8        multinomial               None      32.116715         0.049204  \n",
       "1                ovr           balanced       2.716826         0.057697  \n",
       "7        multinomial           balanced      24.969124         0.045200  \n",
       "0                ovr               None       2.101319         0.062900  "
      ]
     },
     "execution_count": 83,
     "metadata": {},
     "output_type": "execute_result"
    }
   ],
   "source": [
    "cols = ['mean_test_average_precision','mean_train_average_precision','std_test_average_precision',\\\n",
    "        'mean_test_f1','mean_train_f1',\\\n",
    "        'mean_test_recall','mean_train_recall','mean_test_precision','mean_train_precision',\\\n",
    "        'param_C','param_multi_class','param_class_weight',\\\n",
    "        'mean_fit_time','mean_score_time']\n",
    "# Delay GridSearchCV\n",
    "grid_cv_df = pd.DataFrame(grid_cv.cv_results_)[cols].sort_values(by='mean_test_average_precision', ascending=False)\n",
    "grid_cv_df"
   ]
  },
  {
   "cell_type": "markdown",
   "id": "9e4735b3",
   "metadata": {},
   "source": [
    "#### Final threshold setting avec GridSearchCV"
   ]
  },
  {
   "cell_type": "code",
   "execution_count": 93,
   "id": "15999830",
   "metadata": {},
   "outputs": [
    {
     "data": {
      "text/plain": [
       "LogisticRegression(C=1, multi_class='ovr', solver='liblinear')"
      ]
     },
     "execution_count": 93,
     "metadata": {},
     "output_type": "execute_result"
    }
   ],
   "source": [
    "# hyper-parameters similar as one initially used => no difference but keeping cells for potentiel future usage\n",
    "logreg_final = LogisticRegression(multi_class='ovr', solver='liblinear', C=1, class_weight=None) # the one optimizing AP is doing it through high recall but super low precision\n",
    "logreg_final.fit(X_tr, y_tr)"
   ]
  },
  {
   "cell_type": "code",
   "execution_count": 85,
   "id": "83910be1",
   "metadata": {},
   "outputs": [],
   "source": [
    "# Precision-Recall Curves (used over ROC as better fit for imbalanced classes as focus on positive class only)\n",
    "# predict class values\n",
    "precision_logreg, recall_logreg, thres_pr_logreg = precision_recall_curve(y_va, logreg_final.predict_proba(X_va)[:,1], pos_label=1)"
   ]
  },
  {
   "cell_type": "code",
   "execution_count": 86,
   "id": "a8e13f03",
   "metadata": {},
   "outputs": [],
   "source": [
    "# area under curve\n",
    "auc_pr_logreg = auc(recall_logreg, precision_logreg)"
   ]
  },
  {
   "cell_type": "code",
   "execution_count": 87,
   "id": "12f6b590",
   "metadata": {},
   "outputs": [
    {
     "name": "stdout",
     "output_type": "stream",
     "text": [
      "Logistic Regression Area Under PR Curve: auc=0.842\n"
     ]
    }
   ],
   "source": [
    "# summarize scores\n",
    "print('Logistic Regression Area Under PR Curve: auc={:.3f}'.format(auc_pr_logreg))"
   ]
  },
  {
   "cell_type": "code",
   "execution_count": 88,
   "id": "f1f9a6fa",
   "metadata": {},
   "outputs": [
    {
     "data": {
      "text/plain": [
       "Text(0.5, 1.0, 'PR curve Logistic Regression: Delay')"
      ]
     },
     "execution_count": 88,
     "metadata": {},
     "output_type": "execute_result"
    },
    {
     "data": {
      "image/png": "[encoded data removed]",
      "text/plain": [
       "<Figure size 432x288 with 1 Axes>"
      ]
     },
     "metadata": {
      "needs_background": "light"
     },
     "output_type": "display_data"
    }
   ],
   "source": [
    "plt.plot(recall_logreg, precision_logreg, marker='.', label='logistic, {:.3f}'.format(auc_pr_logreg))\n",
    "plt.xlabel('Recall')\n",
    "plt.ylabel('Precision')\n",
    "plt.legend(title='Area under curve')\n",
    "plt.title('PR curve Logistic Regression: Delay')"
   ]
  },
  {
   "cell_type": "code",
   "execution_count": 89,
   "id": "8813f972",
   "metadata": {},
   "outputs": [
    {
     "name": "stdout",
     "output_type": "stream",
     "text": [
      "Best threshold: 0.156\n"
     ]
    }
   ],
   "source": [
    "# optimizing threshold for f1 score\n",
    "fscores_logreg = (2* precision_logreg * recall_logreg) / (precision_logreg + recall_logreg)\n",
    "bt_pr_logreg = thres_pr_logreg[argmax(fscores_logreg)] # best threshold\n",
    "# argmax(fscores_va) -> gives index of maximum value for fscores\n",
    "print('Best threshold: {:.3f}'.format(bt_pr_logreg))"
   ]
  },
  {
   "cell_type": "code",
   "execution_count": 90,
   "id": "b9af231f",
   "metadata": {},
   "outputs": [
    {
     "name": "stdout",
     "output_type": "stream",
     "text": [
      "Probabilities: [2.71942038e-05 3.61327661e-05 2.66692408e-05 2.73192629e-04\n",
      " 7.08230648e-05 3.58027626e-05 4.37379890e-04 2.77860753e-04\n",
      " 1.06892358e-04 4.74291672e-05]\n",
      "Predictions: [0 0 0 0 0 0 0 0 0 0]\n"
     ]
    }
   ],
   "source": [
    "# use threshold in model\n",
    "curve_logreg = np.where(logreg_final.predict_proba(X_va)[:,1] > bt_pr_logreg, 1, 0) # create prediction based on new threshold on probabilities\n",
    "print('Probabilities:',logreg_final.predict_proba(X_va)[0:10,1])\n",
    "print('Predictions:',curve_logreg[0:10])"
   ]
  },
  {
   "cell_type": "markdown",
   "id": "7bdebf27",
   "metadata": {},
   "source": [
    "#### Classification report after threshold optimization"
   ]
  },
  {
   "cell_type": "code",
   "execution_count": 92,
   "id": "0c73cdb5",
   "metadata": {},
   "outputs": [
    {
     "name": "stdout",
     "output_type": "stream",
     "text": [
      "              precision    recall  f1-score   support\n",
      "\n",
      "    no_delay       1.00      1.00      1.00     25582\n",
      "       delay       0.87      0.76      0.81        51\n",
      "\n",
      "    accuracy                           1.00     25633\n",
      "   macro avg       0.93      0.88      0.91     25633\n",
      "weighted avg       1.00      1.00      1.00     25633\n",
      "\n"
     ]
    }
   ],
   "source": [
    "print(classification_report(y_true=y_va, y_pred=curve_logreg, target_names=['no_delay','delay']))\n",
    "# no improvements with GridSearchCV as had already best hyperparameters"
   ]
  },
  {
   "cell_type": "markdown",
   "id": "4bf52319",
   "metadata": {},
   "source": [
    "### Random Under-Sampling (test)\n",
    "* Could also have looking into Over-Smapling or SMOTE"
   ]
  },
  {
   "cell_type": "code",
   "execution_count": 157,
   "id": "c83634c3",
   "metadata": {},
   "outputs": [
    {
     "data": {
      "text/plain": [
       "array([[-0.34526222,  1.59828253,  0.98771358, ..., -0.17062388,\n",
       "        -0.09543771,  0.52044784],\n",
       "       [ 1.14588575, -0.23407313,  1.0595158 , ...,  0.01875768,\n",
       "        -0.21644659, -0.35932048],\n",
       "       [-1.45033798, -1.21866376,  1.78448814, ..., -0.16800411,\n",
       "         1.42346119, -0.04283415],\n",
       "       ...,\n",
       "       [-0.24155471,  1.04569144,  1.41665368, ...,  0.19677734,\n",
       "        -0.25864599,  0.46651159],\n",
       "       [ 1.90800215, -0.01911116, -1.82579751, ..., -0.0382688 ,\n",
       "        -0.05603298,  0.89827183],\n",
       "       [ 0.64031785, -1.97513033,  0.6683151 , ...,  0.06570518,\n",
       "         4.44700622, -0.54608254]])"
      ]
     },
     "execution_count": 157,
     "metadata": {},
     "output_type": "execute_result"
    }
   ],
   "source": [
    "X_train"
   ]
  },
  {
   "cell_type": "code",
   "execution_count": 158,
   "id": "792a623f",
   "metadata": {},
   "outputs": [
    {
     "data": {
      "text/plain": [
       "array([0, 0, 0, ..., 0, 0, 0], dtype=int64)"
      ]
     },
     "execution_count": 158,
     "metadata": {},
     "output_type": "execute_result"
    }
   ],
   "source": [
    "y_train"
   ]
  },
  {
   "cell_type": "code",
   "execution_count": 175,
   "id": "c0b88ab6",
   "metadata": {},
   "outputs": [],
   "source": [
    "df_new = pd.DataFrame(X_train)\n",
    "df_new.insert(0, 'Class', y_train)"
   ]
  },
  {
   "cell_type": "code",
   "execution_count": 176,
   "id": "fd63bfda",
   "metadata": {},
   "outputs": [
    {
     "data": {
      "text/plain": [
       "451"
      ]
     },
     "execution_count": 176,
     "metadata": {},
     "output_type": "execute_result"
    }
   ],
   "source": [
    "df_new['Class'].sum()"
   ]
  },
  {
   "cell_type": "code",
   "execution_count": 188,
   "id": "1a2ca005",
   "metadata": {},
   "outputs": [
    {
     "data": {
      "text/plain": [
       "(902, 31)"
      ]
     },
     "execution_count": 188,
     "metadata": {},
     "output_type": "execute_result"
    }
   ],
   "source": [
    "# Since our classes are highly skewed we should make them equivalent in order to have a normal distribution of the classes.\n",
    "# Lets shuffle the data before creating the subsamples\n",
    "df_new = df_new.sample(frac=1)\n",
    "\n",
    "# amount of fraud classes 451 rows.\n",
    "fraud_df = df_new.loc[df_new['Class'] == 1]\n",
    "non_fraud_df = df_new.loc[df_new['Class'] == 0][:451]\n",
    "\n",
    "normal_distributed_df = pd.concat([fraud_df, non_fraud_df])\n",
    "\n",
    "# Shuffle dataframe rows\n",
    "new_df = normal_distributed_df.sample(frac=1, random_state=18)\n",
    "\n",
    "new_df.shape"
   ]
  },
  {
   "cell_type": "code",
   "execution_count": 191,
   "id": "3b65170b",
   "metadata": {},
   "outputs": [
    {
     "data": {
      "text/plain": [
       "1    451\n",
       "0    451\n",
       "Name: Class, dtype: int64"
      ]
     },
     "execution_count": 191,
     "metadata": {},
     "output_type": "execute_result"
    }
   ],
   "source": [
    "new_df['Class'].value_counts()"
   ]
  },
  {
   "cell_type": "code",
   "execution_count": 192,
   "id": "74d83c7d",
   "metadata": {},
   "outputs": [],
   "source": [
    "# Undersampling before cross validating (prone to overfit)\n",
    "X_under = new_df.drop('Class', axis=1)\n",
    "y_under = new_df['Class']"
   ]
  },
  {
   "cell_type": "code",
   "execution_count": 193,
   "id": "acb33ea9",
   "metadata": {},
   "outputs": [],
   "source": [
    "# Data is already scaled we should split our training and test sets\n",
    "# This is explicitly used for undersampling.\n",
    "X_tr_under, X_te_under, y_tr_under, y_te_under = train_test_split(X_under, y_under, test_size=0.2, random_state=18)"
   ]
  },
  {
   "cell_type": "code",
   "execution_count": 195,
   "id": "454a1de5",
   "metadata": {},
   "outputs": [],
   "source": [
    "# Turn the values into an array for feeding the classification algorithms.\n",
    "X_tr_u = X_tr_under.values\n",
    "X_te_u = X_te_under.values\n",
    "y_tr_u = y_tr_under.values\n",
    "y_te_u = y_te_under.values"
   ]
  },
  {
   "cell_type": "code",
   "execution_count": 220,
   "id": "b4019a40",
   "metadata": {},
   "outputs": [],
   "source": [
    "# Let's implement simple classifiers\n",
    "\n",
    "classifiers = {\n",
    "    \"LogisiticRegression\": LogisticRegression(),\n",
    "    \"KNearest\": KNeighborsClassifier(),\n",
    "    \"Support Vector Classifier\": SVC(),\n",
    "    \"DecisionTreeClassifier\": DecisionTreeClassifier()\n",
    "}"
   ]
  },
  {
   "cell_type": "code",
   "execution_count": 221,
   "id": "07253053",
   "metadata": {},
   "outputs": [
    {
     "name": "stdout",
     "output_type": "stream",
     "text": [
      "Classifiers:  LogisticRegression Has a training score of 94.0 % accuracy score\n",
      "Classifiers:  KNeighborsClassifier Has a training score of 93.0 % accuracy score\n",
      "Classifiers:  SVC Has a training score of 93.0 % accuracy score\n",
      "Classifiers:  DecisionTreeClassifier Has a training score of 90.0 % accuracy score\n"
     ]
    }
   ],
   "source": [
    "# Can look at accuracy here as we have a balanced set\n",
    "# Logistic Regression getting the best score\n",
    "from sklearn.model_selection import cross_val_score\n",
    "\n",
    "\n",
    "for key, classifier in classifiers.items():\n",
    "    classifier.fit(X_tr_u, y_tr_u)\n",
    "    training_score = cross_val_score(classifier, X_tr_u, y_tr_u, cv=5)\n",
    "    print(\"Classifiers: \", classifier.__class__.__name__, \"Has a training score of\", round(training_score.mean(), 2) * 100, \"% accuracy score\")"
   ]
  },
  {
   "cell_type": "code",
   "execution_count": 225,
   "id": "126635f6",
   "metadata": {},
   "outputs": [
    {
     "data": {
      "text/plain": [
       "LogisticRegression()"
      ]
     },
     "execution_count": 225,
     "metadata": {},
     "output_type": "execute_result"
    }
   ],
   "source": [
    "lr_under = LogisticRegression()\n",
    "lr_under.fit(X_tr_u, y_tr_u)"
   ]
  },
  {
   "cell_type": "code",
   "execution_count": 227,
   "id": "e063430f",
   "metadata": {},
   "outputs": [
    {
     "name": "stdout",
     "output_type": "stream",
     "text": [
      "              precision    recall  f1-score   support\n",
      "\n",
      "     no spam       1.00      0.96      0.98     25582\n",
      "        spam       0.05      0.94      0.09        51\n",
      "\n",
      "    accuracy                           0.96     25633\n",
      "   macro avg       0.52      0.95      0.54     25633\n",
      "weighted avg       1.00      0.96      0.98     25633\n",
      "\n"
     ]
    }
   ],
   "source": [
    "print(classification_report(y_true=y_va, y_pred=lr_under.predict(X_va), target_names=('no spam','spam')))\n",
    "# allows to reach very high recall but low precision. Would make sense if interested in calling out all potential spams independently of also including no-spam\n",
    "# could make sense to do this as would flag items and still be much faster and risky than doing manually"
   ]
  },
  {
   "cell_type": "code",
   "execution_count": 229,
   "id": "4257b86c",
   "metadata": {},
   "outputs": [],
   "source": [
    "# bonus: interesting read on PCA vs T_SNE (latest one is better fit for Imbalanced sets like fraud detection or other anomaly detection)\n",
    "# https://www.geeksforgeeks.org/difference-between-pca-vs-t-sne/\n",
    "# https://medium.com/analytics-vidhya/pca-vs-t-sne-17bcd882bf3d"
   ]
  },
  {
   "cell_type": "code",
   "execution_count": null,
   "id": "71d3a1cb",
   "metadata": {},
   "outputs": [],
   "source": []
  }
 ],
 "metadata": {
  "kernelspec": {
   "display_name": "Python 3",
   "language": "python",
   "name": "python3"
  },
  "language_info": {
   "codemirror_mode": {
    "name": "ipython",
    "version": 3
   },
   "file_extension": ".py",
   "mimetype": "text/x-python",
   "name": "python",
   "nbconvert_exporter": "python",
   "pygments_lexer": "ipython3",
   "version": "3.6.10"
  }
 },
 "nbformat": 4,
 "nbformat_minor": 5
}

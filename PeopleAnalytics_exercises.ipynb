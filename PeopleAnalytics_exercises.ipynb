{
 "cells": [
  {
   "cell_type": "markdown",
   "id": "6eee1f6d",
   "metadata": {},
   "source": [
    "# Regression Modeling in People Analytics\n",
    "https://peopleanalytics-regression-book.org/index.html"
   ]
  },
  {
   "cell_type": "markdown",
   "id": "f9437a68",
   "metadata": {},
   "source": [
    "## Exercises"
   ]
  },
  {
   "cell_type": "code",
   "execution_count": 120,
   "id": "6866be7f",
   "metadata": {},
   "outputs": [],
   "source": [
    "import peopleanalyticsdata as pad\n",
    "import pandas as pd\n",
    "import numpy as np\n",
    "from scipy import stats\n",
    "import matplotlib.pyplot as plt"
   ]
  },
  {
   "cell_type": "markdown",
   "id": "194f99ea",
   "metadata": {},
   "source": [
    "### Chapter 3"
   ]
  },
  {
   "cell_type": "markdown",
   "id": "d0924411",
   "metadata": {},
   "source": [
    "#### Data exercises\n",
    "https://peopleanalytics-regression-book.org/found-stats.html#learning-exercises-1"
   ]
  },
  {
   "cell_type": "code",
   "execution_count": 3,
   "id": "e9636aae",
   "metadata": {},
   "outputs": [
    {
     "data": {
      "text/plain": [
       "['charity_donation',\n",
       " 'employee_survey',\n",
       " 'health_insurance',\n",
       " 'job_retention',\n",
       " 'managers',\n",
       " 'politics_survey',\n",
       " 'salespeople',\n",
       " 'soccer',\n",
       " 'sociological_data',\n",
       " 'speed_dating',\n",
       " 'ugtests',\n",
       " 'employee_performance',\n",
       " 'learning',\n",
       " 'graduates',\n",
       " 'promotion',\n",
       " 'recruiting']"
      ]
     },
     "execution_count": 3,
     "metadata": {},
     "output_type": "execute_result"
    }
   ],
   "source": [
    "# 1\n",
    "pad.list_sets()"
   ]
  },
  {
   "cell_type": "code",
   "execution_count": 6,
   "id": "367208f8",
   "metadata": {},
   "outputs": [
    {
     "data": {
      "text/html": [
       "<div>\n",
       "<style scoped>\n",
       "    .dataframe tbody tr th:only-of-type {\n",
       "        vertical-align: middle;\n",
       "    }\n",
       "\n",
       "    .dataframe tbody tr th {\n",
       "        vertical-align: top;\n",
       "    }\n",
       "\n",
       "    .dataframe thead th {\n",
       "        text-align: right;\n",
       "    }\n",
       "</style>\n",
       "<table border=\"1\" class=\"dataframe\">\n",
       "  <thead>\n",
       "    <tr style=\"text-align: right;\">\n",
       "      <th></th>\n",
       "      <th>n_donations</th>\n",
       "      <th>total_donations</th>\n",
       "      <th>time_donating</th>\n",
       "      <th>recent_donation</th>\n",
       "      <th>last_donation</th>\n",
       "      <th>gender</th>\n",
       "      <th>reside</th>\n",
       "      <th>age</th>\n",
       "    </tr>\n",
       "  </thead>\n",
       "  <tbody>\n",
       "    <tr>\n",
       "      <th>0</th>\n",
       "      <td>2</td>\n",
       "      <td>310</td>\n",
       "      <td>27</td>\n",
       "      <td>0</td>\n",
       "      <td>4</td>\n",
       "      <td>M</td>\n",
       "      <td>Urban Domestic</td>\n",
       "      <td>29</td>\n",
       "    </tr>\n",
       "    <tr>\n",
       "      <th>1</th>\n",
       "      <td>3</td>\n",
       "      <td>1200</td>\n",
       "      <td>22</td>\n",
       "      <td>0</td>\n",
       "      <td>6</td>\n",
       "      <td>M</td>\n",
       "      <td>Rural Domestic</td>\n",
       "      <td>41</td>\n",
       "    </tr>\n",
       "    <tr>\n",
       "      <th>2</th>\n",
       "      <td>3</td>\n",
       "      <td>1200</td>\n",
       "      <td>37</td>\n",
       "      <td>1</td>\n",
       "      <td>11</td>\n",
       "      <td>M</td>\n",
       "      <td>Urban Domestic</td>\n",
       "      <td>77</td>\n",
       "    </tr>\n",
       "    <tr>\n",
       "      <th>3</th>\n",
       "      <td>2</td>\n",
       "      <td>760</td>\n",
       "      <td>19</td>\n",
       "      <td>1</td>\n",
       "      <td>1</td>\n",
       "      <td>F</td>\n",
       "      <td>Overseas</td>\n",
       "      <td>66</td>\n",
       "    </tr>\n",
       "    <tr>\n",
       "      <th>4</th>\n",
       "      <td>6</td>\n",
       "      <td>2540</td>\n",
       "      <td>37</td>\n",
       "      <td>0</td>\n",
       "      <td>11</td>\n",
       "      <td>M</td>\n",
       "      <td>Urban Domestic</td>\n",
       "      <td>26</td>\n",
       "    </tr>\n",
       "  </tbody>\n",
       "</table>\n",
       "</div>"
      ],
      "text/plain": [
       "   n_donations  total_donations  time_donating  recent_donation  \\\n",
       "0            2              310             27                0   \n",
       "1            3             1200             22                0   \n",
       "2            3             1200             37                1   \n",
       "3            2              760             19                1   \n",
       "4            6             2540             37                0   \n",
       "\n",
       "   last_donation gender          reside  age  \n",
       "0              4      M  Urban Domestic   29  \n",
       "1              6      M  Rural Domestic   41  \n",
       "2             11      M  Urban Domestic   77  \n",
       "3              1      F        Overseas   66  \n",
       "4             11      M  Urban Domestic   26  "
      ]
     },
     "execution_count": 6,
     "metadata": {},
     "output_type": "execute_result"
    }
   ],
   "source": [
    "df_charity = pad.charity_donation()\n",
    "df_charity.head()"
   ]
  },
  {
   "cell_type": "code",
   "execution_count": 7,
   "id": "5e61542e",
   "metadata": {},
   "outputs": [
    {
     "name": "stdout",
     "output_type": "stream",
     "text": [
      "<class 'pandas.core.frame.DataFrame'>\n",
      "RangeIndex: 354 entries, 0 to 353\n",
      "Data columns (total 8 columns):\n",
      "n_donations        354 non-null int64\n",
      "total_donations    354 non-null int64\n",
      "time_donating      354 non-null int64\n",
      "recent_donation    354 non-null int64\n",
      "last_donation      354 non-null int64\n",
      "gender             354 non-null object\n",
      "reside             354 non-null object\n",
      "age                354 non-null int64\n",
      "dtypes: int64(6), object(2)\n",
      "memory usage: 22.2+ KB\n"
     ]
    }
   ],
   "source": [
    "df_charity.info()"
   ]
  },
  {
   "cell_type": "code",
   "execution_count": 8,
   "id": "5a3ab094",
   "metadata": {},
   "outputs": [
    {
     "data": {
      "text/html": [
       "<div>\n",
       "<style scoped>\n",
       "    .dataframe tbody tr th:only-of-type {\n",
       "        vertical-align: middle;\n",
       "    }\n",
       "\n",
       "    .dataframe tbody tr th {\n",
       "        vertical-align: top;\n",
       "    }\n",
       "\n",
       "    .dataframe thead th {\n",
       "        text-align: right;\n",
       "    }\n",
       "</style>\n",
       "<table border=\"1\" class=\"dataframe\">\n",
       "  <thead>\n",
       "    <tr style=\"text-align: right;\">\n",
       "      <th></th>\n",
       "      <th>n_donations</th>\n",
       "      <th>total_donations</th>\n",
       "      <th>time_donating</th>\n",
       "      <th>recent_donation</th>\n",
       "      <th>last_donation</th>\n",
       "      <th>age</th>\n",
       "    </tr>\n",
       "  </thead>\n",
       "  <tbody>\n",
       "    <tr>\n",
       "      <th>count</th>\n",
       "      <td>354.000000</td>\n",
       "      <td>354.000000</td>\n",
       "      <td>354.000000</td>\n",
       "      <td>354.000000</td>\n",
       "      <td>354.000000</td>\n",
       "      <td>354.000000</td>\n",
       "    </tr>\n",
       "    <tr>\n",
       "      <th>mean</th>\n",
       "      <td>5.751412</td>\n",
       "      <td>2350.141243</td>\n",
       "      <td>33.923729</td>\n",
       "      <td>0.234463</td>\n",
       "      <td>6.067797</td>\n",
       "      <td>46.997175</td>\n",
       "    </tr>\n",
       "    <tr>\n",
       "      <th>std</th>\n",
       "      <td>5.445097</td>\n",
       "      <td>2496.578561</td>\n",
       "      <td>13.600006</td>\n",
       "      <td>0.424263</td>\n",
       "      <td>3.792184</td>\n",
       "      <td>15.614604</td>\n",
       "    </tr>\n",
       "    <tr>\n",
       "      <th>min</th>\n",
       "      <td>2.000000</td>\n",
       "      <td>310.000000</td>\n",
       "      <td>15.000000</td>\n",
       "      <td>0.000000</td>\n",
       "      <td>1.000000</td>\n",
       "      <td>19.000000</td>\n",
       "    </tr>\n",
       "    <tr>\n",
       "      <th>25%</th>\n",
       "      <td>2.000000</td>\n",
       "      <td>760.000000</td>\n",
       "      <td>23.000000</td>\n",
       "      <td>0.000000</td>\n",
       "      <td>4.000000</td>\n",
       "      <td>33.000000</td>\n",
       "    </tr>\n",
       "    <tr>\n",
       "      <th>50%</th>\n",
       "      <td>4.000000</td>\n",
       "      <td>1650.000000</td>\n",
       "      <td>30.000000</td>\n",
       "      <td>0.000000</td>\n",
       "      <td>6.000000</td>\n",
       "      <td>47.000000</td>\n",
       "    </tr>\n",
       "    <tr>\n",
       "      <th>75%</th>\n",
       "      <td>7.000000</td>\n",
       "      <td>2990.000000</td>\n",
       "      <td>43.000000</td>\n",
       "      <td>0.000000</td>\n",
       "      <td>11.000000</td>\n",
       "      <td>57.000000</td>\n",
       "    </tr>\n",
       "    <tr>\n",
       "      <th>max</th>\n",
       "      <td>44.000000</td>\n",
       "      <td>19530.000000</td>\n",
       "      <td>70.000000</td>\n",
       "      <td>1.000000</td>\n",
       "      <td>12.000000</td>\n",
       "      <td>85.000000</td>\n",
       "    </tr>\n",
       "  </tbody>\n",
       "</table>\n",
       "</div>"
      ],
      "text/plain": [
       "       n_donations  total_donations  time_donating  recent_donation  \\\n",
       "count   354.000000       354.000000     354.000000       354.000000   \n",
       "mean      5.751412      2350.141243      33.923729         0.234463   \n",
       "std       5.445097      2496.578561      13.600006         0.424263   \n",
       "min       2.000000       310.000000      15.000000         0.000000   \n",
       "25%       2.000000       760.000000      23.000000         0.000000   \n",
       "50%       4.000000      1650.000000      30.000000         0.000000   \n",
       "75%       7.000000      2990.000000      43.000000         0.000000   \n",
       "max      44.000000     19530.000000      70.000000         1.000000   \n",
       "\n",
       "       last_donation         age  \n",
       "count     354.000000  354.000000  \n",
       "mean        6.067797   46.997175  \n",
       "std         3.792184   15.614604  \n",
       "min         1.000000   19.000000  \n",
       "25%         4.000000   33.000000  \n",
       "50%         6.000000   47.000000  \n",
       "75%        11.000000   57.000000  \n",
       "max        12.000000   85.000000  "
      ]
     },
     "execution_count": 8,
     "metadata": {},
     "output_type": "execute_result"
    }
   ],
   "source": [
    "df_charity.describe()"
   ]
  },
  {
   "cell_type": "code",
   "execution_count": 10,
   "id": "5e71ae16",
   "metadata": {},
   "outputs": [
    {
     "data": {
      "text/plain": [
       "2350.141242937853"
      ]
     },
     "execution_count": 10,
     "metadata": {},
     "output_type": "execute_result"
    }
   ],
   "source": [
    "#1 calcualte mena of 'total_donations' from the data set\n",
    "df_charity['total_donations'].mean()\n",
    "# matches results in 'describe()'"
   ]
  },
  {
   "cell_type": "code",
   "execution_count": 15,
   "id": "441b7f17",
   "metadata": {},
   "outputs": [
    {
     "name": "stdout",
     "output_type": "stream",
     "text": [
      "Sample variance: 6232905\n",
      "Population variance: 6215297\n"
     ]
    }
   ],
   "source": [
    "#2 calculate the sampe variance from 'total_donation' and convert this to a popluation variance\n",
    "print('Sample variance: {:.0f}'.format(df_charity['total_donations'].var()))\n",
    "print('Population variance: {:.0f}'.format(df_charity['total_donations'].var(ddof=0)))"
   ]
  },
  {
   "cell_type": "code",
   "execution_count": 24,
   "id": "ea55686f",
   "metadata": {},
   "outputs": [
    {
     "name": "stdout",
     "output_type": "stream",
     "text": [
      "Sample standard deviation: 2497\n"
     ]
    },
    {
     "data": {
      "text/plain": [
       "True"
      ]
     },
     "execution_count": 24,
     "metadata": {},
     "output_type": "execute_result"
    }
   ],
   "source": [
    "#3 calculate the sample standard deviation from 'total_donations' and verify that it is the same as square root of the sample variance\n",
    "print('Sample standard deviation: {:.0f}'.format(df_charity['total_donations'].std()))\n",
    "df_charity['total_donations'].std() == df_charity['total_donations'].var()**0.5"
   ]
  },
  {
   "cell_type": "code",
   "execution_count": 37,
   "id": "c6614549",
   "metadata": {},
   "outputs": [
    {
     "name": "stdout",
     "output_type": "stream",
     "text": [
      "Correlation: 0.616484\n"
     ]
    }
   ],
   "source": [
    "#4 Calcualte the sample correlation between 'total_donation' and 'time_donating'\n",
    "print('Correlation: {:0f}'.format(df_charity[['total_donations','time_donating']].corr()['total_donations']['time_donating']))"
   ]
  },
  {
   "cell_type": "code",
   "execution_count": 44,
   "id": "dd8ee585",
   "metadata": {},
   "outputs": [
    {
     "name": "stdout",
     "output_type": "stream",
     "text": [
      "(0.6164844637462865, 1.9536681202245572e-38)\n",
      "There is a significant correlation (low p-value) between both variables meaning they are not independent\n"
     ]
    }
   ],
   "source": [
    "# By using an appropriate hypothesis test, determine if these two variables are independent in the overall population\n",
    "from scipy import stats\n",
    "print(stats.pearsonr(df_charity['total_donations'],df_charity['time_donating']))\n",
    "print('There is a significant correlation (low p-value) between both variables meaning they are not independent')"
   ]
  },
  {
   "cell_type": "code",
   "execution_count": 95,
   "id": "3107f4a0",
   "metadata": {},
   "outputs": [],
   "source": [
    "#5 Calcualte the mean and the standard error of the mean for the first 20 entries of 'total_donations'\n",
    "n = 20\n",
    "mean = df_charity['total_donations'][:n].mean()\n",
    "std_error = df_charity['total_donations'][:n].std() / len(df_charity['total_donations'][:n])**0.5\n",
    "# df_charity['total_donations'][:n].std() / np.sqrt(np.size(df_charity['total_donations'][:n]))"
   ]
  },
  {
   "cell_type": "code",
   "execution_count": 96,
   "id": "f7b479c2",
   "metadata": {},
   "outputs": [],
   "source": [
    "alpha = 0.05\n",
    "t = stats.t.ppf(1 - alpha / 2, df=len(df_charity['total_donations'][:n])-1)\n",
    "# to calculate upper and lower bounds"
   ]
  },
  {
   "cell_type": "code",
   "execution_count": 97,
   "id": "1285f2fe",
   "metadata": {},
   "outputs": [
    {
     "name": "stdout",
     "output_type": "stream",
     "text": [
      "Probability of 0.95 for n= 20\n",
      "Lower bound: 1192\n",
      "Mean: 1851, Standard Error: 315\n",
      "Upper bound: 2510\n"
     ]
    }
   ],
   "source": [
    "print('Probability of 0.95 for n=',n)\n",
    "print('Lower bound: {:.0f}'.format(mean - t*std_error))\n",
    "print('Mean: {:.0f}, Standard Error: {:.0f}'.format(mean,std_error))\n",
    "print('Upper bound: {:.0f}'.format(mean + t*std_error))"
   ]
  },
  {
   "cell_type": "code",
   "execution_count": 98,
   "id": "765f7bda",
   "metadata": {},
   "outputs": [],
   "source": [
    "#6 Calcualte the mean and the standard error of the mean for the first 50 entries of 'total_donations'\n",
    "n = 50\n",
    "mean = df_charity['total_donations'][:n].mean()\n",
    "std_error = df_charity['total_donations'][:n].std() / len(df_charity['total_donations'][:n])**0.5\n",
    "# df_charity['total_donations'][:n].std() / np.sqrt(np.size(df_charity['total_donations'][:n]))"
   ]
  },
  {
   "cell_type": "code",
   "execution_count": 99,
   "id": "b379ee82",
   "metadata": {},
   "outputs": [],
   "source": [
    "alpha = 0.05\n",
    "t = stats.t.ppf(1 - alpha / 2, df=len(df_charity['total_donations'][:n])-1)\n",
    "# to calculate upper and lower bounds"
   ]
  },
  {
   "cell_type": "code",
   "execution_count": 100,
   "id": "4311e6bc",
   "metadata": {},
   "outputs": [
    {
     "name": "stdout",
     "output_type": "stream",
     "text": [
      "Probability of 0.95 for n= 50\n",
      "Lower bound: 1543\n",
      "Mean: 2026, Standard Error: 241\n",
      "Upper bound: 2510\n"
     ]
    }
   ],
   "source": [
    "print('Probability of 0.95 for n=',n)\n",
    "print('Lower bound: {:.0f}'.format(mean - t*std_error))\n",
    "print('Mean: {:.0f}, Standard Error: {:.0f}'.format(mean,std_error))\n",
    "print('Upper bound: {:.0f}'.format(mean + t*std_error))"
   ]
  },
  {
   "cell_type": "code",
   "execution_count": 169,
   "id": "8fa2c154",
   "metadata": {},
   "outputs": [
    {
     "name": "stdout",
     "output_type": "stream",
     "text": [
      "Mean age for recent donations: 63\n",
      "Mean age for non recent donations: 42\n"
     ]
    }
   ],
   "source": [
    "#7 By using an appropriate hypothesis test, determine if the mean age of those who made a recent donation is different from those who did not\n",
    "recent = df_charity[df_charity['recent_donation'] == 1]['age']\n",
    "print('Mean age for recent donations: {:.0f}'.format(recent.mean()))\n",
    "non_recent = df_charity[df_charity['recent_donation'] == 0]['age']\n",
    "print('Mean age for non recent donations: {:.0f}'.format(non_recent.mean()))"
   ]
  },
  {
   "cell_type": "code",
   "execution_count": 170,
   "id": "d74df414",
   "metadata": {},
   "outputs": [
    {
     "name": "stdout",
     "output_type": "stream",
     "text": [
      "Ttest_indResult(statistic=10.207144596800273, pvalue=2.0690487990235852e-17)\n",
      "There is a significant difference t-value is 10 standard erros\n"
     ]
    }
   ],
   "source": [
    "print(stats.ttest_ind(recent, non_recent, equal_var=False))\n",
    "print('There is a significant difference t-value is 10 standard erros')"
   ]
  },
  {
   "cell_type": "code",
   "execution_count": 171,
   "id": "2733dc6f",
   "metadata": {},
   "outputs": [
    {
     "data": {
      "image/png": "[encoded data removed]",
      "text/plain": [
       "<Figure size 432x288 with 1 Axes>"
      ]
     },
     "metadata": {
      "needs_background": "light"
     },
     "output_type": "display_data"
    }
   ],
   "source": [
    "recent.hist(alpha=0.5)\n",
    "non_recent.hist(alpha=0.5)\n",
    "plt.show()"
   ]
  },
  {
   "cell_type": "code",
   "execution_count": 172,
   "id": "2b13b0d7",
   "metadata": {},
   "outputs": [
    {
     "name": "stdout",
     "output_type": "stream",
     "text": [
      "reside           Overseas  Rural Domestic  Urban Domestic\n",
      "recent_donation                                          \n",
      "0                     101              88              82\n",
      "1                      14              45              24\n"
     ]
    }
   ],
   "source": [
    "#8 By using an appropriate hypothesis test, determine if there is a difference in whether or not a recent donation was made according to where people reside\n",
    "contingency = pd.crosstab(df_charity['recent_donation'], df_charity['reside'])\n",
    "print(contingency)"
   ]
  },
  {
   "cell_type": "code",
   "execution_count": 173,
   "id": "caef3211",
   "metadata": {},
   "outputs": [
    {
     "data": {
      "text/plain": [
       "(16.17593180925381,\n",
       " 0.0003072140246341394,\n",
       " 2,\n",
       " array([[ 88.03672316, 101.81638418,  81.14689266],\n",
       "        [ 26.96327684,  31.18361582,  24.85310734]]))"
      ]
     },
     "execution_count": 173,
     "metadata": {},
     "output_type": "execute_result"
    }
   ],
   "source": [
    "# perform chi-square test\n",
    "stats.chi2_contingency(contingency)"
   ]
  },
  {
   "cell_type": "code",
   "execution_count": 174,
   "id": "1ced2387",
   "metadata": {},
   "outputs": [
    {
     "name": "stdout",
     "output_type": "stream",
     "text": [
      "We can reject NULL hypothesis and connfirm there is a difference in the distribution of recent donation based on reside. From looking at the data Rural Domestic seems to be more generous\n"
     ]
    }
   ],
   "source": [
    "print('We can reject NULL hypothesis and connfirm there is a difference in the distribution of recent donation based on reside. From looking at the data Rural Domestic seems to be more generous')"
   ]
  },
  {
   "cell_type": "code",
   "execution_count": 175,
   "id": "ab283751",
   "metadata": {},
   "outputs": [
    {
     "name": "stdout",
     "output_type": "stream",
     "text": [
      "Mean age for recent donations: 63\n",
      "Mean age for non recent donations: 52\n"
     ]
    }
   ],
   "source": [
    "#9 Extension: By using an appropriate hypothesis test, determine if the age of those who have recently donated is at least 10 years older than those who have not recently donated in the population.\n",
    "# reuse data from #7\n",
    "age_diff = 10\n",
    "recent_age = df_charity[df_charity['recent_donation'] == 1]['age']\n",
    "print('Mean age for recent donations: {:.0f}'.format(recent_age.mean()))\n",
    "non_recent_age = df_charity[df_charity['recent_donation'] == 0]['age']+age_diff\n",
    "print('Mean age for non recent donations: {:.0f}'.format(non_recent_age.mean()))"
   ]
  },
  {
   "cell_type": "code",
   "execution_count": 176,
   "id": "947f544e",
   "metadata": {},
   "outputs": [
    {
     "name": "stdout",
     "output_type": "stream",
     "text": [
      "Ttest_indResult(statistic=5.2268021732859635, pvalue=8.806189445669701e-07)\n",
      "There is a significant difference t-value is 5 standard erros\n"
     ]
    }
   ],
   "source": [
    "print(stats.ttest_ind(recent_age, non_recent_age, equal_var=False))\n",
    "print('There is a significant difference t-value is 5 standard erros')"
   ]
  },
  {
   "cell_type": "code",
   "execution_count": 177,
   "id": "032bbae3",
   "metadata": {},
   "outputs": [
    {
     "data": {
      "text/plain": [
       "(5.2268021732859635, 4.403094722834861e-07, 105.15057759463703)"
      ]
     },
     "execution_count": 177,
     "metadata": {},
     "output_type": "execute_result"
    }
   ],
   "source": [
    "import statsmodels.api as sm\n",
    "sm.stats.ttest_ind(recent, non_recent, usevar='unequal', alternative='larger', value=10)"
   ]
  },
  {
   "cell_type": "code",
   "execution_count": 162,
   "id": "ae576351",
   "metadata": {},
   "outputs": [
    {
     "name": "stdout",
     "output_type": "stream",
     "text": [
      "Mean age for recent donations: 2948\n",
      "Mean age for non recent donations: 2187\n"
     ]
    }
   ],
   "source": [
    "#10 Extension: By using an appropriate hypothesis test, determine if the average donation amount is at least 10 dollars higher for those who recently donated versus those who did not. Retest for 20 dollars higher.\n",
    "# reuse data from #9\n",
    "donations_diff = 20\n",
    "recent_don = df_charity[df_charity['recent_donation'] == 1]['total_donations']\n",
    "print('Mean age for recent donations: {:.0f}'.format(recent_don.mean()))\n",
    "non_recent_don = df_charity[df_charity['recent_donation'] == 0]['total_donations']+donations_diff\n",
    "print('Mean age for non recent donations: {:.0f}'.format(non_recent_don.mean()))"
   ]
  },
  {
   "cell_type": "code",
   "execution_count": 163,
   "id": "0c288db5",
   "metadata": {},
   "outputs": [
    {
     "name": "stdout",
     "output_type": "stream",
     "text": [
      "Ttest_indResult(statistic=2.3804341922671233, pvalue=0.0187402428326938)\n",
      "There is a significant difference t-value is 5 standard erros\n"
     ]
    }
   ],
   "source": [
    "print(stats.ttest_ind(recent_don, non_recent_don, equal_var=False))\n",
    "print('There is a significant difference t-value is 5 standard erros')"
   ]
  },
  {
   "cell_type": "markdown",
   "id": "5561f134",
   "metadata": {},
   "source": [
    "### Chapter 4\n",
    "\n",
    "#### Exercises\n",
    "https://peopleanalytics-regression-book.org/linear-reg-ols.html#extending-multiple-linear-regression"
   ]
  },
  {
   "cell_type": "code",
   "execution_count": 178,
   "id": "173c9382",
   "metadata": {},
   "outputs": [],
   "source": [
    "import peopleanalyticsdata as pad"
   ]
  },
  {
   "cell_type": "code",
   "execution_count": 180,
   "id": "3fd6ceea",
   "metadata": {},
   "outputs": [
    {
     "data": {
      "text/html": [
       "<div>\n",
       "<style scoped>\n",
       "    .dataframe tbody tr th:only-of-type {\n",
       "        vertical-align: middle;\n",
       "    }\n",
       "\n",
       "    .dataframe tbody tr th {\n",
       "        vertical-align: top;\n",
       "    }\n",
       "\n",
       "    .dataframe thead th {\n",
       "        text-align: right;\n",
       "    }\n",
       "</style>\n",
       "<table border=\"1\" class=\"dataframe\">\n",
       "  <thead>\n",
       "    <tr style=\"text-align: right;\">\n",
       "      <th></th>\n",
       "      <th>annual_income_ppp</th>\n",
       "      <th>average_wk_hrs</th>\n",
       "      <th>education_months</th>\n",
       "      <th>region</th>\n",
       "      <th>job_type</th>\n",
       "      <th>gender</th>\n",
       "      <th>family_size</th>\n",
       "      <th>work_distance</th>\n",
       "      <th>languages</th>\n",
       "    </tr>\n",
       "  </thead>\n",
       "  <tbody>\n",
       "    <tr>\n",
       "      <th>0</th>\n",
       "      <td>66417.0</td>\n",
       "      <td>50.0</td>\n",
       "      <td>157.0</td>\n",
       "      <td>Southern Asia</td>\n",
       "      <td>Unskilled</td>\n",
       "      <td>F</td>\n",
       "      <td>5.0</td>\n",
       "      <td>3.0</td>\n",
       "      <td>1.0</td>\n",
       "    </tr>\n",
       "    <tr>\n",
       "      <th>1</th>\n",
       "      <td>55124.0</td>\n",
       "      <td>50.0</td>\n",
       "      <td>156.0</td>\n",
       "      <td>Southern Asia</td>\n",
       "      <td>Unskilled</td>\n",
       "      <td>F</td>\n",
       "      <td>5.0</td>\n",
       "      <td>0.0</td>\n",
       "      <td>1.0</td>\n",
       "    </tr>\n",
       "    <tr>\n",
       "      <th>2</th>\n",
       "      <td>55124.0</td>\n",
       "      <td>50.0</td>\n",
       "      <td>155.0</td>\n",
       "      <td>Southern Asia</td>\n",
       "      <td>Unskilled</td>\n",
       "      <td>F</td>\n",
       "      <td>5.0</td>\n",
       "      <td>3.0</td>\n",
       "      <td>1.0</td>\n",
       "    </tr>\n",
       "    <tr>\n",
       "      <th>3</th>\n",
       "      <td>54238.0</td>\n",
       "      <td>50.0</td>\n",
       "      <td>154.0</td>\n",
       "      <td>Southern Asia</td>\n",
       "      <td>Unskilled</td>\n",
       "      <td>F</td>\n",
       "      <td>5.0</td>\n",
       "      <td>0.0</td>\n",
       "      <td>1.0</td>\n",
       "    </tr>\n",
       "    <tr>\n",
       "      <th>4</th>\n",
       "      <td>53573.0</td>\n",
       "      <td>50.0</td>\n",
       "      <td>150.0</td>\n",
       "      <td>Southern Asia</td>\n",
       "      <td>Unskilled</td>\n",
       "      <td>F</td>\n",
       "      <td>4.0</td>\n",
       "      <td>0.0</td>\n",
       "      <td>1.0</td>\n",
       "    </tr>\n",
       "  </tbody>\n",
       "</table>\n",
       "</div>"
      ],
      "text/plain": [
       "   annual_income_ppp  average_wk_hrs  education_months         region  \\\n",
       "0            66417.0            50.0             157.0  Southern Asia   \n",
       "1            55124.0            50.0             156.0  Southern Asia   \n",
       "2            55124.0            50.0             155.0  Southern Asia   \n",
       "3            54238.0            50.0             154.0  Southern Asia   \n",
       "4            53573.0            50.0             150.0  Southern Asia   \n",
       "\n",
       "    job_type gender  family_size  work_distance  languages  \n",
       "0  Unskilled      F          5.0            3.0        1.0  \n",
       "1  Unskilled      F          5.0            0.0        1.0  \n",
       "2  Unskilled      F          5.0            3.0        1.0  \n",
       "3  Unskilled      F          5.0            0.0        1.0  \n",
       "4  Unskilled      F          4.0            0.0        1.0  "
      ]
     },
     "execution_count": 180,
     "metadata": {},
     "output_type": "execute_result"
    }
   ],
   "source": [
    "df_socio = pad.sociological_data()\n",
    "df_socio.head()"
   ]
  },
  {
   "cell_type": "code",
   "execution_count": 182,
   "id": "4d984906",
   "metadata": {},
   "outputs": [
    {
     "name": "stdout",
     "output_type": "stream",
     "text": [
      "<class 'pandas.core.frame.DataFrame'>\n",
      "RangeIndex: 2618 entries, 0 to 2617\n",
      "Data columns (total 9 columns):\n",
      "annual_income_ppp    2608 non-null float64\n",
      "average_wk_hrs       2584 non-null float64\n",
      "education_months     2599 non-null float64\n",
      "region               2618 non-null object\n",
      "job_type             2618 non-null object\n",
      "gender               2595 non-null object\n",
      "family_size          2427 non-null float64\n",
      "work_distance        2206 non-null float64\n",
      "languages            2206 non-null float64\n",
      "dtypes: float64(6), object(3)\n",
      "memory usage: 184.2+ KB\n"
     ]
    }
   ],
   "source": [
    "#1 Identify the extent to which missing data is an issue\n",
    "df_socio.info()"
   ]
  },
  {
   "cell_type": "code",
   "execution_count": 186,
   "id": "5a69e9c1",
   "metadata": {},
   "outputs": [
    {
     "data": {
      "text/plain": [
       "annual_income_ppp     10\n",
       "average_wk_hrs        34\n",
       "education_months      19\n",
       "region                 0\n",
       "job_type               0\n",
       "gender                23\n",
       "family_size          191\n",
       "work_distance        412\n",
       "languages            412\n",
       "dtype: int64"
      ]
     },
     "execution_count": 186,
     "metadata": {},
     "output_type": "execute_result"
    }
   ],
   "source": [
    "df_socio.isnull().sum()\n",
    "# many NULL values for Work_distance and Languages especially"
   ]
  },
  {
   "cell_type": "code",
   "execution_count": 190,
   "id": "bcd129e8",
   "metadata": {},
   "outputs": [
    {
     "data": {
      "text/html": [
       "<div>\n",
       "<style scoped>\n",
       "    .dataframe tbody tr th:only-of-type {\n",
       "        vertical-align: middle;\n",
       "    }\n",
       "\n",
       "    .dataframe tbody tr th {\n",
       "        vertical-align: top;\n",
       "    }\n",
       "\n",
       "    .dataframe thead th {\n",
       "        text-align: right;\n",
       "    }\n",
       "</style>\n",
       "<table border=\"1\" class=\"dataframe\">\n",
       "  <thead>\n",
       "    <tr style=\"text-align: right;\">\n",
       "      <th></th>\n",
       "      <th>annual_income_ppp</th>\n",
       "      <th>average_wk_hrs</th>\n",
       "      <th>education_months</th>\n",
       "      <th>region</th>\n",
       "      <th>job_type</th>\n",
       "      <th>gender</th>\n",
       "      <th>family_size</th>\n",
       "      <th>work_distance</th>\n",
       "      <th>languages</th>\n",
       "    </tr>\n",
       "  </thead>\n",
       "  <tbody>\n",
       "    <tr>\n",
       "      <th>0</th>\n",
       "      <td>66417.0</td>\n",
       "      <td>50.0</td>\n",
       "      <td>157.0</td>\n",
       "      <td>Southern Asia</td>\n",
       "      <td>Unskilled</td>\n",
       "      <td>F</td>\n",
       "      <td>5.0</td>\n",
       "      <td>3.0</td>\n",
       "      <td>1.0</td>\n",
       "    </tr>\n",
       "    <tr>\n",
       "      <th>1</th>\n",
       "      <td>55124.0</td>\n",
       "      <td>50.0</td>\n",
       "      <td>156.0</td>\n",
       "      <td>Southern Asia</td>\n",
       "      <td>Unskilled</td>\n",
       "      <td>F</td>\n",
       "      <td>5.0</td>\n",
       "      <td>0.0</td>\n",
       "      <td>1.0</td>\n",
       "    </tr>\n",
       "    <tr>\n",
       "      <th>2</th>\n",
       "      <td>55124.0</td>\n",
       "      <td>50.0</td>\n",
       "      <td>155.0</td>\n",
       "      <td>Southern Asia</td>\n",
       "      <td>Unskilled</td>\n",
       "      <td>F</td>\n",
       "      <td>5.0</td>\n",
       "      <td>3.0</td>\n",
       "      <td>1.0</td>\n",
       "    </tr>\n",
       "    <tr>\n",
       "      <th>3</th>\n",
       "      <td>54238.0</td>\n",
       "      <td>50.0</td>\n",
       "      <td>154.0</td>\n",
       "      <td>Southern Asia</td>\n",
       "      <td>Unskilled</td>\n",
       "      <td>F</td>\n",
       "      <td>5.0</td>\n",
       "      <td>0.0</td>\n",
       "      <td>1.0</td>\n",
       "    </tr>\n",
       "    <tr>\n",
       "      <th>4</th>\n",
       "      <td>53573.0</td>\n",
       "      <td>50.0</td>\n",
       "      <td>150.0</td>\n",
       "      <td>Southern Asia</td>\n",
       "      <td>Unskilled</td>\n",
       "      <td>F</td>\n",
       "      <td>4.0</td>\n",
       "      <td>0.0</td>\n",
       "      <td>1.0</td>\n",
       "    </tr>\n",
       "  </tbody>\n",
       "</table>\n",
       "</div>"
      ],
      "text/plain": [
       "   annual_income_ppp  average_wk_hrs  education_months         region  \\\n",
       "0            66417.0            50.0             157.0  Southern Asia   \n",
       "1            55124.0            50.0             156.0  Southern Asia   \n",
       "2            55124.0            50.0             155.0  Southern Asia   \n",
       "3            54238.0            50.0             154.0  Southern Asia   \n",
       "4            53573.0            50.0             150.0  Southern Asia   \n",
       "\n",
       "    job_type gender  family_size  work_distance  languages  \n",
       "0  Unskilled      F          5.0            3.0        1.0  \n",
       "1  Unskilled      F          5.0            0.0        1.0  \n",
       "2  Unskilled      F          5.0            3.0        1.0  \n",
       "3  Unskilled      F          5.0            0.0        1.0  \n",
       "4  Unskilled      F          4.0            0.0        1.0  "
      ]
     },
     "execution_count": 190,
     "metadata": {},
     "output_type": "execute_result"
    }
   ],
   "source": [
    "#2 Determine if the data types are appropriate for analysis\n",
    "df_socio.head()\n",
    "# would need to convert 'region','job_type' and 'gender' to dummies"
   ]
  },
  {
   "cell_type": "code",
   "execution_count": 195,
   "id": "35a6725b",
   "metadata": {},
   "outputs": [
    {
     "data": {
      "text/html": [
       "<div>\n",
       "<style scoped>\n",
       "    .dataframe tbody tr th:only-of-type {\n",
       "        vertical-align: middle;\n",
       "    }\n",
       "\n",
       "    .dataframe tbody tr th {\n",
       "        vertical-align: top;\n",
       "    }\n",
       "\n",
       "    .dataframe thead th {\n",
       "        text-align: right;\n",
       "    }\n",
       "</style>\n",
       "<table border=\"1\" class=\"dataframe\">\n",
       "  <thead>\n",
       "    <tr style=\"text-align: right;\">\n",
       "      <th></th>\n",
       "      <th>annual_income_ppp</th>\n",
       "      <th>average_wk_hrs</th>\n",
       "      <th>education_months</th>\n",
       "      <th>family_size</th>\n",
       "      <th>work_distance</th>\n",
       "      <th>languages</th>\n",
       "    </tr>\n",
       "  </thead>\n",
       "  <tbody>\n",
       "    <tr>\n",
       "      <th>annual_income_ppp</th>\n",
       "      <td>1.000000</td>\n",
       "      <td>-0.574919</td>\n",
       "      <td>0.760944</td>\n",
       "      <td>0.184512</td>\n",
       "      <td>-0.024283</td>\n",
       "      <td>-0.020435</td>\n",
       "    </tr>\n",
       "    <tr>\n",
       "      <th>average_wk_hrs</th>\n",
       "      <td>-0.574919</td>\n",
       "      <td>1.000000</td>\n",
       "      <td>-0.547691</td>\n",
       "      <td>-0.217679</td>\n",
       "      <td>0.079346</td>\n",
       "      <td>0.062988</td>\n",
       "    </tr>\n",
       "    <tr>\n",
       "      <th>education_months</th>\n",
       "      <td>0.760944</td>\n",
       "      <td>-0.547691</td>\n",
       "      <td>1.000000</td>\n",
       "      <td>0.239995</td>\n",
       "      <td>-0.038707</td>\n",
       "      <td>-0.028354</td>\n",
       "    </tr>\n",
       "    <tr>\n",
       "      <th>family_size</th>\n",
       "      <td>0.184512</td>\n",
       "      <td>-0.217679</td>\n",
       "      <td>0.239995</td>\n",
       "      <td>1.000000</td>\n",
       "      <td>-0.090714</td>\n",
       "      <td>-0.059354</td>\n",
       "    </tr>\n",
       "    <tr>\n",
       "      <th>work_distance</th>\n",
       "      <td>-0.024283</td>\n",
       "      <td>0.079346</td>\n",
       "      <td>-0.038707</td>\n",
       "      <td>-0.090714</td>\n",
       "      <td>1.000000</td>\n",
       "      <td>0.936186</td>\n",
       "    </tr>\n",
       "    <tr>\n",
       "      <th>languages</th>\n",
       "      <td>-0.020435</td>\n",
       "      <td>0.062988</td>\n",
       "      <td>-0.028354</td>\n",
       "      <td>-0.059354</td>\n",
       "      <td>0.936186</td>\n",
       "      <td>1.000000</td>\n",
       "    </tr>\n",
       "  </tbody>\n",
       "</table>\n",
       "</div>"
      ],
      "text/plain": [
       "                   annual_income_ppp  average_wk_hrs  education_months  \\\n",
       "annual_income_ppp           1.000000       -0.574919          0.760944   \n",
       "average_wk_hrs             -0.574919        1.000000         -0.547691   \n",
       "education_months            0.760944       -0.547691          1.000000   \n",
       "family_size                 0.184512       -0.217679          0.239995   \n",
       "work_distance              -0.024283        0.079346         -0.038707   \n",
       "languages                  -0.020435        0.062988         -0.028354   \n",
       "\n",
       "                   family_size  work_distance  languages  \n",
       "annual_income_ppp     0.184512      -0.024283  -0.020435  \n",
       "average_wk_hrs       -0.217679       0.079346   0.062988  \n",
       "education_months      0.239995      -0.038707  -0.028354  \n",
       "family_size           1.000000      -0.090714  -0.059354  \n",
       "work_distance        -0.090714       1.000000   0.936186  \n",
       "languages            -0.059354       0.936186   1.000000  "
      ]
     },
     "execution_count": 195,
     "metadata": {},
     "output_type": "execute_result"
    }
   ],
   "source": [
    "#3 Using a correlation matrix, pairplot or alternative method, identify whether collinearity is present in the data\n",
    "df_socio.corr()\n",
    "# high correlation between 'eduction_months' and 'annual_income_ppp'"
   ]
  },
  {
   "cell_type": "code",
   "execution_count": 200,
   "id": "3b6a8f98",
   "metadata": {},
   "outputs": [
    {
     "data": {
      "text/html": [
       "<div>\n",
       "<style scoped>\n",
       "    .dataframe tbody tr th:only-of-type {\n",
       "        vertical-align: middle;\n",
       "    }\n",
       "\n",
       "    .dataframe tbody tr th {\n",
       "        vertical-align: top;\n",
       "    }\n",
       "\n",
       "    .dataframe thead th {\n",
       "        text-align: right;\n",
       "    }\n",
       "</style>\n",
       "<table border=\"1\" class=\"dataframe\">\n",
       "  <thead>\n",
       "    <tr style=\"text-align: right;\">\n",
       "      <th></th>\n",
       "      <th>annual_income_ppp</th>\n",
       "      <th>average_wk_hrs</th>\n",
       "      <th>education_months</th>\n",
       "      <th>family_size</th>\n",
       "      <th>work_distance</th>\n",
       "      <th>languages</th>\n",
       "    </tr>\n",
       "  </thead>\n",
       "  <tbody>\n",
       "    <tr>\n",
       "      <th>count</th>\n",
       "      <td>2608.000000</td>\n",
       "      <td>2584.000000</td>\n",
       "      <td>2599.000000</td>\n",
       "      <td>2427.000000</td>\n",
       "      <td>2206.000000</td>\n",
       "      <td>2206.000000</td>\n",
       "    </tr>\n",
       "    <tr>\n",
       "      <th>mean</th>\n",
       "      <td>76040.057132</td>\n",
       "      <td>44.190402</td>\n",
       "      <td>179.317815</td>\n",
       "      <td>3.259580</td>\n",
       "      <td>0.985041</td>\n",
       "      <td>1.018132</td>\n",
       "    </tr>\n",
       "    <tr>\n",
       "      <th>std</th>\n",
       "      <td>20981.738753</td>\n",
       "      <td>5.856006</td>\n",
       "      <td>39.693201</td>\n",
       "      <td>1.470578</td>\n",
       "      <td>5.020615</td>\n",
       "      <td>0.205673</td>\n",
       "    </tr>\n",
       "    <tr>\n",
       "      <th>min</th>\n",
       "      <td>2863.000000</td>\n",
       "      <td>30.000000</td>\n",
       "      <td>40.000000</td>\n",
       "      <td>0.000000</td>\n",
       "      <td>0.000000</td>\n",
       "      <td>1.000000</td>\n",
       "    </tr>\n",
       "    <tr>\n",
       "      <th>25%</th>\n",
       "      <td>62653.000000</td>\n",
       "      <td>39.000000</td>\n",
       "      <td>157.000000</td>\n",
       "      <td>2.000000</td>\n",
       "      <td>0.000000</td>\n",
       "      <td>1.000000</td>\n",
       "    </tr>\n",
       "    <tr>\n",
       "      <th>50%</th>\n",
       "      <td>82140.000000</td>\n",
       "      <td>43.000000</td>\n",
       "      <td>184.000000</td>\n",
       "      <td>3.000000</td>\n",
       "      <td>0.000000</td>\n",
       "      <td>1.000000</td>\n",
       "    </tr>\n",
       "    <tr>\n",
       "      <th>75%</th>\n",
       "      <td>90112.000000</td>\n",
       "      <td>50.000000</td>\n",
       "      <td>207.000000</td>\n",
       "      <td>4.000000</td>\n",
       "      <td>1.000000</td>\n",
       "      <td>1.000000</td>\n",
       "    </tr>\n",
       "    <tr>\n",
       "      <th>max</th>\n",
       "      <td>119564.000000</td>\n",
       "      <td>55.000000</td>\n",
       "      <td>280.000000</td>\n",
       "      <td>10.000000</td>\n",
       "      <td>105.000000</td>\n",
       "      <td>5.000000</td>\n",
       "    </tr>\n",
       "  </tbody>\n",
       "</table>\n",
       "</div>"
      ],
      "text/plain": [
       "       annual_income_ppp  average_wk_hrs  education_months  family_size  \\\n",
       "count        2608.000000     2584.000000       2599.000000  2427.000000   \n",
       "mean        76040.057132       44.190402        179.317815     3.259580   \n",
       "std         20981.738753        5.856006         39.693201     1.470578   \n",
       "min          2863.000000       30.000000         40.000000     0.000000   \n",
       "25%         62653.000000       39.000000        157.000000     2.000000   \n",
       "50%         82140.000000       43.000000        184.000000     3.000000   \n",
       "75%         90112.000000       50.000000        207.000000     4.000000   \n",
       "max        119564.000000       55.000000        280.000000    10.000000   \n",
       "\n",
       "       work_distance    languages  \n",
       "count    2206.000000  2206.000000  \n",
       "mean        0.985041     1.018132  \n",
       "std         5.020615     0.205673  \n",
       "min         0.000000     1.000000  \n",
       "25%         0.000000     1.000000  \n",
       "50%         0.000000     1.000000  \n",
       "75%         1.000000     1.000000  \n",
       "max       105.000000     5.000000  "
      ]
     },
     "execution_count": 200,
     "metadata": {},
     "output_type": "execute_result"
    }
   ],
   "source": [
    "#4 Identify and discuss anything esle intersting that you see in the data\n",
    "import seaborn as sns\n",
    "df_socio.describe()\n",
    "# metrics where 75% percentile is very far from max can be a sign of outliers. Would be worth checking"
   ]
  },
  {
   "cell_type": "markdown",
   "id": "086a79c1",
   "metadata": {},
   "source": [
    "**Prepare to build a linear regression model to explain the variation in 'annual_income_ppp' using the other data in the data set**"
   ]
  },
  {
   "cell_type": "code",
   "execution_count": 260,
   "id": "0d6d5ad5",
   "metadata": {},
   "outputs": [],
   "source": [
    "#5 Are there any fields which you believe should not be included in the model? If so, why?\n",
    "# I will remove 'work_distance' and 'languages' fields as they have over 400 Null values as well as low correlation (~0.02) with output variable\n",
    "df_socio_clean = df_socio.drop(columns=['work_distance','languages'])"
   ]
  },
  {
   "cell_type": "code",
   "execution_count": 261,
   "id": "72ac3b5c",
   "metadata": {},
   "outputs": [
    {
     "data": {
      "text/plain": [
       "annual_income_ppp     10\n",
       "average_wk_hrs        34\n",
       "education_months      19\n",
       "region                 0\n",
       "job_type               0\n",
       "gender                23\n",
       "family_size          191\n",
       "dtype: int64"
      ]
     },
     "execution_count": 261,
     "metadata": {},
     "output_type": "execute_result"
    }
   ],
   "source": [
    "# I am thinking of removing entries with null values for 'gender'\n",
    "df_socio_clean.isnull().sum()"
   ]
  },
  {
   "cell_type": "code",
   "execution_count": 262,
   "id": "5fb9651a",
   "metadata": {},
   "outputs": [],
   "source": [
    "# I will also removed rows where we don't have an output variable or where gender is null\n",
    "df_socio_clean = df_socio_clean[~(df_socio_clean['annual_income_ppp'].isnull() | df_socio_clean['gender'].isnull())]"
   ]
  },
  {
   "cell_type": "code",
   "execution_count": 263,
   "id": "bbcccd6b",
   "metadata": {},
   "outputs": [
    {
     "name": "stdout",
     "output_type": "stream",
     "text": [
      "Shape before cleaning: (2618, 9)\n",
      "Shape after cleaning: (2592, 7)\n"
     ]
    }
   ],
   "source": [
    "print('Shape before cleaning:',df_socio.shape)\n",
    "print('Shape after cleaning:',df_socio_clean.shape)"
   ]
  },
  {
   "cell_type": "code",
   "execution_count": 264,
   "id": "5b7290c3",
   "metadata": {},
   "outputs": [],
   "source": [
    "#6 Would you consider imputing missing data for some or all fields where it is an issue? If so, what might be some simple ways to impute the missing data?"
   ]
  },
  {
   "cell_type": "code",
   "execution_count": 265,
   "id": "a8f37713",
   "metadata": {},
   "outputs": [
    {
     "data": {
      "text/plain": [
       "annual_income_ppp      0\n",
       "average_wk_hrs        32\n",
       "education_months       0\n",
       "region                 0\n",
       "job_type               0\n",
       "gender                 0\n",
       "family_size          175\n",
       "dtype: int64"
      ]
     },
     "execution_count": 265,
     "metadata": {},
     "output_type": "execute_result"
    }
   ],
   "source": [
    "df_socio_clean.isnull().sum()"
   ]
  },
  {
   "cell_type": "code",
   "execution_count": 266,
   "id": "3517b0ee",
   "metadata": {},
   "outputs": [],
   "source": [
    "df_socio_clean['average_wk_hrs'].fillna(df_socio_clean['average_wk_hrs'].mean(), inplace=True)\n",
    "#df_socio_clean['education_months'].fillna(df_socio_clean['education_months'].mean(), inplace=True)\n",
    "df_socio_clean['family_size'].fillna(df_socio_clean['family_size'].mean(), inplace=True)"
   ]
  },
  {
   "cell_type": "code",
   "execution_count": 267,
   "id": "fbe2e83a",
   "metadata": {},
   "outputs": [
    {
     "data": {
      "text/plain": [
       "annual_income_ppp    0\n",
       "average_wk_hrs       0\n",
       "education_months     0\n",
       "region               0\n",
       "job_type             0\n",
       "gender               0\n",
       "family_size          0\n",
       "dtype: int64"
      ]
     },
     "execution_count": 267,
     "metadata": {},
     "output_type": "execute_result"
    }
   ],
   "source": [
    "df_socio_clean.isnull().sum()"
   ]
  },
  {
   "cell_type": "code",
   "execution_count": 271,
   "id": "cf6c65a7",
   "metadata": {},
   "outputs": [
    {
     "data": {
      "text/html": [
       "<div>\n",
       "<style scoped>\n",
       "    .dataframe tbody tr th:only-of-type {\n",
       "        vertical-align: middle;\n",
       "    }\n",
       "\n",
       "    .dataframe tbody tr th {\n",
       "        vertical-align: top;\n",
       "    }\n",
       "\n",
       "    .dataframe thead th {\n",
       "        text-align: right;\n",
       "    }\n",
       "</style>\n",
       "<table border=\"1\" class=\"dataframe\">\n",
       "  <thead>\n",
       "    <tr style=\"text-align: right;\">\n",
       "      <th></th>\n",
       "      <th>annual_income_ppp</th>\n",
       "      <th>average_wk_hrs</th>\n",
       "      <th>education_months</th>\n",
       "      <th>region</th>\n",
       "      <th>job_type</th>\n",
       "      <th>gender</th>\n",
       "      <th>family_size</th>\n",
       "    </tr>\n",
       "  </thead>\n",
       "  <tbody>\n",
       "    <tr>\n",
       "      <th>0</th>\n",
       "      <td>66417.0</td>\n",
       "      <td>50.0</td>\n",
       "      <td>157.0</td>\n",
       "      <td>Southern Asia</td>\n",
       "      <td>Unskilled</td>\n",
       "      <td>F</td>\n",
       "      <td>5.0</td>\n",
       "    </tr>\n",
       "    <tr>\n",
       "      <th>1</th>\n",
       "      <td>55124.0</td>\n",
       "      <td>50.0</td>\n",
       "      <td>156.0</td>\n",
       "      <td>Southern Asia</td>\n",
       "      <td>Unskilled</td>\n",
       "      <td>F</td>\n",
       "      <td>5.0</td>\n",
       "    </tr>\n",
       "    <tr>\n",
       "      <th>2</th>\n",
       "      <td>55124.0</td>\n",
       "      <td>50.0</td>\n",
       "      <td>155.0</td>\n",
       "      <td>Southern Asia</td>\n",
       "      <td>Unskilled</td>\n",
       "      <td>F</td>\n",
       "      <td>5.0</td>\n",
       "    </tr>\n",
       "    <tr>\n",
       "      <th>3</th>\n",
       "      <td>54238.0</td>\n",
       "      <td>50.0</td>\n",
       "      <td>154.0</td>\n",
       "      <td>Southern Asia</td>\n",
       "      <td>Unskilled</td>\n",
       "      <td>F</td>\n",
       "      <td>5.0</td>\n",
       "    </tr>\n",
       "    <tr>\n",
       "      <th>4</th>\n",
       "      <td>53573.0</td>\n",
       "      <td>50.0</td>\n",
       "      <td>150.0</td>\n",
       "      <td>Southern Asia</td>\n",
       "      <td>Unskilled</td>\n",
       "      <td>F</td>\n",
       "      <td>4.0</td>\n",
       "    </tr>\n",
       "  </tbody>\n",
       "</table>\n",
       "</div>"
      ],
      "text/plain": [
       "   annual_income_ppp  average_wk_hrs  education_months         region  \\\n",
       "0            66417.0            50.0             157.0  Southern Asia   \n",
       "1            55124.0            50.0             156.0  Southern Asia   \n",
       "2            55124.0            50.0             155.0  Southern Asia   \n",
       "3            54238.0            50.0             154.0  Southern Asia   \n",
       "4            53573.0            50.0             150.0  Southern Asia   \n",
       "\n",
       "    job_type gender  family_size  \n",
       "0  Unskilled      F          5.0  \n",
       "1  Unskilled      F          5.0  \n",
       "2  Unskilled      F          5.0  \n",
       "3  Unskilled      F          5.0  \n",
       "4  Unskilled      F          4.0  "
      ]
     },
     "execution_count": 271,
     "metadata": {},
     "output_type": "execute_result"
    }
   ],
   "source": [
    "#7 Which variables are categorical? Convert these vriables to dummy variables using a convenient function or using your own approach\n",
    "categorical = ['region','job_type','gender']\n",
    "df_socio_clean.head()"
   ]
  },
  {
   "cell_type": "code",
   "execution_count": 273,
   "id": "d5119b2e",
   "metadata": {},
   "outputs": [],
   "source": [
    "df_socio_final = pd.get_dummies(data=df_socio_clean, columns=categorical)"
   ]
  },
  {
   "cell_type": "markdown",
   "id": "72697b75",
   "metadata": {},
   "source": [
    "**Run and interpret the model. For convenience, and to avoid long formula strings, you can use the formula notation annual_income_ppp ~ . which means ‘regress annual_income against everything else’‍. You can also remove fields this way, for example annual_income_ppp ~ . - family_size.**"
   ]
  },
  {
   "cell_type": "code",
   "execution_count": 276,
   "id": "b4d4fb0b",
   "metadata": {},
   "outputs": [],
   "source": [
    "X = df_socio_final.drop(columns='annual_income_ppp').values\n",
    "y = df_socio_final['annual_income_ppp'].values"
   ]
  },
  {
   "cell_type": "code",
   "execution_count": 287,
   "id": "c9ee1f64",
   "metadata": {},
   "outputs": [
    {
     "name": "stdout",
     "output_type": "stream",
     "text": [
      "LinearRegression R2 Score: 0.7994321680892689\n"
     ]
    }
   ],
   "source": [
    "from sklearn.linear_model import LinearRegression\n",
    "lr = LinearRegression()\n",
    "lr.fit(X,y)\n",
    "print('LinearRegression R2 Score:',lr.score(X,y))"
   ]
  },
  {
   "cell_type": "code",
   "execution_count": 301,
   "id": "089872f8",
   "metadata": {},
   "outputs": [],
   "source": [
    "import statsmodels.formula.api as smf\n",
    "model = smf.ols(formula = \"annual_income_ppp ~ average_wk_hrs + education_months + region + job_type + gender + family_size\" ,data=df_socio_clean)"
   ]
  },
  {
   "cell_type": "code",
   "execution_count": 302,
   "id": "b003fa0c",
   "metadata": {},
   "outputs": [],
   "source": [
    "socio_model = model.fit()"
   ]
  },
  {
   "cell_type": "code",
   "execution_count": 304,
   "id": "5f7fe21d",
   "metadata": {},
   "outputs": [
    {
     "data": {
      "text/html": [
       "<table class=\"simpletable\">\n",
       "<caption>OLS Regression Results</caption>\n",
       "<tr>\n",
       "  <th>Dep. Variable:</th>    <td>annual_income_ppp</td> <th>  R-squared:         </th> <td>   0.799</td> \n",
       "</tr>\n",
       "<tr>\n",
       "  <th>Model:</th>                   <td>OLS</td>        <th>  Adj. R-squared:    </th> <td>   0.798</td> \n",
       "</tr>\n",
       "<tr>\n",
       "  <th>Method:</th>             <td>Least Squares</td>   <th>  F-statistic:       </th> <td>   487.8</td> \n",
       "</tr>\n",
       "<tr>\n",
       "  <th>Date:</th>             <td>Tue, 17 Aug 2021</td>  <th>  Prob (F-statistic):</th>  <td>  0.00</td>  \n",
       "</tr>\n",
       "<tr>\n",
       "  <th>Time:</th>                 <td>13:53:01</td>      <th>  Log-Likelihood:    </th> <td> -27374.</td> \n",
       "</tr>\n",
       "<tr>\n",
       "  <th>No. Observations:</th>      <td>  2592</td>       <th>  AIC:               </th> <td>5.479e+04</td>\n",
       "</tr>\n",
       "<tr>\n",
       "  <th>Df Residuals:</th>          <td>  2570</td>       <th>  BIC:               </th> <td>5.492e+04</td>\n",
       "</tr>\n",
       "<tr>\n",
       "  <th>Df Model:</th>              <td>    21</td>       <th>                     </th>     <td> </td>    \n",
       "</tr>\n",
       "<tr>\n",
       "  <th>Covariance Type:</th>      <td>nonrobust</td>     <th>                     </th>     <td> </td>    \n",
       "</tr>\n",
       "</table>\n",
       "<table class=\"simpletable\">\n",
       "<tr>\n",
       "                      <td></td>                         <th>coef</th>     <th>std err</th>      <th>t</th>      <th>P>|t|</th>  <th>[0.025</th>    <th>0.975]</th>  \n",
       "</tr>\n",
       "<tr>\n",
       "  <th>Intercept</th>                                 <td> 6.271e+04</td> <td> 3434.391</td> <td>   18.260</td> <td> 0.000</td> <td>  5.6e+04</td> <td> 6.94e+04</td>\n",
       "</tr>\n",
       "<tr>\n",
       "  <th>region[T.Central Asia]</th>                    <td>-1.017e+04</td> <td> 2214.307</td> <td>   -4.593</td> <td> 0.000</td> <td>-1.45e+04</td> <td>-5827.240</td>\n",
       "</tr>\n",
       "<tr>\n",
       "  <th>region[T.Eastern Asia]</th>                    <td> -164.5549</td> <td> 2301.073</td> <td>   -0.072</td> <td> 0.943</td> <td>-4676.700</td> <td> 4347.590</td>\n",
       "</tr>\n",
       "<tr>\n",
       "  <th>region[T.Eastern Europe]</th>                  <td>-9093.4941</td> <td> 1948.383</td> <td>   -4.667</td> <td> 0.000</td> <td>-1.29e+04</td> <td>-5272.934</td>\n",
       "</tr>\n",
       "<tr>\n",
       "  <th>region[T.Latin America and the Caribbean]</th> <td> 1310.1174</td> <td> 1963.690</td> <td>    0.667</td> <td> 0.505</td> <td>-2540.459</td> <td> 5160.693</td>\n",
       "</tr>\n",
       "<tr>\n",
       "  <th>region[T.Melanesia]</th>                       <td>-4581.0527</td> <td> 2282.286</td> <td>   -2.007</td> <td> 0.045</td> <td>-9056.360</td> <td> -105.746</td>\n",
       "</tr>\n",
       "<tr>\n",
       "  <th>region[T.Micronesia]</th>                      <td>-1.021e+04</td> <td> 2572.132</td> <td>   -3.971</td> <td> 0.000</td> <td>-1.53e+04</td> <td>-5170.348</td>\n",
       "</tr>\n",
       "<tr>\n",
       "  <th>region[T.Northern Africa]</th>                 <td>-1555.5162</td> <td> 2162.342</td> <td>   -0.719</td> <td> 0.472</td> <td>-5795.625</td> <td> 2684.593</td>\n",
       "</tr>\n",
       "<tr>\n",
       "  <th>region[T.Northern America]</th>                <td> 1.387e+04</td> <td> 2989.959</td> <td>    4.639</td> <td> 0.000</td> <td> 8006.259</td> <td> 1.97e+04</td>\n",
       "</tr>\n",
       "<tr>\n",
       "  <th>region[T.Northern Europe]</th>                 <td> -399.7684</td> <td> 1856.566</td> <td>   -0.215</td> <td> 0.830</td> <td>-4040.285</td> <td> 3240.748</td>\n",
       "</tr>\n",
       "<tr>\n",
       "  <th>region[T.Polynesia]</th>                       <td>-1770.7846</td> <td> 2531.338</td> <td>   -0.700</td> <td> 0.484</td> <td>-6734.453</td> <td> 3192.884</td>\n",
       "</tr>\n",
       "<tr>\n",
       "  <th>region[T.South-eastern Asia]</th>              <td>-3087.5929</td> <td> 2122.084</td> <td>   -1.455</td> <td> 0.146</td> <td>-7248.761</td> <td> 1073.575</td>\n",
       "</tr>\n",
       "<tr>\n",
       "  <th>region[T.Southern Asia]</th>                   <td>-3534.5128</td> <td> 2187.467</td> <td>   -1.616</td> <td> 0.106</td> <td>-7823.889</td> <td>  754.864</td>\n",
       "</tr>\n",
       "<tr>\n",
       "  <th>region[T.Southern Europe]</th>                 <td> 4355.5294</td> <td> 1892.866</td> <td>    2.301</td> <td> 0.021</td> <td>  643.831</td> <td> 8067.227</td>\n",
       "</tr>\n",
       "<tr>\n",
       "  <th>region[T.Sub-Saharan Africa]</th>              <td> -2.07e+04</td> <td> 2056.938</td> <td>  -10.066</td> <td> 0.000</td> <td>-2.47e+04</td> <td>-1.67e+04</td>\n",
       "</tr>\n",
       "<tr>\n",
       "  <th>region[T.Western Asia]</th>                    <td> 2391.1251</td> <td> 1990.945</td> <td>    1.201</td> <td> 0.230</td> <td>-1512.893</td> <td> 6295.143</td>\n",
       "</tr>\n",
       "<tr>\n",
       "  <th>region[T.Western Europe]</th>                  <td> 6460.2103</td> <td> 1921.187</td> <td>    3.363</td> <td> 0.001</td> <td> 2692.979</td> <td> 1.02e+04</td>\n",
       "</tr>\n",
       "<tr>\n",
       "  <th>job_type[T.Unskilled]</th>                     <td>-8127.8479</td> <td>  802.173</td> <td>  -10.132</td> <td> 0.000</td> <td>-9700.819</td> <td>-6554.877</td>\n",
       "</tr>\n",
       "<tr>\n",
       "  <th>gender[T.M]</th>                               <td> 9940.6484</td> <td>  659.539</td> <td>   15.072</td> <td> 0.000</td> <td> 8647.366</td> <td> 1.12e+04</td>\n",
       "</tr>\n",
       "<tr>\n",
       "  <th>average_wk_hrs</th>                            <td> -113.4808</td> <td>   48.826</td> <td>   -2.324</td> <td> 0.020</td> <td> -209.222</td> <td>  -17.739</td>\n",
       "</tr>\n",
       "<tr>\n",
       "  <th>education_months</th>                          <td>  131.8456</td> <td>    8.487</td> <td>   15.535</td> <td> 0.000</td> <td>  115.203</td> <td>  148.488</td>\n",
       "</tr>\n",
       "<tr>\n",
       "  <th>family_size</th>                               <td>  -23.9187</td> <td>  148.607</td> <td>   -0.161</td> <td> 0.872</td> <td> -315.320</td> <td>  267.483</td>\n",
       "</tr>\n",
       "</table>\n",
       "<table class=\"simpletable\">\n",
       "<tr>\n",
       "  <th>Omnibus:</th>       <td>139.230</td> <th>  Durbin-Watson:     </th> <td>   0.359</td> \n",
       "</tr>\n",
       "<tr>\n",
       "  <th>Prob(Omnibus):</th> <td> 0.000</td>  <th>  Jarque-Bera (JB):  </th> <td> 504.455</td> \n",
       "</tr>\n",
       "<tr>\n",
       "  <th>Skew:</th>          <td>-0.116</td>  <th>  Prob(JB):          </th> <td>2.88e-110</td>\n",
       "</tr>\n",
       "<tr>\n",
       "  <th>Kurtosis:</th>      <td> 5.149</td>  <th>  Cond. No.          </th> <td>7.97e+03</td> \n",
       "</tr>\n",
       "</table><br/><br/>Warnings:<br/>[1] Standard Errors assume that the covariance matrix of the errors is correctly specified.<br/>[2] The condition number is large, 7.97e+03. This might indicate that there are<br/>strong multicollinearity or other numerical problems."
      ],
      "text/plain": [
       "<class 'statsmodels.iolib.summary.Summary'>\n",
       "\"\"\"\n",
       "                            OLS Regression Results                            \n",
       "==============================================================================\n",
       "Dep. Variable:      annual_income_ppp   R-squared:                       0.799\n",
       "Model:                            OLS   Adj. R-squared:                  0.798\n",
       "Method:                 Least Squares   F-statistic:                     487.8\n",
       "Date:                Tue, 17 Aug 2021   Prob (F-statistic):               0.00\n",
       "Time:                        13:53:01   Log-Likelihood:                -27374.\n",
       "No. Observations:                2592   AIC:                         5.479e+04\n",
       "Df Residuals:                    2570   BIC:                         5.492e+04\n",
       "Df Model:                          21                                         \n",
       "Covariance Type:            nonrobust                                         \n",
       "=============================================================================================================\n",
       "                                                coef    std err          t      P>|t|      [0.025      0.975]\n",
       "-------------------------------------------------------------------------------------------------------------\n",
       "Intercept                                  6.271e+04   3434.391     18.260      0.000     5.6e+04    6.94e+04\n",
       "region[T.Central Asia]                    -1.017e+04   2214.307     -4.593      0.000   -1.45e+04   -5827.240\n",
       "region[T.Eastern Asia]                     -164.5549   2301.073     -0.072      0.943   -4676.700    4347.590\n",
       "region[T.Eastern Europe]                  -9093.4941   1948.383     -4.667      0.000   -1.29e+04   -5272.934\n",
       "region[T.Latin America and the Caribbean]  1310.1174   1963.690      0.667      0.505   -2540.459    5160.693\n",
       "region[T.Melanesia]                       -4581.0527   2282.286     -2.007      0.045   -9056.360    -105.746\n",
       "region[T.Micronesia]                      -1.021e+04   2572.132     -3.971      0.000   -1.53e+04   -5170.348\n",
       "region[T.Northern Africa]                 -1555.5162   2162.342     -0.719      0.472   -5795.625    2684.593\n",
       "region[T.Northern America]                 1.387e+04   2989.959      4.639      0.000    8006.259    1.97e+04\n",
       "region[T.Northern Europe]                  -399.7684   1856.566     -0.215      0.830   -4040.285    3240.748\n",
       "region[T.Polynesia]                       -1770.7846   2531.338     -0.700      0.484   -6734.453    3192.884\n",
       "region[T.South-eastern Asia]              -3087.5929   2122.084     -1.455      0.146   -7248.761    1073.575\n",
       "region[T.Southern Asia]                   -3534.5128   2187.467     -1.616      0.106   -7823.889     754.864\n",
       "region[T.Southern Europe]                  4355.5294   1892.866      2.301      0.021     643.831    8067.227\n",
       "region[T.Sub-Saharan Africa]               -2.07e+04   2056.938    -10.066      0.000   -2.47e+04   -1.67e+04\n",
       "region[T.Western Asia]                     2391.1251   1990.945      1.201      0.230   -1512.893    6295.143\n",
       "region[T.Western Europe]                   6460.2103   1921.187      3.363      0.001    2692.979    1.02e+04\n",
       "job_type[T.Unskilled]                     -8127.8479    802.173    -10.132      0.000   -9700.819   -6554.877\n",
       "gender[T.M]                                9940.6484    659.539     15.072      0.000    8647.366    1.12e+04\n",
       "average_wk_hrs                             -113.4808     48.826     -2.324      0.020    -209.222     -17.739\n",
       "education_months                            131.8456      8.487     15.535      0.000     115.203     148.488\n",
       "family_size                                 -23.9187    148.607     -0.161      0.872    -315.320     267.483\n",
       "==============================================================================\n",
       "Omnibus:                      139.230   Durbin-Watson:                   0.359\n",
       "Prob(Omnibus):                  0.000   Jarque-Bera (JB):              504.455\n",
       "Skew:                          -0.116   Prob(JB):                    2.88e-110\n",
       "Kurtosis:                       5.149   Cond. No.                     7.97e+03\n",
       "==============================================================================\n",
       "\n",
       "Warnings:\n",
       "[1] Standard Errors assume that the covariance matrix of the errors is correctly specified.\n",
       "[2] The condition number is large, 7.97e+03. This might indicate that there are\n",
       "strong multicollinearity or other numerical problems.\n",
       "\"\"\""
      ]
     },
     "execution_count": 304,
     "metadata": {},
     "output_type": "execute_result"
    }
   ],
   "source": [
    "socio_model.summary()"
   ]
  },
  {
   "cell_type": "code",
   "execution_count": 305,
   "id": "0408f2fc",
   "metadata": {},
   "outputs": [],
   "source": [
    "#8 Determine what variables are significant predictors of annual income and what is the effect of each on the outcome\n",
    "# familiy-size and average_wk_hrs seem to have non-significant impact on ouput => won't use in model\n",
    "# eduction_months are positive correlation to output"
   ]
  },
  {
   "cell_type": "code",
   "execution_count": 342,
   "id": "4f6f1dd9",
   "metadata": {},
   "outputs": [
    {
     "name": "stdout",
     "output_type": "stream",
     "text": [
      "Final fit of the model is: 0.80\n"
     ]
    }
   ],
   "source": [
    "#9 Determine the overall fit of the model.\n",
    "# 0.79 including all features (even non significant ones)\n",
    "df_socio_finalb = df_socio_final.drop(columns=['family_size','average_wk_hrs'])\n",
    "X_b = df_socio_finalb.drop(columns='annual_income_ppp').values\n",
    "y_b = df_socio_finalb['annual_income_ppp'].values\n",
    "lr2 = LinearRegression()\n",
    "lr2.fit(X_b, y_b)\n",
    "print('Final fit of the model is: {:.2f}'.format(lr2.score(X_b, y_b)))"
   ]
  },
  {
   "cell_type": "code",
   "execution_count": 343,
   "id": "3df49cf0",
   "metadata": {},
   "outputs": [
    {
     "data": {
      "image/png": "[encoded data removed]",
      "text/plain": [
       "<Figure size 432x288 with 1 Axes>"
      ]
     },
     "metadata": {
      "needs_background": "light"
     },
     "output_type": "display_data"
    }
   ],
   "source": [
    "#10 Do some simple analysis on the residuals of the model to determine if the model is safe to interpret\n",
    "y_true = y_b\n",
    "y_pred = lr2.predict(X_b)\n",
    "plt.scatter(x=y_pred, y=y_true)\n",
    "plt.xlabel('y_pred')\n",
    "plt.ylabel('y_true')\n",
    "plt.title('True output X Predicted output')\n",
    "plt.show()"
   ]
  },
  {
   "cell_type": "code",
   "execution_count": 344,
   "id": "12f3ec58",
   "metadata": {},
   "outputs": [],
   "source": [
    "# residuals = y_pred - y_true\n",
    "residuals = y_pred - y_true"
   ]
  },
  {
   "cell_type": "code",
   "execution_count": 345,
   "id": "bb87b786",
   "metadata": {},
   "outputs": [
    {
     "data": {
      "image/png": "[encoded data removed]",
      "text/plain": [
       "<Figure size 432x288 with 1 Axes>"
      ]
     },
     "metadata": {
      "needs_background": "light"
     },
     "output_type": "display_data"
    }
   ],
   "source": [
    "plt.scatter(x=y_pred, y=residuals)\n",
    "plt.xlabel('y_pred')\n",
    "plt.ylabel('residuals')\n",
    "plt.title('Residuals X predictions')\n",
    "plt.show()\n",
    "# the closer to a normal distribution the better sign that no biases"
   ]
  },
  {
   "cell_type": "code",
   "execution_count": 349,
   "id": "fe40b5b5",
   "metadata": {},
   "outputs": [
    {
     "data": {
      "image/png": "[encoded data removed]",
      "text/plain": [
       "<Figure size 432x288 with 1 Axes>"
      ]
     },
     "metadata": {
      "needs_background": "light"
     },
     "output_type": "display_data"
    }
   ],
   "source": [
    "plt.scatter(x=y_pred, y=df_socio_finalb['education_months'])\n",
    "plt.xlabel('y_pred')\n",
    "plt.ylabel('education_months')\n",
    "plt.title('Education Months X predictions')\n",
    "plt.show()"
   ]
  },
  {
   "cell_type": "code",
   "execution_count": 372,
   "id": "3a91d969",
   "metadata": {},
   "outputs": [
    {
     "data": {
      "image/png": "[encoded data removed]",
      "text/plain": [
       "<Figure size 432x288 with 1 Axes>"
      ]
     },
     "metadata": {
      "needs_background": "light"
     },
     "output_type": "display_data"
    }
   ],
   "source": [
    "# Quantile-Quantile plot\n",
    "import numpy as np\n",
    "import statsmodels.api as sm\n",
    "import pylab as py\n",
    "sm.qqplot(residuals)\n",
    "plt.show()"
   ]
  },
  {
   "cell_type": "code",
   "execution_count": 374,
   "id": "39d0b12e",
   "metadata": {},
   "outputs": [
    {
     "data": {
      "text/html": [
       "<div>\n",
       "<style scoped>\n",
       "    .dataframe tbody tr th:only-of-type {\n",
       "        vertical-align: middle;\n",
       "    }\n",
       "\n",
       "    .dataframe tbody tr th {\n",
       "        vertical-align: top;\n",
       "    }\n",
       "\n",
       "    .dataframe thead th {\n",
       "        text-align: right;\n",
       "    }\n",
       "</style>\n",
       "<table border=\"1\" class=\"dataframe\">\n",
       "  <thead>\n",
       "    <tr style=\"text-align: right;\">\n",
       "      <th></th>\n",
       "      <th>annual_income_ppp</th>\n",
       "      <th>education_months</th>\n",
       "      <th>region_Australia and New Zealand</th>\n",
       "      <th>region_Central Asia</th>\n",
       "      <th>region_Eastern Asia</th>\n",
       "      <th>region_Eastern Europe</th>\n",
       "      <th>region_Latin America and the Caribbean</th>\n",
       "      <th>region_Melanesia</th>\n",
       "      <th>region_Micronesia</th>\n",
       "      <th>region_Northern Africa</th>\n",
       "      <th>...</th>\n",
       "      <th>region_South-eastern Asia</th>\n",
       "      <th>region_Southern Asia</th>\n",
       "      <th>region_Southern Europe</th>\n",
       "      <th>region_Sub-Saharan Africa</th>\n",
       "      <th>region_Western Asia</th>\n",
       "      <th>region_Western Europe</th>\n",
       "      <th>job_type_Skilled</th>\n",
       "      <th>job_type_Unskilled</th>\n",
       "      <th>gender_F</th>\n",
       "      <th>gender_M</th>\n",
       "    </tr>\n",
       "  </thead>\n",
       "  <tbody>\n",
       "    <tr>\n",
       "      <th>0</th>\n",
       "      <td>66417.0</td>\n",
       "      <td>157.0</td>\n",
       "      <td>0</td>\n",
       "      <td>0</td>\n",
       "      <td>0</td>\n",
       "      <td>0</td>\n",
       "      <td>0</td>\n",
       "      <td>0</td>\n",
       "      <td>0</td>\n",
       "      <td>0</td>\n",
       "      <td>...</td>\n",
       "      <td>0</td>\n",
       "      <td>1</td>\n",
       "      <td>0</td>\n",
       "      <td>0</td>\n",
       "      <td>0</td>\n",
       "      <td>0</td>\n",
       "      <td>0</td>\n",
       "      <td>1</td>\n",
       "      <td>1</td>\n",
       "      <td>0</td>\n",
       "    </tr>\n",
       "    <tr>\n",
       "      <th>1</th>\n",
       "      <td>55124.0</td>\n",
       "      <td>156.0</td>\n",
       "      <td>0</td>\n",
       "      <td>0</td>\n",
       "      <td>0</td>\n",
       "      <td>0</td>\n",
       "      <td>0</td>\n",
       "      <td>0</td>\n",
       "      <td>0</td>\n",
       "      <td>0</td>\n",
       "      <td>...</td>\n",
       "      <td>0</td>\n",
       "      <td>1</td>\n",
       "      <td>0</td>\n",
       "      <td>0</td>\n",
       "      <td>0</td>\n",
       "      <td>0</td>\n",
       "      <td>0</td>\n",
       "      <td>1</td>\n",
       "      <td>1</td>\n",
       "      <td>0</td>\n",
       "    </tr>\n",
       "    <tr>\n",
       "      <th>2</th>\n",
       "      <td>55124.0</td>\n",
       "      <td>155.0</td>\n",
       "      <td>0</td>\n",
       "      <td>0</td>\n",
       "      <td>0</td>\n",
       "      <td>0</td>\n",
       "      <td>0</td>\n",
       "      <td>0</td>\n",
       "      <td>0</td>\n",
       "      <td>0</td>\n",
       "      <td>...</td>\n",
       "      <td>0</td>\n",
       "      <td>1</td>\n",
       "      <td>0</td>\n",
       "      <td>0</td>\n",
       "      <td>0</td>\n",
       "      <td>0</td>\n",
       "      <td>0</td>\n",
       "      <td>1</td>\n",
       "      <td>1</td>\n",
       "      <td>0</td>\n",
       "    </tr>\n",
       "    <tr>\n",
       "      <th>3</th>\n",
       "      <td>54238.0</td>\n",
       "      <td>154.0</td>\n",
       "      <td>0</td>\n",
       "      <td>0</td>\n",
       "      <td>0</td>\n",
       "      <td>0</td>\n",
       "      <td>0</td>\n",
       "      <td>0</td>\n",
       "      <td>0</td>\n",
       "      <td>0</td>\n",
       "      <td>...</td>\n",
       "      <td>0</td>\n",
       "      <td>1</td>\n",
       "      <td>0</td>\n",
       "      <td>0</td>\n",
       "      <td>0</td>\n",
       "      <td>0</td>\n",
       "      <td>0</td>\n",
       "      <td>1</td>\n",
       "      <td>1</td>\n",
       "      <td>0</td>\n",
       "    </tr>\n",
       "    <tr>\n",
       "      <th>4</th>\n",
       "      <td>53573.0</td>\n",
       "      <td>150.0</td>\n",
       "      <td>0</td>\n",
       "      <td>0</td>\n",
       "      <td>0</td>\n",
       "      <td>0</td>\n",
       "      <td>0</td>\n",
       "      <td>0</td>\n",
       "      <td>0</td>\n",
       "      <td>0</td>\n",
       "      <td>...</td>\n",
       "      <td>0</td>\n",
       "      <td>1</td>\n",
       "      <td>0</td>\n",
       "      <td>0</td>\n",
       "      <td>0</td>\n",
       "      <td>0</td>\n",
       "      <td>0</td>\n",
       "      <td>1</td>\n",
       "      <td>1</td>\n",
       "      <td>0</td>\n",
       "    </tr>\n",
       "  </tbody>\n",
       "</table>\n",
       "<p>5 rows × 23 columns</p>\n",
       "</div>"
      ],
      "text/plain": [
       "   annual_income_ppp  education_months  region_Australia and New Zealand  \\\n",
       "0            66417.0             157.0                                 0   \n",
       "1            55124.0             156.0                                 0   \n",
       "2            55124.0             155.0                                 0   \n",
       "3            54238.0             154.0                                 0   \n",
       "4            53573.0             150.0                                 0   \n",
       "\n",
       "   region_Central Asia  region_Eastern Asia  region_Eastern Europe  \\\n",
       "0                    0                    0                      0   \n",
       "1                    0                    0                      0   \n",
       "2                    0                    0                      0   \n",
       "3                    0                    0                      0   \n",
       "4                    0                    0                      0   \n",
       "\n",
       "   region_Latin America and the Caribbean  region_Melanesia  \\\n",
       "0                                       0                 0   \n",
       "1                                       0                 0   \n",
       "2                                       0                 0   \n",
       "3                                       0                 0   \n",
       "4                                       0                 0   \n",
       "\n",
       "   region_Micronesia  region_Northern Africa  ...  region_South-eastern Asia  \\\n",
       "0                  0                       0  ...                          0   \n",
       "1                  0                       0  ...                          0   \n",
       "2                  0                       0  ...                          0   \n",
       "3                  0                       0  ...                          0   \n",
       "4                  0                       0  ...                          0   \n",
       "\n",
       "   region_Southern Asia  region_Southern Europe  region_Sub-Saharan Africa  \\\n",
       "0                     1                       0                          0   \n",
       "1                     1                       0                          0   \n",
       "2                     1                       0                          0   \n",
       "3                     1                       0                          0   \n",
       "4                     1                       0                          0   \n",
       "\n",
       "   region_Western Asia  region_Western Europe  job_type_Skilled  \\\n",
       "0                    0                      0                 0   \n",
       "1                    0                      0                 0   \n",
       "2                    0                      0                 0   \n",
       "3                    0                      0                 0   \n",
       "4                    0                      0                 0   \n",
       "\n",
       "   job_type_Unskilled  gender_F  gender_M  \n",
       "0                   1         1         0  \n",
       "1                   1         1         0  \n",
       "2                   1         1         0  \n",
       "3                   1         1         0  \n",
       "4                   1         1         0  \n",
       "\n",
       "[5 rows x 23 columns]"
      ]
     },
     "execution_count": 374,
     "metadata": {},
     "output_type": "execute_result"
    }
   ],
   "source": [
    "#11 Experiment with improving the model fit through possible interaction terms or non-linear extensions\n",
    "df_socio_finalb.head()"
   ]
  },
  {
   "cell_type": "code",
   "execution_count": 388,
   "id": "70f0c118",
   "metadata": {},
   "outputs": [
    {
     "data": {
      "text/plain": [
       "0.7992882249761246"
      ]
     },
     "execution_count": 388,
     "metadata": {},
     "output_type": "execute_result"
    }
   ],
   "source": [
    "# interaction terms\n",
    "df_socio_finalc = df_socio_final\n",
    "df_socio_finalc['hrs_edu'] = df_socio_final['average_wk_hrs']*df_socio_final['education_months']\n",
    "df_socio_finalc['hrs_edu'] = df_socio_final['average_wk_hrs']*df_socio_final['education_months']\n",
    "df_socio_finalc = df_socio_finalc.drop(columns=['average_wk_hrs','family_size'])\n",
    "X_c = df_socio_finalc.drop(columns='annual_income_ppp').values\n",
    "y_c = df_socio_finalc['annual_income_ppp'].values\n",
    "lr3 = LinearRegression()\n",
    "lr3.fit(X_c, y_c)\n",
    "lr3.score(X_c, y_c)\n",
    "# almost no improvements"
   ]
  },
  {
   "cell_type": "code",
   "execution_count": 403,
   "id": "cf0db563",
   "metadata": {},
   "outputs": [
    {
     "data": {
      "text/plain": [
       "0.8121486689396833"
      ]
     },
     "execution_count": 403,
     "metadata": {},
     "output_type": "execute_result"
    }
   ],
   "source": [
    "# non-linear extensions\n",
    "df_socio_finald = df_socio_final\n",
    "df_socio_finald['edu_2'] = df_socio_final['education_months']**2\n",
    "#df_socio_finald['hrs_2'] = df_socio_final['average_wk_hrs']**2\n",
    "#df_socio_finald['fam_2'] = df_socio_final['family_size']**2\n",
    "df_socio_finald = df_socio_finald.drop(columns=['average_wk_hrs','family_size'])\n",
    "X_d = df_socio_finald.drop(columns='annual_income_ppp').values\n",
    "y_d = df_socio_finald['annual_income_ppp'].values\n",
    "lr4 = LinearRegression()\n",
    "lr4.fit(X_d, y_d)\n",
    "lr4.score(X_d, y_d)\n",
    "# small improvements"
   ]
  },
  {
   "cell_type": "code",
   "execution_count": 444,
   "id": "264522eb",
   "metadata": {},
   "outputs": [
    {
     "data": {
      "image/png": "[encoded data removed]",
      "text/plain": [
       "<Figure size 432x288 with 1 Axes>"
      ]
     },
     "metadata": {
      "needs_background": "light"
     },
     "output_type": "display_data"
    }
   ],
   "source": [
    "#12 Comment on your results. Did anything in the results surprise you? If so, what might be posisble explanations for this?\n",
    "# didn't find anything surprising (except what we would know of already of issues if gender equality for example)\n",
    "X_male = df_socio_finalb[df_socio_finalb['gender_M'] == 1].drop(columns='annual_income_ppp').values\n",
    "y_male = lr2.predict(X_male)\n",
    "X_female = df_socio_finalb[df_socio_finalb['gender_M'] == 0].drop(columns='annual_income_ppp').values\n",
    "y_female = lr2.predict(X_female)\n",
    "plt.scatter(y_male, df_socio_finalb[df_socio_finalb['gender_M'] == 1]['education_months'])\n",
    "plt.scatter(y_female, df_socio_finalb[df_socio_finalb['gender_M'] == 0]['education_months'])\n",
    "plt.title('Education months impact on payroll | gender split')\n",
    "plt.show()\n",
    "# with similar eduction female still get paid less than males"
   ]
  },
  {
   "cell_type": "code",
   "execution_count": 427,
   "id": "a9617823",
   "metadata": {},
   "outputs": [
    {
     "data": {
      "text/plain": [
       "array(['Southern Asia', 'Southern Europe', 'Northern Africa',\n",
       "       'Sub-Saharan Africa', 'Latin America and the Caribbean',\n",
       "       'Western Asia', 'Australia and New Zealand', 'Western Europe',\n",
       "       'Eastern Europe', 'South-eastern Asia', 'Northern America',\n",
       "       'Eastern Asia', 'Northern Europe', 'Melanesia', 'Central Asia',\n",
       "       'Micronesia', 'Polynesia'], dtype=object)"
      ]
     },
     "execution_count": 427,
     "metadata": {},
     "output_type": "execute_result"
    }
   ],
   "source": [
    "df_socio_clean['region'].unique()"
   ]
  },
  {
   "cell_type": "code",
   "execution_count": 433,
   "id": "68b1f616",
   "metadata": {},
   "outputs": [
    {
     "data": {
      "text/plain": [
       "0    66417.0\n",
       "1    55124.0\n",
       "2    55124.0\n",
       "3    54238.0\n",
       "4    53573.0\n",
       "Name: annual_income_ppp, dtype: float64"
      ]
     },
     "execution_count": 433,
     "metadata": {},
     "output_type": "execute_result"
    }
   ],
   "source": [
    "df_socio_clean[df_socio_clean['region'] == 'Southern Asia']['annual_income_ppp'].head()"
   ]
  },
  {
   "cell_type": "code",
   "execution_count": 441,
   "id": "770b8620",
   "metadata": {},
   "outputs": [
    {
     "data": {
      "image/png": "[encoded data removed]",
      "text/plain": [
       "<Figure size 432x288 with 1 Axes>"
      ]
     },
     "metadata": {
      "needs_background": "light"
     },
     "output_type": "display_data"
    }
   ],
   "source": [
    "for r in df_socio_clean['region'].unique():\n",
    "    plt.scatter(x=df_socio_clean[df_socio_clean['region'] == r]['annual_income_ppp'], y=df_socio_clean[df_socio_clean['region'] == r]['education_months'], label=r)\n",
    "plt.legend(loc='best', bbox_to_anchor=(1,1))\n",
    "plt.title('Distribution regions and income based on education')\n",
    "plt.show()"
   ]
  },
  {
   "cell_type": "code",
   "execution_count": 443,
   "id": "47356c72",
   "metadata": {},
   "outputs": [
    {
     "data": {
      "image/png": "[encoded data removed]",
      "text/plain": [
       "<Figure size 432x288 with 1 Axes>"
      ]
     },
     "metadata": {
      "needs_background": "light"
     },
     "output_type": "display_data"
    }
   ],
   "source": [
    "for g in df_socio_clean['gender'].unique():\n",
    "    plt.scatter(x=df_socio_clean[df_socio_clean['gender'] == g]['annual_income_ppp'], y=df_socio_clean[df_socio_clean['gender'] == g]['education_months'], label=g)\n",
    "plt.legend(loc='best', bbox_to_anchor=(1,1))\n",
    "plt.title('Distribution gender and income based on education')\n",
    "plt.show()"
   ]
  },
  {
   "cell_type": "code",
   "execution_count": 445,
   "id": "c4e7f407",
   "metadata": {},
   "outputs": [],
   "source": [
    "#13 Explain why you would or would not be combfortable using a mdodel like this in a predictive setting - for example to help employers determine the right pay for employess.\n",
    "# it could be use to predict right pay of female given same input features as males\n",
    "# there would be some concerns if we were ot use this as gender is sensitive information as well as family size, etc.."
   ]
  },
  {
   "cell_type": "markdown",
   "id": "b17e0c9b",
   "metadata": {},
   "source": [
    "### Chapter 5: Binomial Logistic Regression for Binary Outcomes\n",
    "\n",
    "A nature preservation charity has asked you to analyze some data to help them understand the features of those members of the public who donated in a given month. Load the charity_donation data set via the peopleanalyticsdata package. \n",
    "\n",
    "It contains the following data:\n",
    "* n_donations: The total number of times the individual donated previous to the month being studied.\n",
    "* total_donations: The total amount of money donated by the individual previous to the month being studied\n",
    "* time_donating: The number of months between the first donation and the month being studied\n",
    "* recent_donation: Whether or not the individual donated in the month being studied\n",
    "* last_donation: The number of months between the most recent previous donation and the month being studied\n",
    "* gender: The gender of the individual\n",
    "* reside: Whether the person resides in an Urban or Rural Domestic location or Overseas\n",
    "* age: The age of the individual\n"
   ]
  },
  {
   "cell_type": "code",
   "execution_count": 36,
   "id": "650135bf",
   "metadata": {},
   "outputs": [
    {
     "data": {
      "text/plain": [
       "(354, 8)"
      ]
     },
     "execution_count": 36,
     "metadata": {},
     "output_type": "execute_result"
    }
   ],
   "source": [
    "import peopleanalyticsdata as pad\n",
    "import pandas as pd\n",
    "df_charity = pad.charity_donation()\n",
    "df_charity.shape"
   ]
  },
  {
   "cell_type": "code",
   "execution_count": 37,
   "id": "ba9773a3",
   "metadata": {},
   "outputs": [
    {
     "name": "stdout",
     "output_type": "stream",
     "text": [
      "<class 'pandas.core.frame.DataFrame'>\n",
      "RangeIndex: 354 entries, 0 to 353\n",
      "Data columns (total 8 columns):\n",
      "n_donations        354 non-null int64\n",
      "total_donations    354 non-null int64\n",
      "time_donating      354 non-null int64\n",
      "recent_donation    354 non-null int64\n",
      "last_donation      354 non-null int64\n",
      "gender             354 non-null object\n",
      "reside             354 non-null object\n",
      "age                354 non-null int64\n",
      "dtypes: int64(6), object(2)\n",
      "memory usage: 22.2+ KB\n"
     ]
    }
   ],
   "source": [
    "#1 View the data and obtain statistical summaries. Ensure data types are appropriate and there is no missing data. Determine the outcome and input variables\n",
    "df_charity.info()\n",
    "# correct data types"
   ]
  },
  {
   "cell_type": "code",
   "execution_count": 38,
   "id": "43a5fc2b",
   "metadata": {},
   "outputs": [
    {
     "data": {
      "text/plain": [
       "0"
      ]
     },
     "execution_count": 38,
     "metadata": {},
     "output_type": "execute_result"
    }
   ],
   "source": [
    "df_charity.isnull().sum().sum()\n",
    "# no null values"
   ]
  },
  {
   "cell_type": "code",
   "execution_count": 39,
   "id": "1ebef435",
   "metadata": {},
   "outputs": [
    {
     "data": {
      "text/html": [
       "<div>\n",
       "<style scoped>\n",
       "    .dataframe tbody tr th:only-of-type {\n",
       "        vertical-align: middle;\n",
       "    }\n",
       "\n",
       "    .dataframe tbody tr th {\n",
       "        vertical-align: top;\n",
       "    }\n",
       "\n",
       "    .dataframe thead th {\n",
       "        text-align: right;\n",
       "    }\n",
       "</style>\n",
       "<table border=\"1\" class=\"dataframe\">\n",
       "  <thead>\n",
       "    <tr style=\"text-align: right;\">\n",
       "      <th></th>\n",
       "      <th>n_donations</th>\n",
       "      <th>total_donations</th>\n",
       "      <th>time_donating</th>\n",
       "      <th>recent_donation</th>\n",
       "      <th>last_donation</th>\n",
       "      <th>age</th>\n",
       "    </tr>\n",
       "  </thead>\n",
       "  <tbody>\n",
       "    <tr>\n",
       "      <th>count</th>\n",
       "      <td>354.000000</td>\n",
       "      <td>354.000000</td>\n",
       "      <td>354.000000</td>\n",
       "      <td>354.000000</td>\n",
       "      <td>354.000000</td>\n",
       "      <td>354.000000</td>\n",
       "    </tr>\n",
       "    <tr>\n",
       "      <th>mean</th>\n",
       "      <td>5.751412</td>\n",
       "      <td>2350.141243</td>\n",
       "      <td>33.923729</td>\n",
       "      <td>0.234463</td>\n",
       "      <td>6.067797</td>\n",
       "      <td>46.997175</td>\n",
       "    </tr>\n",
       "    <tr>\n",
       "      <th>std</th>\n",
       "      <td>5.445097</td>\n",
       "      <td>2496.578561</td>\n",
       "      <td>13.600006</td>\n",
       "      <td>0.424263</td>\n",
       "      <td>3.792184</td>\n",
       "      <td>15.614604</td>\n",
       "    </tr>\n",
       "    <tr>\n",
       "      <th>min</th>\n",
       "      <td>2.000000</td>\n",
       "      <td>310.000000</td>\n",
       "      <td>15.000000</td>\n",
       "      <td>0.000000</td>\n",
       "      <td>1.000000</td>\n",
       "      <td>19.000000</td>\n",
       "    </tr>\n",
       "    <tr>\n",
       "      <th>25%</th>\n",
       "      <td>2.000000</td>\n",
       "      <td>760.000000</td>\n",
       "      <td>23.000000</td>\n",
       "      <td>0.000000</td>\n",
       "      <td>4.000000</td>\n",
       "      <td>33.000000</td>\n",
       "    </tr>\n",
       "    <tr>\n",
       "      <th>50%</th>\n",
       "      <td>4.000000</td>\n",
       "      <td>1650.000000</td>\n",
       "      <td>30.000000</td>\n",
       "      <td>0.000000</td>\n",
       "      <td>6.000000</td>\n",
       "      <td>47.000000</td>\n",
       "    </tr>\n",
       "    <tr>\n",
       "      <th>75%</th>\n",
       "      <td>7.000000</td>\n",
       "      <td>2990.000000</td>\n",
       "      <td>43.000000</td>\n",
       "      <td>0.000000</td>\n",
       "      <td>11.000000</td>\n",
       "      <td>57.000000</td>\n",
       "    </tr>\n",
       "    <tr>\n",
       "      <th>max</th>\n",
       "      <td>44.000000</td>\n",
       "      <td>19530.000000</td>\n",
       "      <td>70.000000</td>\n",
       "      <td>1.000000</td>\n",
       "      <td>12.000000</td>\n",
       "      <td>85.000000</td>\n",
       "    </tr>\n",
       "  </tbody>\n",
       "</table>\n",
       "</div>"
      ],
      "text/plain": [
       "       n_donations  total_donations  time_donating  recent_donation  \\\n",
       "count   354.000000       354.000000     354.000000       354.000000   \n",
       "mean      5.751412      2350.141243      33.923729         0.234463   \n",
       "std       5.445097      2496.578561      13.600006         0.424263   \n",
       "min       2.000000       310.000000      15.000000         0.000000   \n",
       "25%       2.000000       760.000000      23.000000         0.000000   \n",
       "50%       4.000000      1650.000000      30.000000         0.000000   \n",
       "75%       7.000000      2990.000000      43.000000         0.000000   \n",
       "max      44.000000     19530.000000      70.000000         1.000000   \n",
       "\n",
       "       last_donation         age  \n",
       "count     354.000000  354.000000  \n",
       "mean        6.067797   46.997175  \n",
       "std         3.792184   15.614604  \n",
       "min         1.000000   19.000000  \n",
       "25%         4.000000   33.000000  \n",
       "50%         6.000000   47.000000  \n",
       "75%        11.000000   57.000000  \n",
       "max        12.000000   85.000000  "
      ]
     },
     "execution_count": 39,
     "metadata": {},
     "output_type": "execute_result"
    }
   ],
   "source": [
    "df_charity.describe()\n",
    "# outcome variable would be 'recent_donation'. We want to understand what infuences the odds of a donator to donate in this month\n",
    "# input variables will be all other significant variables"
   ]
  },
  {
   "cell_type": "code",
   "execution_count": 40,
   "id": "52400b7e",
   "metadata": {},
   "outputs": [
    {
     "data": {
      "image/png": "[encoded data removed]",
      "text/plain": [
       "<Figure size 648x648 with 42 Axes>"
      ]
     },
     "metadata": {
      "needs_background": "light"
     },
     "output_type": "display_data"
    }
   ],
   "source": [
    "#2 Using a pairplot or by plotting or correlating selected fields, try to hypothesize which variables may be significant in explaining who recently donated.\n",
    "import seaborn as sns\n",
    "import matplotlib.pyplot as plt\n",
    "sns.pairplot(df_charity, height=1.5)\n",
    "plt.show()\n",
    "# it seems 'age' might be the most significant variable when looking at the 'recent_donatoin' row this is the variable with the more clear different between positive and negative outcome"
   ]
  },
  {
   "cell_type": "code",
   "execution_count": 70,
   "id": "afaafa96",
   "metadata": {},
   "outputs": [
    {
     "data": {
      "text/html": [
       "<div>\n",
       "<style scoped>\n",
       "    .dataframe tbody tr th:only-of-type {\n",
       "        vertical-align: middle;\n",
       "    }\n",
       "\n",
       "    .dataframe tbody tr th {\n",
       "        vertical-align: top;\n",
       "    }\n",
       "\n",
       "    .dataframe thead th {\n",
       "        text-align: right;\n",
       "    }\n",
       "</style>\n",
       "<table border=\"1\" class=\"dataframe\">\n",
       "  <thead>\n",
       "    <tr style=\"text-align: right;\">\n",
       "      <th></th>\n",
       "      <th>n_donations</th>\n",
       "      <th>total_donations</th>\n",
       "      <th>time_donating</th>\n",
       "      <th>recent_donation</th>\n",
       "      <th>last_donation</th>\n",
       "      <th>age</th>\n",
       "    </tr>\n",
       "  </thead>\n",
       "  <tbody>\n",
       "    <tr>\n",
       "      <th>n_donations</th>\n",
       "      <td>1.000000</td>\n",
       "      <td>0.997827</td>\n",
       "      <td>0.600566</td>\n",
       "      <td>0.127081</td>\n",
       "      <td>-0.131847</td>\n",
       "      <td>0.050570</td>\n",
       "    </tr>\n",
       "    <tr>\n",
       "      <th>total_donations</th>\n",
       "      <td>0.997827</td>\n",
       "      <td>1.000000</td>\n",
       "      <td>0.616484</td>\n",
       "      <td>0.132785</td>\n",
       "      <td>-0.132986</td>\n",
       "      <td>0.051601</td>\n",
       "    </tr>\n",
       "    <tr>\n",
       "      <th>time_donating</th>\n",
       "      <td>0.600566</td>\n",
       "      <td>0.616484</td>\n",
       "      <td>1.000000</td>\n",
       "      <td>-0.142709</td>\n",
       "      <td>0.065630</td>\n",
       "      <td>-0.091300</td>\n",
       "    </tr>\n",
       "    <tr>\n",
       "      <th>recent_donation</th>\n",
       "      <td>0.127081</td>\n",
       "      <td>0.132785</td>\n",
       "      <td>-0.142709</td>\n",
       "      <td>1.000000</td>\n",
       "      <td>-0.221200</td>\n",
       "      <td>0.556864</td>\n",
       "    </tr>\n",
       "    <tr>\n",
       "      <th>last_donation</th>\n",
       "      <td>-0.131847</td>\n",
       "      <td>-0.132986</td>\n",
       "      <td>0.065630</td>\n",
       "      <td>-0.221200</td>\n",
       "      <td>1.000000</td>\n",
       "      <td>-0.043915</td>\n",
       "    </tr>\n",
       "    <tr>\n",
       "      <th>age</th>\n",
       "      <td>0.050570</td>\n",
       "      <td>0.051601</td>\n",
       "      <td>-0.091300</td>\n",
       "      <td>0.556864</td>\n",
       "      <td>-0.043915</td>\n",
       "      <td>1.000000</td>\n",
       "    </tr>\n",
       "  </tbody>\n",
       "</table>\n",
       "</div>"
      ],
      "text/plain": [
       "                 n_donations  total_donations  time_donating  recent_donation  \\\n",
       "n_donations         1.000000         0.997827       0.600566         0.127081   \n",
       "total_donations     0.997827         1.000000       0.616484         0.132785   \n",
       "time_donating       0.600566         0.616484       1.000000        -0.142709   \n",
       "recent_donation     0.127081         0.132785      -0.142709         1.000000   \n",
       "last_donation      -0.131847        -0.132986       0.065630        -0.221200   \n",
       "age                 0.050570         0.051601      -0.091300         0.556864   \n",
       "\n",
       "                 last_donation       age  \n",
       "n_donations          -0.131847  0.050570  \n",
       "total_donations      -0.132986  0.051601  \n",
       "time_donating         0.065630 -0.091300  \n",
       "recent_donation      -0.221200  0.556864  \n",
       "last_donation         1.000000 -0.043915  \n",
       "age                  -0.043915  1.000000  "
      ]
     },
     "execution_count": 70,
     "metadata": {},
     "output_type": "execute_result"
    }
   ],
   "source": [
    "df_charity.corr()"
   ]
  },
  {
   "cell_type": "code",
   "execution_count": 54,
   "id": "0e0d0d3d",
   "metadata": {},
   "outputs": [
    {
     "data": {
      "text/html": [
       "<table class=\"simpletable\">\n",
       "<caption>Generalized Linear Model Regression Results</caption>\n",
       "<tr>\n",
       "  <th>Dep. Variable:</th>    <td>recent_donation</td> <th>  No. Observations:  </th>  <td>   354</td> \n",
       "</tr>\n",
       "<tr>\n",
       "  <th>Model:</th>                  <td>GLM</td>       <th>  Df Residuals:      </th>  <td>   345</td> \n",
       "</tr>\n",
       "<tr>\n",
       "  <th>Model Family:</th>        <td>Binomial</td>     <th>  Df Model:          </th>  <td>     8</td> \n",
       "</tr>\n",
       "<tr>\n",
       "  <th>Link Function:</th>         <td>logit</td>      <th>  Scale:             </th> <td>  1.0000</td>\n",
       "</tr>\n",
       "<tr>\n",
       "  <th>Method:</th>                <td>IRLS</td>       <th>  Log-Likelihood:    </th> <td> -102.87</td>\n",
       "</tr>\n",
       "<tr>\n",
       "  <th>Date:</th>            <td>Wed, 18 Aug 2021</td> <th>  Deviance:          </th> <td>  205.75</td>\n",
       "</tr>\n",
       "<tr>\n",
       "  <th>Time:</th>                <td>11:04:24</td>     <th>  Pearson chi2:      </th>  <td>  460.</td> \n",
       "</tr>\n",
       "<tr>\n",
       "  <th>No. Iterations:</th>          <td>6</td>        <th>                     </th>     <td> </td>   \n",
       "</tr>\n",
       "<tr>\n",
       "  <th>Covariance Type:</th>     <td>nonrobust</td>    <th>                     </th>     <td> </td>   \n",
       "</tr>\n",
       "</table>\n",
       "<table class=\"simpletable\">\n",
       "<tr>\n",
       "              <td></td>                <th>coef</th>     <th>std err</th>      <th>z</th>      <th>P>|z|</th>  <th>[0.025</th>    <th>0.975]</th>  \n",
       "</tr>\n",
       "<tr>\n",
       "  <th>Intercept</th>                <td>   -3.5952</td> <td>    1.019</td> <td>   -3.528</td> <td> 0.000</td> <td>   -5.593</td> <td>   -1.598</td>\n",
       "</tr>\n",
       "<tr>\n",
       "  <th>reside[T.Rural Domestic]</th> <td>    1.3530</td> <td>    0.457</td> <td>    2.960</td> <td> 0.003</td> <td>    0.457</td> <td>    2.249</td>\n",
       "</tr>\n",
       "<tr>\n",
       "  <th>reside[T.Urban Domestic]</th> <td>    0.4807</td> <td>    0.488</td> <td>    0.986</td> <td> 0.324</td> <td>   -0.475</td> <td>    1.437</td>\n",
       "</tr>\n",
       "<tr>\n",
       "  <th>gender[T.M]</th>              <td>   -0.8351</td> <td>    0.374</td> <td>   -2.235</td> <td> 0.025</td> <td>   -1.567</td> <td>   -0.103</td>\n",
       "</tr>\n",
       "<tr>\n",
       "  <th>n_donations</th>              <td>   -1.4357</td> <td>    0.569</td> <td>   -2.524</td> <td> 0.012</td> <td>   -2.551</td> <td>   -0.321</td>\n",
       "</tr>\n",
       "<tr>\n",
       "  <th>total_donations</th>          <td>    0.0035</td> <td>    0.001</td> <td>    2.780</td> <td> 0.005</td> <td>    0.001</td> <td>    0.006</td>\n",
       "</tr>\n",
       "<tr>\n",
       "  <th>time_donating</th>            <td>   -0.1001</td> <td>    0.024</td> <td>   -4.243</td> <td> 0.000</td> <td>   -0.146</td> <td>   -0.054</td>\n",
       "</tr>\n",
       "<tr>\n",
       "  <th>last_donation</th>            <td>   -0.1260</td> <td>    0.051</td> <td>   -2.485</td> <td> 0.013</td> <td>   -0.225</td> <td>   -0.027</td>\n",
       "</tr>\n",
       "<tr>\n",
       "  <th>age</th>                      <td>    0.1111</td> <td>    0.015</td> <td>    7.571</td> <td> 0.000</td> <td>    0.082</td> <td>    0.140</td>\n",
       "</tr>\n",
       "</table>"
      ],
      "text/plain": [
       "<class 'statsmodels.iolib.summary.Summary'>\n",
       "\"\"\"\n",
       "                 Generalized Linear Model Regression Results                  \n",
       "==============================================================================\n",
       "Dep. Variable:        recent_donation   No. Observations:                  354\n",
       "Model:                            GLM   Df Residuals:                      345\n",
       "Model Family:                Binomial   Df Model:                            8\n",
       "Link Function:                  logit   Scale:                          1.0000\n",
       "Method:                          IRLS   Log-Likelihood:                -102.87\n",
       "Date:                Wed, 18 Aug 2021   Deviance:                       205.75\n",
       "Time:                        11:04:24   Pearson chi2:                     460.\n",
       "No. Iterations:                     6                                         \n",
       "Covariance Type:            nonrobust                                         \n",
       "============================================================================================\n",
       "                               coef    std err          z      P>|z|      [0.025      0.975]\n",
       "--------------------------------------------------------------------------------------------\n",
       "Intercept                   -3.5952      1.019     -3.528      0.000      -5.593      -1.598\n",
       "reside[T.Rural Domestic]     1.3530      0.457      2.960      0.003       0.457       2.249\n",
       "reside[T.Urban Domestic]     0.4807      0.488      0.986      0.324      -0.475       1.437\n",
       "gender[T.M]                 -0.8351      0.374     -2.235      0.025      -1.567      -0.103\n",
       "n_donations                 -1.4357      0.569     -2.524      0.012      -2.551      -0.321\n",
       "total_donations              0.0035      0.001      2.780      0.005       0.001       0.006\n",
       "time_donating               -0.1001      0.024     -4.243      0.000      -0.146      -0.054\n",
       "last_donation               -0.1260      0.051     -2.485      0.013      -0.225      -0.027\n",
       "age                          0.1111      0.015      7.571      0.000       0.082       0.140\n",
       "============================================================================================\n",
       "\"\"\""
      ]
     },
     "execution_count": 54,
     "metadata": {},
     "output_type": "execute_result"
    }
   ],
   "source": [
    "#3 Run a binomial logistic regression model using all input fields. Determine which input variables have a significant effect on the outcome and the direction of that effect\n",
    "import statsmodels.api as sm\n",
    "import statsmodels.formula.api as smf\n",
    "\n",
    "model = smf.glm(formula = \"recent_donation ~ n_donations + total_donations + time_donating + last_donation + age + reside + gender\", data=df_charity, family = sm.families.Binomial())\n",
    "charity_model = model.fit()\n",
    "charity_model.summary()\n",
    "# only one catgory in 'reside' is non-significant but will keep it as a categorical variable\n",
    "# remove 'n_donations' as too high correlation with 'total_donations' and higher p_value"
   ]
  },
  {
   "cell_type": "code",
   "execution_count": 55,
   "id": "5c951265",
   "metadata": {},
   "outputs": [
    {
     "data": {
      "text/html": [
       "<div>\n",
       "<style scoped>\n",
       "    .dataframe tbody tr th:only-of-type {\n",
       "        vertical-align: middle;\n",
       "    }\n",
       "\n",
       "    .dataframe tbody tr th {\n",
       "        vertical-align: top;\n",
       "    }\n",
       "\n",
       "    .dataframe thead th {\n",
       "        text-align: right;\n",
       "    }\n",
       "</style>\n",
       "<table border=\"1\" class=\"dataframe\">\n",
       "  <thead>\n",
       "    <tr style=\"text-align: right;\">\n",
       "      <th></th>\n",
       "      <th>n_donations</th>\n",
       "      <th>total_donations</th>\n",
       "      <th>time_donating</th>\n",
       "      <th>recent_donation</th>\n",
       "      <th>last_donation</th>\n",
       "      <th>gender</th>\n",
       "      <th>reside</th>\n",
       "      <th>age</th>\n",
       "    </tr>\n",
       "  </thead>\n",
       "  <tbody>\n",
       "    <tr>\n",
       "      <th>0</th>\n",
       "      <td>2</td>\n",
       "      <td>310</td>\n",
       "      <td>27</td>\n",
       "      <td>0</td>\n",
       "      <td>4</td>\n",
       "      <td>M</td>\n",
       "      <td>Urban Domestic</td>\n",
       "      <td>29</td>\n",
       "    </tr>\n",
       "    <tr>\n",
       "      <th>1</th>\n",
       "      <td>3</td>\n",
       "      <td>1200</td>\n",
       "      <td>22</td>\n",
       "      <td>0</td>\n",
       "      <td>6</td>\n",
       "      <td>M</td>\n",
       "      <td>Rural Domestic</td>\n",
       "      <td>41</td>\n",
       "    </tr>\n",
       "    <tr>\n",
       "      <th>2</th>\n",
       "      <td>3</td>\n",
       "      <td>1200</td>\n",
       "      <td>37</td>\n",
       "      <td>1</td>\n",
       "      <td>11</td>\n",
       "      <td>M</td>\n",
       "      <td>Urban Domestic</td>\n",
       "      <td>77</td>\n",
       "    </tr>\n",
       "    <tr>\n",
       "      <th>3</th>\n",
       "      <td>2</td>\n",
       "      <td>760</td>\n",
       "      <td>19</td>\n",
       "      <td>1</td>\n",
       "      <td>1</td>\n",
       "      <td>F</td>\n",
       "      <td>Overseas</td>\n",
       "      <td>66</td>\n",
       "    </tr>\n",
       "    <tr>\n",
       "      <th>4</th>\n",
       "      <td>6</td>\n",
       "      <td>2540</td>\n",
       "      <td>37</td>\n",
       "      <td>0</td>\n",
       "      <td>11</td>\n",
       "      <td>M</td>\n",
       "      <td>Urban Domestic</td>\n",
       "      <td>26</td>\n",
       "    </tr>\n",
       "  </tbody>\n",
       "</table>\n",
       "</div>"
      ],
      "text/plain": [
       "   n_donations  total_donations  time_donating  recent_donation  \\\n",
       "0            2              310             27                0   \n",
       "1            3             1200             22                0   \n",
       "2            3             1200             37                1   \n",
       "3            2              760             19                1   \n",
       "4            6             2540             37                0   \n",
       "\n",
       "   last_donation gender          reside  age  \n",
       "0              4      M  Urban Domestic   29  \n",
       "1              6      M  Rural Domestic   41  \n",
       "2             11      M  Urban Domestic   77  \n",
       "3              1      F        Overseas   66  \n",
       "4             11      M  Urban Domestic   26  "
      ]
     },
     "execution_count": 55,
     "metadata": {},
     "output_type": "execute_result"
    }
   ],
   "source": [
    "#6 Experiment with model parsimony by reducing input variables that do not have a significant impact on the outcome. Decide on the most parsimonious model.\n",
    "df_charity.head()"
   ]
  },
  {
   "cell_type": "code",
   "execution_count": 56,
   "id": "b01807db",
   "metadata": {},
   "outputs": [],
   "source": [
    "df_charity_dummies = pd.get_dummies(data=df_charity.drop(columns='n_donations'), columns=['gender','reside'])"
   ]
  },
  {
   "cell_type": "code",
   "execution_count": 57,
   "id": "0ff05267",
   "metadata": {},
   "outputs": [],
   "source": [
    "y = df_charity_dummies['recent_donation'].values\n",
    "X = df_charity_dummies.drop(columns='recent_donation').values"
   ]
  },
  {
   "cell_type": "code",
   "execution_count": 58,
   "id": "8a20918f",
   "metadata": {},
   "outputs": [],
   "source": [
    "from sklearn.model_selection import train_test_split\n",
    "from sklearn.linear_model import LogisticRegression"
   ]
  },
  {
   "cell_type": "code",
   "execution_count": 64,
   "id": "07554176",
   "metadata": {},
   "outputs": [
    {
     "name": "stderr",
     "output_type": "stream",
     "text": [
      "C:\\Users\\glaurent\\AppData\\Local\\Continuum\\anaconda3\\envs\\exts-ml\\lib\\site-packages\\sklearn\\linear_model\\_logistic.py:765: ConvergenceWarning: lbfgs failed to converge (status=1):\n",
      "STOP: TOTAL NO. of ITERATIONS REACHED LIMIT.\n",
      "\n",
      "Increase the number of iterations (max_iter) or scale the data as shown in:\n",
      "    https://scikit-learn.org/stable/modules/preprocessing.html\n",
      "Please also refer to the documentation for alternative solver options:\n",
      "    https://scikit-learn.org/stable/modules/linear_model.html#logistic-regression\n",
      "  extra_warning_msg=_LOGISTIC_SOLVER_CONVERGENCE_MSG)\n"
     ]
    },
    {
     "data": {
      "text/plain": [
       "0.9154929577464789"
      ]
     },
     "execution_count": 64,
     "metadata": {},
     "output_type": "execute_result"
    }
   ],
   "source": [
    "X_tr, X_te, y_tr, y_te = train_test_split(X,y, test_size=0.2, random_state=18)\n",
    "logreg_a = LogisticRegression()\n",
    "logreg_a.fit(X_tr,y_tr)\n",
    "logreg_a.score(X_te, y_te)"
   ]
  },
  {
   "cell_type": "code",
   "execution_count": 69,
   "id": "091aa64f",
   "metadata": {},
   "outputs": [
    {
     "data": {
      "text/plain": [
       "0.9014084507042254"
      ]
     },
     "execution_count": 69,
     "metadata": {},
     "output_type": "execute_result"
    }
   ],
   "source": [
    "y_b = df_charity_dummies['recent_donation'].values\n",
    "X_b = df_charity_dummies[['total_donations','time_donating','age']].values\n",
    "\n",
    "X_tr, X_te, y_tr, y_te = train_test_split(X_b,y_b, test_size=0.2, random_state=18)\n",
    "logreg_b = LogisticRegression()\n",
    "logreg_b.fit(X_tr,y_tr)\n",
    "logreg_b.score(X_te, y_te)\n",
    "# able to reach almost same level of accuracy with only 3 input variables"
   ]
  },
  {
   "cell_type": "code",
   "execution_count": 71,
   "id": "92b1b474",
   "metadata": {},
   "outputs": [],
   "source": [
    "#8 Report the conclusions of your modeling exercise to the charity by writing a simple explanation that assumes no knowledge of statistics."
   ]
  },
  {
   "cell_type": "markdown",
   "id": "a8edd490",
   "metadata": {},
   "source": [
    "* Total donations to date as well as the age seems are the most significant variable positively influencing odds for donating (could target this group)\n",
    "* Gender doesn't seem to be an important variable to predict future donations\n",
    "* The longer the time since last donation or since start of the donation the less odds of the donator donating in current month"
   ]
  },
  {
   "cell_type": "markdown",
   "id": "4fdb00c6",
   "metadata": {},
   "source": [
    "### Chapter 9 - Survival analysis\n",
    "\n",
    "#### Data exercises"
   ]
  },
  {
   "cell_type": "code",
   "execution_count": 19,
   "id": "809ae66a",
   "metadata": {},
   "outputs": [],
   "source": [
    "import peopleanalyticsdata as pad\n",
    "import pandas as pd\n",
    "import numpy as np\n",
    "import lifelines as ll\n",
    "import matplotlib.pyplot as plt"
   ]
  },
  {
   "cell_type": "code",
   "execution_count": 10,
   "id": "15b94d44",
   "metadata": {},
   "outputs": [
    {
     "data": {
      "text/plain": [
       "(3770, 7)"
      ]
     },
     "execution_count": 10,
     "metadata": {},
     "output_type": "execute_result"
    }
   ],
   "source": [
    "df_job = pad.job_retention()\n",
    "df_job.shape"
   ]
  },
  {
   "cell_type": "code",
   "execution_count": 11,
   "id": "23a646f6",
   "metadata": {},
   "outputs": [],
   "source": [
    "# creat three categories of 'intention': High (score of 7 or higher), Moderate (score of 4-6), Low (score of 3 or less)\n",
    "high_int = (df_job['intention'] >= 7)\n",
    "med_int = (df_job['intention'] <= 6) & (df_job['intention'] >= 4)\n",
    "low_int = (df_job['intention'] <= 3)"
   ]
  },
  {
   "cell_type": "code",
   "execution_count": 30,
   "id": "acde12be",
   "metadata": {},
   "outputs": [
    {
     "data": {
      "image/png": "[encoded data removed]",
      "text/plain": [
       "<Figure size 432x288 with 1 Axes>"
      ]
     },
     "metadata": {
      "needs_background": "light"
     },
     "output_type": "display_data"
    }
   ],
   "source": [
    "# calculate Kaplan-Meier survival estimates for the three categories and visualize these using survival curves\n",
    "T = df_job['month']\n",
    "E = df_job['left']\n",
    "kmf = ll.KaplanMeierFitter()\n",
    "\n",
    "# set up plot\n",
    "survplot = plt.subplot()\n",
    "kmf.fit(durations=T[high_int], event_observed=E[high_int], label=\"High Intention\")\n",
    "kmf.plot_survival_function(ax = survplot)\n",
    "kmf.fit(durations=T[med_int], event_observed=E[med_int], label=\"Medium Intention\")\n",
    "kmf.plot_survival_function(ax = survplot)\n",
    "kmf.fit(durations=T[low_int], event_observed=E[low_int], label=\"Low Intention\")\n",
    "kmf.plot_survival_function(ax = survplot)\n",
    "\n",
    "plt.title('Survival curves based on intention to leave')\n",
    "plt.ylabel('Retention Rate')\n",
    "plt.xlabel('Months')\n",
    "plt.show()"
   ]
  },
  {
   "cell_type": "code",
   "execution_count": 32,
   "id": "26615c1f",
   "metadata": {},
   "outputs": [
    {
     "data": {
      "text/html": [
       "<div>\n",
       "<style scoped>\n",
       "    .dataframe tbody tr th:only-of-type {\n",
       "        vertical-align: middle;\n",
       "    }\n",
       "\n",
       "    .dataframe tbody tr th {\n",
       "        vertical-align: top;\n",
       "    }\n",
       "\n",
       "    .dataframe thead th {\n",
       "        text-align: right;\n",
       "    }\n",
       "</style>\n",
       "<table border=\"1\" class=\"dataframe\">\n",
       "  <tbody>\n",
       "    <tr>\n",
       "      <th>model</th>\n",
       "      <td>lifelines.CoxPHFitter</td>\n",
       "    </tr>\n",
       "    <tr>\n",
       "      <th>duration col</th>\n",
       "      <td>'month'</td>\n",
       "    </tr>\n",
       "    <tr>\n",
       "      <th>event col</th>\n",
       "      <td>'left'</td>\n",
       "    </tr>\n",
       "    <tr>\n",
       "      <th>baseline estimation</th>\n",
       "      <td>breslow</td>\n",
       "    </tr>\n",
       "    <tr>\n",
       "      <th>number of observations</th>\n",
       "      <td>3770</td>\n",
       "    </tr>\n",
       "    <tr>\n",
       "      <th>number of events observed</th>\n",
       "      <td>1354</td>\n",
       "    </tr>\n",
       "    <tr>\n",
       "      <th>partial log-likelihood</th>\n",
       "      <td>-10615.48</td>\n",
       "    </tr>\n",
       "    <tr>\n",
       "      <th>time fit was run</th>\n",
       "      <td>2021-08-26 14:43:54 UTC</td>\n",
       "    </tr>\n",
       "  </tbody>\n",
       "</table>\n",
       "</div><table border=\"1\" class=\"dataframe\">\n",
       "  <thead>\n",
       "    <tr style=\"text-align: right;\">\n",
       "      <th style=\"min-width: 12;\"></th>\n",
       "      <th style=\"min-width: 12;\">coef</th>\n",
       "      <th style=\"min-width: 12;\">exp(coef)</th>\n",
       "      <th style=\"min-width: 12;\">se(coef)</th>\n",
       "      <th style=\"min-width: 12;\">coef lower 95%</th>\n",
       "      <th style=\"min-width: 12;\">coef upper 95%</th>\n",
       "      <th style=\"min-width: 12;\">exp(coef) lower 95%</th>\n",
       "      <th style=\"min-width: 12;\">exp(coef) upper 95%</th>\n",
       "      <th style=\"min-width: 12;\">z</th>\n",
       "      <th style=\"min-width: 12;\">p</th>\n",
       "      <th style=\"min-width: 12;\">-log2(p)</th>\n",
       "    </tr>\n",
       "  </thead>\n",
       "  <tbody>\n",
       "    <tr>\n",
       "      <th style=\"min-width: 12;\">field[T.Finance]</th>\n",
       "      <td>0.27</td>\n",
       "      <td>1.30</td>\n",
       "      <td>0.07</td>\n",
       "      <td>0.13</td>\n",
       "      <td>0.40</td>\n",
       "      <td>1.14</td>\n",
       "      <td>1.49</td>\n",
       "      <td>3.98</td>\n",
       "      <td>&lt;0.005</td>\n",
       "      <td>13.84</td>\n",
       "    </tr>\n",
       "    <tr>\n",
       "      <th style=\"min-width: 12;\">field[T.Health]</th>\n",
       "      <td>0.27</td>\n",
       "      <td>1.30</td>\n",
       "      <td>0.13</td>\n",
       "      <td>0.01</td>\n",
       "      <td>0.52</td>\n",
       "      <td>1.01</td>\n",
       "      <td>1.68</td>\n",
       "      <td>2.06</td>\n",
       "      <td>0.04</td>\n",
       "      <td>4.66</td>\n",
       "    </tr>\n",
       "    <tr>\n",
       "      <th style=\"min-width: 12;\">field[T.Law]</th>\n",
       "      <td>0.09</td>\n",
       "      <td>1.10</td>\n",
       "      <td>0.15</td>\n",
       "      <td>-0.19</td>\n",
       "      <td>0.38</td>\n",
       "      <td>0.83</td>\n",
       "      <td>1.46</td>\n",
       "      <td>0.65</td>\n",
       "      <td>0.52</td>\n",
       "      <td>0.95</td>\n",
       "    </tr>\n",
       "    <tr>\n",
       "      <th style=\"min-width: 12;\">field[T.Public/Government]</th>\n",
       "      <td>0.15</td>\n",
       "      <td>1.16</td>\n",
       "      <td>0.09</td>\n",
       "      <td>-0.03</td>\n",
       "      <td>0.32</td>\n",
       "      <td>0.97</td>\n",
       "      <td>1.38</td>\n",
       "      <td>1.65</td>\n",
       "      <td>0.10</td>\n",
       "      <td>3.33</td>\n",
       "    </tr>\n",
       "    <tr>\n",
       "      <th style=\"min-width: 12;\">field[T.Sales/Marketing]</th>\n",
       "      <td>0.12</td>\n",
       "      <td>1.12</td>\n",
       "      <td>0.10</td>\n",
       "      <td>-0.08</td>\n",
       "      <td>0.32</td>\n",
       "      <td>0.92</td>\n",
       "      <td>1.37</td>\n",
       "      <td>1.15</td>\n",
       "      <td>0.25</td>\n",
       "      <td>2.01</td>\n",
       "    </tr>\n",
       "    <tr>\n",
       "      <th style=\"min-width: 12;\">gender[T.M]</th>\n",
       "      <td>0.02</td>\n",
       "      <td>1.02</td>\n",
       "      <td>0.06</td>\n",
       "      <td>-0.10</td>\n",
       "      <td>0.14</td>\n",
       "      <td>0.91</td>\n",
       "      <td>1.15</td>\n",
       "      <td>0.35</td>\n",
       "      <td>0.73</td>\n",
       "      <td>0.46</td>\n",
       "    </tr>\n",
       "    <tr>\n",
       "      <th style=\"min-width: 12;\">intention</th>\n",
       "      <td>0.22</td>\n",
       "      <td>1.24</td>\n",
       "      <td>0.01</td>\n",
       "      <td>0.19</td>\n",
       "      <td>0.24</td>\n",
       "      <td>1.21</td>\n",
       "      <td>1.27</td>\n",
       "      <td>17.36</td>\n",
       "      <td>&lt;0.005</td>\n",
       "      <td>221.85</td>\n",
       "    </tr>\n",
       "    <tr>\n",
       "      <th style=\"min-width: 12;\">level[T.Low]</th>\n",
       "      <td>0.18</td>\n",
       "      <td>1.19</td>\n",
       "      <td>0.09</td>\n",
       "      <td>0.00</td>\n",
       "      <td>0.35</td>\n",
       "      <td>1.00</td>\n",
       "      <td>1.42</td>\n",
       "      <td>1.97</td>\n",
       "      <td>0.05</td>\n",
       "      <td>4.35</td>\n",
       "    </tr>\n",
       "    <tr>\n",
       "      <th style=\"min-width: 12;\">level[T.Medium]</th>\n",
       "      <td>0.12</td>\n",
       "      <td>1.13</td>\n",
       "      <td>0.10</td>\n",
       "      <td>-0.08</td>\n",
       "      <td>0.32</td>\n",
       "      <td>0.92</td>\n",
       "      <td>1.38</td>\n",
       "      <td>1.16</td>\n",
       "      <td>0.24</td>\n",
       "      <td>2.03</td>\n",
       "    </tr>\n",
       "  </tbody>\n",
       "</table><br><div>\n",
       "<style scoped>\n",
       "    .dataframe tbody tr th:only-of-type {\n",
       "        vertical-align: middle;\n",
       "    }\n",
       "\n",
       "    .dataframe tbody tr th {\n",
       "        vertical-align: top;\n",
       "    }\n",
       "\n",
       "    .dataframe thead th {\n",
       "        text-align: right;\n",
       "    }\n",
       "</style>\n",
       "<table border=\"1\" class=\"dataframe\">\n",
       "  <tbody>\n",
       "    <tr>\n",
       "      <th>Concordance</th>\n",
       "      <td>0.64</td>\n",
       "    </tr>\n",
       "    <tr>\n",
       "      <th>Partial AIC</th>\n",
       "      <td>21248.96</td>\n",
       "    </tr>\n",
       "    <tr>\n",
       "      <th>log-likelihood ratio test</th>\n",
       "      <td>307.26 on 9 df</td>\n",
       "    </tr>\n",
       "    <tr>\n",
       "      <th>-log2(p) of ll-ratio test</th>\n",
       "      <td>199.72</td>\n",
       "    </tr>\n",
       "  </tbody>\n",
       "</table>\n",
       "</div>"
      ],
      "text/latex": [
       "\\begin{tabular}{lrrrrrrrrrr}\n",
       "\\toprule\n",
       "{} &  coef &  exp(coef) &  se(coef) &  coef lower 95\\% &  coef upper 95\\% &  exp(coef) lower 95\\% &  exp(coef) upper 95\\% &     z &    p &  -log2(p) \\\\\n",
       "covariate                  &       &            &           &                 &                 &                      &                      &       &      &           \\\\\n",
       "\\midrule\n",
       "field[T.Finance]           &  0.27 &       1.30 &      0.07 &            0.13 &            0.40 &                 1.14 &                 1.49 &  3.98 & 0.00 &     13.84 \\\\\n",
       "field[T.Health]            &  0.27 &       1.30 &      0.13 &            0.01 &            0.52 &                 1.01 &                 1.68 &  2.06 & 0.04 &      4.66 \\\\\n",
       "field[T.Law]               &  0.09 &       1.10 &      0.15 &           -0.19 &            0.38 &                 0.83 &                 1.46 &  0.65 & 0.52 &      0.95 \\\\\n",
       "field[T.Public/Government] &  0.15 &       1.16 &      0.09 &           -0.03 &            0.32 &                 0.97 &                 1.38 &  1.65 & 0.10 &      3.33 \\\\\n",
       "field[T.Sales/Marketing]   &  0.12 &       1.12 &      0.10 &           -0.08 &            0.32 &                 0.92 &                 1.37 &  1.15 & 0.25 &      2.01 \\\\\n",
       "gender[T.M]                &  0.02 &       1.02 &      0.06 &           -0.10 &            0.14 &                 0.91 &                 1.15 &  0.35 & 0.73 &      0.46 \\\\\n",
       "intention                  &  0.22 &       1.24 &      0.01 &            0.19 &            0.24 &                 1.21 &                 1.27 & 17.36 & 0.00 &    221.85 \\\\\n",
       "level[T.Low]               &  0.18 &       1.19 &      0.09 &            0.00 &            0.35 &                 1.00 &                 1.42 &  1.97 & 0.05 &      4.35 \\\\\n",
       "level[T.Medium]            &  0.12 &       1.13 &      0.10 &           -0.08 &            0.32 &                 0.92 &                 1.38 &  1.16 & 0.24 &      2.03 \\\\\n",
       "\\bottomrule\n",
       "\\end{tabular}\n"
      ],
      "text/plain": [
       "<lifelines.CoxPHFitter: fitted with 3770 total observations, 2416 right-censored observations>\n",
       "             duration col = 'month'\n",
       "                event col = 'left'\n",
       "      baseline estimation = breslow\n",
       "   number of observations = 3770\n",
       "number of events observed = 1354\n",
       "   partial log-likelihood = -10615.48\n",
       "         time fit was run = 2021-08-26 14:43:54 UTC\n",
       "\n",
       "---\n",
       "                             coef  exp(coef)   se(coef)   coef lower 95%   coef upper 95%  exp(coef) lower 95%  exp(coef) upper 95%\n",
       "covariate                                                                                                                          \n",
       "field[T.Finance]             0.27       1.30       0.07             0.13             0.40                 1.14                 1.49\n",
       "field[T.Health]              0.27       1.30       0.13             0.01             0.52                 1.01                 1.68\n",
       "field[T.Law]                 0.09       1.10       0.15            -0.19             0.38                 0.83                 1.46\n",
       "field[T.Public/Government]   0.15       1.16       0.09            -0.03             0.32                 0.97                 1.38\n",
       "field[T.Sales/Marketing]     0.12       1.12       0.10            -0.08             0.32                 0.92                 1.37\n",
       "gender[T.M]                  0.02       1.02       0.06            -0.10             0.14                 0.91                 1.15\n",
       "intention                    0.22       1.24       0.01             0.19             0.24                 1.21                 1.27\n",
       "level[T.Low]                 0.18       1.19       0.09             0.00             0.35                 1.00                 1.42\n",
       "level[T.Medium]              0.12       1.13       0.10            -0.08             0.32                 0.92                 1.38\n",
       "\n",
       "                               z      p   -log2(p)\n",
       "covariate                                         \n",
       "field[T.Finance]            3.98 <0.005      13.84\n",
       "field[T.Health]             2.06   0.04       4.66\n",
       "field[T.Law]                0.65   0.52       0.95\n",
       "field[T.Public/Government]  1.65   0.10       3.33\n",
       "field[T.Sales/Marketing]    1.15   0.25       2.01\n",
       "gender[T.M]                 0.35   0.73       0.46\n",
       "intention                  17.36 <0.005     221.85\n",
       "level[T.Low]                1.97   0.05       4.35\n",
       "level[T.Medium]             1.16   0.24       2.03\n",
       "---\n",
       "Concordance = 0.64\n",
       "Partial AIC = 21248.96\n",
       "log-likelihood ratio test = 307.26 on 9 df\n",
       "-log2(p) of ll-ratio test = 199.72"
      ]
     },
     "metadata": {},
     "output_type": "display_data"
    }
   ],
   "source": [
    "# Determine the effect of 'intention' on retention using a Cox proportional hazard model, controlling for 'gender','field'\n",
    "from lifelines import CoxPHFitter\n",
    "\n",
    "# fit Cox PH model to job_retention data\n",
    "cph = CoxPHFitter()\n",
    "cph.fit(df_job, duration_col = 'month', event_col = 'left', formula = \"gender + field + level + intention\")\n",
    "\n",
    "# view results\n",
    "cph.print_summary()\n",
    "\n",
    "# intention is a significant input variable. 1 additional point of intention to leave increased odds of leaving by ~24% (all other variables being constant)"
   ]
  },
  {
   "cell_type": "code",
   "execution_count": 39,
   "id": "9e38353c",
   "metadata": {},
   "outputs": [
    {
     "name": "stdout",
     "output_type": "stream",
     "text": [
      "The ``p_value_threshold`` is set at 0.05. Even under the null hypothesis of no violations, some\n",
      "covariates will be below the threshold by chance. This is compounded when there are many covariates.\n",
      "Similarly, when there are lots of observations, even minor deviances from the proportional hazard\n",
      "assumption will be flagged.\n",
      "\n",
      "With that in mind, it's best to use a combination of statistical tests and visual tests to determine\n",
      "the most serious violations. Produce visual plots using ``check_assumptions(..., show_plots=True)``\n",
      "and looking for non-constant lines. See link [A] below for a full example.\n",
      "\n"
     ]
    },
    {
     "data": {
      "text/html": [
       "<div>\n",
       "<style scoped>\n",
       "    .dataframe tbody tr th:only-of-type {\n",
       "        vertical-align: middle;\n",
       "    }\n",
       "\n",
       "    .dataframe tbody tr th {\n",
       "        vertical-align: top;\n",
       "    }\n",
       "\n",
       "    .dataframe thead th {\n",
       "        text-align: right;\n",
       "    }\n",
       "</style>\n",
       "<table border=\"1\" class=\"dataframe\">\n",
       "  <tbody>\n",
       "    <tr>\n",
       "      <th>null_distribution</th>\n",
       "      <td>chi squared</td>\n",
       "    </tr>\n",
       "    <tr>\n",
       "      <th>degrees_of_freedom</th>\n",
       "      <td>1</td>\n",
       "    </tr>\n",
       "    <tr>\n",
       "      <th>model</th>\n",
       "      <td>&lt;lifelines.CoxPHFitter: fitted with 3770 total...</td>\n",
       "    </tr>\n",
       "    <tr>\n",
       "      <th>test_name</th>\n",
       "      <td>proportional_hazard_test</td>\n",
       "    </tr>\n",
       "  </tbody>\n",
       "</table>\n",
       "</div><table border=\"1\" class=\"dataframe\">\n",
       "  <thead>\n",
       "    <tr style=\"text-align: right;\">\n",
       "      <th></th>\n",
       "      <th></th>\n",
       "      <th>test_statistic</th>\n",
       "      <th>p</th>\n",
       "      <th>-log2(p)</th>\n",
       "    </tr>\n",
       "  </thead>\n",
       "  <tbody>\n",
       "    <tr>\n",
       "      <th rowspan=\"2\" valign=\"top\">field[T.Finance]</th>\n",
       "      <th>km</th>\n",
       "      <td>1.57</td>\n",
       "      <td>0.21</td>\n",
       "      <td>2.25</td>\n",
       "    </tr>\n",
       "    <tr>\n",
       "      <th>rank</th>\n",
       "      <td>1.42</td>\n",
       "      <td>0.23</td>\n",
       "      <td>2.10</td>\n",
       "    </tr>\n",
       "    <tr>\n",
       "      <th rowspan=\"2\" valign=\"top\">field[T.Health]</th>\n",
       "      <th>km</th>\n",
       "      <td>4.21</td>\n",
       "      <td>0.04</td>\n",
       "      <td>4.64</td>\n",
       "    </tr>\n",
       "    <tr>\n",
       "      <th>rank</th>\n",
       "      <td>4.03</td>\n",
       "      <td>0.04</td>\n",
       "      <td>4.48</td>\n",
       "    </tr>\n",
       "    <tr>\n",
       "      <th rowspan=\"2\" valign=\"top\">field[T.Law]</th>\n",
       "      <th>km</th>\n",
       "      <td>1.28</td>\n",
       "      <td>0.26</td>\n",
       "      <td>1.95</td>\n",
       "    </tr>\n",
       "    <tr>\n",
       "      <th>rank</th>\n",
       "      <td>0.96</td>\n",
       "      <td>0.33</td>\n",
       "      <td>1.61</td>\n",
       "    </tr>\n",
       "    <tr>\n",
       "      <th rowspan=\"2\" valign=\"top\">field[T.Public/Government]</th>\n",
       "      <th>km</th>\n",
       "      <td>2.04</td>\n",
       "      <td>0.15</td>\n",
       "      <td>2.70</td>\n",
       "    </tr>\n",
       "    <tr>\n",
       "      <th>rank</th>\n",
       "      <td>1.96</td>\n",
       "      <td>0.16</td>\n",
       "      <td>2.63</td>\n",
       "    </tr>\n",
       "    <tr>\n",
       "      <th rowspan=\"2\" valign=\"top\">field[T.Sales/Marketing]</th>\n",
       "      <th>km</th>\n",
       "      <td>2.42</td>\n",
       "      <td>0.12</td>\n",
       "      <td>3.06</td>\n",
       "    </tr>\n",
       "    <tr>\n",
       "      <th>rank</th>\n",
       "      <td>2.65</td>\n",
       "      <td>0.10</td>\n",
       "      <td>3.27</td>\n",
       "    </tr>\n",
       "    <tr>\n",
       "      <th rowspan=\"2\" valign=\"top\">gender[T.M]</th>\n",
       "      <th>km</th>\n",
       "      <td>0.74</td>\n",
       "      <td>0.39</td>\n",
       "      <td>1.37</td>\n",
       "    </tr>\n",
       "    <tr>\n",
       "      <th>rank</th>\n",
       "      <td>0.70</td>\n",
       "      <td>0.40</td>\n",
       "      <td>1.31</td>\n",
       "    </tr>\n",
       "    <tr>\n",
       "      <th rowspan=\"2\" valign=\"top\">intention</th>\n",
       "      <th>km</th>\n",
       "      <td>34.16</td>\n",
       "      <td>&lt;0.005</td>\n",
       "      <td>27.55</td>\n",
       "    </tr>\n",
       "    <tr>\n",
       "      <th>rank</th>\n",
       "      <td>32.93</td>\n",
       "      <td>&lt;0.005</td>\n",
       "      <td>26.64</td>\n",
       "    </tr>\n",
       "    <tr>\n",
       "      <th rowspan=\"2\" valign=\"top\">level[T.Low]</th>\n",
       "      <th>km</th>\n",
       "      <td>1.70</td>\n",
       "      <td>0.19</td>\n",
       "      <td>2.38</td>\n",
       "    </tr>\n",
       "    <tr>\n",
       "      <th>rank</th>\n",
       "      <td>1.71</td>\n",
       "      <td>0.19</td>\n",
       "      <td>2.39</td>\n",
       "    </tr>\n",
       "    <tr>\n",
       "      <th rowspan=\"2\" valign=\"top\">level[T.Medium]</th>\n",
       "      <th>km</th>\n",
       "      <td>0.24</td>\n",
       "      <td>0.62</td>\n",
       "      <td>0.69</td>\n",
       "    </tr>\n",
       "    <tr>\n",
       "      <th>rank</th>\n",
       "      <td>0.31</td>\n",
       "      <td>0.58</td>\n",
       "      <td>0.79</td>\n",
       "    </tr>\n",
       "  </tbody>\n",
       "</table>"
      ],
      "text/latex": [
       "\\begin{tabular}{llrrr}\n",
       "\\toprule\n",
       "                &      &  test\\_statistic &             p &   -log2(p) \\\\\n",
       "\\midrule\n",
       "field[T.Finance] & km &        1.572309 &  2.098720e-01 &   2.252418 \\\\\n",
       "                & rank &        1.416869 &  2.339195e-01 &   2.095916 \\\\\n",
       "field[T.Health] & km &        4.214578 &  4.007802e-02 &   4.641045 \\\\\n",
       "                & rank &        4.026353 &  4.479467e-02 &   4.480529 \\\\\n",
       "field[T.Law] & km &        1.276036 &  2.586374e-01 &   1.950997 \\\\\n",
       "                & rank &        0.955213 &  3.283959e-01 &   1.606492 \\\\\n",
       "field[T.Public/Government] & km &        2.037730 &  1.534384e-01 &   2.704268 \\\\\n",
       "                & rank &        1.956067 &  1.619346e-01 &   2.626517 \\\\\n",
       "field[T.Sales/Marketing] & km &        2.423700 &  1.195123e-01 &   3.064769 \\\\\n",
       "                & rank &        2.652137 &  1.034108e-01 &   3.273541 \\\\\n",
       "gender[T.M] & km &        0.744734 &  3.881487e-01 &   1.365319 \\\\\n",
       "                & rank &        0.701959 &  4.021262e-01 &   1.314280 \\\\\n",
       "intention & km &       34.159206 &  5.078242e-09 &  27.553024 \\\\\n",
       "                & rank &       32.934529 &  9.531524e-09 &  26.644646 \\\\\n",
       "level[T.Low] & km &        1.700753 &  1.921896e-01 &   2.379398 \\\\\n",
       "                & rank &        1.712366 &  1.906786e-01 &   2.390785 \\\\\n",
       "level[T.Medium] & km &        0.243675 &  6.215647e-01 &   0.686024 \\\\\n",
       "                & rank &        0.306473 &  5.798525e-01 &   0.786242 \\\\\n",
       "\\bottomrule\n",
       "\\end{tabular}\n"
      ],
      "text/plain": [
       "<lifelines.StatisticalResult: proportional_hazard_test>\n",
       " null_distribution = chi squared\n",
       "degrees_of_freedom = 1\n",
       "             model = <lifelines.CoxPHFitter: fitted with 3770 total observations, 2416 right-censored observations>\n",
       "         test_name = proportional_hazard_test\n",
       "\n",
       "---\n",
       "                                 test_statistic      p  -log2(p)\n",
       "field[T.Finance]           km              1.57   0.21      2.25\n",
       "                           rank            1.42   0.23      2.10\n",
       "field[T.Health]            km              4.21   0.04      4.64\n",
       "                           rank            4.03   0.04      4.48\n",
       "field[T.Law]               km              1.28   0.26      1.95\n",
       "                           rank            0.96   0.33      1.61\n",
       "field[T.Public/Government] km              2.04   0.15      2.70\n",
       "                           rank            1.96   0.16      2.63\n",
       "field[T.Sales/Marketing]   km              2.42   0.12      3.06\n",
       "                           rank            2.65   0.10      3.27\n",
       "gender[T.M]                km              0.74   0.39      1.37\n",
       "                           rank            0.70   0.40      1.31\n",
       "intention                  km             34.16 <0.005     27.55\n",
       "                           rank           32.93 <0.005     26.64\n",
       "level[T.Low]               km              1.70   0.19      2.38\n",
       "                           rank            1.71   0.19      2.39\n",
       "level[T.Medium]            km              0.24   0.62      0.69\n",
       "                           rank            0.31   0.58      0.79"
      ]
     },
     "metadata": {},
     "output_type": "display_data"
    },
    {
     "name": "stdout",
     "output_type": "stream",
     "text": [
      "\n",
      "\n",
      "1. Variable 'field[T.Health]' failed the non-proportional test: p-value is 0.0401.\n",
      "\n",
      "   Advice: with so few unique values (only 2), you can include `strata=['field[T.Health]', ...]` in\n",
      "the call in `.fit`. See documentation in link [E] below.\n",
      "\n",
      "2. Variable 'intention' failed the non-proportional test: p-value is <5e-05.\n",
      "\n",
      "   Advice 1: the functional form of the variable 'intention' might be incorrect. That is, there may\n",
      "be non-linear terms missing. The proportional hazard test used is very sensitive to incorrect\n",
      "functional forms. See documentation in link [D] below on how to specify a functional form.\n",
      "\n",
      "   Advice 2: try binning the variable 'intention' using pd.cut, and then specify it in\n",
      "`strata=['intention', ...]` in the call in `.fit`. See documentation in link [B] below.\n",
      "\n",
      "   Advice 3: try adding an interaction term with your time variable. See documentation in link [C]\n",
      "below.\n",
      "\n",
      "\n",
      "---\n",
      "[A]  https://lifelines.readthedocs.io/en/latest/jupyter_notebooks/Proportional%20hazard%20assumption.html\n",
      "[B]  https://lifelines.readthedocs.io/en/latest/jupyter_notebooks/Proportional%20hazard%20assumption.html#Bin-variable-and-stratify-on-it\n",
      "[C]  https://lifelines.readthedocs.io/en/latest/jupyter_notebooks/Proportional%20hazard%20assumption.html#Introduce-time-varying-covariates\n",
      "[D]  https://lifelines.readthedocs.io/en/latest/jupyter_notebooks/Proportional%20hazard%20assumption.html#Modify-the-functional-form\n",
      "[E]  https://lifelines.readthedocs.io/en/latest/jupyter_notebooks/Proportional%20hazard%20assumption.html#Stratification\n",
      "\n"
     ]
    },
    {
     "data": {
      "text/plain": [
       "[]"
      ]
     },
     "execution_count": 39,
     "metadata": {},
     "output_type": "execute_result"
    }
   ],
   "source": [
    "# Perform check that the proportional hazard assumption holds for your model\n",
    "# check Proportional Hazard assumptions\n",
    "cph.check_assumptions(df_job[['month','left','gender','field','level','intention']], p_value_threshold = 0.05)"
   ]
  },
  {
   "cell_type": "code",
   "execution_count": null,
   "id": "11defcb1",
   "metadata": {},
   "outputs": [],
   "source": []
  }
 ],
 "metadata": {
  "kernelspec": {
   "display_name": "Python 3",
   "language": "python",
   "name": "python3"
  },
  "language_info": {
   "codemirror_mode": {
    "name": "ipython",
    "version": 3
   },
   "file_extension": ".py",
   "mimetype": "text/x-python",
   "name": "python",
   "nbconvert_exporter": "python",
   "pygments_lexer": "ipython3",
   "version": "3.6.10"
  }
 },
 "nbformat": 4,
 "nbformat_minor": 5
}
